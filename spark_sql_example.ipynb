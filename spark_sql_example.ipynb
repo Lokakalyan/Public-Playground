{
 "cells": [
  {
   "cell_type": "code",
   "execution_count": 1,
   "id": "e3696237",
   "metadata": {},
   "outputs": [],
   "source": [
    "import getpass as gp\n",
    "from pyspark.sql import SparkSession, functions as F"
   ]
  },
  {
   "cell_type": "code",
   "execution_count": 2,
   "id": "6ea9ab08",
   "metadata": {},
   "outputs": [],
   "source": [
    "user = gp.getuser()\n",
    "spark = SparkSession.builder \\\n",
    "            .appName(f'{user}-Spark-SQL-Example') \\\n",
    "            .config('spark.sql.warehouse.dir', f'/user/{user}/warehouse') \\\n",
    "            .config(\"spark.sql.catalogImplementation\", \"hive\") \\\n",
    "            .enableHiveSupport() \\\n",
    "            .master('yarn') \\\n",
    "            .getOrCreate()"
   ]
  },
  {
   "cell_type": "code",
   "execution_count": 3,
   "id": "74428523",
   "metadata": {},
   "outputs": [
    {
     "data": {
      "text/html": [
       "\n",
       "            <div>\n",
       "                <p><b>SparkSession - hive</b></p>\n",
       "                \n",
       "        <div>\n",
       "            <p><b>SparkContext</b></p>\n",
       "\n",
       "            <p><a href=\"http://g02.itversity.com:4041\">Spark UI</a></p>\n",
       "\n",
       "            <dl>\n",
       "              <dt>Version</dt>\n",
       "                <dd><code>v3.0.1</code></dd>\n",
       "              <dt>Master</dt>\n",
       "                <dd><code>yarn</code></dd>\n",
       "              <dt>AppName</dt>\n",
       "                <dd><code>itv005077-Spark-SQL-Example</code></dd>\n",
       "            </dl>\n",
       "        </div>\n",
       "        \n",
       "            </div>\n",
       "        "
      ],
      "text/plain": [
       "<pyspark.sql.session.SparkSession at 0x7f64c4e06048>"
      ]
     },
     "execution_count": 3,
     "metadata": {},
     "output_type": "execute_result"
    }
   ],
   "source": [
    "spark"
   ]
  },
  {
   "cell_type": "code",
   "execution_count": 4,
   "id": "0a6af762",
   "metadata": {},
   "outputs": [
    {
     "name": "stdout",
     "output_type": "stream",
     "text": [
      "+-------------------+\n",
      "|          namespace|\n",
      "+-------------------+\n",
      "|  0001_av_ivy_tesco|\n",
      "|       003402_hive1|\n",
      "|   005198_ivy_tesco|\n",
      "|   005212_ivy_tesco|\n",
      "|005222_ivy_practice|\n",
      "|005260_ivy_database|\n",
      "|        00ivy_tesco|\n",
      "|         00ivy_test|\n",
      "|      07172021_nyse|\n",
      "|    07172021_retail|\n",
      "|       07172021_sms|\n",
      "|        1230_trendy|\n",
      "|    1230_trendytech|\n",
      "|      1540retail_db|\n",
      "|        1993_ankita|\n",
      "|               1src|\n",
      "|              26may|\n",
      "|               2stg|\n",
      "|               3etl|\n",
      "|           44_tesco|\n",
      "+-------------------+\n",
      "only showing top 20 rows\n",
      "\n"
     ]
    }
   ],
   "source": [
    "spark.sql(\"show databases\").show()"
   ]
  },
  {
   "cell_type": "code",
   "execution_count": 5,
   "id": "084940c2",
   "metadata": {},
   "outputs": [
    {
     "data": {
      "text/plain": [
       "'itv005077'"
      ]
     },
     "execution_count": 5,
     "metadata": {},
     "output_type": "execute_result"
    }
   ],
   "source": [
    "user"
   ]
  },
  {
   "cell_type": "markdown",
   "id": "d5c8ba8b",
   "metadata": {},
   "source": [
    "## Create Database `itv005077_retail`"
   ]
  },
  {
   "cell_type": "code",
   "execution_count": 6,
   "id": "e0c55e6f",
   "metadata": {},
   "outputs": [
    {
     "data": {
      "text/html": [
       "<table border='1'>\n",
       "<tr><th></th></tr>\n",
       "</table>\n"
      ],
      "text/plain": [
       "++\n",
       "||\n",
       "++\n",
       "++"
      ]
     },
     "execution_count": 6,
     "metadata": {},
     "output_type": "execute_result"
    }
   ],
   "source": [
    "spark.sql(\"CREATE DATABASE IF NOT EXISTS itv005077_retail\")"
   ]
  },
  {
   "cell_type": "code",
   "execution_count": 7,
   "id": "e54f2400",
   "metadata": {},
   "outputs": [
    {
     "name": "stdout",
     "output_type": "stream",
     "text": [
      "+----------------+\n",
      "|       namespace|\n",
      "+----------------+\n",
      "|itv005077_retail|\n",
      "+----------------+\n",
      "\n"
     ]
    }
   ],
   "source": [
    "spark.sql(\"SHOW DATABASES\").filter(\"namespace = 'itv005077_retail'\").show()"
   ]
  },
  {
   "cell_type": "markdown",
   "id": "3300aa1b",
   "metadata": {},
   "source": [
    "## Use Database `itv005077_retail`"
   ]
  },
  {
   "cell_type": "code",
   "execution_count": 8,
   "id": "6b6216ae",
   "metadata": {},
   "outputs": [
    {
     "data": {
      "text/html": [
       "<table border='1'>\n",
       "<tr><th></th></tr>\n",
       "</table>\n"
      ],
      "text/plain": [
       "++\n",
       "||\n",
       "++\n",
       "++"
      ]
     },
     "execution_count": 8,
     "metadata": {},
     "output_type": "execute_result"
    }
   ],
   "source": [
    "spark.sql(\"USE itv005077_retail\")"
   ]
  },
  {
   "cell_type": "code",
   "execution_count": 9,
   "id": "49d1cb4f",
   "metadata": {},
   "outputs": [
    {
     "data": {
      "text/html": [
       "<table border='1'>\n",
       "<tr><th>database</th><th>tableName</th><th>isTemporary</th></tr>\n",
       "</table>\n"
      ],
      "text/plain": [
       "+--------+---------+-----------+\n",
       "|database|tableName|isTemporary|\n",
       "+--------+---------+-----------+\n",
       "+--------+---------+-----------+"
      ]
     },
     "execution_count": 9,
     "metadata": {},
     "output_type": "execute_result"
    }
   ],
   "source": [
    "spark.sql(\"SHOW TABLES\")"
   ]
  },
  {
   "cell_type": "markdown",
   "id": "2f7bea33",
   "metadata": {},
   "source": [
    "### Create `ORDER` Table"
   ]
  },
  {
   "cell_type": "code",
   "execution_count": 10,
   "id": "78cbe528",
   "metadata": {},
   "outputs": [
    {
     "data": {
      "text/html": [
       "<table border='1'>\n",
       "<tr><th></th></tr>\n",
       "</table>\n"
      ],
      "text/plain": [
       "++\n",
       "||\n",
       "++\n",
       "++"
      ]
     },
     "execution_count": 10,
     "metadata": {},
     "output_type": "execute_result"
    }
   ],
   "source": [
    "spark.sql(\"CREATE TABLE IF NOT EXISTS itv005077_retail.orders (order_id integer, order_date string, order_status string)\")"
   ]
  },
  {
   "cell_type": "code",
   "execution_count": 11,
   "id": "12d997b8",
   "metadata": {},
   "outputs": [
    {
     "data": {
      "text/html": [
       "<table border='1'>\n",
       "<tr><th>col_name</th><th>data_type</th><th>comment</th></tr>\n",
       "<tr><td>order_id</td><td>int</td><td>null</td></tr>\n",
       "<tr><td>order_date</td><td>string</td><td>null</td></tr>\n",
       "<tr><td>order_status</td><td>string</td><td>null</td></tr>\n",
       "</table>\n"
      ],
      "text/plain": [
       "+------------+---------+-------+\n",
       "|    col_name|data_type|comment|\n",
       "+------------+---------+-------+\n",
       "|    order_id|      int|   null|\n",
       "|  order_date|   string|   null|\n",
       "|order_status|   string|   null|\n",
       "+------------+---------+-------+"
      ]
     },
     "execution_count": 11,
     "metadata": {},
     "output_type": "execute_result"
    }
   ],
   "source": [
    "spark.sql(\"DESCRIBE TABLE itv005077_retail.orders\")"
   ]
  },
  {
   "cell_type": "code",
   "execution_count": 12,
   "id": "3d47228e",
   "metadata": {},
   "outputs": [
    {
     "name": "stdout",
     "output_type": "stream",
     "text": [
      "+----------------------------+---------------------------------------------------------------------------------+-------+\n",
      "|col_name                    |data_type                                                                        |comment|\n",
      "+----------------------------+---------------------------------------------------------------------------------+-------+\n",
      "|order_id                    |int                                                                              |null   |\n",
      "|order_date                  |string                                                                           |null   |\n",
      "|order_status                |string                                                                           |null   |\n",
      "|                            |                                                                                 |       |\n",
      "|# Detailed Table Information|                                                                                 |       |\n",
      "|Database                    |itv005077_retail                                                                 |       |\n",
      "|Table                       |orders                                                                           |       |\n",
      "|Owner                       |itv005077                                                                        |       |\n",
      "|Created Time                |Tue May 09 16:43:40 EDT 2023                                                     |       |\n",
      "|Last Access                 |UNKNOWN                                                                          |       |\n",
      "|Created By                  |Spark 3.0.1                                                                      |       |\n",
      "|Type                        |MANAGED                                                                          |       |\n",
      "|Provider                    |hive                                                                             |       |\n",
      "|Table Properties            |[transient_lastDdlTime=1683665020]                                               |       |\n",
      "|Location                    |hdfs://m01.itversity.com:9000/user/itv005077/warehouse/itv005077_retail.db/orders|       |\n",
      "|Serde Library               |org.apache.hadoop.hive.serde2.lazy.LazySimpleSerDe                               |       |\n",
      "|InputFormat                 |org.apache.hadoop.mapred.TextInputFormat                                         |       |\n",
      "|OutputFormat                |org.apache.hadoop.hive.ql.io.HiveIgnoreKeyTextOutputFormat                       |       |\n",
      "|Storage Properties          |[serialization.format=1]                                                         |       |\n",
      "|Partition Provider          |Catalog                                                                          |       |\n",
      "+----------------------------+---------------------------------------------------------------------------------+-------+\n",
      "\n"
     ]
    }
   ],
   "source": [
    "spark.sql(\"DESCRIBE FORMATTED itv005077_retail.orders\").show(truncate= False)"
   ]
  },
  {
   "cell_type": "code",
   "execution_count": 13,
   "id": "925f53ec",
   "metadata": {},
   "outputs": [
    {
     "name": "stdout",
     "output_type": "stream",
     "text": [
      "Found 3 items\n",
      "drwx------   - itv005077 supergroup          0 2023-04-15 10:10 .Trash\n",
      "drwxr-xr-x   - itv005077 supergroup          0 2023-05-09 16:43 .sparkStaging\n",
      "drwxr-xr-x   - itv005077 supergroup          0 2023-05-09 16:43 warehouse\n"
     ]
    }
   ],
   "source": [
    "!hadoop fs -ls "
   ]
  },
  {
   "cell_type": "code",
   "execution_count": 14,
   "id": "fbe6e9cd",
   "metadata": {},
   "outputs": [
    {
     "name": "stdout",
     "output_type": "stream",
     "text": [
      "Found 1 items\n",
      "drwxr-xr-x   - itv005077 supergroup          0 2023-05-09 16:43 warehouse/itv005077_retail.db\n"
     ]
    }
   ],
   "source": [
    "!hadoop fs -ls warehouse"
   ]
  },
  {
   "cell_type": "code",
   "execution_count": 15,
   "id": "799b78d0",
   "metadata": {},
   "outputs": [
    {
     "name": "stdout",
     "output_type": "stream",
     "text": [
      "Found 1 items\n",
      "drwxr-xr-x   - itv005077 supergroup          0 2023-05-09 16:43 warehouse/itv005077_retail.db/orders\n"
     ]
    }
   ],
   "source": [
    "!hadoop fs -ls warehouse/itv005077_retail.db"
   ]
  },
  {
   "cell_type": "code",
   "execution_count": 16,
   "id": "87d1083a",
   "metadata": {},
   "outputs": [],
   "source": [
    "!hadoop fs -ls warehouse/itv005077_retail.db/orders"
   ]
  },
  {
   "cell_type": "markdown",
   "id": "51f4e30f",
   "metadata": {},
   "source": [
    "### Insert Rows into `itv005077_retail.orders` table"
   ]
  },
  {
   "cell_type": "code",
   "execution_count": 17,
   "id": "1cc3bb74",
   "metadata": {},
   "outputs": [
    {
     "data": {
      "text/html": [
       "<table border='1'>\n",
       "<tr><th></th></tr>\n",
       "</table>\n"
      ],
      "text/plain": [
       "++\n",
       "||\n",
       "++\n",
       "++"
      ]
     },
     "execution_count": 17,
     "metadata": {},
     "output_type": "execute_result"
    }
   ],
   "source": [
    "spark.sql(\"INSERT INTO itv005077_retail.orders VALUES(1, '2013-07-25', 'CLOSED')\")"
   ]
  },
  {
   "cell_type": "code",
   "execution_count": 18,
   "id": "9cb1241f",
   "metadata": {},
   "outputs": [
    {
     "name": "stdout",
     "output_type": "stream",
     "text": [
      "+--------+----------+------------+\n",
      "|order_id|order_date|order_status|\n",
      "+--------+----------+------------+\n",
      "|       1|2013-07-25|      CLOSED|\n",
      "+--------+----------+------------+\n",
      "\n"
     ]
    }
   ],
   "source": [
    "spark.sql('SELECT * FROM itv005077_retail.orders').show()"
   ]
  },
  {
   "cell_type": "code",
   "execution_count": 19,
   "id": "942000e7",
   "metadata": {},
   "outputs": [],
   "source": [
    "df = spark.sql(\"INSERT INTO itv005077_retail.orders VALUES(2, '2013-07-26', 'PENDING PAYMENT')\")"
   ]
  },
  {
   "cell_type": "code",
   "execution_count": 20,
   "id": "7a96150c",
   "metadata": {},
   "outputs": [
    {
     "name": "stdout",
     "output_type": "stream",
     "text": [
      "+--------+----------+---------------+\n",
      "|order_id|order_date|   order_status|\n",
      "+--------+----------+---------------+\n",
      "|       1|2013-07-25|         CLOSED|\n",
      "|       2|2013-07-26|PENDING PAYMENT|\n",
      "+--------+----------+---------------+\n",
      "\n"
     ]
    }
   ],
   "source": [
    "spark.sql('SELECT * FROM itv005077_retail.orders').show()"
   ]
  },
  {
   "cell_type": "code",
   "execution_count": 21,
   "id": "2787bf6d",
   "metadata": {},
   "outputs": [
    {
     "name": "stdout",
     "output_type": "stream",
     "text": [
      "Found 2 items\n",
      "-rwxr-xr-x   3 itv005077 supergroup         20 2023-05-09 16:43 warehouse/itv005077_retail.db/orders/part-00000-4e1d6bca-f5de-42e1-a6d1-8d63c28e9b2f-c000\n",
      "-rwxr-xr-x   3 itv005077 supergroup         29 2023-05-09 16:43 warehouse/itv005077_retail.db/orders/part-00000-cb2f6185-cd09-4d30-90d3-bb9c3974680c-c000\n"
     ]
    }
   ],
   "source": [
    "!hadoop fs -ls warehouse/itv005077_retail.db/orders"
   ]
  },
  {
   "cell_type": "code",
   "execution_count": 22,
   "id": "ee7263a3",
   "metadata": {},
   "outputs": [
    {
     "name": "stdout",
     "output_type": "stream",
     "text": [
      "head: `warehouse/itv005077_retail.db/orders/part-00000-56532ee4-c78a-431a-a953-702e8684052c-c000': No such file or directory\n"
     ]
    }
   ],
   "source": [
    "!hadoop fs -head warehouse/itv005077_retail.db/orders/part-00000-56532ee4-c78a-431a-a953-702e8684052c-c000"
   ]
  },
  {
   "cell_type": "code",
   "execution_count": 23,
   "id": "9f248de5",
   "metadata": {},
   "outputs": [],
   "source": [
    "df = spark.sql('SELECT * FROM itv005077_retail.orders WHERE order_id = 2')"
   ]
  },
  {
   "cell_type": "code",
   "execution_count": 24,
   "id": "13fac893",
   "metadata": {},
   "outputs": [
    {
     "name": "stdout",
     "output_type": "stream",
     "text": [
      "+--------+----------+---------------+\n",
      "|order_id|order_date|   order_status|\n",
      "+--------+----------+---------------+\n",
      "|       2|2013-07-26|PENDING PAYMENT|\n",
      "+--------+----------+---------------+\n",
      "\n"
     ]
    }
   ],
   "source": [
    "df.show()"
   ]
  },
  {
   "cell_type": "markdown",
   "id": "24f25cdd",
   "metadata": {},
   "source": [
    "### Drop table `itv005077_retail.orders`"
   ]
  },
  {
   "cell_type": "code",
   "execution_count": 25,
   "id": "1397d537",
   "metadata": {},
   "outputs": [
    {
     "data": {
      "text/html": [
       "<table border='1'>\n",
       "<tr><th></th></tr>\n",
       "</table>\n"
      ],
      "text/plain": [
       "++\n",
       "||\n",
       "++\n",
       "++"
      ]
     },
     "execution_count": 25,
     "metadata": {},
     "output_type": "execute_result"
    }
   ],
   "source": [
    "spark.sql(\"DROP TABLE itv005077_retail.orders\")"
   ]
  },
  {
   "cell_type": "code",
   "execution_count": 26,
   "id": "603fe35e",
   "metadata": {},
   "outputs": [],
   "source": [
    "!hadoop fs -ls warehouse/itv005077_retail.db"
   ]
  },
  {
   "cell_type": "markdown",
   "id": "2a27e56c",
   "metadata": {},
   "source": [
    "### Drop Database `itv005077_retail`"
   ]
  },
  {
   "cell_type": "code",
   "execution_count": 27,
   "id": "88ac68ab",
   "metadata": {},
   "outputs": [
    {
     "data": {
      "text/html": [
       "<table border='1'>\n",
       "<tr><th></th></tr>\n",
       "</table>\n"
      ],
      "text/plain": [
       "++\n",
       "||\n",
       "++\n",
       "++"
      ]
     },
     "execution_count": 27,
     "metadata": {},
     "output_type": "execute_result"
    }
   ],
   "source": [
    "spark.sql(\"DROP DATABASE itv005077_retail\")"
   ]
  },
  {
   "cell_type": "code",
   "execution_count": 28,
   "id": "44174f58",
   "metadata": {},
   "outputs": [
    {
     "name": "stdout",
     "output_type": "stream",
     "text": [
      "+---------+\n",
      "|namespace|\n",
      "+---------+\n",
      "+---------+\n",
      "\n"
     ]
    }
   ],
   "source": [
    "spark.sql(\"SHOW DATABASES\").filter('namespace == \"itv005077_retail\"').show()"
   ]
  },
  {
   "cell_type": "code",
   "execution_count": 29,
   "id": "c0a71bf4",
   "metadata": {},
   "outputs": [],
   "source": [
    "!hadoop fs -ls warehouse"
   ]
  },
  {
   "cell_type": "code",
   "execution_count": 30,
   "id": "05981989",
   "metadata": {},
   "outputs": [
    {
     "name": "stdout",
     "output_type": "stream",
     "text": [
      "Found 3 items\n",
      "drwx------   - itv005077 supergroup          0 2023-04-15 10:10 .Trash\n",
      "drwxr-xr-x   - itv005077 supergroup          0 2023-05-09 16:43 .sparkStaging\n",
      "drwxr-xr-x   - itv005077 supergroup          0 2023-05-09 16:43 warehouse\n"
     ]
    }
   ],
   "source": [
    "!hadoop fs -ls"
   ]
  },
  {
   "cell_type": "code",
   "execution_count": 31,
   "id": "39b0d4f3",
   "metadata": {},
   "outputs": [],
   "source": [
    "# end of file\n",
    "spark.stop()"
   ]
  }
 ],
 "metadata": {
  "kernelspec": {
   "display_name": "Pyspark 3",
   "language": "python",
   "name": "pyspark3"
  },
  "language_info": {
   "codemirror_mode": {
    "name": "ipython",
    "version": 3
   },
   "file_extension": ".py",
   "mimetype": "text/x-python",
   "name": "python",
   "nbconvert_exporter": "python",
   "pygments_lexer": "ipython3",
   "version": "3.6.12"
  }
 },
 "nbformat": 4,
 "nbformat_minor": 5
}
