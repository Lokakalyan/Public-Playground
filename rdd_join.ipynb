{
 "cells": [
  {
   "cell_type": "markdown",
   "id": "bdd5e9fb",
   "metadata": {},
   "source": [
    "### Import Modules"
   ]
  },
  {
   "cell_type": "code",
   "execution_count": 1,
   "id": "d3dad89f",
   "metadata": {},
   "outputs": [],
   "source": [
    "import getpass as gp\n",
    "from pyspark.sql import SparkSession"
   ]
  },
  {
   "cell_type": "code",
   "execution_count": 2,
   "id": "134885dc",
   "metadata": {},
   "outputs": [],
   "source": [
    "user = gp.getuser()\n",
    "spark = SparkSession \\\n",
    "            .builder \\\n",
    "            .appName(f'{user}-join-example') \\\n",
    "            .master('yarn') \\\n",
    "            .getOrCreate()"
   ]
  },
  {
   "cell_type": "code",
   "execution_count": 3,
   "id": "c4fd0051",
   "metadata": {},
   "outputs": [
    {
     "data": {
      "text/html": [
       "\n",
       "            <div>\n",
       "                <p><b>SparkSession - in-memory</b></p>\n",
       "                \n",
       "        <div>\n",
       "            <p><b>SparkContext</b></p>\n",
       "\n",
       "            <p><a href=\"http://g02.itversity.com:4040\">Spark UI</a></p>\n",
       "\n",
       "            <dl>\n",
       "              <dt>Version</dt>\n",
       "                <dd><code>v3.0.1</code></dd>\n",
       "              <dt>Master</dt>\n",
       "                <dd><code>yarn</code></dd>\n",
       "              <dt>AppName</dt>\n",
       "                <dd><code>itv005077-join-example</code></dd>\n",
       "            </dl>\n",
       "        </div>\n",
       "        \n",
       "            </div>\n",
       "        "
      ],
      "text/plain": [
       "<pyspark.sql.session.SparkSession at 0x7fc4650370f0>"
      ]
     },
     "execution_count": 3,
     "metadata": {},
     "output_type": "execute_result"
    }
   ],
   "source": [
    "spark"
   ]
  },
  {
   "cell_type": "code",
   "execution_count": 4,
   "id": "f612b3ea",
   "metadata": {},
   "outputs": [
    {
     "name": "stdout",
     "output_type": "stream",
     "text": [
      "Found 7 items\n",
      "drwxr-xr-x   - hdfs supergroup          0 2021-01-28 08:49 /public/retail_db/categories\n",
      "drwxr-xr-x   - hdfs supergroup          0 2021-01-28 08:59 /public/retail_db/customers\n",
      "drwxr-xr-x   - hdfs supergroup          0 2021-01-28 09:44 /public/retail_db/departments\n",
      "drwxr-xr-x   - hdfs supergroup          0 2021-01-28 09:01 /public/retail_db/order_items\n",
      "drwxr-xr-x   - hdfs supergroup          0 2021-01-28 09:27 /public/retail_db/orders\n",
      "drwxr-xr-x   - hdfs supergroup          0 2021-01-28 08:54 /public/retail_db/products\n",
      "-rw-r--r--   3 hdfs supergroup      4.8 K 2021-08-21 03:48 /public/retail_db/wordcount.rtf\n"
     ]
    }
   ],
   "source": [
    "!hadoop fs -ls -h /public/retail_db"
   ]
  },
  {
   "cell_type": "markdown",
   "id": "9972a2a8",
   "metadata": {},
   "source": [
    "### Orders Data"
   ]
  },
  {
   "cell_type": "code",
   "execution_count": 5,
   "id": "6b3be811",
   "metadata": {},
   "outputs": [
    {
     "name": "stdout",
     "output_type": "stream",
     "text": [
      "1,2013-07-25 00:00:00.0,11599,CLOSED\n",
      "2,2013-07-25 00:00:00.0,256,PENDING_PAYMENT\n",
      "3,2013-07-25 00:00:00.0,12111,COMPLETE\n",
      "4,2013-07-25 00:00:00.0,8827,CLOSED\n",
      "5,2013-07-25 00:00:00.0,11318,COMPLETE\n",
      "6,2013-07-25 00:00:00.0,7130,COMPLETE\n",
      "7,2013-07-25 00:00:00.0,4530,COMPLETE\n",
      "8,2013-07-25 00:00:00.0,2911,PROCESSING\n",
      "9,2013-07-25 00:00:00.0,5657,PENDING_PAYMENT\n",
      "10,2013-07-25 00:00:00.0,5648,PENDING_PAYMENT\n",
      "11,2013-07-25 00:00:00.0,918,PAYMENT_REVIEW\n",
      "12,2013-07-25 00:00:00.0,1837,CLOSED\n",
      "13,2013-07-25 00:00:00.0,9149,PENDING_PAYMENT\n",
      "14,2013-07-25 00:00:00.0,9842,PROCESSING\n",
      "15,2013-07-25 00:00:00.0,2568,COMPLETE\n",
      "16,2013-07-25 00:00:00.0,7276,PENDING_PAYMENT\n",
      "17,2013-07-25 00:00:00.0,2667,COMPLETE\n",
      "18,2013-07-25 00:00:00.0,1205,CLOSED\n",
      "19,2013-07-25 00:00:00.0,9488,PENDING_PAYMENT\n",
      "20,2013-07-25 00:00:00.0,9198,PROCESSING\n",
      "21,2013-07-25 00:00:00.0,2711,PENDING\n",
      "22,2013-07-25 00:00:00.0,333,COMPLETE\n",
      "23,2013-07-25 00:00:00.0,4367,PENDING_PAYMENT\n",
      "24,2013-07-25 00:00:00.0,11441,CLOSED\n",
      "25,2013-07-25 00:00:00.0,9503,CLOSED\n",
      "26,2013-0"
     ]
    }
   ],
   "source": [
    "!hadoop fs -head /public/retail_db/orders/part-00000"
   ]
  },
  {
   "cell_type": "markdown",
   "id": "57284a58",
   "metadata": {},
   "source": [
    "### Customer Data"
   ]
  },
  {
   "cell_type": "code",
   "execution_count": 6,
   "id": "c43fd768",
   "metadata": {},
   "outputs": [
    {
     "name": "stdout",
     "output_type": "stream",
     "text": [
      "1,Richard,Hernandez,XXXXXXXXX,XXXXXXXXX,6303 Heather Plaza,Brownsville,TX,78521\n",
      "2,Mary,Barrett,XXXXXXXXX,XXXXXXXXX,9526 Noble Embers Ridge,Littleton,CO,80126\n",
      "3,Ann,Smith,XXXXXXXXX,XXXXXXXXX,3422 Blue Pioneer Bend,Caguas,PR,00725\n",
      "4,Mary,Jones,XXXXXXXXX,XXXXXXXXX,8324 Little Common,San Marcos,CA,92069\n",
      "5,Robert,Hudson,XXXXXXXXX,XXXXXXXXX,\"10 Crystal River Mall \",Caguas,PR,00725\n",
      "6,Mary,Smith,XXXXXXXXX,XXXXXXXXX,3151 Sleepy Quail Promenade,Passaic,NJ,07055\n",
      "7,Melissa,Wilcox,XXXXXXXXX,XXXXXXXXX,9453 High Concession,Caguas,PR,00725\n",
      "8,Megan,Smith,XXXXXXXXX,XXXXXXXXX,3047 Foggy Forest Plaza,Lawrence,MA,01841\n",
      "9,Mary,Perez,XXXXXXXXX,XXXXXXXXX,3616 Quaking Street,Caguas,PR,00725\n",
      "10,Melissa,Smith,XXXXXXXXX,XXXXXXXXX,8598 Harvest Beacon Plaza,Stafford,VA,22554\n",
      "11,Mary,Huffman,XXXXXXXXX,XXXXXXXXX,3169 Stony Woods,Caguas,PR,00725\n",
      "12,Christopher,Smith,XXXXXXXXX,XXXXXXXXX,5594 Jagged Embers By-pass,San Antonio,TX,78227\n",
      "13,Mary,Baldwin,XXXXXXXXX,XXXXXXXXX,7922 Iron Oak Gardens,Caguas,PR,00725\n",
      "14,Katherine,Smith,XXXXXXXXX,XXXXXXX"
     ]
    }
   ],
   "source": [
    "!hadoop fs -head /public/retail_db/customers/part-00000"
   ]
  },
  {
   "cell_type": "markdown",
   "id": "e5833e93",
   "metadata": {},
   "source": [
    "### Create RDD"
   ]
  },
  {
   "cell_type": "code",
   "execution_count": 7,
   "id": "23ec56e5",
   "metadata": {},
   "outputs": [],
   "source": [
    "rdd_orders_file_input = spark.sparkContext.textFile('/public/retail_db/orders/part-00000')"
   ]
  },
  {
   "cell_type": "code",
   "execution_count": 8,
   "id": "da0f5c0c",
   "metadata": {},
   "outputs": [
    {
     "data": {
      "text/plain": [
       "['1,2013-07-25 00:00:00.0,11599,CLOSED',\n",
       " '2,2013-07-25 00:00:00.0,256,PENDING_PAYMENT',\n",
       " '3,2013-07-25 00:00:00.0,12111,COMPLETE',\n",
       " '4,2013-07-25 00:00:00.0,8827,CLOSED',\n",
       " '5,2013-07-25 00:00:00.0,11318,COMPLETE']"
      ]
     },
     "execution_count": 8,
     "metadata": {},
     "output_type": "execute_result"
    }
   ],
   "source": [
    "rdd_orders_file_input.take(5)"
   ]
  },
  {
   "cell_type": "code",
   "execution_count": 9,
   "id": "1f65aad8",
   "metadata": {},
   "outputs": [],
   "source": [
    "rdd_orders_split = rdd_orders_file_input.map(lambda x : x.split(','))"
   ]
  },
  {
   "cell_type": "code",
   "execution_count": 10,
   "id": "6a045aaf",
   "metadata": {},
   "outputs": [
    {
     "data": {
      "text/plain": [
       "[['1', '2013-07-25 00:00:00.0', '11599', 'CLOSED'],\n",
       " ['2', '2013-07-25 00:00:00.0', '256', 'PENDING_PAYMENT'],\n",
       " ['3', '2013-07-25 00:00:00.0', '12111', 'COMPLETE'],\n",
       " ['4', '2013-07-25 00:00:00.0', '8827', 'CLOSED'],\n",
       " ['5', '2013-07-25 00:00:00.0', '11318', 'COMPLETE']]"
      ]
     },
     "execution_count": 10,
     "metadata": {},
     "output_type": "execute_result"
    }
   ],
   "source": [
    "rdd_orders_split.take(5)"
   ]
  },
  {
   "cell_type": "code",
   "execution_count": 11,
   "id": "904070f3",
   "metadata": {},
   "outputs": [],
   "source": [
    "rdd_orders = rdd_orders_split.map(lambda x : (x[2], x[0]))"
   ]
  },
  {
   "cell_type": "code",
   "execution_count": 12,
   "id": "abec0602",
   "metadata": {},
   "outputs": [
    {
     "data": {
      "text/plain": [
       "[('11599', '1'), ('256', '2'), ('12111', '3'), ('8827', '4'), ('11318', '5')]"
      ]
     },
     "execution_count": 12,
     "metadata": {},
     "output_type": "execute_result"
    }
   ],
   "source": [
    "rdd_orders.take(5)"
   ]
  },
  {
   "cell_type": "code",
   "execution_count": 13,
   "id": "dda86b8e",
   "metadata": {},
   "outputs": [],
   "source": [
    "rdd_customers_file_input = spark.sparkContext.textFile('/public/retail_db/customers/part-00000')"
   ]
  },
  {
   "cell_type": "code",
   "execution_count": 14,
   "id": "139fa9eb",
   "metadata": {},
   "outputs": [
    {
     "data": {
      "text/plain": [
       "['1,Richard,Hernandez,XXXXXXXXX,XXXXXXXXX,6303 Heather Plaza,Brownsville,TX,78521',\n",
       " '2,Mary,Barrett,XXXXXXXXX,XXXXXXXXX,9526 Noble Embers Ridge,Littleton,CO,80126',\n",
       " '3,Ann,Smith,XXXXXXXXX,XXXXXXXXX,3422 Blue Pioneer Bend,Caguas,PR,00725',\n",
       " '4,Mary,Jones,XXXXXXXXX,XXXXXXXXX,8324 Little Common,San Marcos,CA,92069',\n",
       " '5,Robert,Hudson,XXXXXXXXX,XXXXXXXXX,\"10 Crystal River Mall \",Caguas,PR,00725']"
      ]
     },
     "execution_count": 14,
     "metadata": {},
     "output_type": "execute_result"
    }
   ],
   "source": [
    "rdd_customers_file_input.take(5)"
   ]
  },
  {
   "cell_type": "code",
   "execution_count": 15,
   "id": "e2155162",
   "metadata": {},
   "outputs": [],
   "source": [
    "rdd_customers_split = rdd_customers_file_input.map(lambda x : x.split(','))"
   ]
  },
  {
   "cell_type": "code",
   "execution_count": 16,
   "id": "7b1539b4",
   "metadata": {},
   "outputs": [
    {
     "data": {
      "text/plain": [
       "[['1',\n",
       "  'Richard',\n",
       "  'Hernandez',\n",
       "  'XXXXXXXXX',\n",
       "  'XXXXXXXXX',\n",
       "  '6303 Heather Plaza',\n",
       "  'Brownsville',\n",
       "  'TX',\n",
       "  '78521'],\n",
       " ['2',\n",
       "  'Mary',\n",
       "  'Barrett',\n",
       "  'XXXXXXXXX',\n",
       "  'XXXXXXXXX',\n",
       "  '9526 Noble Embers Ridge',\n",
       "  'Littleton',\n",
       "  'CO',\n",
       "  '80126']]"
      ]
     },
     "execution_count": 16,
     "metadata": {},
     "output_type": "execute_result"
    }
   ],
   "source": [
    "rdd_customers_split.take(2)"
   ]
  },
  {
   "cell_type": "code",
   "execution_count": 17,
   "id": "4ba80561",
   "metadata": {},
   "outputs": [],
   "source": [
    "rdd_customers = rdd_customers_split.map(lambda x : (x[0],x[8]))"
   ]
  },
  {
   "cell_type": "code",
   "execution_count": 18,
   "id": "276d21d1",
   "metadata": {},
   "outputs": [
    {
     "data": {
      "text/plain": [
       "[('1', '78521'),\n",
       " ('2', '80126'),\n",
       " ('3', '00725'),\n",
       " ('4', '92069'),\n",
       " ('5', '00725')]"
      ]
     },
     "execution_count": 18,
     "metadata": {},
     "output_type": "execute_result"
    }
   ],
   "source": [
    "rdd_customers.take(5)"
   ]
  },
  {
   "cell_type": "markdown",
   "id": "e9691c75",
   "metadata": {},
   "source": [
    "## Join always work on a tuple paired RDD where the first item should be key"
   ]
  },
  {
   "cell_type": "code",
   "execution_count": 19,
   "id": "4a5ff142",
   "metadata": {},
   "outputs": [],
   "source": [
    "rdd_join_output = rdd_orders.join(rdd_customers, numPartitions=2)"
   ]
  },
  {
   "cell_type": "code",
   "execution_count": 20,
   "id": "e41e0f44",
   "metadata": {},
   "outputs": [
    {
     "data": {
      "text/plain": [
       "[('256', ('2', '60625')),\n",
       " ('256', ('9467', '60625')),\n",
       " ('256', ('13037', '60625')),\n",
       " ('256', ('23971', '60625')),\n",
       " ('256', ('24394', '60625'))]"
      ]
     },
     "execution_count": 20,
     "metadata": {},
     "output_type": "execute_result"
    }
   ],
   "source": [
    "rdd_join_output.take(5)"
   ]
  },
  {
   "cell_type": "code",
   "execution_count": 21,
   "id": "1947bd6f",
   "metadata": {},
   "outputs": [
    {
     "data": {
      "text/plain": [
       "2"
      ]
     },
     "execution_count": 21,
     "metadata": {},
     "output_type": "execute_result"
    }
   ],
   "source": [
    "rdd_join_output.getNumPartitions()"
   ]
  },
  {
   "cell_type": "code",
   "execution_count": 22,
   "id": "bb04233e",
   "metadata": {},
   "outputs": [
    {
     "name": "stdout",
     "output_type": "stream",
     "text": [
      "Found 2 items\n",
      "drwx------   - itv005077 supergroup          0 2023-04-15 10:10 .Trash\n",
      "drwxr-xr-x   - itv005077 supergroup          0 2023-05-02 15:28 .sparkStaging\n"
     ]
    }
   ],
   "source": [
    "!hadoop fs -ls"
   ]
  },
  {
   "cell_type": "code",
   "execution_count": 23,
   "id": "7b5c4e73",
   "metadata": {},
   "outputs": [],
   "source": [
    "rdd_join_output.saveAsTextFile(f'/user/{user}/output/join/')"
   ]
  },
  {
   "cell_type": "code",
   "execution_count": 24,
   "id": "5adfafb2",
   "metadata": {},
   "outputs": [
    {
     "name": "stdout",
     "output_type": "stream",
     "text": [
      "Found 3 items\n",
      "-rw-r--r--   3 itv005077 supergroup          0 2023-05-02 15:35 output/join/_SUCCESS\n",
      "-rw-r--r--   3 itv005077 supergroup    1000946 2023-05-02 15:35 output/join/part-00000\n",
      "-rw-r--r--   3 itv005077 supergroup     992999 2023-05-02 15:35 output/join/part-00001\n"
     ]
    }
   ],
   "source": [
    "!hadoop fs -ls output/join"
   ]
  },
  {
   "cell_type": "code",
   "execution_count": 25,
   "id": "1c4287d3",
   "metadata": {},
   "outputs": [
    {
     "name": "stdout",
     "output_type": "stream",
     "text": [
      "('11599', ('1', '28601'))\n",
      "('11599', ('11397', '28601'))\n",
      "('11599', ('23908', '28601'))\n",
      "('11599', ('53545', '28601'))\n",
      "('11599', ('59911', '28601'))\n",
      "('8827', ('4', '78240'))\n",
      "('8827', ('3934', '78240'))\n",
      "('8827', ('21955', '78240'))\n",
      "('8827', ('24701', '78240'))\n",
      "('8827', ('31230', '78240'))\n",
      "('8827', ('46519', '78240'))\n",
      "('4530', ('7', '33161'))\n",
      "('4530', ('5095', '33161'))\n",
      "('4530', ('7264', '33161'))\n",
      "('4530', ('10731', '33161'))\n",
      "('4530', ('16604', '33161'))\n",
      "('4530', ('32897', '33161'))\n",
      "('4530', ('34545', '33161'))\n",
      "('4530', ('49646', '33161'))\n",
      "('4530', ('54452', '33161'))\n",
      "('4530', ('61469', '33161'))\n",
      "('5648', ('10', '38111'))\n",
      "('5648', ('665', '38111'))\n",
      "('5648', ('2071', '38111'))\n",
      "('5648', ('4685', '38111'))\n",
      "('5648', ('6756', '38111'))\n",
      "('5648', ('8430', '38111'))\n",
      "('5648', ('19674', '38111'))\n",
      "('5648', ('22027', '38111'))\n",
      "('5648', ('33010', '38111'))\n",
      "('5648', ('39074', '38111'))\n",
      "('5648', ('50589', '38111'))\n",
      "('5648', ('52121', '38111'))\n",
      "('5648', ('53206', '38111'))\n",
      "('918', ('11', '00725'))\n",
      "('918', ('8555', '00725'))\n",
      "('918"
     ]
    }
   ],
   "source": [
    "!hadoop fs -head output/join/part-00001"
   ]
  },
  {
   "cell_type": "markdown",
   "id": "73db3698",
   "metadata": {},
   "source": [
    "### Clean-up"
   ]
  },
  {
   "cell_type": "code",
   "execution_count": 26,
   "id": "9ae2050b",
   "metadata": {},
   "outputs": [
    {
     "name": "stdout",
     "output_type": "stream",
     "text": [
      "2023-05-02 15:36:56,484 INFO fs.TrashPolicyDefault: Moved: 'hdfs://m01.itversity.com:9000/user/itv005077/output' to trash at: hdfs://m01.itversity.com:9000/user/itv005077/.Trash/Current/user/itv005077/output1683056216465\n"
     ]
    }
   ],
   "source": [
    "!hadoop fs -rm -r output"
   ]
  },
  {
   "cell_type": "code",
   "execution_count": 27,
   "id": "c1161e9d",
   "metadata": {},
   "outputs": [
    {
     "name": "stdout",
     "output_type": "stream",
     "text": [
      "Found 2 items\n",
      "drwx------   - itv005077 supergroup          0 2023-04-15 10:10 .Trash\n",
      "drwxr-xr-x   - itv005077 supergroup          0 2023-05-02 15:28 .sparkStaging\n"
     ]
    }
   ],
   "source": [
    "!hadoop fs -ls"
   ]
  },
  {
   "cell_type": "code",
   "execution_count": 28,
   "id": "f9e52593",
   "metadata": {},
   "outputs": [],
   "source": [
    "spark.stop()"
   ]
  }
 ],
 "metadata": {
  "kernelspec": {
   "display_name": "Pyspark 3",
   "language": "python",
   "name": "pyspark3"
  },
  "language_info": {
   "codemirror_mode": {
    "name": "ipython",
    "version": 3
   },
   "file_extension": ".py",
   "mimetype": "text/x-python",
   "name": "python",
   "nbconvert_exporter": "python",
   "pygments_lexer": "ipython3",
   "version": "3.6.12"
  }
 },
 "nbformat": 4,
 "nbformat_minor": 5
}
