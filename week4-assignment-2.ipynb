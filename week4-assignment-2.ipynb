{
 "cells": [
  {
   "cell_type": "markdown",
   "id": "0d36eb97",
   "metadata": {},
   "source": [
    "## Week-4 Asignment (Question-2)"
   ]
  },
  {
   "cell_type": "code",
   "execution_count": 1,
   "id": "43f6ccf0",
   "metadata": {},
   "outputs": [
    {
     "name": "stdout",
     "output_type": "stream",
     "text": [
      "Found 2 items\n",
      "drwxr-xr-x   - itv005857 supergroup          0 2023-05-05 04:51 /public/trendytech/covid19/cases\n",
      "drwxr-xr-x   - itv005857 supergroup          0 2023-05-05 04:51 /public/trendytech/covid19/states\n"
     ]
    }
   ],
   "source": [
    "!hadoop fs -ls /public/trendytech/covid19"
   ]
  },
  {
   "cell_type": "code",
   "execution_count": 2,
   "id": "68312730",
   "metadata": {},
   "outputs": [
    {
     "name": "stdout",
     "output_type": "stream",
     "text": [
      "Found 1 items\n",
      "-rw-r--r--   3 itv005857 supergroup      7.7 K 2023-05-05 04:51 /public/trendytech/covid19/cases/covid_dataset_cases.csv\n"
     ]
    }
   ],
   "source": [
    "!hadoop fs -ls -h /public/trendytech/covid19/cases"
   ]
  },
  {
   "cell_type": "code",
   "execution_count": 3,
   "id": "63019fc6",
   "metadata": {},
   "outputs": [
    {
     "name": "stdout",
     "output_type": "stream",
     "text": [
      "Found 1 items\n",
      "-rw-r--r--   3 itv005857 supergroup      1.8 K 2023-05-05 04:51 /public/trendytech/covid19/states/covid_dataset_states.csv\n"
     ]
    }
   ],
   "source": [
    "!hadoop fs -ls -h /public/trendytech/covid19/states"
   ]
  },
  {
   "cell_type": "code",
   "execution_count": 4,
   "id": "56e4a1a8",
   "metadata": {},
   "outputs": [
    {
     "name": "stdout",
     "output_type": "stream",
     "text": [
      "20200122,AP,2,0,48,26,15,18,2,38,10,34,B,18,19/05/2022,23,24,29,34,19,45,5,44,42,49,53,0,0,2,2,0,2,0,0,8f8db794931706272489cddd51e917a4a69c8c9b,0,0,0,0,0\n",
      "20200123,AP,2,0,48,41,2,20,30,40,5,50,B,1,08/11/2022,14,7,33,36,14,18,36,37,45,8,53,0,0,2,2,0,2,0,0,e16af2a6a8f060355ff5ba499a28309a262c0b1e,0,0,0,0,0\n",
      "20200124,HP,2,0,16,14,5,29,43,22,11,11,D,31,17/05/2022,10,37,11,25,45,25,2,32,30,41,53,0,0,2,2,0,2,0,0,094154f68e74bfc30b977cdee888f9c07be4360e,0,0,0,0,0\n",
      "20200125,HP,2,0,10,13,41,50,26,19,34,8,D,40,07/10/2022,32,5,33,9,50,31,18,38,7,16,53,0,0,2,2,0,2,0,0,9b52ca94dd2a996822542ea5f17a7363e7ad91cf,0,0,0,0,0\n",
      "20200126,AS,2,0,15,43,23,45,20,46,15,30,D,31,28/12/2022,22,14,1,29,2,24,15,12,9,10,53,0,0,2,2,0,2,0,0,7acb526e14f20a29cc74a0b32a37328bc6eac6c2,0,0,0,0,0\n",
      "20200127,HR,2,0,31,46,24,46,41,32,39,20,C,25,06/10/2022,32,16,9,21,14,40,14,49,32,49,53,0,0,2,2,0,2,0,0,90960ca688f971a0b7e4dc14b893f9c5d76d2bb6,0,0,0,0,0\n",
      "20200128,KA,2,0,35,1,17,33,46,4,29,30,C,10,12/02/2022,48,11,6,28,1,29,13,31,26,30,53,0,0,2,2,0,2,0,"
     ]
    }
   ],
   "source": [
    "!hadoop fs -head /public/trendytech/covid19/cases/covid_dataset_cases.csv"
   ]
  },
  {
   "cell_type": "code",
   "execution_count": 5,
   "id": "5c1fa06b",
   "metadata": {},
   "outputs": [
    {
     "name": "stdout",
     "output_type": "stream",
     "text": [
      "HP,null,https://covid19.hp.gov.in/ ,https://covid-19archive.org/,https://www.azdhs.gov,@HPCovid,https://arcg.is/0brSGj,null,53,,\n",
      "AS,null,https://covid19.hp.gov.in/ ,https://covid-19archive.org/,https://www.azdhs.gov,@ASCovid,null,null,6,null,null\n",
      "HR,null,https://covid19.hp.gov.in/ ,https://covid-19archive.org/,https://www.azdhs.gov,@HRCovid,null,null,9,null,null\n",
      "KA,null,https://covid19.hp.gov.in/ ,https://covid-19archive.org/,https://www.azdhs.gov,@KACovid,null,null,53,null,null\n",
      "WA,null,https://covid19.hp.gov.in/ ,https://covid-19archive.org/,https://www.azdhs.gov,@WACovid,null,null,44,null,null\n",
      "CG,null,https://covid19.hp.gov.in/ ,https://covid-19archive.org/,https://www.azdhs.gov,@CGCovid,null,null,53,null,null\n",
      "BR,null,https://covid19.hp.gov.in/ ,https://covid-19archive.org/,https://www.azdhs.gov,@BRCovid,null,null,53,null,null\n",
      "JH,null,https://covid19.hp.gov.in/ ,https://covid-19archive.org/,null,@JHCovid,null,null,53,null,null\n",
      "GJ,null,https://covid19.hp.gov.in/ ,https://covid-19archive.org/,null,@GJ"
     ]
    }
   ],
   "source": [
    "!hadoop fs -head /public/trendytech/covid19/states/covid_dataset_states.csv"
   ]
  },
  {
   "cell_type": "code",
   "execution_count": 6,
   "id": "d87c7a6d",
   "metadata": {},
   "outputs": [],
   "source": [
    "import getpass as gp\n",
    "from pyspark.sql import SparkSession"
   ]
  },
  {
   "cell_type": "code",
   "execution_count": 7,
   "id": "e4e1067d",
   "metadata": {},
   "outputs": [],
   "source": [
    "user = gp.getuser()\n",
    "spark = SparkSession.builder \\\n",
    "            .appName(f'{user}-week4-assignment-question-2') \\\n",
    "            .master('yarn') \\\n",
    "            .getOrCreate()"
   ]
  },
  {
   "cell_type": "code",
   "execution_count": 8,
   "id": "a1878b4a",
   "metadata": {},
   "outputs": [
    {
     "data": {
      "text/html": [
       "\n",
       "            <div>\n",
       "                <p><b>SparkSession - in-memory</b></p>\n",
       "                \n",
       "        <div>\n",
       "            <p><b>SparkContext</b></p>\n",
       "\n",
       "            <p><a href=\"http://g02.itversity.com:4041\">Spark UI</a></p>\n",
       "\n",
       "            <dl>\n",
       "              <dt>Version</dt>\n",
       "                <dd><code>v3.0.1</code></dd>\n",
       "              <dt>Master</dt>\n",
       "                <dd><code>yarn</code></dd>\n",
       "              <dt>AppName</dt>\n",
       "                <dd><code>itv005077-week4-assignment-question-2</code></dd>\n",
       "            </dl>\n",
       "        </div>\n",
       "        \n",
       "            </div>\n",
       "        "
      ],
      "text/plain": [
       "<pyspark.sql.session.SparkSession at 0x7fdab8513fd0>"
      ]
     },
     "execution_count": 8,
     "metadata": {},
     "output_type": "execute_result"
    }
   ],
   "source": [
    "spark"
   ]
  },
  {
   "cell_type": "markdown",
   "id": "f4d9d735",
   "metadata": {},
   "source": [
    "### Create File Base RDD"
   ]
  },
  {
   "cell_type": "code",
   "execution_count": 9,
   "id": "e83a6ffb",
   "metadata": {},
   "outputs": [],
   "source": [
    "rdd_input_file_cases = spark.sparkContext.textFile('/public/trendytech/covid19/cases/*') \\\n",
    "                        .map(lambda row : row.split(','))"
   ]
  },
  {
   "cell_type": "code",
   "execution_count": 10,
   "id": "1cc53525",
   "metadata": {},
   "outputs": [
    {
     "data": {
      "text/plain": [
       "[['20200122',\n",
       "  'AP',\n",
       "  '2',\n",
       "  '0',\n",
       "  '48',\n",
       "  '26',\n",
       "  '15',\n",
       "  '18',\n",
       "  '2',\n",
       "  '38',\n",
       "  '10',\n",
       "  '34',\n",
       "  'B',\n",
       "  '18',\n",
       "  '19/05/2022',\n",
       "  '23',\n",
       "  '24',\n",
       "  '29',\n",
       "  '34',\n",
       "  '19',\n",
       "  '45',\n",
       "  '5',\n",
       "  '44',\n",
       "  '42',\n",
       "  '49',\n",
       "  '53',\n",
       "  '0',\n",
       "  '0',\n",
       "  '2',\n",
       "  '2',\n",
       "  '0',\n",
       "  '2',\n",
       "  '0',\n",
       "  '0',\n",
       "  '8f8db794931706272489cddd51e917a4a69c8c9b',\n",
       "  '0',\n",
       "  '0',\n",
       "  '0',\n",
       "  '0',\n",
       "  '0'],\n",
       " ['20200123',\n",
       "  'AP',\n",
       "  '2',\n",
       "  '0',\n",
       "  '48',\n",
       "  '41',\n",
       "  '2',\n",
       "  '20',\n",
       "  '30',\n",
       "  '40',\n",
       "  '5',\n",
       "  '50',\n",
       "  'B',\n",
       "  '1',\n",
       "  '08/11/2022',\n",
       "  '14',\n",
       "  '7',\n",
       "  '33',\n",
       "  '36',\n",
       "  '14',\n",
       "  '18',\n",
       "  '36',\n",
       "  '37',\n",
       "  '45',\n",
       "  '8',\n",
       "  '53',\n",
       "  '0',\n",
       "  '0',\n",
       "  '2',\n",
       "  '2',\n",
       "  '0',\n",
       "  '2',\n",
       "  '0',\n",
       "  '0',\n",
       "  'e16af2a6a8f060355ff5ba499a28309a262c0b1e',\n",
       "  '0',\n",
       "  '0',\n",
       "  '0',\n",
       "  '0',\n",
       "  '0']]"
      ]
     },
     "execution_count": 10,
     "metadata": {},
     "output_type": "execute_result"
    }
   ],
   "source": [
    "rdd_input_file_cases.take(2)"
   ]
  },
  {
   "cell_type": "code",
   "execution_count": 11,
   "id": "1dc96c7f",
   "metadata": {},
   "outputs": [],
   "source": [
    "rdd_input_file_states = spark.sparkContext.textFile('/public/trendytech/covid19/states/*') \\\n",
    "                        .map(lambda row : row.split(','))"
   ]
  },
  {
   "cell_type": "code",
   "execution_count": 12,
   "id": "bfa868d2",
   "metadata": {},
   "outputs": [
    {
     "data": {
      "text/plain": [
       "[['HP',\n",
       "  'null',\n",
       "  'https://covid19.hp.gov.in/ ',\n",
       "  'https://covid-19archive.org/',\n",
       "  'https://www.azdhs.gov',\n",
       "  '@HPCovid',\n",
       "  'https://arcg.is/0brSGj',\n",
       "  'null',\n",
       "  '53',\n",
       "  '',\n",
       "  ''],\n",
       " ['AS',\n",
       "  'null',\n",
       "  'https://covid19.hp.gov.in/ ',\n",
       "  'https://covid-19archive.org/',\n",
       "  'https://www.azdhs.gov',\n",
       "  '@ASCovid',\n",
       "  'null',\n",
       "  'null',\n",
       "  '6',\n",
       "  'null',\n",
       "  'null']]"
      ]
     },
     "execution_count": 12,
     "metadata": {},
     "output_type": "execute_result"
    }
   ],
   "source": [
    "rdd_input_file_states.take(2)"
   ]
  },
  {
   "cell_type": "code",
   "execution_count": 13,
   "id": "57a86c4a",
   "metadata": {},
   "outputs": [],
   "source": [
    "rdd_cases_req_cols = rdd_input_file_cases.map(lambda col : col)"
   ]
  },
  {
   "cell_type": "code",
   "execution_count": 14,
   "id": "6ef0f7e8",
   "metadata": {},
   "outputs": [
    {
     "data": {
      "text/plain": [
       "[['20200122',\n",
       "  'AP',\n",
       "  '2',\n",
       "  '0',\n",
       "  '48',\n",
       "  '26',\n",
       "  '15',\n",
       "  '18',\n",
       "  '2',\n",
       "  '38',\n",
       "  '10',\n",
       "  '34',\n",
       "  'B',\n",
       "  '18',\n",
       "  '19/05/2022',\n",
       "  '23',\n",
       "  '24',\n",
       "  '29',\n",
       "  '34',\n",
       "  '19',\n",
       "  '45',\n",
       "  '5',\n",
       "  '44',\n",
       "  '42',\n",
       "  '49',\n",
       "  '53',\n",
       "  '0',\n",
       "  '0',\n",
       "  '2',\n",
       "  '2',\n",
       "  '0',\n",
       "  '2',\n",
       "  '0',\n",
       "  '0',\n",
       "  '8f8db794931706272489cddd51e917a4a69c8c9b',\n",
       "  '0',\n",
       "  '0',\n",
       "  '0',\n",
       "  '0',\n",
       "  '0']]"
      ]
     },
     "execution_count": 14,
     "metadata": {},
     "output_type": "execute_result"
    }
   ],
   "source": [
    "rdd_cases_req_cols.take(1)"
   ]
  },
  {
   "cell_type": "code",
   "execution_count": 15,
   "id": "b28a8954",
   "metadata": {},
   "outputs": [],
   "source": [
    "rdd_states_req_cols = rdd_input_file_states.map(lambda col : col)"
   ]
  },
  {
   "cell_type": "code",
   "execution_count": 16,
   "id": "612f9be9",
   "metadata": {},
   "outputs": [
    {
     "data": {
      "text/plain": [
       "[['HP',\n",
       "  'null',\n",
       "  'https://covid19.hp.gov.in/ ',\n",
       "  'https://covid-19archive.org/',\n",
       "  'https://www.azdhs.gov',\n",
       "  '@HPCovid',\n",
       "  'https://arcg.is/0brSGj',\n",
       "  'null',\n",
       "  '53',\n",
       "  '',\n",
       "  '']]"
      ]
     },
     "execution_count": 16,
     "metadata": {},
     "output_type": "execute_result"
    }
   ],
   "source": [
    "rdd_states_req_cols.take(1)"
   ]
  },
  {
   "cell_type": "markdown",
   "id": "e0099795",
   "metadata": {},
   "source": [
    "### 1. Find the top 10 states with the highest no.of positive cases. "
   ]
  },
  {
   "cell_type": "code",
   "execution_count": 21,
   "id": "a64a1355",
   "metadata": {},
   "outputs": [
    {
     "data": {
      "text/plain": [
       "[('WA', 1701),\n",
       " ('GA', 1017),\n",
       " ('MH', 730),\n",
       " ('MI', 61),\n",
       " ('CA', 53),\n",
       " ('GJ', 35),\n",
       " ('BR', 23),\n",
       " ('JH', 13),\n",
       " ('CG', 8),\n",
       " ('RI', 6)]"
      ]
     },
     "execution_count": 21,
     "metadata": {},
     "output_type": "execute_result"
    }
   ],
   "source": [
    "rdd_cases_req_cols \\\n",
    ".map(lambda col : (col[1], int(col[2]))) \\\n",
    ".reduceByKey(lambda x,y : x+y) \\\n",
    ".sortBy(lambda col : col[1], ascending= False) \\\n",
    ".take(10)"
   ]
  },
  {
   "cell_type": "markdown",
   "id": "fd6d79d4",
   "metadata": {},
   "source": [
    "### 2. Find the total count of people in ICU currently."
   ]
  },
  {
   "cell_type": "code",
   "execution_count": 24,
   "id": "c4dd4488",
   "metadata": {},
   "outputs": [
    {
     "data": {
      "text/plain": [
       "1344"
      ]
     },
     "execution_count": 24,
     "metadata": {},
     "output_type": "execute_result"
    }
   ],
   "source": [
    "rdd_cases_req_cols \\\n",
    ".map(lambda col : int(col[7])) \\\n",
    ".sum()"
   ]
  },
  {
   "cell_type": "markdown",
   "id": "76338756",
   "metadata": {},
   "source": [
    "### 3. Find the top 15 States having maximum no.of recovery"
   ]
  },
  {
   "cell_type": "code",
   "execution_count": 26,
   "id": "c0eb86aa",
   "metadata": {},
   "outputs": [
    {
     "data": {
      "text/plain": [
       "[('WA', 451),\n",
       " ('MH', 165),\n",
       " ('MI', 101),\n",
       " ('GA', 87),\n",
       " ('AP', 84),\n",
       " ('RI', 72),\n",
       " ('BR', 68),\n",
       " ('JH', 50),\n",
       " ('KA', 43),\n",
       " ('AZ', 38),\n",
       " ('AS', 30),\n",
       " ('GJ', 27),\n",
       " ('CA', 23),\n",
       " ('HR', 20),\n",
       " ('HP', 19)]"
      ]
     },
     "execution_count": 26,
     "metadata": {},
     "output_type": "execute_result"
    }
   ],
   "source": [
    "rdd_cases_req_cols \\\n",
    ".map(lambda col : (col[1], int(col[11]))) \\\n",
    ".reduceByKey(lambda x,y : x+y) \\\n",
    ".sortBy(lambda col : col[1], ascending= False) \\\n",
    ".take(15)"
   ]
  },
  {
   "cell_type": "markdown",
   "id": "7af63190",
   "metadata": {},
   "source": [
    "### 4. Find the top 3 States having least no.of deaths"
   ]
  },
  {
   "cell_type": "code",
   "execution_count": 27,
   "id": "578a42c6",
   "metadata": {},
   "outputs": [
    {
     "data": {
      "text/plain": [
       "[('AS', 9), ('JH', 10), ('CG', 31)]"
      ]
     },
     "execution_count": 27,
     "metadata": {},
     "output_type": "execute_result"
    }
   ],
   "source": [
    "rdd_cases_req_cols \\\n",
    ".map(lambda col : (col[1], int(col[23]))) \\\n",
    ".reduceByKey(lambda x,y : x+y) \\\n",
    ".sortBy(lambda col : col[1], ascending= True) \\\n",
    ".take(3)"
   ]
  },
  {
   "cell_type": "markdown",
   "id": "53bd0670",
   "metadata": {},
   "source": [
    "### 5. Find the total number of people hospitalized currently."
   ]
  },
  {
   "cell_type": "code",
   "execution_count": 28,
   "id": "e34a6f7d",
   "metadata": {},
   "outputs": [
    {
     "data": {
      "text/plain": [
       "1319"
      ]
     },
     "execution_count": 28,
     "metadata": {},
     "output_type": "execute_result"
    }
   ],
   "source": [
    "rdd_cases_req_cols \\\n",
    ".map(lambda col : int(col[5])) \\\n",
    ".sum()"
   ]
  },
  {
   "cell_type": "code",
   "execution_count": 29,
   "id": "333b9670",
   "metadata": {},
   "outputs": [],
   "source": [
    "# end\n",
    "spark.stop()"
   ]
  },
  {
   "cell_type": "code",
   "execution_count": null,
   "id": "0297cae1",
   "metadata": {},
   "outputs": [],
   "source": []
  }
 ],
 "metadata": {
  "kernelspec": {
   "display_name": "Pyspark 3",
   "language": "python",
   "name": "pyspark3"
  },
  "language_info": {
   "codemirror_mode": {
    "name": "ipython",
    "version": 3
   },
   "file_extension": ".py",
   "mimetype": "text/x-python",
   "name": "python",
   "nbconvert_exporter": "python",
   "pygments_lexer": "ipython3",
   "version": "3.6.12"
  }
 },
 "nbformat": 4,
 "nbformat_minor": 5
}
