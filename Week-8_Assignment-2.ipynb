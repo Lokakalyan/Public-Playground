{
 "cells": [
  {
   "cell_type": "code",
   "execution_count": 1,
   "id": "27f3e74c",
   "metadata": {},
   "outputs": [
    {
     "name": "stdout",
     "output_type": "stream",
     "text": [
      "154\tNanette\tCambrault\tNCAMBRAU\t011.44.1344.987668\t1998-12-09\tSA_REP\t7500.00\t0.20\t145\t80\n",
      "155\tOliver\tTuvault\tOTUVAULT\t011.44.1344.486508\t1999-11-23\tSA_REP\t7000.00\t0.15\t145\t80\n",
      "156\tJanette\tKing\tJKING\t011.44.1345.429268\t1996-01-30\tSA_REP\t10000.00\t0.35\t146\t80\n",
      "157\tPatrick\tSully\tPSULLY\t011.44.1345.929268\t1996-03-04\tSA_REP\t9500.00\t0.35\t146\t80\n",
      "158\tAllan\tMcEwen\tAMCEWEN\t011.44.1345.829268\t1996-08-01\tSA_REP\t9000.00\t0.35\t146\t80\n",
      "159\tLindsey\tSmith\tLSMITH\t011.44.1345.729268\t1997-03-10\tSA_REP\t8000.00\t0.30\t146\t80\n",
      "160\tLouise\tDoran\tLDORAN\t011.44.1345.629268\t1997-12-15\tSA_REP\t7500.00\t0.30\t146\t80\n",
      "161\tSarath\tSewall\tSSEWALL\t011.44.1345.529268\t1998-11-03\tSA_REP\t7000.00\t0.25\t146\t80\n",
      "162\tClara\tVishney\tCVISHNEY\t011.44.1346.129268\t1997-11-11\tSA_REP\t10500.00\t0.25\t147\t80\n",
      "163\tDanielle\tGreene\tDGREENE\t011.44.1346.229268\t1999-03-19\tSA_REP\t9500.00\t0.15\t147\t80\n",
      "164\tMattea\tMarvins\tMMARVINS\t011.44.1346.329268\t2000-01-24\tSA_REP\t7200.00\t0.10\t147\t80\n",
      "165\tDavid\tLee\tDLEE\t011.44.1346.529268\t2000-02-23\tSA_REP\t6800.00\t0.10\t147\t80\n",
      "166\tSundar\tAnde\tSANDE\t011.44."
     ]
    }
   ],
   "source": [
    "!hadoop fs -head /public/hr_db/employees/part-m-00002"
   ]
  },
  {
   "cell_type": "code",
   "execution_count": 2,
   "id": "954b0d69",
   "metadata": {},
   "outputs": [],
   "source": [
    "from pyspark.sql import SparkSession\n",
    "import getpass as gp\n",
    "from pyspark.sql import types as T, functions as F"
   ]
  },
  {
   "cell_type": "code",
   "execution_count": 3,
   "id": "824cf1f7",
   "metadata": {},
   "outputs": [
    {
     "data": {
      "text/plain": [
       "'itv005077'"
      ]
     },
     "execution_count": 3,
     "metadata": {},
     "output_type": "execute_result"
    }
   ],
   "source": [
    "user = gp.getuser()\n",
    "user"
   ]
  },
  {
   "cell_type": "code",
   "execution_count": 4,
   "id": "5fa5639c",
   "metadata": {},
   "outputs": [],
   "source": [
    "spark = SparkSession.builder \\\n",
    "    .appName(f'{user}-WEEK-8-Assignment-2') \\\n",
    "    .master('yarn') \\\n",
    "    .config('spark.sql.warehouse.dir', f'/user/{user}/warehouse') \\\n",
    "    .config('spark.sql.catalogImplementaion', 'hive') \\\n",
    "    .enableHiveSupport() \\\n",
    "    .getOrCreate()"
   ]
  },
  {
   "cell_type": "code",
   "execution_count": 5,
   "id": "5d9cb632",
   "metadata": {},
   "outputs": [
    {
     "data": {
      "text/html": [
       "\n",
       "            <div>\n",
       "                <p><b>SparkSession - hive</b></p>\n",
       "                \n",
       "        <div>\n",
       "            <p><b>SparkContext</b></p>\n",
       "\n",
       "            <p><a href=\"http://g02.itversity.com:4040\">Spark UI</a></p>\n",
       "\n",
       "            <dl>\n",
       "              <dt>Version</dt>\n",
       "                <dd><code>v3.0.1</code></dd>\n",
       "              <dt>Master</dt>\n",
       "                <dd><code>yarn</code></dd>\n",
       "              <dt>AppName</dt>\n",
       "                <dd><code>itv005077-WEEK-8-Assignment-2</code></dd>\n",
       "            </dl>\n",
       "        </div>\n",
       "        \n",
       "            </div>\n",
       "        "
      ],
      "text/plain": [
       "<pyspark.sql.session.SparkSession at 0x7f9d35130d68>"
      ]
     },
     "execution_count": 5,
     "metadata": {},
     "output_type": "execute_result"
    }
   ],
   "source": [
    "spark"
   ]
  },
  {
   "cell_type": "code",
   "execution_count": 6,
   "id": "359c64f4",
   "metadata": {},
   "outputs": [],
   "source": [
    "schema = T.StructType([\n",
    "    T.StructField('employee_id', T.IntegerType()),\n",
    "    T.StructField('first_name', T.StringType()),\n",
    "    T.StructField('last_name', T.StringType()),\n",
    "    T.StructField('email', T.StringType()),\n",
    "    T.StructField('phone_number', T.StringType()),\n",
    "    T.StructField('hire_date', T.DateType()),\n",
    "    T.StructField('job_id', T.StringType()),\n",
    "    T.StructField('salary', T.FloatType()),\n",
    "    T.StructField('commission_pct', T.FloatType()),\n",
    "    T.StructField('manager_id', T.IntegerType()),\n",
    "    T.StructField('department_id', T.IntegerType()),\n",
    "])"
   ]
  },
  {
   "cell_type": "code",
   "execution_count": 7,
   "id": "d487168d",
   "metadata": {},
   "outputs": [],
   "source": [
    "df_employee = spark.read \\\n",
    "    .format('csv') \\\n",
    "    .option('delimiter', '\\t') \\\n",
    "    .schema(schema) \\\n",
    "    .load('/public/hr_db/employees')"
   ]
  },
  {
   "cell_type": "code",
   "execution_count": 8,
   "id": "2d31d63d",
   "metadata": {},
   "outputs": [
    {
     "name": "stdout",
     "output_type": "stream",
     "text": [
      "+-----------+----------+----------+--------+------------------+----------+--------+-------+--------------+----------+-------------+\n",
      "|employee_id|first_name| last_name|   email|      phone_number| hire_date|  job_id| salary|commission_pct|manager_id|department_id|\n",
      "+-----------+----------+----------+--------+------------------+----------+--------+-------+--------------+----------+-------------+\n",
      "|        127|     James|    Landry| JLANDRY|      650.124.1334|1999-01-14|ST_CLERK| 2400.0|          null|       120|           50|\n",
      "|        128|    Steven|    Markle| SMARKLE|      650.124.1434|2000-03-08|ST_CLERK| 2200.0|          null|       120|           50|\n",
      "|        129|     Laura|    Bissot| LBISSOT|      650.124.5234|1997-08-20|ST_CLERK| 3300.0|          null|       121|           50|\n",
      "|        130|     Mozhe|  Atkinson|MATKINSO|      650.124.6234|1997-10-30|ST_CLERK| 2800.0|          null|       121|           50|\n",
      "|        131|     James|    Marlow| JAMRLOW|      650.124.7234|1997-02-16|ST_CLERK| 2500.0|          null|       121|           50|\n",
      "|        132|        TJ|     Olson| TJOLSON|      650.124.8234|1999-04-10|ST_CLERK| 2100.0|          null|       121|           50|\n",
      "|        133|     Jason|    Mallin| JMALLIN|      650.127.1934|1996-06-14|ST_CLERK| 3300.0|          null|       122|           50|\n",
      "|        134|   Michael|    Rogers| MROGERS|      650.127.1834|1998-08-26|ST_CLERK| 2900.0|          null|       122|           50|\n",
      "|        135|        Ki|       Gee|    KGEE|      650.127.1734|1999-12-12|ST_CLERK| 2400.0|          null|       122|           50|\n",
      "|        136|     Hazel|Philtanker|HPHILTAN|      650.127.1634|2000-02-06|ST_CLERK| 2200.0|          null|       122|           50|\n",
      "|        137|    Renske|    Ladwig| RLADWIG|      650.121.1234|1995-07-14|ST_CLERK| 3600.0|          null|       123|           50|\n",
      "|        138|   Stephen|    Stiles| SSTILES|      650.121.2034|1997-10-26|ST_CLERK| 3200.0|          null|       123|           50|\n",
      "|        139|      John|       Seo|    JSEO|      650.121.2019|1998-02-12|ST_CLERK| 2700.0|          null|       123|           50|\n",
      "|        140|    Joshua|     Patel|  JPATEL|      650.121.1834|1998-04-06|ST_CLERK| 2500.0|          null|       123|           50|\n",
      "|        141|    Trenna|      Rajs|   TRAJS|      650.121.8009|1995-10-17|ST_CLERK| 3500.0|          null|       124|           50|\n",
      "|        142|    Curtis|    Davies| CDAVIES|      650.121.2994|1997-01-29|ST_CLERK| 3100.0|          null|       124|           50|\n",
      "|        143|   Randall|     Matos|  RMATOS|      650.121.2874|1998-03-15|ST_CLERK| 2600.0|          null|       124|           50|\n",
      "|        144|     Peter|    Vargas| PVARGAS|      650.121.2004|1998-07-09|ST_CLERK| 2500.0|          null|       124|           50|\n",
      "|        145|      John|   Russell| JRUSSEL|011.44.1344.429268|1996-10-01|  SA_MAN|14000.0|           0.4|       100|           80|\n",
      "|        146|     Karen|  Partners|KPARTNER|011.44.1344.467268|1997-01-05|  SA_MAN|13500.0|           0.3|       100|           80|\n",
      "+-----------+----------+----------+--------+------------------+----------+--------+-------+--------------+----------+-------------+\n",
      "only showing top 20 rows\n",
      "\n"
     ]
    }
   ],
   "source": [
    "df_employee.show()"
   ]
  },
  {
   "cell_type": "markdown",
   "id": "98b08ebd",
   "metadata": {},
   "source": [
    "## Programatic Approach"
   ]
  },
  {
   "cell_type": "code",
   "execution_count": 9,
   "id": "3ee9a9fb",
   "metadata": {},
   "outputs": [
    {
     "name": "stdout",
     "output_type": "stream",
     "text": [
      "+-------------+--------------+---------------------+\n",
      "|department_id|total_dept_sal|total_dept_sal_w_comm|\n",
      "+-------------+--------------+---------------------+\n",
      "|         null|        7000.0|               1050.0|\n",
      "|           10|        4400.0|                 null|\n",
      "|           20|       19000.0|                 null|\n",
      "|           30|       24900.0|                 null|\n",
      "|           40|        6500.0|                 null|\n",
      "|           50|      156400.0|                 null|\n",
      "|           60|       28800.0|                 null|\n",
      "|           70|       10000.0|                 null|\n",
      "|           80|      304500.0|     72640.0009765625|\n",
      "|           90|       58000.0|                 null|\n",
      "|          100|       51600.0|                 null|\n",
      "|          110|       20300.0|                 null|\n",
      "+-------------+--------------+---------------------+\n",
      "\n"
     ]
    }
   ],
   "source": [
    "df_employee \\\n",
    "    .groupBy('department_id') \\\n",
    "    .agg(F.sum('salary').alias('total_dept_sal'), \n",
    "         F.sum(F.expr('salary * commission_pct')).alias('total_dept_sal_w_comm')\n",
    "        ) \\\n",
    "    .orderBy('department_id', desc = False) \\\n",
    "    .show()"
   ]
  },
  {
   "cell_type": "markdown",
   "id": "bfc4276f",
   "metadata": {},
   "source": [
    "## SQL Approach"
   ]
  },
  {
   "cell_type": "code",
   "execution_count": 10,
   "id": "80d2923f",
   "metadata": {},
   "outputs": [
    {
     "name": "stdout",
     "output_type": "stream",
     "text": [
      "+-------------+--------------+---------------------+\n",
      "|department_id|total_dept_sal|total_dept_sal_w_comm|\n",
      "+-------------+--------------+---------------------+\n",
      "|         null|        7000.0|               1050.0|\n",
      "|           10|        4400.0|                 null|\n",
      "|           20|       19000.0|                 null|\n",
      "|           30|       24900.0|                 null|\n",
      "|           40|        6500.0|                 null|\n",
      "|           50|      156400.0|                 null|\n",
      "|           60|       28800.0|                 null|\n",
      "|           70|       10000.0|                 null|\n",
      "|           80|      304500.0|     72640.0009765625|\n",
      "|           90|       58000.0|                 null|\n",
      "|          100|       51600.0|                 null|\n",
      "|          110|       20300.0|                 null|\n",
      "+-------------+--------------+---------------------+\n",
      "\n"
     ]
    }
   ],
   "source": [
    "df_employee \\\n",
    "    .groupBy('department_id') \\\n",
    "    .agg( F.expr('sum(salary) as total_dept_sal'), \n",
    "         F.expr('sum(salary*commission_pct) as total_dept_sal_w_comm')\n",
    "        ) \\\n",
    "    .orderBy('department_id', desc = False) \\\n",
    "    .show()"
   ]
  },
  {
   "cell_type": "markdown",
   "id": "e6f4459c",
   "metadata": {},
   "source": [
    "## SPARK SQL Approach"
   ]
  },
  {
   "cell_type": "code",
   "execution_count": 11,
   "id": "842dcb75",
   "metadata": {},
   "outputs": [],
   "source": [
    "df_employee.createOrReplaceTempView('employees')"
   ]
  },
  {
   "cell_type": "code",
   "execution_count": 12,
   "id": "c8ef7452",
   "metadata": {},
   "outputs": [
    {
     "name": "stdout",
     "output_type": "stream",
     "text": [
      "+-------------+--------------+---------------------+\n",
      "|department_id|total_dept_sal|total_dept_sal_w_comm|\n",
      "+-------------+--------------+---------------------+\n",
      "|         null|        7000.0|               1050.0|\n",
      "|           10|        4400.0|                 null|\n",
      "|           20|       19000.0|                 null|\n",
      "|           30|       24900.0|                 null|\n",
      "|           40|        6500.0|                 null|\n",
      "|           50|      156400.0|                 null|\n",
      "|           60|       28800.0|                 null|\n",
      "|           70|       10000.0|                 null|\n",
      "|           80|      304500.0|     72640.0009765625|\n",
      "|           90|       58000.0|                 null|\n",
      "|          100|       51600.0|                 null|\n",
      "|          110|       20300.0|                 null|\n",
      "+-------------+--------------+---------------------+\n",
      "\n"
     ]
    }
   ],
   "source": [
    "spark.sql('''\n",
    "    SELECT department_id,\n",
    "           sum(salary) as total_dept_sal,\n",
    "           sum(salary*commission_pct) as total_dept_sal_w_comm\n",
    "    FROM employees\n",
    "    GROUP BY department_id\n",
    "    ORDER BY department_id\n",
    "''').show()"
   ]
  },
  {
   "cell_type": "code",
   "execution_count": 13,
   "id": "656c7c7c",
   "metadata": {},
   "outputs": [],
   "source": [
    "spark.stop()"
   ]
  }
 ],
 "metadata": {
  "kernelspec": {
   "display_name": "Pyspark 3",
   "language": "python",
   "name": "pyspark3"
  },
  "language_info": {
   "codemirror_mode": {
    "name": "ipython",
    "version": 3
   },
   "file_extension": ".py",
   "mimetype": "text/x-python",
   "name": "python",
   "nbconvert_exporter": "python",
   "pygments_lexer": "ipython3",
   "version": "3.6.12"
  }
 },
 "nbformat": 4,
 "nbformat_minor": 5
}
