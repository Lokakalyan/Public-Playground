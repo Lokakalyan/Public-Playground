{
 "cells": [
  {
   "cell_type": "code",
   "execution_count": 1,
   "id": "5fa6d8ce",
   "metadata": {},
   "outputs": [],
   "source": [
    "import getpass as gp\n",
    "from pyspark.sql import SparkSession"
   ]
  },
  {
   "cell_type": "code",
   "execution_count": 2,
   "id": "7895d784",
   "metadata": {},
   "outputs": [],
   "source": [
    "user = gp.getuser()"
   ]
  },
  {
   "cell_type": "code",
   "execution_count": 3,
   "id": "3d008485",
   "metadata": {},
   "outputs": [
    {
     "data": {
      "text/plain": [
       "'itv005077'"
      ]
     },
     "execution_count": 3,
     "metadata": {},
     "output_type": "execute_result"
    }
   ],
   "source": [
    "user"
   ]
  },
  {
   "cell_type": "code",
   "execution_count": 4,
   "id": "24ee10a9",
   "metadata": {},
   "outputs": [],
   "source": [
    "spark = SparkSession.builder \\\n",
    "    .appName(f'{user}-Week-7-Assignment') \\\n",
    "    .config('spark.sql.warehouse.dir', f'/user/{user}/warehouse') \\\n",
    "    .config('spark.sql.hive.catalogImplementation', 'hive') \\\n",
    "    .enableHiveSupport() \\\n",
    "    .master('yarn') \\\n",
    "    .getOrCreate()"
   ]
  },
  {
   "cell_type": "code",
   "execution_count": 5,
   "id": "9089395f",
   "metadata": {},
   "outputs": [
    {
     "data": {
      "text/html": [
       "\n",
       "            <div>\n",
       "                <p><b>SparkSession - hive</b></p>\n",
       "                \n",
       "        <div>\n",
       "            <p><b>SparkContext</b></p>\n",
       "\n",
       "            <p><a href=\"http://g02.itversity.com:4040\">Spark UI</a></p>\n",
       "\n",
       "            <dl>\n",
       "              <dt>Version</dt>\n",
       "                <dd><code>v2.4.7</code></dd>\n",
       "              <dt>Master</dt>\n",
       "                <dd><code>yarn</code></dd>\n",
       "              <dt>AppName</dt>\n",
       "                <dd><code>itv005077-Week-7-Assignment</code></dd>\n",
       "            </dl>\n",
       "        </div>\n",
       "        \n",
       "            </div>\n",
       "        "
      ],
      "text/plain": [
       "<pyspark.sql.session.SparkSession at 0x7f0afc9e62e8>"
      ]
     },
     "execution_count": 5,
     "metadata": {},
     "output_type": "execute_result"
    }
   ],
   "source": [
    "spark"
   ]
  },
  {
   "cell_type": "code",
   "execution_count": 6,
   "id": "b123f586",
   "metadata": {},
   "outputs": [
    {
     "name": "stdout",
     "output_type": "stream",
     "text": [
      "1001,2023-05-15,1001,49.99\n",
      "1002,2023-05-16,1002,29.99\n",
      "1003,2023-05-17,1003,39.99\n",
      "1004,2023-05-18,1004,19.99\n",
      "1005,2023-05-19,1005,24.99\n",
      "1001,2023-05-20,1002,29.99\n",
      "1002,2023-05-21,1003,39.99\n",
      "1003,2023-05-22,1004,19.99\n",
      "1004,2023-05-23,1005,24.99\n",
      "1005,2023-05-24,1001,49.99\n",
      "1001,2023-05-25,1003,39.99\n",
      "1002,2023-05-26,1004,19.99\n",
      "1003,2023-05-27,1005,24.99\n",
      "1004,2023-05-28,1001,49.99\n",
      "1005,2023-05-29,1002,29.99\n",
      "1001,2023-05-30,1003,39.99\n",
      "1002,2023-05-31,1004,19.99\n",
      "1003,2023-06-01,1005,24.99\n",
      "1004,2023-06-02,1001,49.99\n",
      "1005,2023-06-03,1002,29.99\n",
      "1001,2023-06-04,1003,39.99\n",
      "1002,2023-06-05,1004,19.99\n",
      "1003,2023-06-06,1005,24.99\n",
      "1004,2023-06-07,1001,49.99\n",
      "1005,2023-06-08,1002,29.99\n",
      "1006,2023-06-01,1001,49.99\n",
      "1007,2023-06-02,1002,29.99\n",
      "1008,2023-06-03,1003,39.99\n",
      "1009,2023-06-04,1004,19.99\n",
      "1010,2023-06-05,1005,24.99\n",
      "1006,2023-06-06,1002,29.99\n",
      "1007,2023-06-07,1003,39.99\n",
      "1008,2023-06-08,1004,19.99\n",
      "1009,2023-06-09,1005,24.99\n",
      "1010,2023-06-10,1001,49.99\n",
      "1006,2023-06-11,1003,39.99\n",
      "1007,2023-06-12,1004,19.99\n",
      "1008,2023-06-13,1005,24.9"
     ]
    }
   ],
   "source": [
    "! hadoop fs -head /public/trendytech/datasets/cust_transf.csv"
   ]
  },
  {
   "cell_type": "code",
   "execution_count": 7,
   "id": "8f2801f1",
   "metadata": {},
   "outputs": [],
   "source": [
    "from pyspark.sql import types as T\n",
    "from pyspark.sql import functions as F"
   ]
  },
  {
   "cell_type": "code",
   "execution_count": 8,
   "id": "45ea34cd",
   "metadata": {},
   "outputs": [],
   "source": [
    "schema = T.StructType([\n",
    "    T.StructField('customer_id', T.IntegerType()),\n",
    "    T.StructField('purchase_date', T.DateType()),\n",
    "    T.StructField('product_id', T.IntegerType()),\n",
    "    T.StructField('amount', T.FloatType()),\n",
    "])"
   ]
  },
  {
   "cell_type": "code",
   "execution_count": 9,
   "id": "3ca4a822",
   "metadata": {},
   "outputs": [],
   "source": [
    "df_cust = spark.read \\\n",
    "    .format('csv') \\\n",
    "    .schema(schema) \\\n",
    "    .option('mode', 'failfast') \\\n",
    "    .load('/public/trendytech/datasets/cust_transf.csv')"
   ]
  },
  {
   "cell_type": "code",
   "execution_count": 10,
   "id": "2343bac7",
   "metadata": {},
   "outputs": [
    {
     "name": "stdout",
     "output_type": "stream",
     "text": [
      "+-----------+-------------+----------+------+\n",
      "|customer_id|purchase_date|product_id|amount|\n",
      "+-----------+-------------+----------+------+\n",
      "|       1001|   2023-05-15|      1001| 49.99|\n",
      "|       1002|   2023-05-16|      1002| 29.99|\n",
      "|       1003|   2023-05-17|      1003| 39.99|\n",
      "|       1004|   2023-05-18|      1004| 19.99|\n",
      "|       1005|   2023-05-19|      1005| 24.99|\n",
      "+-----------+-------------+----------+------+\n",
      "only showing top 5 rows\n",
      "\n"
     ]
    }
   ],
   "source": [
    "df_cust.show(5)"
   ]
  },
  {
   "cell_type": "code",
   "execution_count": 11,
   "id": "e661f245",
   "metadata": {},
   "outputs": [],
   "source": [
    "df_cust_nocache = df_cust \\\n",
    "    .groupBy('product_id') \\\n",
    "    .agg(F.sum('amount').alias('revenue')) \\\n",
    "    .orderBy(F.desc('revenue'))"
   ]
  },
  {
   "cell_type": "code",
   "execution_count": 12,
   "id": "7a3c5af1",
   "metadata": {},
   "outputs": [
    {
     "name": "stdout",
     "output_type": "stream",
     "text": [
      "+----------+-------------------+\n",
      "|product_id|            revenue|\n",
      "+----------+-------------------+\n",
      "|      1001|8.747870369718933E8|\n",
      "|      1003|6.997946369718933E8|\n",
      "|      1002|5.248022035947418E8|\n",
      "|      1005|4.373060035947418E8|\n",
      "|      1004|3.498098035947418E8|\n",
      "|      1015|  12537.91035079956|\n",
      "|      1014|  11492.91035079956|\n",
      "|      1013|  10447.91035079956|\n",
      "|      1012|   9402.91035079956|\n",
      "|      1011|   8357.91035079956|\n",
      "|      1010|  7312.910350799561|\n",
      "|      1009|  6267.909952163696|\n",
      "|      1008|  5222.909952163696|\n",
      "|      1007|  4177.909952163696|\n",
      "|      1006| 3132.9099521636963|\n",
      "+----------+-------------------+\n",
      "\n"
     ]
    }
   ],
   "source": [
    "df_cust_nocache.show()"
   ]
  },
  {
   "cell_type": "code",
   "execution_count": 13,
   "id": "9c46a661",
   "metadata": {},
   "outputs": [
    {
     "name": "stdout",
     "output_type": "stream",
     "text": [
      "2.2 G    6.6 G    /public/trendytech/datasets/cust_transf.csv\n",
      "263      789      /public/trendytech/datasets/customer_nested\n",
      "1.3 K    3.9 K    /public/trendytech/datasets/hospital.csv\n",
      "5.6 K    16.7 K   /public/trendytech/datasets/hotel_data.csv\n",
      "925      2.7 K    /public/trendytech/datasets/library_data.json\n",
      "24.3 M   72.9 M   /public/trendytech/datasets/logdata1m.csv\n",
      "43.9 M   131.8 M  /public/trendytech/datasets/order_data.csv\n",
      "4.5 G    13.6 G   /public/trendytech/datasets/orders\n",
      "6.7 M    20.2 M   /public/trendytech/datasets/orders.json\n",
      "292      876      /public/trendytech/datasets/orders_sample1.csv\n",
      "292      876      /public/trendytech/datasets/orders_sample2.csv\n",
      "296      888      /public/trendytech/datasets/orders_sample3.csv\n",
      "183.8 K  551.4 K  /public/trendytech/datasets/ordersorc\n",
      "513.4 K  1.5 M    /public/trendytech/datasets/ordersparquet\n",
      "1.6 K    4.7 K    /public/trendytech/datasets/sales_data.json\n",
      "324      972      /public/trendytech/datasets/train.csv\n",
      "1.3 K    4.0 K    /public/trendytech/datasets/windowdata.csv\n",
      "1.3 K    3.9 K    /public/trendytech/datasets/windowdatamodified.csv\n"
     ]
    }
   ],
   "source": [
    "!hadoop fs -du -h /public/trendytech/datasets/"
   ]
  },
  {
   "cell_type": "code",
   "execution_count": 14,
   "id": "05f049f1",
   "metadata": {},
   "outputs": [
    {
     "data": {
      "text/plain": [
       "18"
      ]
     },
     "execution_count": 14,
     "metadata": {},
     "output_type": "execute_result"
    }
   ],
   "source": [
    "df_cust.rdd.getNumPartitions()"
   ]
  },
  {
   "cell_type": "code",
   "execution_count": 15,
   "id": "3f24953c",
   "metadata": {},
   "outputs": [
    {
     "data": {
      "text/plain": [
       "15"
      ]
     },
     "execution_count": 15,
     "metadata": {},
     "output_type": "execute_result"
    }
   ],
   "source": [
    "df_cust_nocache.rdd.getNumPartitions()"
   ]
  },
  {
   "cell_type": "code",
   "execution_count": 16,
   "id": "0bbed1d3",
   "metadata": {},
   "outputs": [],
   "source": [
    "df_cust_cache = df_cust \\\n",
    "    .groupBy('product_id') \\\n",
    "    .agg(F.sum('amount').alias('revenue')) \\\n",
    "    .orderBy(F.desc('revenue')) \\\n",
    "    .cache()"
   ]
  },
  {
   "cell_type": "code",
   "execution_count": 17,
   "id": "17c87b7d",
   "metadata": {},
   "outputs": [
    {
     "name": "stdout",
     "output_type": "stream",
     "text": [
      "+----------+-------------------+\n",
      "|product_id|            revenue|\n",
      "+----------+-------------------+\n",
      "|      1001|8.747870369718933E8|\n",
      "|      1003|6.997946369718933E8|\n",
      "|      1002|5.248022035947418E8|\n",
      "|      1005|4.373060035947418E8|\n",
      "|      1004|3.498098035947418E8|\n",
      "|      1015|  12537.91035079956|\n",
      "|      1014|  11492.91035079956|\n",
      "|      1013|  10447.91035079956|\n",
      "|      1012|   9402.91035079956|\n",
      "|      1011|   8357.91035079956|\n",
      "+----------+-------------------+\n",
      "only showing top 10 rows\n",
      "\n"
     ]
    }
   ],
   "source": [
    "df_cust_cache.show(10)"
   ]
  },
  {
   "cell_type": "code",
   "execution_count": 18,
   "id": "57cad51c",
   "metadata": {},
   "outputs": [
    {
     "data": {
      "text/html": [
       "<table border='1'>\n",
       "<tr><th>product_id</th><th>revenue</th></tr>\n",
       "<tr><td>1001</td><td>8.747870369718933E8</td></tr>\n",
       "<tr><td>1003</td><td>6.997946369718933E8</td></tr>\n",
       "<tr><td>1002</td><td>5.248022035947418E8</td></tr>\n",
       "<tr><td>1005</td><td>4.373060035947418E8</td></tr>\n",
       "<tr><td>1004</td><td>3.498098035947418E8</td></tr>\n",
       "<tr><td>1015</td><td>12537.91035079956</td></tr>\n",
       "<tr><td>1014</td><td>11492.91035079956</td></tr>\n",
       "<tr><td>1013</td><td>10447.91035079956</td></tr>\n",
       "<tr><td>1012</td><td>9402.91035079956</td></tr>\n",
       "<tr><td>1011</td><td>8357.91035079956</td></tr>\n",
       "<tr><td>1010</td><td>7312.910350799561</td></tr>\n",
       "<tr><td>1009</td><td>6267.909952163696</td></tr>\n",
       "<tr><td>1008</td><td>5222.909952163696</td></tr>\n",
       "<tr><td>1007</td><td>4177.909952163696</td></tr>\n",
       "<tr><td>1006</td><td>3132.9099521636963</td></tr>\n",
       "</table>\n"
      ],
      "text/plain": [
       "+----------+-------------------+\n",
       "|product_id|            revenue|\n",
       "+----------+-------------------+\n",
       "|      1001|8.747870369718933E8|\n",
       "|      1003|6.997946369718933E8|\n",
       "|      1002|5.248022035947418E8|\n",
       "|      1005|4.373060035947418E8|\n",
       "|      1004|3.498098035947418E8|\n",
       "|      1015|  12537.91035079956|\n",
       "|      1014|  11492.91035079956|\n",
       "|      1013|  10447.91035079956|\n",
       "|      1012|   9402.91035079956|\n",
       "|      1011|   8357.91035079956|\n",
       "|      1010|  7312.910350799561|\n",
       "|      1009|  6267.909952163696|\n",
       "|      1008|  5222.909952163696|\n",
       "|      1007|  4177.909952163696|\n",
       "|      1006| 3132.9099521636963|\n",
       "+----------+-------------------+"
      ]
     },
     "execution_count": 18,
     "metadata": {},
     "output_type": "execute_result"
    }
   ],
   "source": [
    "df_cust_cache.unpersist()"
   ]
  },
  {
   "cell_type": "code",
   "execution_count": 19,
   "id": "9cf7c8ec",
   "metadata": {},
   "outputs": [],
   "source": [
    "start_date = \"2023-05-01\" \n",
    "end_date = \"2023-06-08\""
   ]
  },
  {
   "cell_type": "code",
   "execution_count": 20,
   "id": "c66fcd7a",
   "metadata": {},
   "outputs": [
    {
     "name": "stdout",
     "output_type": "stream",
     "text": [
      "root\n",
      " |-- customer_id: integer (nullable = true)\n",
      " |-- purchase_date: date (nullable = true)\n",
      " |-- product_id: integer (nullable = true)\n",
      " |-- amount: float (nullable = true)\n",
      "\n"
     ]
    }
   ],
   "source": [
    "df_cust.printSchema()"
   ]
  },
  {
   "cell_type": "code",
   "execution_count": 21,
   "id": "d4494cc8",
   "metadata": {},
   "outputs": [],
   "source": [
    "df_cust_filtered_cache = df_cust \\\n",
    "    .filter((df_cust.purchase_date >= start_date) & (df_cust['purchase_date'] <= end_date)) \\\n",
    "    .cache()"
   ]
  },
  {
   "cell_type": "code",
   "execution_count": 22,
   "id": "11bca721",
   "metadata": {},
   "outputs": [
    {
     "name": "stdout",
     "output_type": "stream",
     "text": [
      "+-----------+--------------------+\n",
      "|customer_id|             revenue|\n",
      "+-----------+--------------------+\n",
      "|       1001| 3.180884683165741E8|\n",
      "|       1004| 3.101342652822876E8|\n",
      "|       1005| 2.624090592137146E8|\n",
      "|       1003| 2.146838592137146E8|\n",
      "|       1002| 2.067296592137146E8|\n",
      "|       1011|1.2724374341640854E8|\n",
      "|       1006| 1.272385184160099E8|\n",
      "|       1012|1.1133638841640854E8|\n",
      "|       1007| 1.113311634160099E8|\n",
      "|       1013| 9.542903341640854E7|\n",
      "|       1008|  9.54238084160099E7|\n",
      "|       1015| 3.976762914623642E7|\n",
      "|       1010| 3.976240414623642E7|\n",
      "|       1014| 3.181238414623642E7|\n",
      "|       1009|3.1807159145837784E7|\n",
      "+-----------+--------------------+\n",
      "\n"
     ]
    }
   ],
   "source": [
    "df_cust_filtered_cache \\\n",
    "    .groupBy('customer_id') \\\n",
    "    .agg(F.sum('amount').alias('revenue')) \\\n",
    "    .orderBy(F.desc('revenue')) \\\n",
    "    .show()"
   ]
  },
  {
   "cell_type": "code",
   "execution_count": 23,
   "id": "2a375e0b",
   "metadata": {},
   "outputs": [
    {
     "data": {
      "text/html": [
       "<table border='1'>\n",
       "<tr><th>databaseName</th></tr>\n",
       "</table>\n"
      ],
      "text/plain": [
       "+------------+\n",
       "|databaseName|\n",
       "+------------+\n",
       "+------------+"
      ]
     },
     "execution_count": 23,
     "metadata": {},
     "output_type": "execute_result"
    }
   ],
   "source": [
    "spark.sql(\"show databases like '%itv005077%'\")"
   ]
  },
  {
   "cell_type": "code",
   "execution_count": 24,
   "id": "68556bdd",
   "metadata": {},
   "outputs": [
    {
     "data": {
      "text/html": [
       "<table border='1'>\n",
       "<tr><th></th></tr>\n",
       "</table>\n"
      ],
      "text/plain": [
       "++\n",
       "||\n",
       "++\n",
       "++"
      ]
     },
     "execution_count": 24,
     "metadata": {},
     "output_type": "execute_result"
    }
   ],
   "source": [
    "spark.sql('create database if not exists itv005077_database')"
   ]
  },
  {
   "cell_type": "code",
   "execution_count": 26,
   "id": "6335d57f",
   "metadata": {},
   "outputs": [
    {
     "data": {
      "text/html": [
       "<table border='1'>\n",
       "<tr><th></th></tr>\n",
       "</table>\n"
      ],
      "text/plain": [
       "++\n",
       "||\n",
       "++\n",
       "++"
      ]
     },
     "execution_count": 26,
     "metadata": {},
     "output_type": "execute_result"
    }
   ],
   "source": [
    "spark.sql(\"\"\"\n",
    "    CREATE TABLE IF NOT EXISTS itv005077_database.itv005077_CUST_EXTERNAL\n",
    "    (\n",
    "        CUSTOMER_ID INT,\n",
    "        PURCHASE_DATE DATE,\n",
    "        PRODUCT_ID INT,\n",
    "        AMOUNT FLOAT\n",
    "    )\n",
    "    USING CSV\n",
    "    LOCATION '/public/trendytech/datasets/cust_transf.csv'\n",
    "\"\"\")"
   ]
  },
  {
   "cell_type": "code",
   "execution_count": 27,
   "id": "4b683bdc",
   "metadata": {},
   "outputs": [
    {
     "name": "stdout",
     "output_type": "stream",
     "text": [
      "+-----------+-------------+----------+------+\n",
      "|CUSTOMER_ID|PURCHASE_DATE|PRODUCT_ID|AMOUNT|\n",
      "+-----------+-------------+----------+------+\n",
      "|       1001|   2023-05-15|      1001| 49.99|\n",
      "|       1002|   2023-05-16|      1002| 29.99|\n",
      "|       1003|   2023-05-17|      1003| 39.99|\n",
      "|       1004|   2023-05-18|      1004| 19.99|\n",
      "|       1005|   2023-05-19|      1005| 24.99|\n",
      "|       1001|   2023-05-20|      1002| 29.99|\n",
      "|       1002|   2023-05-21|      1003| 39.99|\n",
      "|       1003|   2023-05-22|      1004| 19.99|\n",
      "|       1004|   2023-05-23|      1005| 24.99|\n",
      "|       1005|   2023-05-24|      1001| 49.99|\n",
      "+-----------+-------------+----------+------+\n",
      "only showing top 10 rows\n",
      "\n"
     ]
    }
   ],
   "source": [
    "spark.sql('select * from itv005077_database.itv005077_CUST_EXTERNAL').show(10)"
   ]
  },
  {
   "cell_type": "code",
   "execution_count": 28,
   "id": "22265919",
   "metadata": {},
   "outputs": [
    {
     "name": "stdout",
     "output_type": "stream",
     "text": [
      "+----------------------------+------------------------------------------------------------------------+-------+\n",
      "|col_name                    |data_type                                                               |comment|\n",
      "+----------------------------+------------------------------------------------------------------------+-------+\n",
      "|CUSTOMER_ID                 |int                                                                     |null   |\n",
      "|PURCHASE_DATE               |date                                                                    |null   |\n",
      "|PRODUCT_ID                  |int                                                                     |null   |\n",
      "|AMOUNT                      |float                                                                   |null   |\n",
      "|                            |                                                                        |       |\n",
      "|# Detailed Table Information|                                                                        |       |\n",
      "|Database                    |itv005077_database                                                      |       |\n",
      "|Table                       |itv005077_cust_external                                                 |       |\n",
      "|Owner                       |itv005077                                                               |       |\n",
      "|Created Time                |Sun Jun 25 15:06:11 EDT 2023                                            |       |\n",
      "|Last Access                 |Wed Dec 31 19:00:00 EST 1969                                            |       |\n",
      "|Created By                  |Spark 2.4.7                                                             |       |\n",
      "|Type                        |EXTERNAL                                                                |       |\n",
      "|Provider                    |CSV                                                                     |       |\n",
      "|Table Properties            |[transient_lastDdlTime=1687719971]                                      |       |\n",
      "|Location                    |hdfs://m01.itversity.com:9000/public/trendytech/datasets/cust_transf.csv|       |\n",
      "|Serde Library               |org.apache.hadoop.hive.serde2.lazy.LazySimpleSerDe                      |       |\n",
      "|InputFormat                 |org.apache.hadoop.mapred.SequenceFileInputFormat                        |       |\n",
      "|OutputFormat                |org.apache.hadoop.hive.ql.io.HiveSequenceFileOutputFormat               |       |\n",
      "|Storage Properties          |[serialization.format=1]                                                |       |\n",
      "+----------------------------+------------------------------------------------------------------------+-------+\n",
      "\n"
     ]
    }
   ],
   "source": [
    "spark.sql('DESCRIBE FORMATTED itv005077_database.itv005077_CUST_EXTERNAL').show(truncate=False)"
   ]
  },
  {
   "cell_type": "code",
   "execution_count": 29,
   "id": "4cf53be3",
   "metadata": {},
   "outputs": [
    {
     "name": "stdout",
     "output_type": "stream",
     "text": [
      "+----------+--------------------+\n",
      "|product_id|             revenue|\n",
      "+----------+--------------------+\n",
      "|      1003| 5.725592484315491E8|\n",
      "|      1001| 5.566826598912048E8|\n",
      "|      1002| 4.293836211229706E8|\n",
      "|      1004| 2.862080211229706E8|\n",
      "|      1005|2.7828563865119934E8|\n",
      "|      1015|   12537.91035079956|\n",
      "|      1014|   11492.91035079956|\n",
      "|      1013|   10447.91035079956|\n",
      "|      1012|    9402.91035079956|\n",
      "|      1011|    8357.91035079956|\n",
      "+----------+--------------------+\n",
      "only showing top 10 rows\n",
      "\n"
     ]
    }
   ],
   "source": [
    "spark.sql(f'''\n",
    "    select product_id, sum(amount) as revenue\n",
    "    from itv005077_database.itv005077_CUST_EXTERNAL\n",
    "    where purchase_date >= to_date('{start_date}') and purchase_date <= to_date('{end_date}')\n",
    "    group by product_id\n",
    "    order by revenue desc\n",
    "''').show(10)"
   ]
  },
  {
   "cell_type": "code",
   "execution_count": 30,
   "id": "b62f9f3a",
   "metadata": {},
   "outputs": [
    {
     "data": {
      "text/html": [
       "<table border='1'>\n",
       "<tr><th></th></tr>\n",
       "</table>\n"
      ],
      "text/plain": [
       "++\n",
       "||\n",
       "++\n",
       "++"
      ]
     },
     "execution_count": 30,
     "metadata": {},
     "output_type": "execute_result"
    }
   ],
   "source": [
    "spark.sql('drop table itv005077_database.itv005077_CUST_EXTERNAL')"
   ]
  },
  {
   "cell_type": "code",
   "execution_count": 31,
   "id": "f8bbd4df",
   "metadata": {},
   "outputs": [
    {
     "data": {
      "text/html": [
       "<table border='1'>\n",
       "<tr><th></th></tr>\n",
       "</table>\n"
      ],
      "text/plain": [
       "++\n",
       "||\n",
       "++\n",
       "++"
      ]
     },
     "execution_count": 31,
     "metadata": {},
     "output_type": "execute_result"
    }
   ],
   "source": [
    "spark.sql('drop database itv005077_database')"
   ]
  },
  {
   "cell_type": "code",
   "execution_count": 32,
   "id": "73e30dc5",
   "metadata": {},
   "outputs": [
    {
     "name": "stdout",
     "output_type": "stream",
     "text": [
      "+-----------+-------------+----------+------+\n",
      "|customer_id|purchase_date|product_id|amount|\n",
      "+-----------+-------------+----------+------+\n",
      "|       1001|   2023-05-15|      1001| 49.99|\n",
      "|       1002|   2023-05-16|      1002| 29.99|\n",
      "|       1003|   2023-05-17|      1003| 39.99|\n",
      "|       1004|   2023-05-18|      1004| 19.99|\n",
      "|       1005|   2023-05-19|      1005| 24.99|\n",
      "+-----------+-------------+----------+------+\n",
      "only showing top 5 rows\n",
      "\n"
     ]
    }
   ],
   "source": [
    "df_cust.show(5)"
   ]
  },
  {
   "cell_type": "code",
   "execution_count": 38,
   "id": "8d63da5f",
   "metadata": {},
   "outputs": [
    {
     "name": "stdout",
     "output_type": "stream",
     "text": [
      "+-----------+-----------------+\n",
      "|customer_id|count(month_year)|\n",
      "+-----------+-----------------+\n",
      "|       1005|          7954200|\n",
      "|       1008|          4772729|\n",
      "|       1010|          4772729|\n",
      "|       1002|          7954200|\n",
      "|       1015|          4772729|\n",
      "|       1001|          7954200|\n",
      "|       1006|          4772729|\n",
      "|       1007|          4772729|\n",
      "|       1003|          7954200|\n",
      "|       1014|          4772729|\n",
      "|       1004|          7954200|\n",
      "|       1011|          4772729|\n",
      "|       1012|          4772729|\n",
      "|       1013|          4772729|\n",
      "|       1009|          4772729|\n",
      "+-----------+-----------------+\n",
      "\n"
     ]
    }
   ],
   "source": [
    "df_cust \\\n",
    "    .withColumn('month_year', F.date_format('purchase_date', 'YYYY-MM')) \\\n",
    "    .groupBy('customer_id') \\\n",
    "    .agg(F.count('month_year')).show()"
   ]
  },
  {
   "cell_type": "code",
   "execution_count": 39,
   "id": "dedfd272",
   "metadata": {},
   "outputs": [],
   "source": [
    "spark.stop()"
   ]
  }
 ],
 "metadata": {
  "kernelspec": {
   "display_name": "Pyspark 2",
   "language": "python",
   "name": "pyspark2"
  },
  "language_info": {
   "codemirror_mode": {
    "name": "ipython",
    "version": 3
   },
   "file_extension": ".py",
   "mimetype": "text/x-python",
   "name": "python",
   "nbconvert_exporter": "python",
   "pygments_lexer": "ipython3",
   "version": "3.6.12"
  }
 },
 "nbformat": 4,
 "nbformat_minor": 5
}
