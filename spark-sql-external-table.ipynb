{
 "cells": [
  {
   "cell_type": "code",
   "execution_count": 68,
   "id": "370fde24",
   "metadata": {},
   "outputs": [
    {
     "name": "stdout",
     "output_type": "stream",
     "text": [
      "Found 1 items\n",
      "-rw-r--r--   2 hdfs supergroup     953719 2021-01-28 08:59 /public/retail_db/customers/part-00000\n"
     ]
    }
   ],
   "source": [
    "!hadoop fs -ls /public/retail_db/customers"
   ]
  },
  {
   "cell_type": "code",
   "execution_count": 69,
   "id": "2445c8e5",
   "metadata": {},
   "outputs": [
    {
     "name": "stdout",
     "output_type": "stream",
     "text": [
      "1,Richard,Hernandez,XXXXXXXXX,XXXXXXXXX,6303 Heather Plaza,Brownsville,TX,78521\n",
      "2,Mary,Barrett,XXXXXXXXX,XXXXXXXXX,9526 Noble Embers Ridge,Littleton,CO,80126\n",
      "3,Ann,Smith,XXXXXXXXX,XXXXXXXXX,3422 Blue Pioneer Bend,Caguas,PR,00725\n",
      "4,Mary,Jones,XXXXXXXXX,XXXXXXXXX,8324 Little Common,San Marcos,CA,92069\n",
      "5,Robert,Hudson,XXXXXXXXX,XXXXXXXXX,\"10 Crystal River Mall \",Caguas,PR,00725\n",
      "6,Mary,Smith,XXXXXXXXX,XXXXXXXXX,3151 Sleepy Quail Promenade,Passaic,NJ,07055\n",
      "7,Melissa,Wilcox,XXXXXXXXX,XXXXXXXXX,9453 High Concession,Caguas,PR,00725\n",
      "8,Megan,Smith,XXXXXXXXX,XXXXXXXXX,3047 Foggy Forest Plaza,Lawrence,MA,01841\n",
      "9,Mary,Perez,XXXXXXXXX,XXXXXXXXX,3616 Quaking Street,Caguas,PR,00725\n",
      "10,Melissa,Smith,XXXXXXXXX,XXXXXXXXX,8598 Harvest Beacon Plaza,Stafford,VA,22554\n",
      "11,Mary,Huffman,XXXXXXXXX,XXXXXXXXX,3169 Stony Woods,Caguas,PR,00725\n",
      "12,Christopher,Smith,XXXXXXXXX,XXXXXXXXX,5594 Jagged Embers By-pass,San Antonio,TX,78227\n",
      "13,Mary,Baldwin,XXXXXXXXX,XXXXXXXXX,7922 Iron Oak Gardens,Caguas,PR,00725\n",
      "14,Katherine,Smith,XXXXXXXXX,XXXXXXX"
     ]
    }
   ],
   "source": [
    "!hadoop fs -head /public/retail_db/customers/part-00000"
   ]
  },
  {
   "cell_type": "markdown",
   "id": "662bb054",
   "metadata": {},
   "source": [
    "## External Table Example"
   ]
  },
  {
   "cell_type": "code",
   "execution_count": 10,
   "id": "8377eaf5",
   "metadata": {},
   "outputs": [],
   "source": [
    "import getpass as gp\n",
    "from pyspark.sql import SparkSession, functions as F"
   ]
  },
  {
   "cell_type": "code",
   "execution_count": 11,
   "id": "846e5a79",
   "metadata": {},
   "outputs": [],
   "source": [
    "user = gp.getuser()\n",
    "spark = SparkSession.builder \\\n",
    "            .appName(f'{user}-external-table-example') \\\n",
    "            .master('yarn') \\\n",
    "            .config('spark.sql.warehouse.dir', f'/user/{user}/warehouse') \\\n",
    "            .config('spark.sql.catalogImplementation', 'hive') \\\n",
    "            .enableHiveSupport() \\\n",
    "            .getOrCreate()"
   ]
  },
  {
   "cell_type": "code",
   "execution_count": 12,
   "id": "7fa6fa2f",
   "metadata": {},
   "outputs": [
    {
     "data": {
      "text/html": [
       "\n",
       "            <div>\n",
       "                <p><b>SparkSession - hive</b></p>\n",
       "                \n",
       "        <div>\n",
       "            <p><b>SparkContext</b></p>\n",
       "\n",
       "            <p><a href=\"http://g02.itversity.com:4040\">Spark UI</a></p>\n",
       "\n",
       "            <dl>\n",
       "              <dt>Version</dt>\n",
       "                <dd><code>v3.0.1</code></dd>\n",
       "              <dt>Master</dt>\n",
       "                <dd><code>yarn</code></dd>\n",
       "              <dt>AppName</dt>\n",
       "                <dd><code>itv005077-external-table-example</code></dd>\n",
       "            </dl>\n",
       "        </div>\n",
       "        \n",
       "            </div>\n",
       "        "
      ],
      "text/plain": [
       "<pyspark.sql.session.SparkSession at 0x7f271c804358>"
      ]
     },
     "execution_count": 12,
     "metadata": {},
     "output_type": "execute_result"
    }
   ],
   "source": [
    "spark"
   ]
  },
  {
   "cell_type": "code",
   "execution_count": 15,
   "id": "ff71f6fd",
   "metadata": {},
   "outputs": [
    {
     "name": "stdout",
     "output_type": "stream",
     "text": [
      "+---------+\n",
      "|namespace|\n",
      "+---------+\n",
      "+---------+\n",
      "\n"
     ]
    }
   ],
   "source": [
    "spark.sql(\"show databases\").filter(f'namespace like \"%{user}%\"').show()"
   ]
  },
  {
   "cell_type": "code",
   "execution_count": 19,
   "id": "9720d08d",
   "metadata": {},
   "outputs": [
    {
     "data": {
      "text/html": [
       "<table border='1'>\n",
       "<tr><th></th></tr>\n",
       "</table>\n"
      ],
      "text/plain": [
       "++\n",
       "||\n",
       "++\n",
       "++"
      ]
     },
     "execution_count": 19,
     "metadata": {},
     "output_type": "execute_result"
    }
   ],
   "source": [
    "spark.sql(f\"create database if not exists {user}_database\")"
   ]
  },
  {
   "cell_type": "code",
   "execution_count": 20,
   "id": "f9ede044",
   "metadata": {},
   "outputs": [
    {
     "name": "stdout",
     "output_type": "stream",
     "text": [
      "+------------------+\n",
      "|         namespace|\n",
      "+------------------+\n",
      "|itv005077_database|\n",
      "+------------------+\n",
      "\n"
     ]
    }
   ],
   "source": [
    "spark.sql(\"show databases\").filter(f'namespace like \"%{user}%\"').show()"
   ]
  },
  {
   "cell_type": "code",
   "execution_count": 21,
   "id": "b0897a76",
   "metadata": {},
   "outputs": [
    {
     "data": {
      "text/html": [
       "<table border='1'>\n",
       "<tr><th></th></tr>\n",
       "</table>\n"
      ],
      "text/plain": [
       "++\n",
       "||\n",
       "++\n",
       "++"
      ]
     },
     "execution_count": 21,
     "metadata": {},
     "output_type": "execute_result"
    }
   ],
   "source": [
    "spark.sql(f'use {user}_database')"
   ]
  },
  {
   "cell_type": "code",
   "execution_count": 70,
   "id": "17e4f012",
   "metadata": {},
   "outputs": [
    {
     "data": {
      "text/html": [
       "<table border='1'>\n",
       "<tr><th>database</th><th>tableName</th><th>isTemporary</th></tr>\n",
       "</table>\n"
      ],
      "text/plain": [
       "+--------+---------+-----------+\n",
       "|database|tableName|isTemporary|\n",
       "+--------+---------+-----------+\n",
       "+--------+---------+-----------+"
      ]
     },
     "execution_count": 70,
     "metadata": {},
     "output_type": "execute_result"
    }
   ],
   "source": [
    "spark.sql(\"show tables\")"
   ]
  },
  {
   "cell_type": "code",
   "execution_count": 71,
   "id": "0145b076",
   "metadata": {},
   "outputs": [
    {
     "data": {
      "text/html": [
       "<table border='1'>\n",
       "<tr><th></th></tr>\n",
       "</table>\n"
      ],
      "text/plain": [
       "++\n",
       "||\n",
       "++\n",
       "++"
      ]
     },
     "execution_count": 71,
     "metadata": {},
     "output_type": "execute_result"
    }
   ],
   "source": [
    "spark.sql(f\"create table {user}_database.customers \\\n",
    "          ( \\\n",
    "              cust_id integer, \\\n",
    "              first_name string, \\\n",
    "              last_name string, \\\n",
    "              email string, \\\n",
    "              phone string, \\\n",
    "              address_line string, \\\n",
    "              city string, \\\n",
    "              state string, \\\n",
    "              zip integer \\\n",
    "            ) \\\n",
    "        using csv \\\n",
    "        location '/public/retail_db/customers'\")"
   ]
  },
  {
   "cell_type": "code",
   "execution_count": 72,
   "id": "a00f4247",
   "metadata": {},
   "outputs": [
    {
     "data": {
      "text/html": [
       "<table border='1'>\n",
       "<tr><th>database</th><th>tableName</th><th>isTemporary</th></tr>\n",
       "<tr><td>itv005077_database</td><td>customers</td><td>false</td></tr>\n",
       "</table>\n"
      ],
      "text/plain": [
       "+------------------+---------+-----------+\n",
       "|          database|tableName|isTemporary|\n",
       "+------------------+---------+-----------+\n",
       "|itv005077_database|customers|      false|\n",
       "+------------------+---------+-----------+"
      ]
     },
     "execution_count": 72,
     "metadata": {},
     "output_type": "execute_result"
    }
   ],
   "source": [
    "spark.sql(\"show tables\")"
   ]
  },
  {
   "cell_type": "code",
   "execution_count": 73,
   "id": "a9407546",
   "metadata": {},
   "outputs": [
    {
     "name": "stdout",
     "output_type": "stream",
     "text": [
      "+----------------------------+--------------------------------------------------------+-------+\n",
      "|col_name                    |data_type                                               |comment|\n",
      "+----------------------------+--------------------------------------------------------+-------+\n",
      "|cust_id                     |int                                                     |null   |\n",
      "|first_name                  |string                                                  |null   |\n",
      "|last_name                   |string                                                  |null   |\n",
      "|email                       |string                                                  |null   |\n",
      "|phone                       |string                                                  |null   |\n",
      "|address_line                |string                                                  |null   |\n",
      "|city                        |string                                                  |null   |\n",
      "|state                       |string                                                  |null   |\n",
      "|zip                         |int                                                     |null   |\n",
      "|                            |                                                        |       |\n",
      "|# Detailed Table Information|                                                        |       |\n",
      "|Database                    |itv005077_database                                      |       |\n",
      "|Table                       |customers                                               |       |\n",
      "|Owner                       |itv005077                                               |       |\n",
      "|Created Time                |Tue May 16 13:53:14 EDT 2023                            |       |\n",
      "|Last Access                 |UNKNOWN                                                 |       |\n",
      "|Created By                  |Spark 3.0.1                                             |       |\n",
      "|Type                        |EXTERNAL                                                |       |\n",
      "|Provider                    |csv                                                     |       |\n",
      "|Location                    |hdfs://m01.itversity.com:9000/public/retail_db/customers|       |\n",
      "+----------------------------+--------------------------------------------------------+-------+\n",
      "only showing top 20 rows\n",
      "\n"
     ]
    }
   ],
   "source": [
    "spark.sql(f\"describe extended {user}_database.customers\").show(truncate= False)"
   ]
  },
  {
   "cell_type": "code",
   "execution_count": 74,
   "id": "56675cb7",
   "metadata": {},
   "outputs": [
    {
     "name": "stdout",
     "output_type": "stream",
     "text": [
      "+-------+----------+---------+---------+---------+--------------------+-----------+-----+-----+\n",
      "|cust_id|first_name|last_name|    email|    phone|        address_line|       city|state|  zip|\n",
      "+-------+----------+---------+---------+---------+--------------------+-----------+-----+-----+\n",
      "|      1|   Richard|Hernandez|XXXXXXXXX|XXXXXXXXX|  6303 Heather Plaza|Brownsville|   TX|78521|\n",
      "|      2|      Mary|  Barrett|XXXXXXXXX|XXXXXXXXX|9526 Noble Embers...|  Littleton|   CO|80126|\n",
      "|      3|       Ann|    Smith|XXXXXXXXX|XXXXXXXXX|3422 Blue Pioneer...|     Caguas|   PR|  725|\n",
      "|      4|      Mary|    Jones|XXXXXXXXX|XXXXXXXXX|  8324 Little Common| San Marcos|   CA|92069|\n",
      "|      5|    Robert|   Hudson|XXXXXXXXX|XXXXXXXXX|10 Crystal River ...|     Caguas|   PR|  725|\n",
      "|      6|      Mary|    Smith|XXXXXXXXX|XXXXXXXXX|3151 Sleepy Quail...|    Passaic|   NJ| 7055|\n",
      "|      7|   Melissa|   Wilcox|XXXXXXXXX|XXXXXXXXX|9453 High Concession|     Caguas|   PR|  725|\n",
      "|      8|     Megan|    Smith|XXXXXXXXX|XXXXXXXXX|3047 Foggy Forest...|   Lawrence|   MA| 1841|\n",
      "|      9|      Mary|    Perez|XXXXXXXXX|XXXXXXXXX| 3616 Quaking Street|     Caguas|   PR|  725|\n",
      "|     10|   Melissa|    Smith|XXXXXXXXX|XXXXXXXXX|8598 Harvest Beac...|   Stafford|   VA|22554|\n",
      "+-------+----------+---------+---------+---------+--------------------+-----------+-----+-----+\n",
      "\n"
     ]
    }
   ],
   "source": [
    "spark.sql(\"select * from customers\").limit(10).show()"
   ]
  },
  {
   "cell_type": "code",
   "execution_count": 76,
   "id": "b54bbdac",
   "metadata": {},
   "outputs": [
    {
     "name": "stdout",
     "output_type": "stream",
     "text": [
      "Found 1 items\n",
      "drwxr-xr-x   - itv005077 supergroup          0 2023-05-16 13:53 warehouse/itv005077_database.db\n"
     ]
    }
   ],
   "source": [
    "!hadoop fs -ls warehouse"
   ]
  },
  {
   "cell_type": "code",
   "execution_count": 77,
   "id": "662f5b39",
   "metadata": {},
   "outputs": [],
   "source": [
    "!hadoop fs -ls warehouse/itv005077_database.db"
   ]
  },
  {
   "cell_type": "code",
   "execution_count": 78,
   "id": "c1bc9ac0",
   "metadata": {},
   "outputs": [
    {
     "data": {
      "text/html": [
       "<table border='1'>\n",
       "<tr><th></th></tr>\n",
       "</table>\n"
      ],
      "text/plain": [
       "++\n",
       "||\n",
       "++\n",
       "++"
      ]
     },
     "execution_count": 78,
     "metadata": {},
     "output_type": "execute_result"
    }
   ],
   "source": [
    "spark.sql(\"drop table customers\")"
   ]
  },
  {
   "cell_type": "code",
   "execution_count": 79,
   "id": "867e90a7",
   "metadata": {},
   "outputs": [
    {
     "name": "stdout",
     "output_type": "stream",
     "text": [
      "Found 1 items\n",
      "-rw-r--r--   2 hdfs supergroup     953719 2021-01-28 08:59 /public/retail_db/customers/part-00000\n"
     ]
    }
   ],
   "source": [
    "!hadoop fs -ls /public/retail_db/customers"
   ]
  },
  {
   "cell_type": "code",
   "execution_count": 81,
   "id": "223b9dd2",
   "metadata": {},
   "outputs": [
    {
     "data": {
      "text/html": [
       "<table border='1'>\n",
       "<tr><th></th></tr>\n",
       "</table>\n"
      ],
      "text/plain": [
       "++\n",
       "||\n",
       "++\n",
       "++"
      ]
     },
     "execution_count": 81,
     "metadata": {},
     "output_type": "execute_result"
    }
   ],
   "source": [
    "spark.sql(\"drop database itv005077_database\")"
   ]
  },
  {
   "cell_type": "code",
   "execution_count": 82,
   "id": "3994e234",
   "metadata": {},
   "outputs": [],
   "source": [
    "!hadoop fs -ls warehouse"
   ]
  },
  {
   "cell_type": "code",
   "execution_count": 83,
   "id": "b7fc46c8",
   "metadata": {},
   "outputs": [
    {
     "name": "stdout",
     "output_type": "stream",
     "text": [
      "Found 3 items\n",
      "drwx------   - itv005077 supergroup          0 2023-04-15 10:10 .Trash\n",
      "drwxr-xr-x   - itv005077 supergroup          0 2023-05-16 13:18 .sparkStaging\n",
      "drwxr-xr-x   - itv005077 supergroup          0 2023-05-16 13:56 warehouse\n"
     ]
    }
   ],
   "source": [
    "!hadoop fs -ls"
   ]
  },
  {
   "cell_type": "code",
   "execution_count": 84,
   "id": "7f103153",
   "metadata": {},
   "outputs": [],
   "source": [
    "spark.stop()"
   ]
  }
 ],
 "metadata": {
  "kernelspec": {
   "display_name": "Pyspark 3",
   "language": "python",
   "name": "pyspark3"
  },
  "language_info": {
   "codemirror_mode": {
    "name": "ipython",
    "version": 3
   },
   "file_extension": ".py",
   "mimetype": "text/x-python",
   "name": "python",
   "nbconvert_exporter": "python",
   "pygments_lexer": "ipython3",
   "version": "3.6.12"
  }
 },
 "nbformat": 4,
 "nbformat_minor": 5
}
