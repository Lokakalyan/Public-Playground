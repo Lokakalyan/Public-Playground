{
 "cells": [
  {
   "cell_type": "code",
   "execution_count": 1,
   "id": "72088a92",
   "metadata": {},
   "outputs": [
    {
     "name": "stdout",
     "output_type": "stream",
     "text": [
      "Found 5 items\n",
      "-rw-r--r--   2 hdfs supergroup          0 2021-01-28 11:23 /public/hr_db/employees/_SUCCESS\n",
      "-rw-r--r--   2 hdfs supergroup       2123 2021-01-28 09:29 /public/hr_db/employees/part-m-00000\n",
      "-rw-r--r--   2 hdfs supergroup       2159 2021-01-28 10:54 /public/hr_db/employees/part-m-00001\n",
      "-rw-r--r--   2 hdfs supergroup       2145 2021-01-28 08:16 /public/hr_db/employees/part-m-00002\n",
      "-rw-r--r--   2 hdfs supergroup       2121 2021-01-28 09:29 /public/hr_db/employees/part-m-00003\n"
     ]
    }
   ],
   "source": [
    "!hadoop fs -ls /public/hr_db/employees/"
   ]
  },
  {
   "cell_type": "code",
   "execution_count": 2,
   "id": "bffee42e",
   "metadata": {},
   "outputs": [
    {
     "name": "stdout",
     "output_type": "stream",
     "text": [
      "154\tNanette\tCambrault\tNCAMBRAU\t011.44.1344.987668\t1998-12-09\tSA_REP\t7500.00\t0.20\t145\t80\n",
      "155\tOliver\tTuvault\tOTUVAULT\t011.44.1344.486508\t1999-11-23\tSA_REP\t7000.00\t0.15\t145\t80\n",
      "156\tJanette\tKing\tJKING\t011.44.1345.429268\t1996-01-30\tSA_REP\t10000.00\t0.35\t146\t80\n",
      "157\tPatrick\tSully\tPSULLY\t011.44.1345.929268\t1996-03-04\tSA_REP\t9500.00\t0.35\t146\t80\n",
      "158\tAllan\tMcEwen\tAMCEWEN\t011.44.1345.829268\t1996-08-01\tSA_REP\t9000.00\t0.35\t146\t80\n",
      "159\tLindsey\tSmith\tLSMITH\t011.44.1345.729268\t1997-03-10\tSA_REP\t8000.00\t0.30\t146\t80\n",
      "160\tLouise\tDoran\tLDORAN\t011.44.1345.629268\t1997-12-15\tSA_REP\t7500.00\t0.30\t146\t80\n",
      "161\tSarath\tSewall\tSSEWALL\t011.44.1345.529268\t1998-11-03\tSA_REP\t7000.00\t0.25\t146\t80\n",
      "162\tClara\tVishney\tCVISHNEY\t011.44.1346.129268\t1997-11-11\tSA_REP\t10500.00\t0.25\t147\t80\n",
      "163\tDanielle\tGreene\tDGREENE\t011.44.1346.229268\t1999-03-19\tSA_REP\t9500.00\t0.15\t147\t80\n",
      "164\tMattea\tMarvins\tMMARVINS\t011.44.1346.329268\t2000-01-24\tSA_REP\t7200.00\t0.10\t147\t80\n",
      "165\tDavid\tLee\tDLEE\t011.44.1346.529268\t2000-02-23\tSA_REP\t6800.00\t0.10\t147\t80\n",
      "166\tSundar\tAnde\tSANDE\t011.44."
     ]
    }
   ],
   "source": [
    "!hadoop fs -head /public/hr_db/employees/part-m-00002"
   ]
  },
  {
   "cell_type": "code",
   "execution_count": 3,
   "id": "c9e979a1",
   "metadata": {},
   "outputs": [],
   "source": [
    "from pyspark.sql import SparkSession\n",
    "import getpass as gp\n",
    "from pyspark.sql import types as T, functions as F, Window as W"
   ]
  },
  {
   "cell_type": "code",
   "execution_count": 4,
   "id": "3d01ffbd",
   "metadata": {},
   "outputs": [
    {
     "data": {
      "text/plain": [
       "'itv005077'"
      ]
     },
     "execution_count": 4,
     "metadata": {},
     "output_type": "execute_result"
    }
   ],
   "source": [
    "user = gp.getuser()\n",
    "user"
   ]
  },
  {
   "cell_type": "code",
   "execution_count": 5,
   "id": "85333f5a",
   "metadata": {},
   "outputs": [],
   "source": [
    "spark = SparkSession.builder \\\n",
    "    .appName(f'{user}-WEEK-8_Assignment') \\\n",
    "    .master('yarn') \\\n",
    "    .config('spark.sql.warehouse.dir', f'/user/{user}/warehouse') \\\n",
    "    .config('spark.sql.catalogImplementation', 'hive') \\\n",
    "    .enableHiveSupport() \\\n",
    "    .getOrCreate()"
   ]
  },
  {
   "cell_type": "code",
   "execution_count": 6,
   "id": "97f5f643",
   "metadata": {},
   "outputs": [
    {
     "data": {
      "text/html": [
       "\n",
       "            <div>\n",
       "                <p><b>SparkSession - hive</b></p>\n",
       "                \n",
       "        <div>\n",
       "            <p><b>SparkContext</b></p>\n",
       "\n",
       "            <p><a href=\"http://g02.itversity.com:4040\">Spark UI</a></p>\n",
       "\n",
       "            <dl>\n",
       "              <dt>Version</dt>\n",
       "                <dd><code>v3.0.1</code></dd>\n",
       "              <dt>Master</dt>\n",
       "                <dd><code>yarn</code></dd>\n",
       "              <dt>AppName</dt>\n",
       "                <dd><code>itv005077-WEEK-8_Assignment</code></dd>\n",
       "            </dl>\n",
       "        </div>\n",
       "        \n",
       "            </div>\n",
       "        "
      ],
      "text/plain": [
       "<pyspark.sql.session.SparkSession at 0x7f3903b7bbe0>"
      ]
     },
     "execution_count": 6,
     "metadata": {},
     "output_type": "execute_result"
    }
   ],
   "source": [
    "spark"
   ]
  },
  {
   "cell_type": "code",
   "execution_count": 7,
   "id": "c788716b",
   "metadata": {},
   "outputs": [],
   "source": [
    "schema = T.StructType([\n",
    "    T.StructField('employee_id', T.IntegerType()),\n",
    "    T.StructField('first_name', T.StringType()),\n",
    "    T.StructField('last_name', T.StringType()),\n",
    "    T.StructField('email', T.StringType()),\n",
    "    T.StructField('phone_number', T.StringType()),\n",
    "    T.StructField('hire_date', T.DateType()),\n",
    "    T.StructField('job_id', T.StringType()),\n",
    "    T.StructField('salary', T.FloatType()),\n",
    "    T.StructField('commission_pct', T.FloatType()),\n",
    "    T.StructField('manager_id', T.IntegerType()),\n",
    "    T.StructField('department_id', T.IntegerType()),\n",
    "])"
   ]
  },
  {
   "cell_type": "code",
   "execution_count": 8,
   "id": "22fc1954",
   "metadata": {},
   "outputs": [],
   "source": [
    "df_employee = spark.read \\\n",
    "    .format('csv') \\\n",
    "    .option('delimiter', '\\t') \\\n",
    "    .schema(schema) \\\n",
    "    .load('/public/hr_db/employees')"
   ]
  },
  {
   "cell_type": "code",
   "execution_count": 9,
   "id": "d666296b",
   "metadata": {},
   "outputs": [
    {
     "name": "stdout",
     "output_type": "stream",
     "text": [
      "root\n",
      " |-- employee_id: integer (nullable = true)\n",
      " |-- first_name: string (nullable = true)\n",
      " |-- last_name: string (nullable = true)\n",
      " |-- email: string (nullable = true)\n",
      " |-- phone_number: string (nullable = true)\n",
      " |-- hire_date: date (nullable = true)\n",
      " |-- job_id: string (nullable = true)\n",
      " |-- salary: float (nullable = true)\n",
      " |-- commission_pct: float (nullable = true)\n",
      " |-- manager_id: integer (nullable = true)\n",
      " |-- department_id: integer (nullable = true)\n",
      "\n"
     ]
    }
   ],
   "source": [
    "df_employee.printSchema()"
   ]
  },
  {
   "cell_type": "code",
   "execution_count": 10,
   "id": "58224a4a",
   "metadata": {},
   "outputs": [
    {
     "data": {
      "text/plain": [
       "107"
      ]
     },
     "execution_count": 10,
     "metadata": {},
     "output_type": "execute_result"
    }
   ],
   "source": [
    "df_employee.count()"
   ]
  },
  {
   "cell_type": "code",
   "execution_count": 11,
   "id": "c59c4b73",
   "metadata": {},
   "outputs": [
    {
     "data": {
      "text/plain": [
       "[Row(employee_id=205, first_name='Shelley', last_name='Higgins', email='SHIGGINS', phone_number='515.123.8080', hire_date=datetime.date(1994, 6, 7), job_id='AC_MGR', salary=12000.0, commission_pct=None, manager_id=101, department_id=110),\n",
       " Row(employee_id=206, first_name='William', last_name='Gietz', email='WGIETZ', phone_number='515.123.8181', hire_date=datetime.date(1994, 6, 7), job_id='AC_ACCOUNT', salary=8300.0, commission_pct=None, manager_id=205, department_id=110)]"
      ]
     },
     "execution_count": 11,
     "metadata": {},
     "output_type": "execute_result"
    }
   ],
   "source": [
    "df_employee.tail(2)"
   ]
  },
  {
   "cell_type": "code",
   "execution_count": 12,
   "id": "d0497c8d",
   "metadata": {},
   "outputs": [
    {
     "name": "stdout",
     "output_type": "stream",
     "text": [
      "+-----------+----------+----------+--------+------------+----------+--------+------+--------------+----------+-------------+\n",
      "|employee_id|first_name| last_name|   email|phone_number| hire_date|  job_id|salary|commission_pct|manager_id|department_id|\n",
      "+-----------+----------+----------+--------+------------+----------+--------+------+--------------+----------+-------------+\n",
      "|        127|     James|    Landry| JLANDRY|650.124.1334|1999-01-14|ST_CLERK|2400.0|          null|       120|           50|\n",
      "|        128|    Steven|    Markle| SMARKLE|650.124.1434|2000-03-08|ST_CLERK|2200.0|          null|       120|           50|\n",
      "|        129|     Laura|    Bissot| LBISSOT|650.124.5234|1997-08-20|ST_CLERK|3300.0|          null|       121|           50|\n",
      "|        130|     Mozhe|  Atkinson|MATKINSO|650.124.6234|1997-10-30|ST_CLERK|2800.0|          null|       121|           50|\n",
      "|        131|     James|    Marlow| JAMRLOW|650.124.7234|1997-02-16|ST_CLERK|2500.0|          null|       121|           50|\n",
      "|        132|        TJ|     Olson| TJOLSON|650.124.8234|1999-04-10|ST_CLERK|2100.0|          null|       121|           50|\n",
      "|        133|     Jason|    Mallin| JMALLIN|650.127.1934|1996-06-14|ST_CLERK|3300.0|          null|       122|           50|\n",
      "|        134|   Michael|    Rogers| MROGERS|650.127.1834|1998-08-26|ST_CLERK|2900.0|          null|       122|           50|\n",
      "|        135|        Ki|       Gee|    KGEE|650.127.1734|1999-12-12|ST_CLERK|2400.0|          null|       122|           50|\n",
      "|        136|     Hazel|Philtanker|HPHILTAN|650.127.1634|2000-02-06|ST_CLERK|2200.0|          null|       122|           50|\n",
      "+-----------+----------+----------+--------+------------+----------+--------+------+--------------+----------+-------------+\n",
      "only showing top 10 rows\n",
      "\n"
     ]
    }
   ],
   "source": [
    "df_employee.show(10)"
   ]
  },
  {
   "cell_type": "markdown",
   "id": "f0b7111a",
   "metadata": {},
   "source": [
    "## Programatic Approach"
   ]
  },
  {
   "cell_type": "code",
   "execution_count": 13,
   "id": "0966726e",
   "metadata": {},
   "outputs": [
    {
     "name": "stdout",
     "output_type": "stream",
     "text": [
      "+---------+-------------+------------+-----------+-------------------+\n",
      "|row_count|manager_count|total_salary|unique_dept|  average_commision|\n",
      "+---------+-------------+------------+-----------+-------------------+\n",
      "|      107|          106|    691400.0|         11|0.22285714660372052|\n",
      "+---------+-------------+------------+-----------+-------------------+\n",
      "\n"
     ]
    }
   ],
   "source": [
    "df_employee.select(\n",
    "    F.count('*').alias('row_count'),\n",
    "    F.count('manager_id').alias('manager_count'),\n",
    "    F.sum('salary').alias('total_salary'),\n",
    "    F.countDistinct('department_id').alias('unique_dept'),\n",
    "    F.avg('commission_pct').alias('average_commision')\n",
    ").show()"
   ]
  },
  {
   "cell_type": "markdown",
   "id": "8e4650e4",
   "metadata": {},
   "source": [
    "## SQL Approach"
   ]
  },
  {
   "cell_type": "code",
   "execution_count": 14,
   "id": "aaf149d7",
   "metadata": {},
   "outputs": [
    {
     "name": "stdout",
     "output_type": "stream",
     "text": [
      "+---------+-------------+------------+-----------+-------------------+\n",
      "|row_count|manager_count|total_salary|unique_dept| average_commission|\n",
      "+---------+-------------+------------+-----------+-------------------+\n",
      "|      107|          106|    691400.0|         11|0.22285714660372052|\n",
      "+---------+-------------+------------+-----------+-------------------+\n",
      "\n"
     ]
    }
   ],
   "source": [
    "df_employee.select(\n",
    "    F.expr(\"count(*) as row_count\"),\n",
    "    F.expr(\"count(manager_id) as manager_count\"),\n",
    "    F.expr(\"sum(salary) as total_salary\"),\n",
    "    F.expr(\"count(distinct(department_id)) as unique_dept\"),\n",
    "    F.expr(\"avg(commission_pct) as average_commission\")\n",
    ").show()"
   ]
  },
  {
   "cell_type": "markdown",
   "id": "850d419b",
   "metadata": {},
   "source": [
    "## SPARK SQL Approach"
   ]
  },
  {
   "cell_type": "code",
   "execution_count": 15,
   "id": "391beb88",
   "metadata": {},
   "outputs": [],
   "source": [
    "df_employee.createOrReplaceTempView('employees')"
   ]
  },
  {
   "cell_type": "code",
   "execution_count": 16,
   "id": "2fe6cbd9",
   "metadata": {},
   "outputs": [
    {
     "name": "stdout",
     "output_type": "stream",
     "text": [
      "+---------+-------------+------------+-----------+-------------------+\n",
      "|row_count|manager_count|total_salary|unique_dept| average_commission|\n",
      "+---------+-------------+------------+-----------+-------------------+\n",
      "|      107|          106|    691400.0|         11|0.22285714660372052|\n",
      "+---------+-------------+------------+-----------+-------------------+\n",
      "\n"
     ]
    }
   ],
   "source": [
    "spark.sql('''\n",
    "    SELECT count(*) as row_count,\n",
    "           count(manager_id) as manager_count,\n",
    "           sum(salary) as total_salary,\n",
    "           count(distinct(department_id)) as unique_dept,\n",
    "           avg(commission_pct) as average_commission\n",
    "    FROM employees\n",
    "''').show()"
   ]
  },
  {
   "cell_type": "code",
   "execution_count": 17,
   "id": "df776b8b",
   "metadata": {},
   "outputs": [],
   "source": [
    "spark.stop()"
   ]
  }
 ],
 "metadata": {
  "kernelspec": {
   "display_name": "Pyspark 3",
   "language": "python",
   "name": "pyspark3"
  },
  "language_info": {
   "codemirror_mode": {
    "name": "ipython",
    "version": 3
   },
   "file_extension": ".py",
   "mimetype": "text/x-python",
   "name": "python",
   "nbconvert_exporter": "python",
   "pygments_lexer": "ipython3",
   "version": "3.6.12"
  }
 },
 "nbformat": 4,
 "nbformat_minor": 5
}
