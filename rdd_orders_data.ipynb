{
 "cells": [
  {
   "cell_type": "markdown",
   "id": "6963aa66",
   "metadata": {},
   "source": [
    "## Import Modules"
   ]
  },
  {
   "cell_type": "code",
   "execution_count": 1,
   "id": "49b4a9ba",
   "metadata": {},
   "outputs": [],
   "source": [
    "import getpass as gp\n",
    "from pyspark.sql import SparkSession"
   ]
  },
  {
   "cell_type": "code",
   "execution_count": 2,
   "id": "f5f7fa74",
   "metadata": {},
   "outputs": [],
   "source": [
    "user_name = gp.getuser()\n",
    "spark = SparkSession.builder \\\n",
    "    .appName(f'{user_name}-orders-data-program') \\\n",
    "    .master('yarn') \\\n",
    "    .getOrCreate()"
   ]
  },
  {
   "cell_type": "code",
   "execution_count": 3,
   "id": "74fd324a",
   "metadata": {},
   "outputs": [
    {
     "data": {
      "text/html": [
       "\n",
       "            <div>\n",
       "                <p><b>SparkSession - in-memory</b></p>\n",
       "                \n",
       "        <div>\n",
       "            <p><b>SparkContext</b></p>\n",
       "\n",
       "            <p><a href=\"http://g02.itversity.com:4041\">Spark UI</a></p>\n",
       "\n",
       "            <dl>\n",
       "              <dt>Version</dt>\n",
       "                <dd><code>v3.0.1</code></dd>\n",
       "              <dt>Master</dt>\n",
       "                <dd><code>yarn</code></dd>\n",
       "              <dt>AppName</dt>\n",
       "                <dd><code>itv005077-orders-data-program</code></dd>\n",
       "            </dl>\n",
       "        </div>\n",
       "        \n",
       "            </div>\n",
       "        "
      ],
      "text/plain": [
       "<pyspark.sql.session.SparkSession at 0x7f2bb1543128>"
      ]
     },
     "execution_count": 3,
     "metadata": {},
     "output_type": "execute_result"
    }
   ],
   "source": [
    "spark"
   ]
  },
  {
   "cell_type": "code",
   "execution_count": 4,
   "id": "e26a23af",
   "metadata": {},
   "outputs": [],
   "source": [
    "sc = spark.sparkContext"
   ]
  },
  {
   "cell_type": "code",
   "execution_count": 5,
   "id": "36557f89",
   "metadata": {},
   "outputs": [
    {
     "data": {
      "text/html": [
       "\n",
       "        <div>\n",
       "            <p><b>SparkContext</b></p>\n",
       "\n",
       "            <p><a href=\"http://g02.itversity.com:4041\">Spark UI</a></p>\n",
       "\n",
       "            <dl>\n",
       "              <dt>Version</dt>\n",
       "                <dd><code>v3.0.1</code></dd>\n",
       "              <dt>Master</dt>\n",
       "                <dd><code>yarn</code></dd>\n",
       "              <dt>AppName</dt>\n",
       "                <dd><code>itv005077-orders-data-program</code></dd>\n",
       "            </dl>\n",
       "        </div>\n",
       "        "
      ],
      "text/plain": [
       "<SparkContext master=yarn appName=itv005077-orders-data-program>"
      ]
     },
     "execution_count": 5,
     "metadata": {},
     "output_type": "execute_result"
    }
   ],
   "source": [
    "sc"
   ]
  },
  {
   "cell_type": "code",
   "execution_count": 6,
   "id": "9cb53fb5",
   "metadata": {},
   "outputs": [
    {
     "name": "stdout",
     "output_type": "stream",
     "text": [
      "1,2013-07-25 00:00:00.0,11599,CLOSED\n",
      "2,2013-07-25 00:00:00.0,256,PENDING_PAYMENT\n",
      "3,2013-07-25 00:00:00.0,12111,COMPLETE\n",
      "4,2013-07-25 00:00:00.0,8827,CLOSED\n",
      "5,2013-07-25 00:00:00.0,11318,COMPLETE\n",
      "6,2013-07-25 00:00:00.0,7130,COMPLETE\n",
      "7,2013-07-25 00:00:00.0,4530,COMPLETE\n",
      "8,2013-07-25 00:00:00.0,2911,PROCESSING\n",
      "9,2013-07-25 00:00:00.0,5657,PENDING_PAYMENT\n",
      "10,2013-07-25 00:00:00.0,5648,PENDING_PAYMENT\n",
      "11,2013-07-25 00:00:00.0,918,PAYMENT_REVIEW\n",
      "12,2013-07-25 00:00:00.0,1837,CLOSED\n",
      "13,2013-07-25 00:00:00.0,9149,PENDING_PAYMENT\n",
      "14,2013-07-25 00:00:00.0,9842,PROCESSING\n",
      "15,2013-07-25 00:00:00.0,2568,COMPLETE\n",
      "16,2013-07-25 00:00:00.0,7276,PENDING_PAYMENT\n",
      "17,2013-07-25 00:00:00.0,2667,COMPLETE\n",
      "18,2013-07-25 00:00:00.0,1205,CLOSED\n",
      "19,2013-07-25 00:00:00.0,9488,PENDING_PAYMENT\n",
      "20,2013-07-25 00:00:00.0,9198,PROCESSING\n",
      "21,2013-07-25 00:00:00.0,2711,PENDING\n",
      "22,2013-07-25 00:00:00.0,333,COMPLETE\n",
      "23,2013-07-25 00:00:00.0,4367,PENDING_PAYMENT\n",
      "24,2013-07-25 00:00:00.0,11441,CLOSED\n",
      "25,2013-07-25 00:00:00.0,9503,CLOSED\n",
      "26,2013-0"
     ]
    }
   ],
   "source": [
    "!hadoop fs -head /public/retail_db/orders/part-00000"
   ]
  },
  {
   "cell_type": "code",
   "execution_count": 7,
   "id": "20859ad2",
   "metadata": {},
   "outputs": [],
   "source": [
    "INPUT_FILE_PATH = f'/public/retail_db/orders'"
   ]
  },
  {
   "cell_type": "markdown",
   "id": "4b94b03e",
   "metadata": {},
   "source": [
    "### Create Base File RDD"
   ]
  },
  {
   "cell_type": "code",
   "execution_count": 8,
   "id": "2b2b341c",
   "metadata": {},
   "outputs": [],
   "source": [
    "rdd_file_input = sc.textFile(f'{INPUT_FILE_PATH}/*')"
   ]
  },
  {
   "cell_type": "code",
   "execution_count": 9,
   "id": "6c9ec1a4",
   "metadata": {},
   "outputs": [
    {
     "data": {
      "text/plain": [
       "['1,2013-07-25 00:00:00.0,11599,CLOSED',\n",
       " '2,2013-07-25 00:00:00.0,256,PENDING_PAYMENT',\n",
       " '3,2013-07-25 00:00:00.0,12111,COMPLETE',\n",
       " '4,2013-07-25 00:00:00.0,8827,CLOSED',\n",
       " '5,2013-07-25 00:00:00.0,11318,COMPLETE']"
      ]
     },
     "execution_count": 9,
     "metadata": {},
     "output_type": "execute_result"
    }
   ],
   "source": [
    "rdd_file_input.take(5)"
   ]
  },
  {
   "cell_type": "code",
   "execution_count": 10,
   "id": "9ac18685",
   "metadata": {},
   "outputs": [],
   "source": [
    "rdd_split_file_input = rdd_file_input.map(lambda x : x.split(','))"
   ]
  },
  {
   "cell_type": "code",
   "execution_count": 11,
   "id": "646e05b9",
   "metadata": {},
   "outputs": [
    {
     "data": {
      "text/plain": [
       "[['1', '2013-07-25 00:00:00.0', '11599', 'CLOSED'],\n",
       " ['2', '2013-07-25 00:00:00.0', '256', 'PENDING_PAYMENT'],\n",
       " ['3', '2013-07-25 00:00:00.0', '12111', 'COMPLETE'],\n",
       " ['4', '2013-07-25 00:00:00.0', '8827', 'CLOSED'],\n",
       " ['5', '2013-07-25 00:00:00.0', '11318', 'COMPLETE']]"
      ]
     },
     "execution_count": 11,
     "metadata": {},
     "output_type": "execute_result"
    }
   ],
   "source": [
    "rdd_split_file_input.take(5)"
   ]
  },
  {
   "cell_type": "markdown",
   "id": "a67b8ebf",
   "metadata": {},
   "source": [
    "### 1. Count of Orders for each STATUS"
   ]
  },
  {
   "cell_type": "code",
   "execution_count": 12,
   "id": "738bfab4",
   "metadata": {},
   "outputs": [],
   "source": [
    "rdd_orders_file_input = rdd_split_file_input.map(lambda x : x[-1])"
   ]
  },
  {
   "cell_type": "code",
   "execution_count": 13,
   "id": "b713de63",
   "metadata": {},
   "outputs": [
    {
     "data": {
      "text/plain": [
       "['CLOSED', 'PENDING_PAYMENT', 'COMPLETE', 'CLOSED', 'COMPLETE']"
      ]
     },
     "execution_count": 13,
     "metadata": {},
     "output_type": "execute_result"
    }
   ],
   "source": [
    "rdd_orders_file_input.take(5)"
   ]
  },
  {
   "cell_type": "markdown",
   "id": "251ae7b6",
   "metadata": {},
   "source": [
    "#### a. using countByValue() action -> local dict"
   ]
  },
  {
   "cell_type": "code",
   "execution_count": 14,
   "id": "24190b0b",
   "metadata": {},
   "outputs": [],
   "source": [
    "output = rdd_orders_file_input.countByValue()"
   ]
  },
  {
   "cell_type": "code",
   "execution_count": 15,
   "id": "dcd29551",
   "metadata": {},
   "outputs": [
    {
     "data": {
      "text/plain": [
       "defaultdict(int,\n",
       "            {'CLOSED': 7556,\n",
       "             'PENDING_PAYMENT': 15030,\n",
       "             'COMPLETE': 22899,\n",
       "             'PROCESSING': 8275,\n",
       "             'PAYMENT_REVIEW': 729,\n",
       "             'PENDING': 7610,\n",
       "             'ON_HOLD': 3798,\n",
       "             'CANCELED': 1428,\n",
       "             'SUSPECTED_FRAUD': 1558})"
      ]
     },
     "execution_count": 15,
     "metadata": {},
     "output_type": "execute_result"
    }
   ],
   "source": [
    "output"
   ]
  },
  {
   "cell_type": "code",
   "execution_count": 16,
   "id": "0a48d6f2",
   "metadata": {},
   "outputs": [],
   "source": [
    "output = [(key, value) for key, value in output.items()]"
   ]
  },
  {
   "cell_type": "code",
   "execution_count": 17,
   "id": "714fff45",
   "metadata": {},
   "outputs": [
    {
     "data": {
      "text/plain": [
       "[('CLOSED', 7556),\n",
       " ('PENDING_PAYMENT', 15030),\n",
       " ('COMPLETE', 22899),\n",
       " ('PROCESSING', 8275),\n",
       " ('PAYMENT_REVIEW', 729),\n",
       " ('PENDING', 7610),\n",
       " ('ON_HOLD', 3798),\n",
       " ('CANCELED', 1428),\n",
       " ('SUSPECTED_FRAUD', 1558)]"
      ]
     },
     "execution_count": 17,
     "metadata": {},
     "output_type": "execute_result"
    }
   ],
   "source": [
    "output"
   ]
  },
  {
   "cell_type": "code",
   "execution_count": 18,
   "id": "15270509",
   "metadata": {},
   "outputs": [],
   "source": [
    "output.sort(key = lambda x : x[1], reverse = True)"
   ]
  },
  {
   "cell_type": "code",
   "execution_count": 19,
   "id": "6cf030b0",
   "metadata": {},
   "outputs": [
    {
     "data": {
      "text/plain": [
       "[('COMPLETE', 22899),\n",
       " ('PENDING_PAYMENT', 15030),\n",
       " ('PROCESSING', 8275),\n",
       " ('PENDING', 7610),\n",
       " ('CLOSED', 7556),\n",
       " ('ON_HOLD', 3798),\n",
       " ('SUSPECTED_FRAUD', 1558),\n",
       " ('CANCELED', 1428),\n",
       " ('PAYMENT_REVIEW', 729)]"
      ]
     },
     "execution_count": 19,
     "metadata": {},
     "output_type": "execute_result"
    }
   ],
   "source": [
    "output"
   ]
  },
  {
   "cell_type": "markdown",
   "id": "3810f981",
   "metadata": {},
   "source": [
    "#### b. using map() and reduceByKey() transformation -> distributed rdd"
   ]
  },
  {
   "cell_type": "code",
   "execution_count": 20,
   "id": "ecd505a2",
   "metadata": {},
   "outputs": [],
   "source": [
    "rdd_orders_file_input = rdd_split_file_input.map(lambda x : (x[-1],1))"
   ]
  },
  {
   "cell_type": "code",
   "execution_count": 21,
   "id": "0314a035",
   "metadata": {},
   "outputs": [
    {
     "data": {
      "text/plain": [
       "[('CLOSED', 1),\n",
       " ('PENDING_PAYMENT', 1),\n",
       " ('COMPLETE', 1),\n",
       " ('CLOSED', 1),\n",
       " ('COMPLETE', 1)]"
      ]
     },
     "execution_count": 21,
     "metadata": {},
     "output_type": "execute_result"
    }
   ],
   "source": [
    "rdd_orders_file_input.take(5)"
   ]
  },
  {
   "cell_type": "code",
   "execution_count": 22,
   "id": "58b24680",
   "metadata": {},
   "outputs": [],
   "source": [
    "rdd_reduce_orders = rdd_orders_file_input.reduceByKey(lambda x,y : x+y)"
   ]
  },
  {
   "cell_type": "code",
   "execution_count": 23,
   "id": "45256633",
   "metadata": {},
   "outputs": [
    {
     "data": {
      "text/plain": [
       "[('CLOSED', 7556),\n",
       " ('CANCELED', 1428),\n",
       " ('PENDING_PAYMENT', 15030),\n",
       " ('COMPLETE', 22899),\n",
       " ('PROCESSING', 8275),\n",
       " ('PAYMENT_REVIEW', 729),\n",
       " ('PENDING', 7610),\n",
       " ('ON_HOLD', 3798),\n",
       " ('SUSPECTED_FRAUD', 1558)]"
      ]
     },
     "execution_count": 23,
     "metadata": {},
     "output_type": "execute_result"
    }
   ],
   "source": [
    "rdd_reduce_orders.take(10)"
   ]
  },
  {
   "cell_type": "code",
   "execution_count": 24,
   "id": "0dcd769c",
   "metadata": {},
   "outputs": [],
   "source": [
    "# sort by ascending order of count\n",
    "rdd_sorted_orders = rdd_reduce_orders.sortBy(lambda x : x[1])"
   ]
  },
  {
   "cell_type": "code",
   "execution_count": 25,
   "id": "96217f7e",
   "metadata": {},
   "outputs": [
    {
     "data": {
      "text/plain": [
       "[('PAYMENT_REVIEW', 729),\n",
       " ('CANCELED', 1428),\n",
       " ('SUSPECTED_FRAUD', 1558),\n",
       " ('ON_HOLD', 3798),\n",
       " ('CLOSED', 7556),\n",
       " ('PENDING', 7610),\n",
       " ('PROCESSING', 8275),\n",
       " ('PENDING_PAYMENT', 15030),\n",
       " ('COMPLETE', 22899)]"
      ]
     },
     "execution_count": 25,
     "metadata": {},
     "output_type": "execute_result"
    }
   ],
   "source": [
    "rdd_sorted_orders.take(10)"
   ]
  },
  {
   "cell_type": "code",
   "execution_count": 26,
   "id": "ea087a10",
   "metadata": {},
   "outputs": [],
   "source": [
    "# sort by descending order of count\n",
    "rdd_sorted_orders = rdd_reduce_orders.sortBy(lambda x : x[1], False)"
   ]
  },
  {
   "cell_type": "code",
   "execution_count": 27,
   "id": "7b3a43d0",
   "metadata": {},
   "outputs": [
    {
     "data": {
      "text/plain": [
       "[('COMPLETE', 22899),\n",
       " ('PENDING_PAYMENT', 15030),\n",
       " ('PROCESSING', 8275),\n",
       " ('PENDING', 7610),\n",
       " ('CLOSED', 7556),\n",
       " ('ON_HOLD', 3798),\n",
       " ('SUSPECTED_FRAUD', 1558),\n",
       " ('CANCELED', 1428),\n",
       " ('PAYMENT_REVIEW', 729)]"
      ]
     },
     "execution_count": 27,
     "metadata": {},
     "output_type": "execute_result"
    }
   ],
   "source": [
    "rdd_sorted_orders.take(10)"
   ]
  },
  {
   "cell_type": "markdown",
   "id": "aa08fa95",
   "metadata": {},
   "source": [
    "### 2. Find top 10 CUSTOMERS who has placed maximum orders"
   ]
  },
  {
   "cell_type": "code",
   "execution_count": 28,
   "id": "7b3615e9",
   "metadata": {},
   "outputs": [
    {
     "data": {
      "text/plain": [
       "[['1', '2013-07-25 00:00:00.0', '11599', 'CLOSED'],\n",
       " ['2', '2013-07-25 00:00:00.0', '256', 'PENDING_PAYMENT'],\n",
       " ['3', '2013-07-25 00:00:00.0', '12111', 'COMPLETE'],\n",
       " ['4', '2013-07-25 00:00:00.0', '8827', 'CLOSED'],\n",
       " ['5', '2013-07-25 00:00:00.0', '11318', 'COMPLETE']]"
      ]
     },
     "execution_count": 28,
     "metadata": {},
     "output_type": "execute_result"
    }
   ],
   "source": [
    "rdd_split_file_input.take(5)"
   ]
  },
  {
   "cell_type": "code",
   "execution_count": 29,
   "id": "45190b1b",
   "metadata": {},
   "outputs": [],
   "source": [
    "rdd_customer_input = rdd_split_file_input.map(lambda x : (x[2],1))"
   ]
  },
  {
   "cell_type": "code",
   "execution_count": 30,
   "id": "5e480871",
   "metadata": {},
   "outputs": [
    {
     "data": {
      "text/plain": [
       "[('11599', 1), ('256', 1), ('12111', 1), ('8827', 1), ('11318', 1)]"
      ]
     },
     "execution_count": 30,
     "metadata": {},
     "output_type": "execute_result"
    }
   ],
   "source": [
    "rdd_customer_input.take(5)"
   ]
  },
  {
   "cell_type": "code",
   "execution_count": 31,
   "id": "4a1137cc",
   "metadata": {},
   "outputs": [],
   "source": [
    "rdd_reduce_customers = rdd_customer_input.reduceByKey(lambda x,y : x+y)"
   ]
  },
  {
   "cell_type": "code",
   "execution_count": 32,
   "id": "c83cece0",
   "metadata": {},
   "outputs": [
    {
     "data": {
      "text/plain": [
       "[('256', 10),\n",
       " ('12111', 6),\n",
       " ('11318', 6),\n",
       " ('7130', 7),\n",
       " ('2911', 6),\n",
       " ('5657', 12),\n",
       " ('9149', 4),\n",
       " ('9842', 7),\n",
       " ('7276', 5),\n",
       " ('9488', 7)]"
      ]
     },
     "execution_count": 32,
     "metadata": {},
     "output_type": "execute_result"
    }
   ],
   "source": [
    "rdd_reduce_customers.take(10)"
   ]
  },
  {
   "cell_type": "code",
   "execution_count": 33,
   "id": "8f0b6fd5",
   "metadata": {},
   "outputs": [],
   "source": [
    "# sort by descending order of count\n",
    "rdd_sorted_customers = rdd_reduce_customers.sortBy(lambda x : x[1], False)"
   ]
  },
  {
   "cell_type": "code",
   "execution_count": 34,
   "id": "13dab36a",
   "metadata": {},
   "outputs": [
    {
     "data": {
      "text/plain": [
       "[('5897', 16),\n",
       " ('6316', 16),\n",
       " ('12431', 16),\n",
       " ('569', 16),\n",
       " ('4320', 15),\n",
       " ('221', 15),\n",
       " ('5624', 15),\n",
       " ('5283', 15),\n",
       " ('12284', 15),\n",
       " ('5654', 15)]"
      ]
     },
     "execution_count": 34,
     "metadata": {},
     "output_type": "execute_result"
    }
   ],
   "source": [
    "rdd_sorted_customers.take(10)"
   ]
  },
  {
   "cell_type": "markdown",
   "id": "3d7fb7e9",
   "metadata": {},
   "source": [
    "### 3. Find DISTINCT count of customers"
   ]
  },
  {
   "cell_type": "code",
   "execution_count": 35,
   "id": "a22fe06b",
   "metadata": {},
   "outputs": [
    {
     "data": {
      "text/plain": [
       "[['1', '2013-07-25 00:00:00.0', '11599', 'CLOSED'],\n",
       " ['2', '2013-07-25 00:00:00.0', '256', 'PENDING_PAYMENT'],\n",
       " ['3', '2013-07-25 00:00:00.0', '12111', 'COMPLETE'],\n",
       " ['4', '2013-07-25 00:00:00.0', '8827', 'CLOSED'],\n",
       " ['5', '2013-07-25 00:00:00.0', '11318', 'COMPLETE']]"
      ]
     },
     "execution_count": 35,
     "metadata": {},
     "output_type": "execute_result"
    }
   ],
   "source": [
    "rdd_split_file_input.take(5)"
   ]
  },
  {
   "cell_type": "code",
   "execution_count": 36,
   "id": "22356f7d",
   "metadata": {},
   "outputs": [],
   "source": [
    "rdd_customer_input = rdd_split_file_input.map(lambda x : x[2])"
   ]
  },
  {
   "cell_type": "code",
   "execution_count": 37,
   "id": "b17341e1",
   "metadata": {},
   "outputs": [
    {
     "data": {
      "text/plain": [
       "['11599', '256', '12111', '8827', '11318']"
      ]
     },
     "execution_count": 37,
     "metadata": {},
     "output_type": "execute_result"
    }
   ],
   "source": [
    "rdd_customer_input.take(5)"
   ]
  },
  {
   "cell_type": "code",
   "execution_count": 38,
   "id": "62bbbe2a",
   "metadata": {},
   "outputs": [],
   "source": [
    "# distinct() - to get all the distinct values in a rdd\n",
    "rdd_distinct_customers = rdd_customer_input.distinct()"
   ]
  },
  {
   "cell_type": "code",
   "execution_count": 39,
   "id": "e3ad631f",
   "metadata": {},
   "outputs": [
    {
     "data": {
      "text/plain": [
       "['256', '12111', '11318', '7130', '2911']"
      ]
     },
     "execution_count": 39,
     "metadata": {},
     "output_type": "execute_result"
    }
   ],
   "source": [
    "rdd_distinct_customers.take(5)"
   ]
  },
  {
   "cell_type": "code",
   "execution_count": 40,
   "id": "0fcbf39b",
   "metadata": {},
   "outputs": [],
   "source": [
    "# count() - to get the count of items in a rdd (equivalent to len())\n",
    "count = rdd_distinct_customers.count()"
   ]
  },
  {
   "cell_type": "code",
   "execution_count": 41,
   "id": "3c1ecdd9",
   "metadata": {},
   "outputs": [
    {
     "data": {
      "text/plain": [
       "12405"
      ]
     },
     "execution_count": 41,
     "metadata": {},
     "output_type": "execute_result"
    }
   ],
   "source": [
    "count"
   ]
  },
  {
   "cell_type": "markdown",
   "id": "c6a75477",
   "metadata": {},
   "source": [
    "### 4. Find top 10 CUSTOMERS whose orders are CLOSED"
   ]
  },
  {
   "cell_type": "code",
   "execution_count": 42,
   "id": "87a4637c",
   "metadata": {},
   "outputs": [
    {
     "data": {
      "text/plain": [
       "[['1', '2013-07-25 00:00:00.0', '11599', 'CLOSED'],\n",
       " ['2', '2013-07-25 00:00:00.0', '256', 'PENDING_PAYMENT'],\n",
       " ['3', '2013-07-25 00:00:00.0', '12111', 'COMPLETE'],\n",
       " ['4', '2013-07-25 00:00:00.0', '8827', 'CLOSED'],\n",
       " ['5', '2013-07-25 00:00:00.0', '11318', 'COMPLETE']]"
      ]
     },
     "execution_count": 42,
     "metadata": {},
     "output_type": "execute_result"
    }
   ],
   "source": [
    "rdd_split_file_input.take(5)"
   ]
  },
  {
   "cell_type": "code",
   "execution_count": 43,
   "id": "48dcc292",
   "metadata": {},
   "outputs": [],
   "source": [
    "# filter(COND) - keeps items which match the condition\n",
    "rdd_filter_closed = rdd_split_file_input.filter(lambda x : x[-1] == 'CLOSED')"
   ]
  },
  {
   "cell_type": "code",
   "execution_count": 44,
   "id": "4e04df02",
   "metadata": {},
   "outputs": [
    {
     "data": {
      "text/plain": [
       "[['1', '2013-07-25 00:00:00.0', '11599', 'CLOSED'],\n",
       " ['4', '2013-07-25 00:00:00.0', '8827', 'CLOSED'],\n",
       " ['12', '2013-07-25 00:00:00.0', '1837', 'CLOSED'],\n",
       " ['18', '2013-07-25 00:00:00.0', '1205', 'CLOSED'],\n",
       " ['24', '2013-07-25 00:00:00.0', '11441', 'CLOSED'],\n",
       " ['25', '2013-07-25 00:00:00.0', '9503', 'CLOSED'],\n",
       " ['37', '2013-07-25 00:00:00.0', '5863', 'CLOSED'],\n",
       " ['51', '2013-07-25 00:00:00.0', '12271', 'CLOSED'],\n",
       " ['57', '2013-07-25 00:00:00.0', '7073', 'CLOSED'],\n",
       " ['61', '2013-07-25 00:00:00.0', '4791', 'CLOSED']]"
      ]
     },
     "execution_count": 44,
     "metadata": {},
     "output_type": "execute_result"
    }
   ],
   "source": [
    "rdd_filter_closed.take(10)"
   ]
  },
  {
   "cell_type": "code",
   "execution_count": 45,
   "id": "c88f83d6",
   "metadata": {},
   "outputs": [],
   "source": [
    "rdd_customer_input = rdd_filter_closed.map(lambda x : (x[2],1))"
   ]
  },
  {
   "cell_type": "code",
   "execution_count": 46,
   "id": "4dc249bf",
   "metadata": {},
   "outputs": [
    {
     "data": {
      "text/plain": [
       "[('11599', 1),\n",
       " ('8827', 1),\n",
       " ('1837', 1),\n",
       " ('1205', 1),\n",
       " ('11441', 1),\n",
       " ('9503', 1),\n",
       " ('5863', 1),\n",
       " ('12271', 1),\n",
       " ('7073', 1),\n",
       " ('4791', 1)]"
      ]
     },
     "execution_count": 46,
     "metadata": {},
     "output_type": "execute_result"
    }
   ],
   "source": [
    "rdd_customer_input.take(10)"
   ]
  },
  {
   "cell_type": "code",
   "execution_count": 47,
   "id": "862de11e",
   "metadata": {},
   "outputs": [],
   "source": [
    "rdd_reduce_customers = rdd_customer_input.reduceByKey(lambda x,y : x+y)"
   ]
  },
  {
   "cell_type": "code",
   "execution_count": 48,
   "id": "c92d15a8",
   "metadata": {},
   "outputs": [
    {
     "data": {
      "text/plain": [
       "[('5863', 1),\n",
       " ('12271', 2),\n",
       " ('7073', 1),\n",
       " ('3065', 2),\n",
       " ('5116', 2),\n",
       " ('8763', 1),\n",
       " ('10604', 2),\n",
       " ('16', 1),\n",
       " ('9055', 3),\n",
       " ('10372', 3)]"
      ]
     },
     "execution_count": 48,
     "metadata": {},
     "output_type": "execute_result"
    }
   ],
   "source": [
    "rdd_reduce_customers.take(10)"
   ]
  },
  {
   "cell_type": "code",
   "execution_count": 49,
   "id": "af72d369",
   "metadata": {},
   "outputs": [],
   "source": [
    "rdd_sorted_customers = rdd_reduce_customers.sortBy(lambda x : x[-1], False)"
   ]
  },
  {
   "cell_type": "code",
   "execution_count": 50,
   "id": "23c60e72",
   "metadata": {},
   "outputs": [
    {
     "data": {
      "text/plain": [
       "[('1833', 6),\n",
       " ('1363', 5),\n",
       " ('1687', 5),\n",
       " ('5493', 5),\n",
       " ('5011', 4),\n",
       " ('8974', 4),\n",
       " ('2321', 4),\n",
       " ('3736', 4),\n",
       " ('8368', 4),\n",
       " ('2236', 4)]"
      ]
     },
     "execution_count": 50,
     "metadata": {},
     "output_type": "execute_result"
    }
   ],
   "source": [
    "rdd_sorted_customers.take(10)"
   ]
  },
  {
   "cell_type": "code",
   "execution_count": 51,
   "id": "ebc58445",
   "metadata": {},
   "outputs": [],
   "source": [
    "sc.stop()\n",
    "spark.stop()"
   ]
  },
  {
   "cell_type": "code",
   "execution_count": 52,
   "id": "127d5bbd",
   "metadata": {},
   "outputs": [],
   "source": [
    "# End of file"
   ]
  }
 ],
 "metadata": {
  "kernelspec": {
   "display_name": "Pyspark 3",
   "language": "python",
   "name": "pyspark3"
  },
  "language_info": {
   "codemirror_mode": {
    "name": "ipython",
    "version": 3
   },
   "file_extension": ".py",
   "mimetype": "text/x-python",
   "name": "python",
   "nbconvert_exporter": "python",
   "pygments_lexer": "ipython3",
   "version": "3.6.12"
  }
 },
 "nbformat": 4,
 "nbformat_minor": 5
}
