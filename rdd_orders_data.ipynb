{
 "cells": [
  {
   "cell_type": "markdown",
   "id": "d4fcc950",
   "metadata": {},
   "source": [
    "## Import Modules"
   ]
  },
  {
   "cell_type": "code",
   "execution_count": 1,
   "id": "002f0edf",
   "metadata": {},
   "outputs": [],
   "source": [
    "import getpass as gp\n",
    "from pyspark.sql import SparkSession"
   ]
  },
  {
   "cell_type": "code",
   "execution_count": 2,
   "id": "f485e4a7",
   "metadata": {},
   "outputs": [],
   "source": [
    "user_name = gp.getuser()\n",
    "spark = SparkSession.builder \\\n",
    "    .appName(f'{user_name}-orders-data-program') \\\n",
    "    .master('yarn') \\\n",
    "    .getOrCreate()"
   ]
  },
  {
   "cell_type": "code",
   "execution_count": 3,
   "id": "12acf2f0",
   "metadata": {},
   "outputs": [
    {
     "data": {
      "text/html": [
       "\n",
       "            <div>\n",
       "                <p><b>SparkSession - in-memory</b></p>\n",
       "                \n",
       "        <div>\n",
       "            <p><b>SparkContext</b></p>\n",
       "\n",
       "            <p><a href=\"http://g02.itversity.com:4040\">Spark UI</a></p>\n",
       "\n",
       "            <dl>\n",
       "              <dt>Version</dt>\n",
       "                <dd><code>v3.0.1</code></dd>\n",
       "              <dt>Master</dt>\n",
       "                <dd><code>yarn</code></dd>\n",
       "              <dt>AppName</dt>\n",
       "                <dd><code>itv005077-orders-data-program</code></dd>\n",
       "            </dl>\n",
       "        </div>\n",
       "        \n",
       "            </div>\n",
       "        "
      ],
      "text/plain": [
       "<pyspark.sql.session.SparkSession at 0x7f2acc6c4198>"
      ]
     },
     "execution_count": 3,
     "metadata": {},
     "output_type": "execute_result"
    }
   ],
   "source": [
    "spark"
   ]
  },
  {
   "cell_type": "code",
   "execution_count": 4,
   "id": "baf8462d",
   "metadata": {},
   "outputs": [],
   "source": [
    "sc = spark.sparkContext"
   ]
  },
  {
   "cell_type": "code",
   "execution_count": 5,
   "id": "da14e075",
   "metadata": {},
   "outputs": [
    {
     "data": {
      "text/html": [
       "\n",
       "        <div>\n",
       "            <p><b>SparkContext</b></p>\n",
       "\n",
       "            <p><a href=\"http://g02.itversity.com:4040\">Spark UI</a></p>\n",
       "\n",
       "            <dl>\n",
       "              <dt>Version</dt>\n",
       "                <dd><code>v3.0.1</code></dd>\n",
       "              <dt>Master</dt>\n",
       "                <dd><code>yarn</code></dd>\n",
       "              <dt>AppName</dt>\n",
       "                <dd><code>itv005077-orders-data-program</code></dd>\n",
       "            </dl>\n",
       "        </div>\n",
       "        "
      ],
      "text/plain": [
       "<SparkContext master=yarn appName=itv005077-orders-data-program>"
      ]
     },
     "execution_count": 5,
     "metadata": {},
     "output_type": "execute_result"
    }
   ],
   "source": [
    "sc"
   ]
  },
  {
   "cell_type": "code",
   "execution_count": 6,
   "id": "1d01245c",
   "metadata": {},
   "outputs": [
    {
     "name": "stdout",
     "output_type": "stream",
     "text": [
      "1,2013-07-25 00:00:00.0,11599,CLOSED\n",
      "2,2013-07-25 00:00:00.0,256,PENDING_PAYMENT\n",
      "3,2013-07-25 00:00:00.0,12111,COMPLETE\n",
      "4,2013-07-25 00:00:00.0,8827,CLOSED\n",
      "5,2013-07-25 00:00:00.0,11318,COMPLETE\n",
      "6,2013-07-25 00:00:00.0,7130,COMPLETE\n",
      "7,2013-07-25 00:00:00.0,4530,COMPLETE\n",
      "8,2013-07-25 00:00:00.0,2911,PROCESSING\n",
      "9,2013-07-25 00:00:00.0,5657,PENDING_PAYMENT\n",
      "10,2013-07-25 00:00:00.0,5648,PENDING_PAYMENT\n",
      "11,2013-07-25 00:00:00.0,918,PAYMENT_REVIEW\n",
      "12,2013-07-25 00:00:00.0,1837,CLOSED\n",
      "13,2013-07-25 00:00:00.0,9149,PENDING_PAYMENT\n",
      "14,2013-07-25 00:00:00.0,9842,PROCESSING\n",
      "15,2013-07-25 00:00:00.0,2568,COMPLETE\n",
      "16,2013-07-25 00:00:00.0,7276,PENDING_PAYMENT\n",
      "17,2013-07-25 00:00:00.0,2667,COMPLETE\n",
      "18,2013-07-25 00:00:00.0,1205,CLOSED\n",
      "19,2013-07-25 00:00:00.0,9488,PENDING_PAYMENT\n",
      "20,2013-07-25 00:00:00.0,9198,PROCESSING\n",
      "21,2013-07-25 00:00:00.0,2711,PENDING\n",
      "22,2013-07-25 00:00:00.0,333,COMPLETE\n",
      "23,2013-07-25 00:00:00.0,4367,PENDING_PAYMENT\n",
      "24,2013-07-25 00:00:00.0,11441,CLOSED\n",
      "25,2013-07-25 00:00:00.0,9503,CLOSED\n",
      "26,2013-0"
     ]
    }
   ],
   "source": [
    "!hadoop fs -head /public/retail_db/orders/part-00000"
   ]
  },
  {
   "cell_type": "code",
   "execution_count": 7,
   "id": "c3da7461",
   "metadata": {},
   "outputs": [],
   "source": [
    "INPUT_FILE_PATH = f'/public/retail_db/orders'"
   ]
  },
  {
   "cell_type": "markdown",
   "id": "d4dfc122",
   "metadata": {},
   "source": [
    "### Create Base File RDD"
   ]
  },
  {
   "cell_type": "code",
   "execution_count": 8,
   "id": "debbc397",
   "metadata": {},
   "outputs": [],
   "source": [
    "rdd_file_input = sc.textFile(f'{INPUT_FILE_PATH}/*')"
   ]
  },
  {
   "cell_type": "code",
   "execution_count": 9,
   "id": "f9cabbaf",
   "metadata": {},
   "outputs": [
    {
     "data": {
      "text/plain": [
       "['1,2013-07-25 00:00:00.0,11599,CLOSED',\n",
       " '2,2013-07-25 00:00:00.0,256,PENDING_PAYMENT',\n",
       " '3,2013-07-25 00:00:00.0,12111,COMPLETE',\n",
       " '4,2013-07-25 00:00:00.0,8827,CLOSED',\n",
       " '5,2013-07-25 00:00:00.0,11318,COMPLETE']"
      ]
     },
     "execution_count": 9,
     "metadata": {},
     "output_type": "execute_result"
    }
   ],
   "source": [
    "rdd_file_input.take(5)"
   ]
  },
  {
   "cell_type": "code",
   "execution_count": 10,
   "id": "b99988a6",
   "metadata": {},
   "outputs": [],
   "source": [
    "rdd_split_file_input = rdd_file_input.map(lambda x : x.split(','))"
   ]
  },
  {
   "cell_type": "code",
   "execution_count": 11,
   "id": "7fcca0cc",
   "metadata": {},
   "outputs": [
    {
     "data": {
      "text/plain": [
       "[['1', '2013-07-25 00:00:00.0', '11599', 'CLOSED'],\n",
       " ['2', '2013-07-25 00:00:00.0', '256', 'PENDING_PAYMENT'],\n",
       " ['3', '2013-07-25 00:00:00.0', '12111', 'COMPLETE'],\n",
       " ['4', '2013-07-25 00:00:00.0', '8827', 'CLOSED'],\n",
       " ['5', '2013-07-25 00:00:00.0', '11318', 'COMPLETE']]"
      ]
     },
     "execution_count": 11,
     "metadata": {},
     "output_type": "execute_result"
    }
   ],
   "source": [
    "rdd_split_file_input.take(5)"
   ]
  },
  {
   "cell_type": "markdown",
   "id": "84b8443b",
   "metadata": {},
   "source": [
    "### 1. Count of Orders for each STATUS"
   ]
  },
  {
   "cell_type": "code",
   "execution_count": 12,
   "id": "809966b4",
   "metadata": {},
   "outputs": [],
   "source": [
    "rdd_orders_file_input = rdd_split_file_input.map(lambda x : x[-1])"
   ]
  },
  {
   "cell_type": "code",
   "execution_count": 13,
   "id": "81490f80",
   "metadata": {},
   "outputs": [
    {
     "data": {
      "text/plain": [
       "['CLOSED', 'PENDING_PAYMENT', 'COMPLETE', 'CLOSED', 'COMPLETE']"
      ]
     },
     "execution_count": 13,
     "metadata": {},
     "output_type": "execute_result"
    }
   ],
   "source": [
    "rdd_orders_file_input.take(5)"
   ]
  },
  {
   "attachments": {},
   "cell_type": "markdown",
   "id": "a96a9b32",
   "metadata": {},
   "source": [
    "#### a. using countByValue() action -> local dict"
   ]
  },
  {
   "cell_type": "code",
   "execution_count": 14,
   "id": "907d8c19",
   "metadata": {},
   "outputs": [],
   "source": [
    "output = rdd_orders_file_input.countByValue()"
   ]
  },
  {
   "cell_type": "code",
   "execution_count": 15,
   "id": "dc94d2f7",
   "metadata": {},
   "outputs": [
    {
     "data": {
      "text/plain": [
       "defaultdict(int,\n",
       "            {'CLOSED': 7556,\n",
       "             'PENDING_PAYMENT': 15030,\n",
       "             'COMPLETE': 22899,\n",
       "             'PROCESSING': 8275,\n",
       "             'PAYMENT_REVIEW': 729,\n",
       "             'PENDING': 7610,\n",
       "             'ON_HOLD': 3798,\n",
       "             'CANCELED': 1428,\n",
       "             'SUSPECTED_FRAUD': 1558})"
      ]
     },
     "execution_count": 15,
     "metadata": {},
     "output_type": "execute_result"
    }
   ],
   "source": [
    "output"
   ]
  },
  {
   "cell_type": "code",
   "execution_count": null,
   "id": "2f69b058",
   "metadata": {},
   "outputs": [],
   "source": [
    "output = [(key, value) for key, value in output.items()]"
   ]
  },
  {
   "cell_type": "code",
   "execution_count": null,
   "id": "68b125c3",
   "metadata": {},
   "outputs": [],
   "source": [
    "output"
   ]
  },
  {
   "cell_type": "code",
   "execution_count": null,
   "id": "090e0a37",
   "metadata": {},
   "outputs": [],
   "source": [
    "output.sort(key = lambda x : x[1], reverse = True)"
   ]
  },
  {
   "cell_type": "code",
   "execution_count": null,
   "id": "670acae2",
   "metadata": {},
   "outputs": [],
   "source": [
    "output"
   ]
  },
  {
   "attachments": {},
   "cell_type": "markdown",
   "id": "43b8a9ec",
   "metadata": {},
   "source": [
    "#### b. using map() and reduceByKey() transformation -> distributed rdd"
   ]
  },
  {
   "cell_type": "code",
   "execution_count": 16,
   "id": "12937956",
   "metadata": {},
   "outputs": [],
   "source": [
    "rdd_orders_file_input = rdd_split_file_input.map(lambda x : (x[-1],1))"
   ]
  },
  {
   "cell_type": "code",
   "execution_count": 17,
   "id": "3108fb53",
   "metadata": {},
   "outputs": [
    {
     "data": {
      "text/plain": [
       "[('CLOSED', 1),\n",
       " ('PENDING_PAYMENT', 1),\n",
       " ('COMPLETE', 1),\n",
       " ('CLOSED', 1),\n",
       " ('COMPLETE', 1)]"
      ]
     },
     "execution_count": 17,
     "metadata": {},
     "output_type": "execute_result"
    }
   ],
   "source": [
    "rdd_orders_file_input.take(5)"
   ]
  },
  {
   "cell_type": "code",
   "execution_count": 18,
   "id": "1f5fdb90",
   "metadata": {},
   "outputs": [],
   "source": [
    "rdd_reduce_orders = rdd_orders_file_input.reduceByKey(lambda x,y : x+y)"
   ]
  },
  {
   "cell_type": "code",
   "execution_count": 19,
   "id": "e1c0093b",
   "metadata": {},
   "outputs": [
    {
     "data": {
      "text/plain": [
       "[('CLOSED', 7556),\n",
       " ('CANCELED', 1428),\n",
       " ('PENDING_PAYMENT', 15030),\n",
       " ('COMPLETE', 22899),\n",
       " ('PROCESSING', 8275),\n",
       " ('PAYMENT_REVIEW', 729),\n",
       " ('PENDING', 7610),\n",
       " ('ON_HOLD', 3798),\n",
       " ('SUSPECTED_FRAUD', 1558)]"
      ]
     },
     "execution_count": 19,
     "metadata": {},
     "output_type": "execute_result"
    }
   ],
   "source": [
    "rdd_reduce_orders.take(10)"
   ]
  },
  {
   "cell_type": "code",
   "execution_count": 20,
   "id": "59d6a5d8",
   "metadata": {},
   "outputs": [],
   "source": [
    "# sort by ascending order of count\n",
    "rdd_sorted_orders = rdd_reduce_orders.sortBy(lambda x : x[1])"
   ]
  },
  {
   "cell_type": "code",
   "execution_count": 21,
   "id": "7d568bf7",
   "metadata": {},
   "outputs": [
    {
     "data": {
      "text/plain": [
       "[('PAYMENT_REVIEW', 729),\n",
       " ('CANCELED', 1428),\n",
       " ('SUSPECTED_FRAUD', 1558),\n",
       " ('ON_HOLD', 3798),\n",
       " ('CLOSED', 7556),\n",
       " ('PENDING', 7610),\n",
       " ('PROCESSING', 8275),\n",
       " ('PENDING_PAYMENT', 15030),\n",
       " ('COMPLETE', 22899)]"
      ]
     },
     "execution_count": 21,
     "metadata": {},
     "output_type": "execute_result"
    }
   ],
   "source": [
    "rdd_sorted_orders.take(10)"
   ]
  },
  {
   "cell_type": "code",
   "execution_count": 22,
   "id": "5843c908",
   "metadata": {},
   "outputs": [],
   "source": [
    "# sort by descending order of count\n",
    "rdd_sorted_orders = rdd_reduce_orders.sortBy(lambda x : x[1], False)"
   ]
  },
  {
   "cell_type": "code",
   "execution_count": 23,
   "id": "22ab1c50",
   "metadata": {},
   "outputs": [
    {
     "data": {
      "text/plain": [
       "[('COMPLETE', 22899),\n",
       " ('PENDING_PAYMENT', 15030),\n",
       " ('PROCESSING', 8275),\n",
       " ('PENDING', 7610),\n",
       " ('CLOSED', 7556),\n",
       " ('ON_HOLD', 3798),\n",
       " ('SUSPECTED_FRAUD', 1558),\n",
       " ('CANCELED', 1428),\n",
       " ('PAYMENT_REVIEW', 729)]"
      ]
     },
     "execution_count": 23,
     "metadata": {},
     "output_type": "execute_result"
    }
   ],
   "source": [
    "rdd_sorted_orders.take(10)"
   ]
  },
  {
   "cell_type": "markdown",
   "id": "fd795d6f",
   "metadata": {},
   "source": [
    "### 2. Find top 10 CUSTOMERS who has placed maximum orders"
   ]
  },
  {
   "cell_type": "code",
   "execution_count": 24,
   "id": "505aa2d5",
   "metadata": {},
   "outputs": [
    {
     "data": {
      "text/plain": [
       "[['1', '2013-07-25 00:00:00.0', '11599', 'CLOSED'],\n",
       " ['2', '2013-07-25 00:00:00.0', '256', 'PENDING_PAYMENT'],\n",
       " ['3', '2013-07-25 00:00:00.0', '12111', 'COMPLETE'],\n",
       " ['4', '2013-07-25 00:00:00.0', '8827', 'CLOSED'],\n",
       " ['5', '2013-07-25 00:00:00.0', '11318', 'COMPLETE']]"
      ]
     },
     "execution_count": 24,
     "metadata": {},
     "output_type": "execute_result"
    }
   ],
   "source": [
    "rdd_split_file_input.take(5)"
   ]
  },
  {
   "cell_type": "code",
   "execution_count": 25,
   "id": "4ebc3f5a",
   "metadata": {},
   "outputs": [],
   "source": [
    "rdd_customer_input = rdd_split_file_input.map(lambda x : (x[2],1))"
   ]
  },
  {
   "cell_type": "code",
   "execution_count": 26,
   "id": "309d5fa7",
   "metadata": {},
   "outputs": [
    {
     "data": {
      "text/plain": [
       "[('11599', 1), ('256', 1), ('12111', 1), ('8827', 1), ('11318', 1)]"
      ]
     },
     "execution_count": 26,
     "metadata": {},
     "output_type": "execute_result"
    }
   ],
   "source": [
    "rdd_customer_input.take(5)"
   ]
  },
  {
   "cell_type": "code",
   "execution_count": 27,
   "id": "f0d685a5",
   "metadata": {},
   "outputs": [],
   "source": [
    "rdd_reduce_customers = rdd_customer_input.reduceByKey(lambda x,y : x+y)"
   ]
  },
  {
   "cell_type": "code",
   "execution_count": 28,
   "id": "fbaa2126",
   "metadata": {},
   "outputs": [
    {
     "data": {
      "text/plain": [
       "[('256', 10),\n",
       " ('12111', 6),\n",
       " ('11318', 6),\n",
       " ('7130', 7),\n",
       " ('2911', 6),\n",
       " ('5657', 12),\n",
       " ('9149', 4),\n",
       " ('9842', 7),\n",
       " ('7276', 5),\n",
       " ('9488', 7)]"
      ]
     },
     "execution_count": 28,
     "metadata": {},
     "output_type": "execute_result"
    }
   ],
   "source": [
    "rdd_reduce_customers.take(10)"
   ]
  },
  {
   "cell_type": "code",
   "execution_count": 29,
   "id": "65dc8b5e",
   "metadata": {},
   "outputs": [],
   "source": [
    "# sort by descending order of count\n",
    "rdd_sorted_customers = rdd_reduce_customers.sortBy(lambda x : x[1], False)"
   ]
  },
  {
   "cell_type": "code",
   "execution_count": 30,
   "id": "743aa0e2",
   "metadata": {},
   "outputs": [
    {
     "data": {
      "text/plain": [
       "[('5897', 16),\n",
       " ('6316', 16),\n",
       " ('12431', 16),\n",
       " ('569', 16),\n",
       " ('4320', 15),\n",
       " ('221', 15),\n",
       " ('5624', 15),\n",
       " ('5283', 15),\n",
       " ('12284', 15),\n",
       " ('5654', 15)]"
      ]
     },
     "execution_count": 30,
     "metadata": {},
     "output_type": "execute_result"
    }
   ],
   "source": [
    "rdd_sorted_customers.take(10)"
   ]
  },
  {
   "cell_type": "markdown",
   "id": "c719cd8c",
   "metadata": {},
   "source": [
    "### 3. Find DISTINCT count of customers"
   ]
  },
  {
   "cell_type": "code",
   "execution_count": 31,
   "id": "bfa0ad80",
   "metadata": {},
   "outputs": [
    {
     "data": {
      "text/plain": [
       "[['1', '2013-07-25 00:00:00.0', '11599', 'CLOSED'],\n",
       " ['2', '2013-07-25 00:00:00.0', '256', 'PENDING_PAYMENT'],\n",
       " ['3', '2013-07-25 00:00:00.0', '12111', 'COMPLETE'],\n",
       " ['4', '2013-07-25 00:00:00.0', '8827', 'CLOSED'],\n",
       " ['5', '2013-07-25 00:00:00.0', '11318', 'COMPLETE']]"
      ]
     },
     "execution_count": 31,
     "metadata": {},
     "output_type": "execute_result"
    }
   ],
   "source": [
    "rdd_split_file_input.take(5)"
   ]
  },
  {
   "cell_type": "code",
   "execution_count": 32,
   "id": "3749e499",
   "metadata": {},
   "outputs": [],
   "source": [
    "rdd_customer_input = rdd_split_file_input.map(lambda x : x[2])"
   ]
  },
  {
   "cell_type": "code",
   "execution_count": 33,
   "id": "c9c6da72",
   "metadata": {},
   "outputs": [
    {
     "data": {
      "text/plain": [
       "['11599', '256', '12111', '8827', '11318']"
      ]
     },
     "execution_count": 33,
     "metadata": {},
     "output_type": "execute_result"
    }
   ],
   "source": [
    "rdd_customer_input.take(5)"
   ]
  },
  {
   "cell_type": "code",
   "execution_count": 34,
   "id": "4267a498",
   "metadata": {},
   "outputs": [],
   "source": [
    "rdd_distinct_customers = rdd_customer_input.distinct()"
   ]
  },
  {
   "cell_type": "code",
   "execution_count": 35,
   "id": "21eed4ab",
   "metadata": {},
   "outputs": [
    {
     "data": {
      "text/plain": [
       "['256', '12111', '11318', '7130', '2911']"
      ]
     },
     "execution_count": 35,
     "metadata": {},
     "output_type": "execute_result"
    }
   ],
   "source": [
    "rdd_distinct_customers.take(5)"
   ]
  },
  {
   "cell_type": "code",
   "execution_count": 36,
   "id": "f8251b2d",
   "metadata": {},
   "outputs": [],
   "source": [
    "count = rdd_distinct_customers.count()"
   ]
  },
  {
   "cell_type": "code",
   "execution_count": 37,
   "id": "814930a3",
   "metadata": {},
   "outputs": [
    {
     "data": {
      "text/plain": [
       "12405"
      ]
     },
     "execution_count": 37,
     "metadata": {},
     "output_type": "execute_result"
    }
   ],
   "source": [
    "count"
   ]
  },
  {
   "cell_type": "markdown",
   "id": "cde1582f",
   "metadata": {},
   "source": [
    "### 4. Find top 10 CUSTOMERS whose orders are CLOSED"
   ]
  },
  {
   "cell_type": "code",
   "execution_count": 38,
   "id": "fa6ffac4",
   "metadata": {},
   "outputs": [
    {
     "data": {
      "text/plain": [
       "[['1', '2013-07-25 00:00:00.0', '11599', 'CLOSED'],\n",
       " ['2', '2013-07-25 00:00:00.0', '256', 'PENDING_PAYMENT'],\n",
       " ['3', '2013-07-25 00:00:00.0', '12111', 'COMPLETE'],\n",
       " ['4', '2013-07-25 00:00:00.0', '8827', 'CLOSED'],\n",
       " ['5', '2013-07-25 00:00:00.0', '11318', 'COMPLETE']]"
      ]
     },
     "execution_count": 38,
     "metadata": {},
     "output_type": "execute_result"
    }
   ],
   "source": [
    "rdd_split_file_input.take(5)"
   ]
  },
  {
   "cell_type": "code",
   "execution_count": 39,
   "id": "0b1c1e23",
   "metadata": {},
   "outputs": [],
   "source": [
    "rdd_filter_closed = rdd_split_file_input.filter(lambda x : x[-1] == 'CLOSED')"
   ]
  },
  {
   "cell_type": "code",
   "execution_count": 40,
   "id": "0c6294d3",
   "metadata": {},
   "outputs": [
    {
     "data": {
      "text/plain": [
       "[['1', '2013-07-25 00:00:00.0', '11599', 'CLOSED'],\n",
       " ['4', '2013-07-25 00:00:00.0', '8827', 'CLOSED'],\n",
       " ['12', '2013-07-25 00:00:00.0', '1837', 'CLOSED'],\n",
       " ['18', '2013-07-25 00:00:00.0', '1205', 'CLOSED'],\n",
       " ['24', '2013-07-25 00:00:00.0', '11441', 'CLOSED'],\n",
       " ['25', '2013-07-25 00:00:00.0', '9503', 'CLOSED'],\n",
       " ['37', '2013-07-25 00:00:00.0', '5863', 'CLOSED'],\n",
       " ['51', '2013-07-25 00:00:00.0', '12271', 'CLOSED'],\n",
       " ['57', '2013-07-25 00:00:00.0', '7073', 'CLOSED'],\n",
       " ['61', '2013-07-25 00:00:00.0', '4791', 'CLOSED']]"
      ]
     },
     "execution_count": 40,
     "metadata": {},
     "output_type": "execute_result"
    }
   ],
   "source": [
    "rdd_filter_closed.take(10)"
   ]
  },
  {
   "cell_type": "code",
   "execution_count": 41,
   "id": "29145ff7",
   "metadata": {},
   "outputs": [],
   "source": [
    "rdd_customer_input = rdd_filter_closed.map(lambda x : (x[2],1))"
   ]
  },
  {
   "cell_type": "code",
   "execution_count": 42,
   "id": "900dc874",
   "metadata": {},
   "outputs": [
    {
     "data": {
      "text/plain": [
       "[('11599', 1),\n",
       " ('8827', 1),\n",
       " ('1837', 1),\n",
       " ('1205', 1),\n",
       " ('11441', 1),\n",
       " ('9503', 1),\n",
       " ('5863', 1),\n",
       " ('12271', 1),\n",
       " ('7073', 1),\n",
       " ('4791', 1)]"
      ]
     },
     "execution_count": 42,
     "metadata": {},
     "output_type": "execute_result"
    }
   ],
   "source": [
    "rdd_customer_input.take(10)"
   ]
  },
  {
   "cell_type": "code",
   "execution_count": 43,
   "id": "741a62d4",
   "metadata": {},
   "outputs": [],
   "source": [
    "rdd_reduce_customers = rdd_customer_input.reduceByKey(lambda x,y : x+y)"
   ]
  },
  {
   "cell_type": "code",
   "execution_count": 44,
   "id": "50af0846",
   "metadata": {},
   "outputs": [
    {
     "data": {
      "text/plain": [
       "[('5863', 1),\n",
       " ('12271', 2),\n",
       " ('7073', 1),\n",
       " ('3065', 2),\n",
       " ('5116', 2),\n",
       " ('8763', 1),\n",
       " ('10604', 2),\n",
       " ('16', 1),\n",
       " ('9055', 3),\n",
       " ('10372', 3)]"
      ]
     },
     "execution_count": 44,
     "metadata": {},
     "output_type": "execute_result"
    }
   ],
   "source": [
    "rdd_reduce_customers.take(10)"
   ]
  },
  {
   "cell_type": "code",
   "execution_count": 45,
   "id": "028a5d7e",
   "metadata": {},
   "outputs": [],
   "source": [
    "rdd_sorted_customers = rdd_reduce_customers.sortBy(lambda x : x[-1], False)"
   ]
  },
  {
   "cell_type": "code",
   "execution_count": 46,
   "id": "084d7c18",
   "metadata": {},
   "outputs": [
    {
     "data": {
      "text/plain": [
       "[('1833', 6),\n",
       " ('1363', 5),\n",
       " ('1687', 5),\n",
       " ('5493', 5),\n",
       " ('5011', 4),\n",
       " ('8974', 4),\n",
       " ('2321', 4),\n",
       " ('3736', 4),\n",
       " ('8368', 4),\n",
       " ('2236', 4)]"
      ]
     },
     "execution_count": 46,
     "metadata": {},
     "output_type": "execute_result"
    }
   ],
   "source": [
    "rdd_sorted_customers.take(10)"
   ]
  },
  {
   "cell_type": "code",
   "execution_count": 47,
   "id": "0de64f65",
   "metadata": {},
   "outputs": [],
   "source": [
    "sc.stop()\n",
    "spark.stop()"
   ]
  },
  {
   "cell_type": "code",
   "execution_count": null,
   "id": "51f3d580",
   "metadata": {},
   "outputs": [],
   "source": [
    "# End of file"
   ]
  }
 ],
 "metadata": {
  "kernelspec": {
   "display_name": "Pyspark 3",
   "language": "python",
   "name": "pyspark3"
  },
  "language_info": {
   "codemirror_mode": {
    "name": "ipython",
    "version": 3
   },
   "file_extension": ".py",
   "mimetype": "text/x-python",
   "name": "python",
   "nbconvert_exporter": "python",
   "pygments_lexer": "ipython3",
   "version": "3.6.12"
  }
 },
 "nbformat": 4,
 "nbformat_minor": 5
}
