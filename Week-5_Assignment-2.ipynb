{
 "cells": [
  {
   "cell_type": "code",
   "execution_count": 1,
   "id": "be5ec1e0",
   "metadata": {},
   "outputs": [],
   "source": [
    "import getpass as gp\n",
    "from pyspark.sql import SparkSession, functions as F, types as T"
   ]
  },
  {
   "cell_type": "code",
   "execution_count": 2,
   "id": "73ae0ae1",
   "metadata": {},
   "outputs": [],
   "source": [
    "user = gp.getuser()\n",
    "spark = SparkSession.builder \\\n",
    "    .appName(f'{user}-Week-5-Assignment-2') \\\n",
    "    .config('spark.sql.warehouse.dir', f'/user/{user}/warehouse') \\\n",
    "    .config('spark.sql.catalogImplementation', 'hive') \\\n",
    "    .enableHiveSupport() \\\n",
    "    .master('yarn') \\\n",
    "    .getOrCreate()"
   ]
  },
  {
   "cell_type": "code",
   "execution_count": 3,
   "id": "72b610cb",
   "metadata": {},
   "outputs": [
    {
     "data": {
      "text/html": [
       "\n",
       "            <div>\n",
       "                <p><b>SparkSession - hive</b></p>\n",
       "                \n",
       "        <div>\n",
       "            <p><b>SparkContext</b></p>\n",
       "\n",
       "            <p><a href=\"http://g02.itversity.com:4040\">Spark UI</a></p>\n",
       "\n",
       "            <dl>\n",
       "              <dt>Version</dt>\n",
       "                <dd><code>v3.0.1</code></dd>\n",
       "              <dt>Master</dt>\n",
       "                <dd><code>yarn</code></dd>\n",
       "              <dt>AppName</dt>\n",
       "                <dd><code>itv005077-Week-5-Assignment-2</code></dd>\n",
       "            </dl>\n",
       "        </div>\n",
       "        \n",
       "            </div>\n",
       "        "
      ],
      "text/plain": [
       "<pyspark.sql.session.SparkSession at 0x7f563dd14f60>"
      ]
     },
     "execution_count": 3,
     "metadata": {},
     "output_type": "execute_result"
    }
   ],
   "source": [
    "spark"
   ]
  },
  {
   "cell_type": "code",
   "execution_count": 4,
   "id": "8332492d",
   "metadata": {},
   "outputs": [
    {
     "name": "stdout",
     "output_type": "stream",
     "text": [
      "Found 1 items\n",
      "-rw-r--r--   3 itv005857 supergroup     174155 2023-04-26 16:47 /public/trendytech/retail_db/products/part-00000\n"
     ]
    }
   ],
   "source": [
    "!hadoop fs -ls /public/trendytech/retail_db/products"
   ]
  },
  {
   "cell_type": "code",
   "execution_count": 5,
   "id": "09beea28",
   "metadata": {},
   "outputs": [
    {
     "name": "stdout",
     "output_type": "stream",
     "text": [
      "1,2,Quest Q64 10 FT. x 10 FT. Slant Leg Instant U,,59.98,http://images.acmesports.sports/Quest+Q64+10+FT.+x+10+FT.+Slant+Leg+Instant+Up+Canopy\n",
      "2,2,Under Armour Men's Highlight MC Football Clea,,129.99,http://images.acmesports.sports/Under+Armour+Men%27s+Highlight+MC+Football+Cleat\n",
      "3,2,Under Armour Men's Renegade D Mid Football Cl,,89.99,http://images.acmesports.sports/Under+Armour+Men%27s+Renegade+D+Mid+Football+Cleat\n",
      "4,2,Under Armour Men's Renegade D Mid Football Cl,,89.99,http://images.acmesports.sports/Under+Armour+Men%27s+Renegade+D+Mid+Football+Cleat\n",
      "5,2,Riddell Youth Revolution Speed Custom Footbal,,199.99,http://images.acmesports.sports/Riddell+Youth+Revolution+Speed+Custom+Football+Helmet\n",
      "6,2,Jordan Men's VI Retro TD Football Cleat,,134.99,http://images.acmesports.sports/Jordan+Men%27s+VI+Retro+TD+Football+Cleat\n",
      "7,2,Schutt Youth Recruit Hybrid Custom Football H,,99.99,http://images.acmesports.sports/Schutt+Youth+Recruit+Hybrid+Custom+Football+Helmet+2014\n",
      "8,2,Nike Men's Vapor Carbon Elite TD Football C"
     ]
    }
   ],
   "source": [
    "!hadoop fs -head /public/trendytech/retail_db/products/part-00000"
   ]
  },
  {
   "cell_type": "code",
   "execution_count": 6,
   "id": "040f624b",
   "metadata": {},
   "outputs": [],
   "source": [
    "schema = T.StructType([\n",
    "    T.StructField('ProductID', T.IntegerType()), \\\n",
    "    T.StructField('Category', T.IntegerType()), \\\n",
    "    T.StructField('ProductName', T.StringType()), \\\n",
    "    T.StructField('Description', T.StringType()), \\\n",
    "    T.StructField('Price', T.FloatType()), \\\n",
    "    T.StructField('ImageURL', T.StringType()),\n",
    "])"
   ]
  },
  {
   "cell_type": "code",
   "execution_count": 7,
   "id": "f1084c52",
   "metadata": {},
   "outputs": [],
   "source": [
    "df_prod = spark.read \\\n",
    "    .schema(schema) \\\n",
    "    .csv('/public/trendytech/retail_db/products/part-00000')"
   ]
  },
  {
   "cell_type": "code",
   "execution_count": 8,
   "id": "60f58feb",
   "metadata": {},
   "outputs": [
    {
     "name": "stdout",
     "output_type": "stream",
     "text": [
      "root\n",
      " |-- ProductID: integer (nullable = true)\n",
      " |-- Category: integer (nullable = true)\n",
      " |-- ProductName: string (nullable = true)\n",
      " |-- Description: string (nullable = true)\n",
      " |-- Price: float (nullable = true)\n",
      " |-- ImageURL: string (nullable = true)\n",
      "\n"
     ]
    }
   ],
   "source": [
    "df_prod.printSchema()"
   ]
  },
  {
   "cell_type": "code",
   "execution_count": 9,
   "id": "73c566bb",
   "metadata": {},
   "outputs": [
    {
     "name": "stdout",
     "output_type": "stream",
     "text": [
      "+---------+--------+---------------------------------------------+-----------+------+-------------------------------------------------------------------------------------+\n",
      "|ProductID|Category|ProductName                                  |Description|Price |ImageURL                                                                             |\n",
      "+---------+--------+---------------------------------------------+-----------+------+-------------------------------------------------------------------------------------+\n",
      "|1        |2       |Quest Q64 10 FT. x 10 FT. Slant Leg Instant U|null       |59.98 |http://images.acmesports.sports/Quest+Q64+10+FT.+x+10+FT.+Slant+Leg+Instant+Up+Canopy|\n",
      "|2        |2       |Under Armour Men's Highlight MC Football Clea|null       |129.99|http://images.acmesports.sports/Under+Armour+Men%27s+Highlight+MC+Football+Cleat     |\n",
      "|3        |2       |Under Armour Men's Renegade D Mid Football Cl|null       |89.99 |http://images.acmesports.sports/Under+Armour+Men%27s+Renegade+D+Mid+Football+Cleat   |\n",
      "|4        |2       |Under Armour Men's Renegade D Mid Football Cl|null       |89.99 |http://images.acmesports.sports/Under+Armour+Men%27s+Renegade+D+Mid+Football+Cleat   |\n",
      "|5        |2       |Riddell Youth Revolution Speed Custom Footbal|null       |199.99|http://images.acmesports.sports/Riddell+Youth+Revolution+Speed+Custom+Football+Helmet|\n",
      "+---------+--------+---------------------------------------------+-----------+------+-------------------------------------------------------------------------------------+\n",
      "only showing top 5 rows\n",
      "\n"
     ]
    }
   ],
   "source": [
    "df_prod.show(5, truncate=False)"
   ]
  },
  {
   "cell_type": "code",
   "execution_count": 10,
   "id": "9c82e805",
   "metadata": {},
   "outputs": [],
   "source": [
    "df_prod.createOrReplaceTempView('products')"
   ]
  },
  {
   "cell_type": "code",
   "execution_count": 11,
   "id": "e1d8a72b",
   "metadata": {},
   "outputs": [
    {
     "name": "stdout",
     "output_type": "stream",
     "text": [
      "+--------+---------+-----------+\n",
      "|database|tableName|isTemporary|\n",
      "+--------+---------+-----------+\n",
      "|        | products|       true|\n",
      "+--------+---------+-----------+\n",
      "\n"
     ]
    }
   ],
   "source": [
    "spark.sql('show tables').filter('isTemporary = \"true\" and tableName = \"products\"').show()"
   ]
  },
  {
   "cell_type": "code",
   "execution_count": 12,
   "id": "ee6bdc81",
   "metadata": {},
   "outputs": [
    {
     "name": "stdout",
     "output_type": "stream",
     "text": [
      "+---------+--------+--------------------+-----------+------+--------------------+\n",
      "|ProductID|Category|         ProductName|Description| Price|            ImageURL|\n",
      "+---------+--------+--------------------+-----------+------+--------------------+\n",
      "|        1|       2|Quest Q64 10 FT. ...|       null| 59.98|http://images.acm...|\n",
      "|        2|       2|Under Armour Men'...|       null|129.99|http://images.acm...|\n",
      "|        3|       2|Under Armour Men'...|       null| 89.99|http://images.acm...|\n",
      "|        4|       2|Under Armour Men'...|       null| 89.99|http://images.acm...|\n",
      "|        5|       2|Riddell Youth Rev...|       null|199.99|http://images.acm...|\n",
      "|        6|       2|Jordan Men's VI R...|       null|134.99|http://images.acm...|\n",
      "|        7|       2|Schutt Youth Recr...|       null| 99.99|http://images.acm...|\n",
      "|        8|       2|Nike Men's Vapor ...|       null|129.99|http://images.acm...|\n",
      "|        9|       2|Nike Adult Vapor ...|       null|  50.0|http://images.acm...|\n",
      "|       10|       2|Under Armour Men'...|       null|129.99|http://images.acm...|\n",
      "+---------+--------+--------------------+-----------+------+--------------------+\n",
      "\n"
     ]
    }
   ],
   "source": [
    "spark.sql('select * from products limit 10').show()"
   ]
  },
  {
   "cell_type": "markdown",
   "id": "e50f7b97",
   "metadata": {},
   "source": [
    "### Find the total number of products in the given dataset."
   ]
  },
  {
   "cell_type": "code",
   "execution_count": 13,
   "id": "82f38542",
   "metadata": {},
   "outputs": [
    {
     "data": {
      "text/plain": [
       "1345"
      ]
     },
     "execution_count": 13,
     "metadata": {},
     "output_type": "execute_result"
    }
   ],
   "source": [
    "df_prod.select('ProductID').count()"
   ]
  },
  {
   "cell_type": "code",
   "execution_count": 14,
   "id": "c5c6e944",
   "metadata": {},
   "outputs": [
    {
     "name": "stdout",
     "output_type": "stream",
     "text": [
      "+-----+\n",
      "|count|\n",
      "+-----+\n",
      "| 1345|\n",
      "+-----+\n",
      "\n"
     ]
    }
   ],
   "source": [
    "spark.sql('select count(ProductID) as count from products').show()"
   ]
  },
  {
   "cell_type": "markdown",
   "id": "de7efc2a",
   "metadata": {},
   "source": [
    "### Find the number of unique categories of products in the given dataset."
   ]
  },
  {
   "cell_type": "code",
   "execution_count": 15,
   "id": "0123b4f1",
   "metadata": {},
   "outputs": [
    {
     "data": {
      "text/plain": [
       "55"
      ]
     },
     "execution_count": 15,
     "metadata": {},
     "output_type": "execute_result"
    }
   ],
   "source": [
    "df_prod.select('Category').distinct().count()"
   ]
  },
  {
   "cell_type": "code",
   "execution_count": 16,
   "id": "7c00fde5",
   "metadata": {},
   "outputs": [
    {
     "name": "stdout",
     "output_type": "stream",
     "text": [
      "+-----+\n",
      "|count|\n",
      "+-----+\n",
      "|   55|\n",
      "+-----+\n",
      "\n"
     ]
    }
   ],
   "source": [
    "spark.sql('select count(distinct Category) as count from products').show()"
   ]
  },
  {
   "cell_type": "markdown",
   "id": "9180de07",
   "metadata": {},
   "source": [
    "### Find the top 5 most expensive products based on their price, along with their product name, category, and image URL."
   ]
  },
  {
   "cell_type": "code",
   "execution_count": 17,
   "id": "e539e741",
   "metadata": {},
   "outputs": [
    {
     "name": "stdout",
     "output_type": "stream",
     "text": [
      "+--------+--------------------+-------+--------------------+\n",
      "|Category|         ProductName|  Price|            ImageURL|\n",
      "+--------+--------------------+-------+--------------------+\n",
      "|      10| SOLE E35 Elliptical|1999.99|http://images.acm...|\n",
      "|       4|  SOLE F85 Treadmill|1799.99|http://images.acm...|\n",
      "|      10|  SOLE F85 Treadmill|1799.99|http://images.acm...|\n",
      "|      22|  SOLE F85 Treadmill|1799.99|http://images.acm...|\n",
      "|      47|\"Spalding Beast 6...|1099.99|http://images.acm...|\n",
      "+--------+--------------------+-------+--------------------+\n",
      "\n"
     ]
    }
   ],
   "source": [
    "df_prod.select('Category', 'ProductName', 'Price', 'ImageURL').orderBy('Price', ascending=False).limit(5).show()"
   ]
  },
  {
   "cell_type": "code",
   "execution_count": 18,
   "id": "44b81847",
   "metadata": {},
   "outputs": [
    {
     "name": "stdout",
     "output_type": "stream",
     "text": [
      "+--------+--------------------+-------+--------------------+\n",
      "|Category|         ProductName|  Price|            ImageURL|\n",
      "+--------+--------------------+-------+--------------------+\n",
      "|      10| SOLE E35 Elliptical|1999.99|http://images.acm...|\n",
      "|       4|  SOLE F85 Treadmill|1799.99|http://images.acm...|\n",
      "|      10|  SOLE F85 Treadmill|1799.99|http://images.acm...|\n",
      "|      22|  SOLE F85 Treadmill|1799.99|http://images.acm...|\n",
      "|      47|\"Spalding Beast 6...|1099.99|http://images.acm...|\n",
      "+--------+--------------------+-------+--------------------+\n",
      "\n"
     ]
    }
   ],
   "source": [
    "spark.sql('select Category, ProductName, Price, ImageURL from products order by price desc limit 5').show()"
   ]
  },
  {
   "cell_type": "markdown",
   "id": "3ea2284c",
   "metadata": {},
   "source": [
    "### Find the number of products in each category that have a price greater than $100. Display the results in a tabular format that shows the category name and the number of products that satisfy the condition"
   ]
  },
  {
   "cell_type": "code",
   "execution_count": 19,
   "id": "c8804e56",
   "metadata": {},
   "outputs": [
    {
     "name": "stdout",
     "output_type": "stream",
     "text": [
      "+--------+-----+\n",
      "|Category|count|\n",
      "+--------+-----+\n",
      "|      31|   17|\n",
      "|      53|   16|\n",
      "|      34|   15|\n",
      "|      44|    9|\n",
      "|      12|    3|\n",
      "|      22|    4|\n",
      "|      47|   10|\n",
      "|      52|    5|\n",
      "|      13|    1|\n",
      "|       6|    5|\n",
      "|      16|   11|\n",
      "|       3|    5|\n",
      "|      20|    7|\n",
      "|      57|    6|\n",
      "|      54|    6|\n",
      "|      48|   17|\n",
      "|       5|   11|\n",
      "|      19|   13|\n",
      "|      41|   11|\n",
      "|      43|   23|\n",
      "+--------+-----+\n",
      "only showing top 20 rows\n",
      "\n"
     ]
    }
   ],
   "source": [
    "df_prod.filter('Price > 100') \\\n",
    ".groupBy('Category').count().show()"
   ]
  },
  {
   "cell_type": "code",
   "execution_count": 20,
   "id": "36566b6b",
   "metadata": {},
   "outputs": [
    {
     "name": "stdout",
     "output_type": "stream",
     "text": [
      "+--------+-----+\n",
      "|Category|count|\n",
      "+--------+-----+\n",
      "|      31|   17|\n",
      "|      53|   16|\n",
      "|      34|   15|\n",
      "|      44|    9|\n",
      "|      12|    3|\n",
      "|      22|    4|\n",
      "|      47|   10|\n",
      "|      52|    5|\n",
      "|      13|    1|\n",
      "|       6|    5|\n",
      "|      16|   11|\n",
      "|       3|    5|\n",
      "|      20|    7|\n",
      "|      57|    6|\n",
      "|      54|    6|\n",
      "|      48|   17|\n",
      "|       5|   11|\n",
      "|      19|   13|\n",
      "|      41|   11|\n",
      "|      43|   23|\n",
      "+--------+-----+\n",
      "only showing top 20 rows\n",
      "\n"
     ]
    }
   ],
   "source": [
    "spark.sql('select Category, count(ProductID) as count from products where Price > 100 group by Category').show()"
   ]
  },
  {
   "cell_type": "markdown",
   "id": "b5a71b38",
   "metadata": {},
   "source": [
    "### What are the product names and prices of products that have a price greater than $200 and belong to category 5?"
   ]
  },
  {
   "cell_type": "code",
   "execution_count": 21,
   "id": "e21c47c4",
   "metadata": {},
   "outputs": [
    {
     "name": "stdout",
     "output_type": "stream",
     "text": [
      "+--------------------+------+\n",
      "|         ProductName| Price|\n",
      "+--------------------+------+\n",
      "|\"Goaliath 54\"\" In...|499.99|\n",
      "|Fitness Gear 300 ...|209.99|\n",
      "|Teeter Hang Ups N...|299.99|\n",
      "+--------------------+------+\n",
      "\n"
     ]
    }
   ],
   "source": [
    "df_prod.filter('Price > 200 and Category == 5').select('ProductName', 'Price').show()"
   ]
  },
  {
   "cell_type": "code",
   "execution_count": 22,
   "id": "160f365d",
   "metadata": {},
   "outputs": [
    {
     "name": "stdout",
     "output_type": "stream",
     "text": [
      "+--------------------+------+\n",
      "|         ProductName| Price|\n",
      "+--------------------+------+\n",
      "|\"Goaliath 54\"\" In...|499.99|\n",
      "|Fitness Gear 300 ...|209.99|\n",
      "|Teeter Hang Ups N...|299.99|\n",
      "+--------------------+------+\n",
      "\n"
     ]
    }
   ],
   "source": [
    "spark.sql('select ProductName, Price from products where Price > 200 and Category = 5').show()"
   ]
  },
  {
   "cell_type": "code",
   "execution_count": 23,
   "id": "2a385bf7",
   "metadata": {},
   "outputs": [],
   "source": [
    "spark.stop()"
   ]
  }
 ],
 "metadata": {
  "kernelspec": {
   "display_name": "Pyspark 3",
   "language": "python",
   "name": "pyspark3"
  },
  "language_info": {
   "codemirror_mode": {
    "name": "ipython",
    "version": 3
   },
   "file_extension": ".py",
   "mimetype": "text/x-python",
   "name": "python",
   "nbconvert_exporter": "python",
   "pygments_lexer": "ipython3",
   "version": "3.6.12"
  }
 },
 "nbformat": 4,
 "nbformat_minor": 5
}
