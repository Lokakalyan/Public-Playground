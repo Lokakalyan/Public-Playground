{
 "cells": [
  {
   "cell_type": "code",
   "execution_count": 1,
   "id": "aacfcd76",
   "metadata": {},
   "outputs": [],
   "source": [
    "import getpass\n",
    "from pyspark.sql import SparkSession, functions as F, types as T"
   ]
  },
  {
   "cell_type": "code",
   "execution_count": 2,
   "id": "58748672",
   "metadata": {},
   "outputs": [],
   "source": [
    "user = getpass.getuser()\n",
    "spark = SparkSession \\\n",
    "    .builder \\\n",
    "    .appName(f'{user}-Week-5-Assignment-1-json') \\\n",
    "    .config('spark.sql.warehouse.dir', f'/user/{user}/warehouse') \\\n",
    "    .config('spark.sql.catalogImplementation', 'hive') \\\n",
    "    .enableHiveSupport() \\\n",
    "    .master('yarn') \\\n",
    "    .getOrCreate()"
   ]
  },
  {
   "cell_type": "code",
   "execution_count": 3,
   "id": "924f3b9e",
   "metadata": {},
   "outputs": [
    {
     "data": {
      "text/html": [
       "\n",
       "            <div>\n",
       "                <p><b>SparkSession - hive</b></p>\n",
       "                \n",
       "        <div>\n",
       "            <p><b>SparkContext</b></p>\n",
       "\n",
       "            <p><a href=\"http://g02.itversity.com:4042\">Spark UI</a></p>\n",
       "\n",
       "            <dl>\n",
       "              <dt>Version</dt>\n",
       "                <dd><code>v3.0.1</code></dd>\n",
       "              <dt>Master</dt>\n",
       "                <dd><code>yarn</code></dd>\n",
       "              <dt>AppName</dt>\n",
       "                <dd><code>itv005077-Week-5-Assignment-1-json</code></dd>\n",
       "            </dl>\n",
       "        </div>\n",
       "        \n",
       "            </div>\n",
       "        "
      ],
      "text/plain": [
       "<pyspark.sql.session.SparkSession at 0x7fc748d62048>"
      ]
     },
     "execution_count": 3,
     "metadata": {},
     "output_type": "execute_result"
    }
   ],
   "source": [
    "spark"
   ]
  },
  {
   "cell_type": "code",
   "execution_count": 4,
   "id": "eedb1801",
   "metadata": {},
   "outputs": [
    {
     "name": "stdout",
     "output_type": "stream",
     "text": [
      "Found 2 items\n",
      "-rw-r--r--   3 itv005857 supergroup          0 2023-05-04 07:42 /public/trendytech/orders_wh.json/_SUCCESS\n",
      "-rw-r--r--   3 itv005857 supergroup    7064041 2023-05-04 07:42 /public/trendytech/orders_wh.json/part-00000-68544d18-9a34-443f-bf0e-1dd8103ff94e-c000.json\n"
     ]
    }
   ],
   "source": [
    "!hadoop fs -ls /public/trendytech/orders_wh.json/"
   ]
  },
  {
   "cell_type": "code",
   "execution_count": 5,
   "id": "bfbdb7b5",
   "metadata": {},
   "outputs": [
    {
     "name": "stdout",
     "output_type": "stream",
     "text": [
      "{\"order_id\":1,\"order_date\":\"2013-07-25 00:00:00.0\",\"customer_id\":11599,\"order_status\":\"CLOSED\"}\n",
      "{\"order_id\":2,\"order_date\":\"2013-07-25 00:00:00.0\",\"customer_id\":256,\"order_status\":\"PENDING_PAYMENT\"}\n",
      "{\"order_id\":3,\"order_date\":\"2013-07-25 00:00:00.0\",\"customer_id\":12111,\"order_status\":\"COMPLETE\"}\n",
      "{\"order_id\":4,\"order_date\":\"2013-07-25 00:00:00.0\",\"customer_id\":8827,\"order_status\":\"CLOSED\"}\n",
      "{\"order_id\":5,\"order_date\":\"2013-07-25 00:00:00.0\",\"customer_id\":11318,\"order_status\":\"COMPLETE\"}\n",
      "{\"order_id\":6,\"order_date\":\"2013-07-25 00:00:00.0\",\"customer_id\":7130,\"order_status\":\"COMPLETE\"}\n",
      "{\"order_id\":7,\"order_date\":\"2013-07-25 00:00:00.0\",\"customer_id\":4530,\"order_status\":\"COMPLETE\"}\n",
      "{\"order_id\":8,\"order_date\":\"2013-07-25 00:00:00.0\",\"customer_id\":2911,\"order_status\":\"PROCESSING\"}\n",
      "{\"order_id\":9,\"order_date\":\"2013-07-25 00:00:00.0\",\"customer_id\":5657,\"order_status\":\"PENDING_PAYMENT\"}\n",
      "{\"order_id\":10,\"order_date\":\"2013-07-25 00:00:00.0\",\"customer_id\":5648,\"order_status\":\"PENDING_PAYMENT\"}\n",
      "{\"order_id\":11,\"order_date\":\"201"
     ]
    }
   ],
   "source": [
    "!hadoop fs -head /public/trendytech/orders_wh.json/part-00000-68544d18-9a34-443f-bf0e-1dd8103ff94e-c000.json"
   ]
  },
  {
   "cell_type": "code",
   "execution_count": 6,
   "id": "0c5977e0",
   "metadata": {},
   "outputs": [],
   "source": [
    "schema = T.StructType([\n",
    "    T.StructField('order_id', T.IntegerType()),\n",
    "    T.StructField('order_date', T.TimestampType()),\n",
    "    T.StructField('customer_id', T.IntegerType()),\n",
    "    T.StructField('order_status', T.StringType()),\n",
    "])\n",
    "\n",
    "df = spark.read \\\n",
    "    .format('json') \\\n",
    "    .schema(schema) \\\n",
    "    .option('path', '/public/trendytech/orders_wh.json/part-00000-68544d18-9a34-443f-bf0e-1dd8103ff94e-c000.json') \\\n",
    "    .load()"
   ]
  },
  {
   "cell_type": "code",
   "execution_count": 7,
   "id": "3fcab827",
   "metadata": {},
   "outputs": [
    {
     "name": "stdout",
     "output_type": "stream",
     "text": [
      "root\n",
      " |-- order_id: integer (nullable = true)\n",
      " |-- order_date: timestamp (nullable = true)\n",
      " |-- customer_id: integer (nullable = true)\n",
      " |-- order_status: string (nullable = true)\n",
      "\n"
     ]
    }
   ],
   "source": [
    "df.printSchema()"
   ]
  },
  {
   "cell_type": "code",
   "execution_count": 8,
   "id": "58007d25",
   "metadata": {},
   "outputs": [
    {
     "name": "stdout",
     "output_type": "stream",
     "text": [
      "+--------+-------------------+-----------+---------------+\n",
      "|order_id|order_date         |customer_id|order_status   |\n",
      "+--------+-------------------+-----------+---------------+\n",
      "|1       |2013-07-25 00:00:00|11599      |CLOSED         |\n",
      "|2       |2013-07-25 00:00:00|256        |PENDING_PAYMENT|\n",
      "|3       |2013-07-25 00:00:00|12111      |COMPLETE       |\n",
      "|4       |2013-07-25 00:00:00|8827       |CLOSED         |\n",
      "|5       |2013-07-25 00:00:00|11318      |COMPLETE       |\n",
      "+--------+-------------------+-----------+---------------+\n",
      "only showing top 5 rows\n",
      "\n"
     ]
    }
   ],
   "source": [
    "df.show(5, truncate=False)"
   ]
  },
  {
   "cell_type": "code",
   "execution_count": 9,
   "id": "91a84d31",
   "metadata": {},
   "outputs": [
    {
     "name": "stdout",
     "output_type": "stream",
     "text": [
      "+---------+\n",
      "|namespace|\n",
      "+---------+\n",
      "+---------+\n",
      "\n"
     ]
    }
   ],
   "source": [
    "spark.sql('show databases').filter(\"namespace like '%itv005077%'\").show()"
   ]
  },
  {
   "cell_type": "code",
   "execution_count": 10,
   "id": "d855c058",
   "metadata": {},
   "outputs": [],
   "source": [
    "!hadoop fs -ls warehouse"
   ]
  },
  {
   "cell_type": "code",
   "execution_count": 11,
   "id": "a67b897a",
   "metadata": {},
   "outputs": [
    {
     "data": {
      "text/html": [
       "<table border='1'>\n",
       "<tr><th></th></tr>\n",
       "</table>\n"
      ],
      "text/plain": [
       "++\n",
       "||\n",
       "++\n",
       "++"
      ]
     },
     "execution_count": 11,
     "metadata": {},
     "output_type": "execute_result"
    }
   ],
   "source": [
    "spark.sql('create database if not exists itv005077_database')"
   ]
  },
  {
   "cell_type": "code",
   "execution_count": 12,
   "id": "c82f1e37",
   "metadata": {},
   "outputs": [
    {
     "name": "stdout",
     "output_type": "stream",
     "text": [
      "+------------------+\n",
      "|         namespace|\n",
      "+------------------+\n",
      "|itv005077_database|\n",
      "+------------------+\n",
      "\n"
     ]
    }
   ],
   "source": [
    "spark.sql('show databases').filter(\"namespace like '%itv005077%'\").show()"
   ]
  },
  {
   "cell_type": "code",
   "execution_count": 13,
   "id": "03d28c7b",
   "metadata": {},
   "outputs": [
    {
     "data": {
      "text/html": [
       "<table border='1'>\n",
       "<tr><th></th></tr>\n",
       "</table>\n"
      ],
      "text/plain": [
       "++\n",
       "||\n",
       "++\n",
       "++"
      ]
     },
     "execution_count": 13,
     "metadata": {},
     "output_type": "execute_result"
    }
   ],
   "source": [
    "spark.sql('use itv005077_database')"
   ]
  },
  {
   "cell_type": "code",
   "execution_count": 14,
   "id": "261235c7",
   "metadata": {},
   "outputs": [
    {
     "data": {
      "text/html": [
       "<table border='1'>\n",
       "<tr><th>database</th><th>tableName</th><th>isTemporary</th></tr>\n",
       "</table>\n"
      ],
      "text/plain": [
       "+--------+---------+-----------+\n",
       "|database|tableName|isTemporary|\n",
       "+--------+---------+-----------+\n",
       "+--------+---------+-----------+"
      ]
     },
     "execution_count": 14,
     "metadata": {},
     "output_type": "execute_result"
    }
   ],
   "source": [
    "spark.sql('show tables')"
   ]
  },
  {
   "cell_type": "code",
   "execution_count": 15,
   "id": "c7f07291",
   "metadata": {},
   "outputs": [
    {
     "data": {
      "text/html": [
       "<table border='1'>\n",
       "<tr><th></th></tr>\n",
       "</table>\n"
      ],
      "text/plain": [
       "++\n",
       "||\n",
       "++\n",
       "++"
      ]
     },
     "execution_count": 15,
     "metadata": {},
     "output_type": "execute_result"
    }
   ],
   "source": [
    "spark.sql('create table if not exists itv005077_database.orders_external \\\n",
    "using json \\\n",
    "location \"/public/trendytech/orders_wh.json/part-00000-68544d18-9a34-443f-bf0e-1dd8103ff94e-c000.json\"')"
   ]
  },
  {
   "cell_type": "code",
   "execution_count": 16,
   "id": "7d21cab1",
   "metadata": {},
   "outputs": [
    {
     "data": {
      "text/html": [
       "<table border='1'>\n",
       "<tr><th>database</th><th>tableName</th><th>isTemporary</th></tr>\n",
       "<tr><td>itv005077_database</td><td>orders_external</td><td>false</td></tr>\n",
       "</table>\n"
      ],
      "text/plain": [
       "+------------------+---------------+-----------+\n",
       "|          database|      tableName|isTemporary|\n",
       "+------------------+---------------+-----------+\n",
       "|itv005077_database|orders_external|      false|\n",
       "+------------------+---------------+-----------+"
      ]
     },
     "execution_count": 16,
     "metadata": {},
     "output_type": "execute_result"
    }
   ],
   "source": [
    "spark.sql('show tables')"
   ]
  },
  {
   "cell_type": "code",
   "execution_count": 17,
   "id": "66fc9d4a",
   "metadata": {},
   "outputs": [
    {
     "name": "stdout",
     "output_type": "stream",
     "text": [
      "+----------------------------+------------------------------------------------------------------------------------------------------------------------+-------+\n",
      "|col_name                    |data_type                                                                                                               |comment|\n",
      "+----------------------------+------------------------------------------------------------------------------------------------------------------------+-------+\n",
      "|customer_id                 |bigint                                                                                                                  |null   |\n",
      "|order_date                  |string                                                                                                                  |null   |\n",
      "|order_id                    |bigint                                                                                                                  |null   |\n",
      "|order_status                |string                                                                                                                  |null   |\n",
      "|                            |                                                                                                                        |       |\n",
      "|# Detailed Table Information|                                                                                                                        |       |\n",
      "|Database                    |itv005077_database                                                                                                      |       |\n",
      "|Table                       |orders_external                                                                                                         |       |\n",
      "|Owner                       |itv005077                                                                                                               |       |\n",
      "|Created Time                |Tue May 30 15:49:15 EDT 2023                                                                                            |       |\n",
      "|Last Access                 |UNKNOWN                                                                                                                 |       |\n",
      "|Created By                  |Spark 3.0.1                                                                                                             |       |\n",
      "|Type                        |EXTERNAL                                                                                                                |       |\n",
      "|Provider                    |json                                                                                                                    |       |\n",
      "|Location                    |hdfs://m01.itversity.com:9000/public/trendytech/orders_wh.json/part-00000-68544d18-9a34-443f-bf0e-1dd8103ff94e-c000.json|       |\n",
      "|Serde Library               |org.apache.hadoop.hive.serde2.lazy.LazySimpleSerDe                                                                      |       |\n",
      "|InputFormat                 |org.apache.hadoop.mapred.SequenceFileInputFormat                                                                        |       |\n",
      "|OutputFormat                |org.apache.hadoop.hive.ql.io.HiveSequenceFileOutputFormat                                                               |       |\n",
      "+----------------------------+------------------------------------------------------------------------------------------------------------------------+-------+\n",
      "\n"
     ]
    }
   ],
   "source": [
    "spark.sql('describe extended itv005077_database.orders_external').show(truncate=False)"
   ]
  },
  {
   "cell_type": "code",
   "execution_count": 18,
   "id": "f94e748f",
   "metadata": {},
   "outputs": [
    {
     "name": "stdout",
     "output_type": "stream",
     "text": [
      "+-----------+---------------------+--------+---------------+\n",
      "|customer_id|order_date           |order_id|order_status   |\n",
      "+-----------+---------------------+--------+---------------+\n",
      "|11599      |2013-07-25 00:00:00.0|1       |CLOSED         |\n",
      "|256        |2013-07-25 00:00:00.0|2       |PENDING_PAYMENT|\n",
      "|12111      |2013-07-25 00:00:00.0|3       |COMPLETE       |\n",
      "|8827       |2013-07-25 00:00:00.0|4       |CLOSED         |\n",
      "|11318      |2013-07-25 00:00:00.0|5       |COMPLETE       |\n",
      "+-----------+---------------------+--------+---------------+\n",
      "only showing top 5 rows\n",
      "\n"
     ]
    }
   ],
   "source": [
    "spark.sql('select * from itv005077_database.orders_external').show(5, truncate=False)"
   ]
  },
  {
   "cell_type": "code",
   "execution_count": 19,
   "id": "a4e5514e",
   "metadata": {},
   "outputs": [
    {
     "data": {
      "text/html": [
       "<table border='1'>\n",
       "<tr><th></th></tr>\n",
       "</table>\n"
      ],
      "text/plain": [
       "++\n",
       "||\n",
       "++\n",
       "++"
      ]
     },
     "execution_count": 19,
     "metadata": {},
     "output_type": "execute_result"
    }
   ],
   "source": [
    "spark.sql('create table if not exists itv005077_database.orders_managed \\\n",
    "as select * from itv005077_database.orders_external')"
   ]
  },
  {
   "cell_type": "code",
   "execution_count": 20,
   "id": "7b733518",
   "metadata": {},
   "outputs": [
    {
     "name": "stdout",
     "output_type": "stream",
     "text": [
      "+------------------+---------------+-----------+\n",
      "|          database|      tableName|isTemporary|\n",
      "+------------------+---------------+-----------+\n",
      "|itv005077_database|orders_external|      false|\n",
      "|itv005077_database| orders_managed|      false|\n",
      "+------------------+---------------+-----------+\n",
      "\n"
     ]
    }
   ],
   "source": [
    "spark.sql('show tables').show()"
   ]
  },
  {
   "cell_type": "code",
   "execution_count": 21,
   "id": "9a212d84",
   "metadata": {},
   "outputs": [
    {
     "name": "stdout",
     "output_type": "stream",
     "text": [
      "+----------------------------+-------------------------------------------------------------------------------------------+-------+\n",
      "|col_name                    |data_type                                                                                  |comment|\n",
      "+----------------------------+-------------------------------------------------------------------------------------------+-------+\n",
      "|customer_id                 |bigint                                                                                     |null   |\n",
      "|order_date                  |string                                                                                     |null   |\n",
      "|order_id                    |bigint                                                                                     |null   |\n",
      "|order_status                |string                                                                                     |null   |\n",
      "|                            |                                                                                           |       |\n",
      "|# Detailed Table Information|                                                                                           |       |\n",
      "|Database                    |itv005077_database                                                                         |       |\n",
      "|Table                       |orders_managed                                                                             |       |\n",
      "|Owner                       |itv005077                                                                                  |       |\n",
      "|Created Time                |Tue May 30 15:49:16 EDT 2023                                                               |       |\n",
      "|Last Access                 |UNKNOWN                                                                                    |       |\n",
      "|Created By                  |Spark 3.0.1                                                                                |       |\n",
      "|Type                        |MANAGED                                                                                    |       |\n",
      "|Provider                    |hive                                                                                       |       |\n",
      "|Table Properties            |[transient_lastDdlTime=1685476157]                                                         |       |\n",
      "|Statistics                  |2999944 bytes                                                                              |       |\n",
      "|Location                    |hdfs://m01.itversity.com:9000/user/itv005077/warehouse/itv005077_database.db/orders_managed|       |\n",
      "|Serde Library               |org.apache.hadoop.hive.serde2.lazy.LazySimpleSerDe                                         |       |\n",
      "|InputFormat                 |org.apache.hadoop.mapred.TextInputFormat                                                   |       |\n",
      "|OutputFormat                |org.apache.hadoop.hive.ql.io.HiveIgnoreKeyTextOutputFormat                                 |       |\n",
      "+----------------------------+-------------------------------------------------------------------------------------------+-------+\n",
      "only showing top 20 rows\n",
      "\n"
     ]
    }
   ],
   "source": [
    "spark.sql('describe formatted itv005077_database.orders_managed').show(truncate=False)"
   ]
  },
  {
   "cell_type": "code",
   "execution_count": 22,
   "id": "ca41ab88",
   "metadata": {},
   "outputs": [
    {
     "name": "stdout",
     "output_type": "stream",
     "text": [
      "+-----------+---------------------+--------+---------------+\n",
      "|customer_id|order_date           |order_id|order_status   |\n",
      "+-----------+---------------------+--------+---------------+\n",
      "|11599      |2013-07-25 00:00:00.0|1       |CLOSED         |\n",
      "|256        |2013-07-25 00:00:00.0|2       |PENDING_PAYMENT|\n",
      "|12111      |2013-07-25 00:00:00.0|3       |COMPLETE       |\n",
      "|8827       |2013-07-25 00:00:00.0|4       |CLOSED         |\n",
      "|11318      |2013-07-25 00:00:00.0|5       |COMPLETE       |\n",
      "+-----------+---------------------+--------+---------------+\n",
      "only showing top 5 rows\n",
      "\n"
     ]
    }
   ],
   "source": [
    "spark.sql('select * from itv005077_database.orders_managed').show(5, truncate=False)"
   ]
  },
  {
   "cell_type": "code",
   "execution_count": 23,
   "id": "5dc35116",
   "metadata": {},
   "outputs": [
    {
     "name": "stdout",
     "output_type": "stream",
     "text": [
      "Found 1 items\n",
      "drwxr-xr-x   - itv005077 supergroup          0 2023-05-30 15:49 warehouse/itv005077_database.db\n"
     ]
    }
   ],
   "source": [
    "!hadoop fs -ls warehouse"
   ]
  },
  {
   "cell_type": "code",
   "execution_count": 24,
   "id": "a34b763e",
   "metadata": {},
   "outputs": [
    {
     "name": "stdout",
     "output_type": "stream",
     "text": [
      "Found 1 items\n",
      "drwxr-xr-x   - itv005077 supergroup          0 2023-05-30 15:49 warehouse/itv005077_database.db/orders_managed\n"
     ]
    }
   ],
   "source": [
    "!hadoop fs -ls warehouse/itv005077_database.db"
   ]
  },
  {
   "cell_type": "code",
   "execution_count": 25,
   "id": "3ac8ac17",
   "metadata": {},
   "outputs": [
    {
     "name": "stdout",
     "output_type": "stream",
     "text": [
      "Found 2 items\n",
      "-rwxr-xr-x   3 itv005077 supergroup    2389173 2023-05-30 15:49 warehouse/itv005077_database.db/orders_managed/part-00000-fbc6c8f2-5c8f-4871-90cf-e9b66f07f0a2-c000\n",
      "-rwxr-xr-x   3 itv005077 supergroup     610771 2023-05-30 15:49 warehouse/itv005077_database.db/orders_managed/part-00001-fbc6c8f2-5c8f-4871-90cf-e9b66f07f0a2-c000\n"
     ]
    }
   ],
   "source": [
    "!hadoop fs -ls warehouse/itv005077_database.db/orders_managed"
   ]
  },
  {
   "cell_type": "code",
   "execution_count": 26,
   "id": "853d3a2d",
   "metadata": {},
   "outputs": [
    {
     "data": {
      "text/plain": [
       "2"
      ]
     },
     "execution_count": 26,
     "metadata": {},
     "output_type": "execute_result"
    }
   ],
   "source": [
    "df.rdd.getNumPartitions()"
   ]
  },
  {
   "cell_type": "code",
   "execution_count": 27,
   "id": "8022abda",
   "metadata": {},
   "outputs": [
    {
     "name": "stdout",
     "output_type": "stream",
     "text": [
      "head: `warehouse/itv005077_database.db/orders_managed/part-00000-d5c4f3a4-c866-401d-8a81-eb1918f6133f-c000': No such file or directory\n"
     ]
    }
   ],
   "source": [
    "!hadoop fs -head warehouse/itv005077_database.db/orders_managed/part-00000-d5c4f3a4-c866-401d-8a81-eb1918f6133f-c000"
   ]
  },
  {
   "cell_type": "code",
   "execution_count": 28,
   "id": "3015de50",
   "metadata": {},
   "outputs": [
    {
     "name": "stdout",
     "output_type": "stream",
     "text": [
      "Usage: hdfs fsck <path> [-list-corruptfileblocks | [-move | -delete | -openforwrite] [-files [-blocks [-locations | -racks | -replicaDetails | -upgradedomains]]]] [-includeSnapshots] [-showprogress] [-storagepolicies] [-maintenance] [-blockId <blk_Id>] [-replicate]\n",
      "\t<path>\tstart checking from this path\n",
      "\t-move\tmove corrupted files to /lost+found\n",
      "\t-delete\tdelete corrupted files\n",
      "\t-files\tprint out files being checked\n",
      "\t-openforwrite\tprint out files opened for write\n",
      "\t-includeSnapshots\tinclude snapshot data if the given path indicates a snapshottable directory or there are snapshottable directories under it\n",
      "\t-list-corruptfileblocks\tprint out list of missing blocks and files they belong to\n",
      "\t-files -blocks\tprint out block report\n",
      "\t-files -blocks -locations\tprint out locations for every block\n",
      "\t-files -blocks -racks\tprint out network topology for data-node locations\n",
      "\t-files -blocks -replicaDetails\tprint out each replica details \n",
      "\t-files -blocks -upgradedomains\tprint out upgrade domains for every block\n",
      "\t-storagepolicies\tprint out storage policy summary for the blocks\n",
      "\t-maintenance\tprint out maintenance state node details\n",
      "\t-showprogress\tDeprecated. Progress is now shown by default\n",
      "\t-blockId\tprint out which file this blockId belongs to, locations (nodes, racks) of this block, and other diagnostics info (under replicated, corrupted or not, etc)\n",
      "\t-replicate initiate replication work to make mis-replicated\n",
      " blocks satisfy block placement policy\n",
      "\n",
      "Please Note:\n",
      "\n",
      "\t1. By default fsck ignores files opened for write, use -openforwrite to report such files. They are usually  tagged CORRUPT or HEALTHY depending on their block allocation status\n",
      "\t2. Option -includeSnapshots should not be used for comparing stats, should be used only for HEALTH check, as this may contain duplicates if the same file present in both original fs tree and inside snapshots.\n",
      "\n",
      "Generic options supported are:\n",
      "-conf <configuration file>        specify an application configuration file\n",
      "-D <property=value>               define a value for a given property\n",
      "-fs <file:///|hdfs://namenode:port> specify default filesystem URL to use, overrides 'fs.defaultFS' property from configurations.\n",
      "-jt <local|resourcemanager:port>  specify a ResourceManager\n",
      "-files <file1,...>                specify a comma-separated list of files to be copied to the map reduce cluster\n",
      "-libjars <jar1,...>               specify a comma-separated list of jar files to be included in the classpath\n",
      "-archives <archive1,...>          specify a comma-separated list of archives to be unarchived on the compute machines\n",
      "\n",
      "The general command line syntax is:\n",
      "command [genericOptions] [commandOptions]\n",
      "\n"
     ]
    }
   ],
   "source": [
    "!hdfs fsck -help"
   ]
  },
  {
   "cell_type": "code",
   "execution_count": 29,
   "id": "dd269bf8",
   "metadata": {},
   "outputs": [
    {
     "name": "stdout",
     "output_type": "stream",
     "text": [
      "FileSystem is inaccessible due to:\n",
      "java.io.FileNotFoundException: File does not exist: hdfs://m01.itversity.com:9000/user/itv005077/warehouse/itv005077_database.db/orders_managed/part-00001-d5c4f3a4-c866-401d-8a81-eb1918f6133f-c000\n",
      "DFSck exiting.\n"
     ]
    }
   ],
   "source": [
    "!hdfs fsck warehouse/itv005077_database.db/orders_managed/part-00001-d5c4f3a4-c866-401d-8a81-eb1918f6133f-c000 -files -blocks -locations"
   ]
  },
  {
   "cell_type": "code",
   "execution_count": 30,
   "id": "f6fac392",
   "metadata": {},
   "outputs": [
    {
     "data": {
      "text/html": [
       "<table border='1'>\n",
       "<tr><th></th></tr>\n",
       "</table>\n"
      ],
      "text/plain": [
       "++\n",
       "||\n",
       "++\n",
       "++"
      ]
     },
     "execution_count": 30,
     "metadata": {},
     "output_type": "execute_result"
    }
   ],
   "source": [
    "spark.sql('drop table itv005077_database.orders_external')"
   ]
  },
  {
   "cell_type": "code",
   "execution_count": 31,
   "id": "c3f9dfcf",
   "metadata": {},
   "outputs": [
    {
     "name": "stdout",
     "output_type": "stream",
     "text": [
      "Found 2 items\n",
      "-rw-r--r--   3 itv005857 supergroup          0 2023-05-04 07:42 /public/trendytech/orders_wh.json/_SUCCESS\n",
      "-rw-r--r--   3 itv005857 supergroup    7064041 2023-05-04 07:42 /public/trendytech/orders_wh.json/part-00000-68544d18-9a34-443f-bf0e-1dd8103ff94e-c000.json\n"
     ]
    }
   ],
   "source": [
    "!hadoop fs -ls /public/trendytech/orders_wh.json/"
   ]
  },
  {
   "cell_type": "code",
   "execution_count": 32,
   "id": "a3e1ce4e",
   "metadata": {},
   "outputs": [
    {
     "data": {
      "text/html": [
       "<table border='1'>\n",
       "<tr><th></th></tr>\n",
       "</table>\n"
      ],
      "text/plain": [
       "++\n",
       "||\n",
       "++\n",
       "++"
      ]
     },
     "execution_count": 32,
     "metadata": {},
     "output_type": "execute_result"
    }
   ],
   "source": [
    "spark.sql('drop table itv005077_database.orders_managed')"
   ]
  },
  {
   "cell_type": "code",
   "execution_count": 33,
   "id": "e1327876",
   "metadata": {},
   "outputs": [
    {
     "name": "stdout",
     "output_type": "stream",
     "text": [
      "Found 1 items\n",
      "drwxr-xr-x   - itv005077 supergroup          0 2023-05-30 15:49 warehouse/itv005077_database.db\n"
     ]
    }
   ],
   "source": [
    "!hadoop fs -ls warehouse"
   ]
  },
  {
   "cell_type": "code",
   "execution_count": 34,
   "id": "18fcdd2b",
   "metadata": {},
   "outputs": [],
   "source": [
    "!hadoop fs -ls warehouse/itv005077_database.db"
   ]
  },
  {
   "cell_type": "code",
   "execution_count": 35,
   "id": "71a6932d",
   "metadata": {},
   "outputs": [
    {
     "data": {
      "text/html": [
       "<table border='1'>\n",
       "<tr><th>database</th><th>tableName</th><th>isTemporary</th></tr>\n",
       "</table>\n"
      ],
      "text/plain": [
       "+--------+---------+-----------+\n",
       "|database|tableName|isTemporary|\n",
       "+--------+---------+-----------+\n",
       "+--------+---------+-----------+"
      ]
     },
     "execution_count": 35,
     "metadata": {},
     "output_type": "execute_result"
    }
   ],
   "source": [
    "spark.sql('show tables')"
   ]
  },
  {
   "cell_type": "code",
   "execution_count": 36,
   "id": "0b4d5e08",
   "metadata": {},
   "outputs": [
    {
     "data": {
      "text/html": [
       "<table border='1'>\n",
       "<tr><th></th></tr>\n",
       "</table>\n"
      ],
      "text/plain": [
       "++\n",
       "||\n",
       "++\n",
       "++"
      ]
     },
     "execution_count": 36,
     "metadata": {},
     "output_type": "execute_result"
    }
   ],
   "source": [
    "spark.sql('drop database itv005077_database')"
   ]
  },
  {
   "cell_type": "code",
   "execution_count": 37,
   "id": "a3096c4b",
   "metadata": {},
   "outputs": [],
   "source": [
    "!hadoop fs -ls warehouse"
   ]
  },
  {
   "cell_type": "code",
   "execution_count": 38,
   "id": "7e93e5e3",
   "metadata": {},
   "outputs": [],
   "source": [
    "spark.stop()"
   ]
  }
 ],
 "metadata": {
  "kernelspec": {
   "display_name": "Pyspark 3",
   "language": "python",
   "name": "pyspark3"
  },
  "language_info": {
   "codemirror_mode": {
    "name": "ipython",
    "version": 3
   },
   "file_extension": ".py",
   "mimetype": "text/x-python",
   "name": "python",
   "nbconvert_exporter": "python",
   "pygments_lexer": "ipython3",
   "version": "3.6.12"
  }
 },
 "nbformat": 4,
 "nbformat_minor": 5
}
