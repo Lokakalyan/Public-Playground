{
 "cells": [
  {
   "cell_type": "code",
   "execution_count": 1,
   "id": "f8bf7b0d",
   "metadata": {},
   "outputs": [
    {
     "name": "stdout",
     "output_type": "stream",
     "text": [
      "180\tWinston\tTaylor\tWTAYLOR\t650.507.9876\t1998-01-24\tSH_CLERK\t3200.00\tnull\t120\t50\n",
      "181\tJean\tFleaur\tJFLEAUR\t650.507.9877\t1998-02-23\tSH_CLERK\t3100.00\tnull\t120\t50\n",
      "182\tMartha\tSullivan\tMSULLIVA\t650.507.9878\t1999-06-21\tSH_CLERK\t2500.00\tnull\t120\t50\n",
      "183\tGirard\tGeoni\tGGEONI\t650.507.9879\t2000-02-03\tSH_CLERK\t2800.00\tnull\t120\t50\n",
      "184\tNandita\tSarchand\tNSARCHAN\t650.509.1876\t1996-01-27\tSH_CLERK\t4200.00\tnull\t121\t50\n",
      "185\tAlexis\tBull\tABULL\t650.509.2876\t1997-02-20\tSH_CLERK\t4100.00\tnull\t121\t50\n",
      "186\tJulia\tDellinger\tJDELLING\t650.509.3876\t1998-06-24\tSH_CLERK\t3400.00\tnull\t121\t50\n",
      "187\tAnthony\tCabrio\tACABRIO\t650.509.4876\t1999-02-07\tSH_CLERK\t3000.00\tnull\t121\t50\n",
      "188\tKelly\tChung\tKCHUNG\t650.505.1876\t1997-06-14\tSH_CLERK\t3800.00\tnull\t122\t50\n",
      "189\tJennifer\tDilly\tJDILLY\t650.505.2876\t1997-08-13\tSH_CLERK\t3600.00\tnull\t122\t50\n",
      "190\tTimothy\tGates\tTGATES\t650.505.3876\t1998-07-11\tSH_CLERK\t2900.00\tnull\t122\t50\n",
      "191\tRandall\tPerkins\tRPERKINS\t650.505.4876\t1999-12-19\tSH_CLERK\t2500.00\tnull\t122\t50\n",
      "192\tSarah\tBell\tSBELL\t650.501.1876\t1996-02-04\tSH_CLERK\t4000.00\tnull\t123\t50"
     ]
    }
   ],
   "source": [
    "!hadoop fs -head /public/hr_db/employees/part-m-00003"
   ]
  },
  {
   "cell_type": "code",
   "execution_count": 2,
   "id": "c5dbebb0",
   "metadata": {},
   "outputs": [],
   "source": [
    "import getpass as gp\n",
    "from pyspark.sql import SparkSession, types as T, functions as F, Window as W"
   ]
  },
  {
   "cell_type": "code",
   "execution_count": 3,
   "id": "118ae063",
   "metadata": {},
   "outputs": [
    {
     "data": {
      "text/plain": [
       "'itv005077'"
      ]
     },
     "execution_count": 3,
     "metadata": {},
     "output_type": "execute_result"
    }
   ],
   "source": [
    "user = gp.getuser()\n",
    "user"
   ]
  },
  {
   "cell_type": "code",
   "execution_count": 4,
   "id": "578d0efc",
   "metadata": {},
   "outputs": [],
   "source": [
    "spark = SparkSession.builder \\\n",
    "    .appName(f'{user}-Week-8-Assignment-3') \\\n",
    "    .master('yarn') \\\n",
    "    .config('spark.sql.warehouse.dir', f'/user/{user}/warehouse/') \\\n",
    "    .config('spark.sql.catalogImplementation', 'hive') \\\n",
    "    .enableHiveSupport() \\\n",
    "    .getOrCreate()"
   ]
  },
  {
   "cell_type": "code",
   "execution_count": 5,
   "id": "4fc3b4a5",
   "metadata": {},
   "outputs": [
    {
     "data": {
      "text/html": [
       "\n",
       "            <div>\n",
       "                <p><b>SparkSession - hive</b></p>\n",
       "                \n",
       "        <div>\n",
       "            <p><b>SparkContext</b></p>\n",
       "\n",
       "            <p><a href=\"http://g02.itversity.com:4040\">Spark UI</a></p>\n",
       "\n",
       "            <dl>\n",
       "              <dt>Version</dt>\n",
       "                <dd><code>v3.0.1</code></dd>\n",
       "              <dt>Master</dt>\n",
       "                <dd><code>yarn</code></dd>\n",
       "              <dt>AppName</dt>\n",
       "                <dd><code>itv005077-Week-8-Assignment-3</code></dd>\n",
       "            </dl>\n",
       "        </div>\n",
       "        \n",
       "            </div>\n",
       "        "
      ],
      "text/plain": [
       "<pyspark.sql.session.SparkSession at 0x7efd67b7ccc0>"
      ]
     },
     "execution_count": 5,
     "metadata": {},
     "output_type": "execute_result"
    }
   ],
   "source": [
    "spark"
   ]
  },
  {
   "cell_type": "code",
   "execution_count": 6,
   "id": "d364454c",
   "metadata": {},
   "outputs": [],
   "source": [
    "schema = T.StructType([\n",
    "    T.StructField('employee_id', T.IntegerType()),\n",
    "    T.StructField('first_name', T.StringType()),\n",
    "    T.StructField('last_name', T.StringType()),\n",
    "    T.StructField('email', T.StringType()),\n",
    "    T.StructField('phone_number', T.StringType()),\n",
    "    T.StructField('hire_date', T.DateType()),\n",
    "    T.StructField('job_id', T.StringType()),\n",
    "    T.StructField('salary', T.FloatType()),\n",
    "    T.StructField('commission_pct', T.FloatType()),\n",
    "    T.StructField('manager_id', T.IntegerType()),\n",
    "    T.StructField('department_id', T.IntegerType()),\n",
    "])"
   ]
  },
  {
   "cell_type": "code",
   "execution_count": 7,
   "id": "d5ae7380",
   "metadata": {},
   "outputs": [],
   "source": [
    "df_employee = spark.read \\\n",
    "    .format('csv') \\\n",
    "    .option('delimiter', '\\t') \\\n",
    "    .schema(schema) \\\n",
    "    .load('/public/hr_db/employees/')"
   ]
  },
  {
   "cell_type": "code",
   "execution_count": 8,
   "id": "1b2cf4ce",
   "metadata": {},
   "outputs": [
    {
     "name": "stdout",
     "output_type": "stream",
     "text": [
      "+-----------+----------+---------+--------+------------+----------+--------+------+--------------+----------+-------------+\n",
      "|employee_id|first_name|last_name|   email|phone_number| hire_date|  job_id|salary|commission_pct|manager_id|department_id|\n",
      "+-----------+----------+---------+--------+------------+----------+--------+------+--------------+----------+-------------+\n",
      "|        127|     James|   Landry| JLANDRY|650.124.1334|1999-01-14|ST_CLERK|2400.0|          null|       120|           50|\n",
      "|        128|    Steven|   Markle| SMARKLE|650.124.1434|2000-03-08|ST_CLERK|2200.0|          null|       120|           50|\n",
      "|        129|     Laura|   Bissot| LBISSOT|650.124.5234|1997-08-20|ST_CLERK|3300.0|          null|       121|           50|\n",
      "|        130|     Mozhe| Atkinson|MATKINSO|650.124.6234|1997-10-30|ST_CLERK|2800.0|          null|       121|           50|\n",
      "|        131|     James|   Marlow| JAMRLOW|650.124.7234|1997-02-16|ST_CLERK|2500.0|          null|       121|           50|\n",
      "+-----------+----------+---------+--------+------------+----------+--------+------+--------------+----------+-------------+\n",
      "only showing top 5 rows\n",
      "\n"
     ]
    }
   ],
   "source": [
    "df_employee.show(5)"
   ]
  },
  {
   "cell_type": "markdown",
   "id": "590c3eb9",
   "metadata": {},
   "source": [
    "# 1. ROW_NUMBER"
   ]
  },
  {
   "cell_type": "markdown",
   "id": "98c5534c",
   "metadata": {},
   "source": [
    "## Programatic Approach"
   ]
  },
  {
   "cell_type": "code",
   "execution_count": 9,
   "id": "ca1fa2d5",
   "metadata": {},
   "outputs": [],
   "source": [
    "# Order By No Partition By with Window Frame\n",
    "window = W.orderBy(F.desc('employee_id')).rowsBetween(W.unboundedPreceding, W.currentRow)"
   ]
  },
  {
   "cell_type": "code",
   "execution_count": 10,
   "id": "1439b61a",
   "metadata": {},
   "outputs": [
    {
     "name": "stdout",
     "output_type": "stream",
     "text": [
      "+-----------+----------+---------+--------+------------+----------+----------+-------+--------------+----------+-------------+-------+\n",
      "|employee_id|first_name|last_name|   email|phone_number| hire_date|    job_id| salary|commission_pct|manager_id|department_id|row_num|\n",
      "+-----------+----------+---------+--------+------------+----------+----------+-------+--------------+----------+-------------+-------+\n",
      "|        206|   William|    Gietz|  WGIETZ|515.123.8181|1994-06-07|AC_ACCOUNT| 8300.0|          null|       205|          110|      1|\n",
      "|        205|   Shelley|  Higgins|SHIGGINS|515.123.8080|1994-06-07|    AC_MGR|12000.0|          null|       101|          110|      2|\n",
      "|        204|   Hermann|     Baer|   HBAER|515.123.8888|1994-06-07|    PR_REP|10000.0|          null|       101|           70|      3|\n",
      "|        203|     Susan|   Mavris| SMAVRIS|515.123.7777|1994-06-07|    HR_REP| 6500.0|          null|       101|           40|      4|\n",
      "|        202|       Pat|      Fay|    PFAY|603.123.6666|1997-08-17|    MK_REP| 6000.0|          null|       201|           20|      5|\n",
      "|        201|   Michael|Hartstein|MHARTSTE|515.123.5555|1996-02-17|    MK_MAN|13000.0|          null|       100|           20|      6|\n",
      "|        200|  Jennifer|   Whalen| JWHALEN|515.123.4444|1987-09-17|   AD_ASST| 4400.0|          null|       101|           10|      7|\n",
      "|        199|   Douglas|    Grant|  DGRANT|650.507.9844|2000-01-13|  SH_CLERK| 2600.0|          null|       124|           50|      8|\n",
      "|        198|    Donald| OConnell|DOCONNEL|650.507.9833|1999-06-21|  SH_CLERK| 2600.0|          null|       124|           50|      9|\n",
      "|        197|     Kevin|   Feeney| KFEENEY|650.507.9822|1998-05-23|  SH_CLERK| 3000.0|          null|       124|           50|     10|\n",
      "|        196|     Alana|    Walsh|  AWALSH|650.507.9811|1998-04-24|  SH_CLERK| 3100.0|          null|       124|           50|     11|\n",
      "|        195|     Vance|    Jones|  VJONES|650.501.4876|1999-03-17|  SH_CLERK| 2800.0|          null|       123|           50|     12|\n",
      "|        194|    Samuel|   McCain| SMCCAIN|650.501.3876|1998-07-01|  SH_CLERK| 3200.0|          null|       123|           50|     13|\n",
      "|        193|   Britney|  Everett|BEVERETT|650.501.2876|1997-03-03|  SH_CLERK| 3900.0|          null|       123|           50|     14|\n",
      "|        192|     Sarah|     Bell|   SBELL|650.501.1876|1996-02-04|  SH_CLERK| 4000.0|          null|       123|           50|     15|\n",
      "|        191|   Randall|  Perkins|RPERKINS|650.505.4876|1999-12-19|  SH_CLERK| 2500.0|          null|       122|           50|     16|\n",
      "|        190|   Timothy|    Gates|  TGATES|650.505.3876|1998-07-11|  SH_CLERK| 2900.0|          null|       122|           50|     17|\n",
      "|        189|  Jennifer|    Dilly|  JDILLY|650.505.2876|1997-08-13|  SH_CLERK| 3600.0|          null|       122|           50|     18|\n",
      "|        188|     Kelly|    Chung|  KCHUNG|650.505.1876|1997-06-14|  SH_CLERK| 3800.0|          null|       122|           50|     19|\n",
      "|        187|   Anthony|   Cabrio| ACABRIO|650.509.4876|1999-02-07|  SH_CLERK| 3000.0|          null|       121|           50|     20|\n",
      "+-----------+----------+---------+--------+------------+----------+----------+-------+--------------+----------+-------------+-------+\n",
      "only showing top 20 rows\n",
      "\n"
     ]
    }
   ],
   "source": [
    "df_employee \\\n",
    ".withColumn('row_num', F.row_number().over(window)) \\\n",
    ".show()"
   ]
  },
  {
   "cell_type": "markdown",
   "id": "094ebca5",
   "metadata": {},
   "source": [
    "## SPARK SQL Approach"
   ]
  },
  {
   "cell_type": "code",
   "execution_count": 11,
   "id": "f02bd4c2",
   "metadata": {},
   "outputs": [],
   "source": [
    "df_employee.createOrReplaceTempView('employees')"
   ]
  },
  {
   "cell_type": "code",
   "execution_count": 12,
   "id": "fb28bc72",
   "metadata": {},
   "outputs": [
    {
     "name": "stdout",
     "output_type": "stream",
     "text": [
      "+-----------+----------+---------+--------+------------+----------+----------+-------+--------------+----------+-------------+-------+\n",
      "|employee_id|first_name|last_name|   email|phone_number| hire_date|    job_id| salary|commission_pct|manager_id|department_id|row_num|\n",
      "+-----------+----------+---------+--------+------------+----------+----------+-------+--------------+----------+-------------+-------+\n",
      "|        206|   William|    Gietz|  WGIETZ|515.123.8181|1994-06-07|AC_ACCOUNT| 8300.0|          null|       205|          110|      1|\n",
      "|        205|   Shelley|  Higgins|SHIGGINS|515.123.8080|1994-06-07|    AC_MGR|12000.0|          null|       101|          110|      2|\n",
      "|        204|   Hermann|     Baer|   HBAER|515.123.8888|1994-06-07|    PR_REP|10000.0|          null|       101|           70|      3|\n",
      "|        203|     Susan|   Mavris| SMAVRIS|515.123.7777|1994-06-07|    HR_REP| 6500.0|          null|       101|           40|      4|\n",
      "|        202|       Pat|      Fay|    PFAY|603.123.6666|1997-08-17|    MK_REP| 6000.0|          null|       201|           20|      5|\n",
      "|        201|   Michael|Hartstein|MHARTSTE|515.123.5555|1996-02-17|    MK_MAN|13000.0|          null|       100|           20|      6|\n",
      "|        200|  Jennifer|   Whalen| JWHALEN|515.123.4444|1987-09-17|   AD_ASST| 4400.0|          null|       101|           10|      7|\n",
      "|        199|   Douglas|    Grant|  DGRANT|650.507.9844|2000-01-13|  SH_CLERK| 2600.0|          null|       124|           50|      8|\n",
      "|        198|    Donald| OConnell|DOCONNEL|650.507.9833|1999-06-21|  SH_CLERK| 2600.0|          null|       124|           50|      9|\n",
      "|        197|     Kevin|   Feeney| KFEENEY|650.507.9822|1998-05-23|  SH_CLERK| 3000.0|          null|       124|           50|     10|\n",
      "|        196|     Alana|    Walsh|  AWALSH|650.507.9811|1998-04-24|  SH_CLERK| 3100.0|          null|       124|           50|     11|\n",
      "|        195|     Vance|    Jones|  VJONES|650.501.4876|1999-03-17|  SH_CLERK| 2800.0|          null|       123|           50|     12|\n",
      "|        194|    Samuel|   McCain| SMCCAIN|650.501.3876|1998-07-01|  SH_CLERK| 3200.0|          null|       123|           50|     13|\n",
      "|        193|   Britney|  Everett|BEVERETT|650.501.2876|1997-03-03|  SH_CLERK| 3900.0|          null|       123|           50|     14|\n",
      "|        192|     Sarah|     Bell|   SBELL|650.501.1876|1996-02-04|  SH_CLERK| 4000.0|          null|       123|           50|     15|\n",
      "|        191|   Randall|  Perkins|RPERKINS|650.505.4876|1999-12-19|  SH_CLERK| 2500.0|          null|       122|           50|     16|\n",
      "|        190|   Timothy|    Gates|  TGATES|650.505.3876|1998-07-11|  SH_CLERK| 2900.0|          null|       122|           50|     17|\n",
      "|        189|  Jennifer|    Dilly|  JDILLY|650.505.2876|1997-08-13|  SH_CLERK| 3600.0|          null|       122|           50|     18|\n",
      "|        188|     Kelly|    Chung|  KCHUNG|650.505.1876|1997-06-14|  SH_CLERK| 3800.0|          null|       122|           50|     19|\n",
      "|        187|   Anthony|   Cabrio| ACABRIO|650.509.4876|1999-02-07|  SH_CLERK| 3000.0|          null|       121|           50|     20|\n",
      "+-----------+----------+---------+--------+------------+----------+----------+-------+--------------+----------+-------------+-------+\n",
      "only showing top 20 rows\n",
      "\n"
     ]
    }
   ],
   "source": [
    "spark.sql('''\n",
    "    SELECT *,\n",
    "           row_number() over (order by employee_id desc rows between unbounded preceding and current row) as row_num\n",
    "    FROM employees\n",
    "''') \\\n",
    ".show()"
   ]
  },
  {
   "cell_type": "markdown",
   "id": "496b8bc5",
   "metadata": {},
   "source": [
    "# 2. RANK"
   ]
  },
  {
   "cell_type": "markdown",
   "id": "41a01faa",
   "metadata": {},
   "source": [
    "## Programatic Approach"
   ]
  },
  {
   "cell_type": "code",
   "execution_count": 13,
   "id": "dfb1be55",
   "metadata": {},
   "outputs": [],
   "source": [
    "# Parttion By and Order By with Window Frame\n",
    "window = W.partitionBy('department_id', 'job_id').orderBy(F.desc('salary')).rowsBetween(W.unboundedPreceding, W.currentRow)"
   ]
  },
  {
   "cell_type": "code",
   "execution_count": 14,
   "id": "bc997971",
   "metadata": {},
   "outputs": [
    {
     "name": "stdout",
     "output_type": "stream",
     "text": [
      "+-----------+----------+---------+--------+------------------+----------+-------+-------+--------------+----------+-------------+---+\n",
      "|employee_id|first_name|last_name|   email|      phone_number| hire_date| job_id| salary|commission_pct|manager_id|department_id|rnk|\n",
      "+-----------+----------+---------+--------+------------------+----------+-------+-------+--------------+----------+-------------+---+\n",
      "|        100|    Steven|     King|   SKING|      515.123.4567|1987-06-17|AD_PRES|24000.0|          null|      null|           90|  1|\n",
      "|        114|       Den| Raphaely|DRAPHEAL|      515.127.4561|1994-12-07| PU_MAN|11000.0|          null|       100|           30|  1|\n",
      "|        204|   Hermann|     Baer|   HBAER|      515.123.8888|1994-06-07| PR_REP|10000.0|          null|       101|           70|  1|\n",
      "|        121|      Adam|    Fripp|  AFRIPP|      650.123.2234|1997-04-10| ST_MAN| 8200.0|          null|       100|           50|  1|\n",
      "|        120|   Matthew|    Weiss|  MWEISS|      650.123.1234|1996-07-18| ST_MAN| 8000.0|          null|       100|           50|  2|\n",
      "|        122|     Payam| Kaufling|PKAUFLIN|      650.123.3234|1995-05-01| ST_MAN| 7900.0|          null|       100|           50|  3|\n",
      "|        123|    Shanta|  Vollman|SVOLLMAN|      650.123.4234|1997-10-10| ST_MAN| 6500.0|          null|       100|           50|  4|\n",
      "|        124|     Kevin|  Mourgos|KMOURGOS|      650.123.5234|1999-11-16| ST_MAN| 5800.0|          null|       100|           50|  5|\n",
      "|        168|      Lisa|     Ozer|   LOZER|011.44.1343.929268|1997-03-11| SA_REP|11500.0|          0.25|       148|           80|  1|\n",
      "|        174|     Ellen|     Abel|   EABEL|011.44.1644.429267|1996-05-11| SA_REP|11000.0|           0.3|       149|           80|  2|\n",
      "|        162|     Clara|  Vishney|CVISHNEY|011.44.1346.129268|1997-11-11| SA_REP|10500.0|          0.25|       147|           80|  3|\n",
      "|        150|     Peter|   Tucker| PTUCKER|011.44.1344.129268|1997-01-30| SA_REP|10000.0|           0.3|       145|           80|  4|\n",
      "|        156|   Janette|     King|   JKING|011.44.1345.429268|1996-01-30| SA_REP|10000.0|          0.35|       146|           80|  4|\n",
      "|        169|  Harrison|    Bloom|  HBLOOM|011.44.1343.829268|1998-03-23| SA_REP|10000.0|           0.2|       148|           80|  4|\n",
      "|        170|    Tayler|      Fox|    TFOX|011.44.1343.729268|1998-01-24| SA_REP| 9600.0|           0.2|       148|           80|  7|\n",
      "|        151|     David|Bernstein|DBERNSTE|011.44.1344.345268|1997-03-24| SA_REP| 9500.0|          0.25|       145|           80|  8|\n",
      "|        157|   Patrick|    Sully|  PSULLY|011.44.1345.929268|1996-03-04| SA_REP| 9500.0|          0.35|       146|           80|  8|\n",
      "|        163|  Danielle|   Greene| DGREENE|011.44.1346.229268|1999-03-19| SA_REP| 9500.0|          0.15|       147|           80|  8|\n",
      "|        152|     Peter|     Hall|   PHALL|011.44.1344.478968|1997-08-20| SA_REP| 9000.0|          0.25|       145|           80| 11|\n",
      "|        158|     Allan|   McEwen| AMCEWEN|011.44.1345.829268|1996-08-01| SA_REP| 9000.0|          0.35|       146|           80| 11|\n",
      "+-----------+----------+---------+--------+------------------+----------+-------+-------+--------------+----------+-------------+---+\n",
      "only showing top 20 rows\n",
      "\n"
     ]
    }
   ],
   "source": [
    "df_employee \\\n",
    ".withColumn('rnk', F.rank().over(window)) \\\n",
    ".show()\n",
    "\n",
    "# |        168|      Lisa|     Ozer|   LOZER|011.44.1343.929268|1997-03-11| SA_REP|11500.0|          0.25|       148|           80|  1|\n",
    "# |        174|     Ellen|     Abel|   EABEL|011.44.1644.429267|1996-05-11| SA_REP|11000.0|           0.3|       149|           80|  2|\n",
    "# |        162|     Clara|  Vishney|CVISHNEY|011.44.1346.129268|1997-11-11| SA_REP|10500.0|          0.25|       147|           80|  3|\n",
    "# |        150|     Peter|   Tucker| PTUCKER|011.44.1344.129268|1997-01-30| SA_REP|10000.0|           0.3|       145|           80|  4|\n",
    "# |        156|   Janette|     King|   JKING|011.44.1345.429268|1996-01-30| SA_REP|10000.0|          0.35|       146|           80|  4|\n",
    "# |        169|  Harrison|    Bloom|  HBLOOM|011.44.1343.829268|1998-03-23| SA_REP|10000.0|           0.2|       148|           80|  4|\n",
    "# |        170|    Tayler|      Fox|    TFOX|011.44.1343.729268|1998-01-24| SA_REP| 9600.0|           0.2|       148|           80|  7|<<<===\n",
    "# |        151|     David|Bernstein|DBERNSTE|011.44.1344.345268|1997-03-24| SA_REP| 9500.0|          0.25|       145|           80|  8|\n",
    "# |        157|   Patrick|    Sully|  PSULLY|011.44.1345.929268|1996-03-04| SA_REP| 9500.0|          0.35|       146|           80|  8|\n",
    "# |        163|  Danielle|   Greene| DGREENE|011.44.1346.229268|1999-03-19| SA_REP| 9500.0|          0.15|       147|           80|  8|\n",
    "# |        152|     Peter|     Hall|   PHALL|011.44.1344.478968|1997-08-20| SA_REP| 9000.0|          0.25|       145|           80| 11|<<<===\n",
    "# |        158|     Allan|   McEwen| AMCEWEN|011.44.1345.829268|1996-08-01| SA_REP| 9000.0|          0.35|       146|           80| 11|"
   ]
  },
  {
   "cell_type": "markdown",
   "id": "1c3c19d8",
   "metadata": {},
   "source": [
    "## SPARK SQL Approach"
   ]
  },
  {
   "cell_type": "code",
   "execution_count": 15,
   "id": "8623ba1c",
   "metadata": {},
   "outputs": [],
   "source": [
    "df_employee.createOrReplaceTempView('employees')"
   ]
  },
  {
   "cell_type": "code",
   "execution_count": 16,
   "id": "7bfb04af",
   "metadata": {},
   "outputs": [
    {
     "name": "stdout",
     "output_type": "stream",
     "text": [
      "+-----------+----------+---------+--------+------------------+----------+-------+-------+--------------+----------+-------------+---+\n",
      "|employee_id|first_name|last_name|   email|      phone_number| hire_date| job_id| salary|commission_pct|manager_id|department_id|rnk|\n",
      "+-----------+----------+---------+--------+------------------+----------+-------+-------+--------------+----------+-------------+---+\n",
      "|        100|    Steven|     King|   SKING|      515.123.4567|1987-06-17|AD_PRES|24000.0|          null|      null|           90|  1|\n",
      "|        114|       Den| Raphaely|DRAPHEAL|      515.127.4561|1994-12-07| PU_MAN|11000.0|          null|       100|           30|  1|\n",
      "|        204|   Hermann|     Baer|   HBAER|      515.123.8888|1994-06-07| PR_REP|10000.0|          null|       101|           70|  1|\n",
      "|        121|      Adam|    Fripp|  AFRIPP|      650.123.2234|1997-04-10| ST_MAN| 8200.0|          null|       100|           50|  1|\n",
      "|        120|   Matthew|    Weiss|  MWEISS|      650.123.1234|1996-07-18| ST_MAN| 8000.0|          null|       100|           50|  2|\n",
      "|        122|     Payam| Kaufling|PKAUFLIN|      650.123.3234|1995-05-01| ST_MAN| 7900.0|          null|       100|           50|  3|\n",
      "|        123|    Shanta|  Vollman|SVOLLMAN|      650.123.4234|1997-10-10| ST_MAN| 6500.0|          null|       100|           50|  4|\n",
      "|        124|     Kevin|  Mourgos|KMOURGOS|      650.123.5234|1999-11-16| ST_MAN| 5800.0|          null|       100|           50|  5|\n",
      "|        168|      Lisa|     Ozer|   LOZER|011.44.1343.929268|1997-03-11| SA_REP|11500.0|          0.25|       148|           80|  1|\n",
      "|        174|     Ellen|     Abel|   EABEL|011.44.1644.429267|1996-05-11| SA_REP|11000.0|           0.3|       149|           80|  2|\n",
      "|        162|     Clara|  Vishney|CVISHNEY|011.44.1346.129268|1997-11-11| SA_REP|10500.0|          0.25|       147|           80|  3|\n",
      "|        150|     Peter|   Tucker| PTUCKER|011.44.1344.129268|1997-01-30| SA_REP|10000.0|           0.3|       145|           80|  4|\n",
      "|        156|   Janette|     King|   JKING|011.44.1345.429268|1996-01-30| SA_REP|10000.0|          0.35|       146|           80|  4|\n",
      "|        169|  Harrison|    Bloom|  HBLOOM|011.44.1343.829268|1998-03-23| SA_REP|10000.0|           0.2|       148|           80|  4|\n",
      "|        170|    Tayler|      Fox|    TFOX|011.44.1343.729268|1998-01-24| SA_REP| 9600.0|           0.2|       148|           80|  7|\n",
      "|        151|     David|Bernstein|DBERNSTE|011.44.1344.345268|1997-03-24| SA_REP| 9500.0|          0.25|       145|           80|  8|\n",
      "|        157|   Patrick|    Sully|  PSULLY|011.44.1345.929268|1996-03-04| SA_REP| 9500.0|          0.35|       146|           80|  8|\n",
      "|        163|  Danielle|   Greene| DGREENE|011.44.1346.229268|1999-03-19| SA_REP| 9500.0|          0.15|       147|           80|  8|\n",
      "|        152|     Peter|     Hall|   PHALL|011.44.1344.478968|1997-08-20| SA_REP| 9000.0|          0.25|       145|           80| 11|\n",
      "|        158|     Allan|   McEwen| AMCEWEN|011.44.1345.829268|1996-08-01| SA_REP| 9000.0|          0.35|       146|           80| 11|\n",
      "+-----------+----------+---------+--------+------------------+----------+-------+-------+--------------+----------+-------------+---+\n",
      "only showing top 20 rows\n",
      "\n"
     ]
    }
   ],
   "source": [
    "spark.sql('''\n",
    "    SELECT *,\n",
    "           rank() over (partition by department_id, job_id order by salary desc rows between unbounded preceding and current row) as rnk\n",
    "    FROM employees\n",
    "''') \\\n",
    ".show()\n",
    "\n",
    "# |        168|      Lisa|     Ozer|   LOZER|011.44.1343.929268|1997-03-11| SA_REP|11500.0|          0.25|       148|           80|  1|\n",
    "# |        174|     Ellen|     Abel|   EABEL|011.44.1644.429267|1996-05-11| SA_REP|11000.0|           0.3|       149|           80|  2|\n",
    "# |        162|     Clara|  Vishney|CVISHNEY|011.44.1346.129268|1997-11-11| SA_REP|10500.0|          0.25|       147|           80|  3|\n",
    "# |        150|     Peter|   Tucker| PTUCKER|011.44.1344.129268|1997-01-30| SA_REP|10000.0|           0.3|       145|           80|  4|\n",
    "# |        156|   Janette|     King|   JKING|011.44.1345.429268|1996-01-30| SA_REP|10000.0|          0.35|       146|           80|  4|\n",
    "# |        169|  Harrison|    Bloom|  HBLOOM|011.44.1343.829268|1998-03-23| SA_REP|10000.0|           0.2|       148|           80|  4|\n",
    "# |        170|    Tayler|      Fox|    TFOX|011.44.1343.729268|1998-01-24| SA_REP| 9600.0|           0.2|       148|           80|  7|<<<===\n",
    "# |        151|     David|Bernstein|DBERNSTE|011.44.1344.345268|1997-03-24| SA_REP| 9500.0|          0.25|       145|           80|  8|\n",
    "# |        157|   Patrick|    Sully|  PSULLY|011.44.1345.929268|1996-03-04| SA_REP| 9500.0|          0.35|       146|           80|  8|\n",
    "# |        163|  Danielle|   Greene| DGREENE|011.44.1346.229268|1999-03-19| SA_REP| 9500.0|          0.15|       147|           80|  8|\n",
    "# |        152|     Peter|     Hall|   PHALL|011.44.1344.478968|1997-08-20| SA_REP| 9000.0|          0.25|       145|           80| 11|<<<===\n",
    "# |        158|     Allan|   McEwen| AMCEWEN|011.44.1345.829268|1996-08-01| SA_REP| 9000.0|          0.35|       146|           80| 11|"
   ]
  },
  {
   "cell_type": "markdown",
   "id": "9f2cbcb8",
   "metadata": {},
   "source": [
    "# 3. DENSE_RANK()"
   ]
  },
  {
   "cell_type": "markdown",
   "id": "859f17c9",
   "metadata": {},
   "source": [
    "## Programatic Approach"
   ]
  },
  {
   "cell_type": "code",
   "execution_count": 17,
   "id": "e728ce8d",
   "metadata": {},
   "outputs": [],
   "source": [
    "# Parttion By and Order By with Window Frame\n",
    "window = W.partitionBy('department_id', 'job_id').orderBy(F.desc('salary')).rowsBetween(W.unboundedPreceding, W.currentRow)"
   ]
  },
  {
   "cell_type": "code",
   "execution_count": 18,
   "id": "8cd5c57d",
   "metadata": {},
   "outputs": [
    {
     "name": "stdout",
     "output_type": "stream",
     "text": [
      "+-----------+----------+---------+--------+------------------+----------+-------+-------+--------------+----------+-------------+---------+\n",
      "|employee_id|first_name|last_name|   email|      phone_number| hire_date| job_id| salary|commission_pct|manager_id|department_id|dense_rnk|\n",
      "+-----------+----------+---------+--------+------------------+----------+-------+-------+--------------+----------+-------------+---------+\n",
      "|        100|    Steven|     King|   SKING|      515.123.4567|1987-06-17|AD_PRES|24000.0|          null|      null|           90|        1|\n",
      "|        114|       Den| Raphaely|DRAPHEAL|      515.127.4561|1994-12-07| PU_MAN|11000.0|          null|       100|           30|        1|\n",
      "|        204|   Hermann|     Baer|   HBAER|      515.123.8888|1994-06-07| PR_REP|10000.0|          null|       101|           70|        1|\n",
      "|        121|      Adam|    Fripp|  AFRIPP|      650.123.2234|1997-04-10| ST_MAN| 8200.0|          null|       100|           50|        1|\n",
      "|        120|   Matthew|    Weiss|  MWEISS|      650.123.1234|1996-07-18| ST_MAN| 8000.0|          null|       100|           50|        2|\n",
      "|        122|     Payam| Kaufling|PKAUFLIN|      650.123.3234|1995-05-01| ST_MAN| 7900.0|          null|       100|           50|        3|\n",
      "|        123|    Shanta|  Vollman|SVOLLMAN|      650.123.4234|1997-10-10| ST_MAN| 6500.0|          null|       100|           50|        4|\n",
      "|        124|     Kevin|  Mourgos|KMOURGOS|      650.123.5234|1999-11-16| ST_MAN| 5800.0|          null|       100|           50|        5|\n",
      "|        168|      Lisa|     Ozer|   LOZER|011.44.1343.929268|1997-03-11| SA_REP|11500.0|          0.25|       148|           80|        1|\n",
      "|        174|     Ellen|     Abel|   EABEL|011.44.1644.429267|1996-05-11| SA_REP|11000.0|           0.3|       149|           80|        2|\n",
      "|        162|     Clara|  Vishney|CVISHNEY|011.44.1346.129268|1997-11-11| SA_REP|10500.0|          0.25|       147|           80|        3|\n",
      "|        150|     Peter|   Tucker| PTUCKER|011.44.1344.129268|1997-01-30| SA_REP|10000.0|           0.3|       145|           80|        4|\n",
      "|        156|   Janette|     King|   JKING|011.44.1345.429268|1996-01-30| SA_REP|10000.0|          0.35|       146|           80|        4|\n",
      "|        169|  Harrison|    Bloom|  HBLOOM|011.44.1343.829268|1998-03-23| SA_REP|10000.0|           0.2|       148|           80|        4|\n",
      "|        170|    Tayler|      Fox|    TFOX|011.44.1343.729268|1998-01-24| SA_REP| 9600.0|           0.2|       148|           80|        5|\n",
      "|        151|     David|Bernstein|DBERNSTE|011.44.1344.345268|1997-03-24| SA_REP| 9500.0|          0.25|       145|           80|        6|\n",
      "|        157|   Patrick|    Sully|  PSULLY|011.44.1345.929268|1996-03-04| SA_REP| 9500.0|          0.35|       146|           80|        6|\n",
      "|        163|  Danielle|   Greene| DGREENE|011.44.1346.229268|1999-03-19| SA_REP| 9500.0|          0.15|       147|           80|        6|\n",
      "|        152|     Peter|     Hall|   PHALL|011.44.1344.478968|1997-08-20| SA_REP| 9000.0|          0.25|       145|           80|        7|\n",
      "|        158|     Allan|   McEwen| AMCEWEN|011.44.1345.829268|1996-08-01| SA_REP| 9000.0|          0.35|       146|           80|        7|\n",
      "+-----------+----------+---------+--------+------------------+----------+-------+-------+--------------+----------+-------------+---------+\n",
      "only showing top 20 rows\n",
      "\n"
     ]
    }
   ],
   "source": [
    "df_employee \\\n",
    ".withColumn('dense_rnk', F.dense_rank().over(window))\\\n",
    ".show()\n",
    "\n",
    "# |        168|      Lisa|     Ozer|   LOZER|011.44.1343.929268|1997-03-11| SA_REP|11500.0|          0.25|       148|           80|        1|\n",
    "# |        174|     Ellen|     Abel|   EABEL|011.44.1644.429267|1996-05-11| SA_REP|11000.0|           0.3|       149|           80|        2|\n",
    "# |        162|     Clara|  Vishney|CVISHNEY|011.44.1346.129268|1997-11-11| SA_REP|10500.0|          0.25|       147|           80|        3|\n",
    "# |        150|     Peter|   Tucker| PTUCKER|011.44.1344.129268|1997-01-30| SA_REP|10000.0|           0.3|       145|           80|        4|\n",
    "# |        156|   Janette|     King|   JKING|011.44.1345.429268|1996-01-30| SA_REP|10000.0|          0.35|       146|           80|        4|\n",
    "# |        169|  Harrison|    Bloom|  HBLOOM|011.44.1343.829268|1998-03-23| SA_REP|10000.0|           0.2|       148|           80|        4|\n",
    "# |        170|    Tayler|      Fox|    TFOX|011.44.1343.729268|1998-01-24| SA_REP| 9600.0|           0.2|       148|           80|        5|<<<====\n",
    "# |        151|     David|Bernstein|DBERNSTE|011.44.1344.345268|1997-03-24| SA_REP| 9500.0|          0.25|       145|           80|        6|\n",
    "# |        157|   Patrick|    Sully|  PSULLY|011.44.1345.929268|1996-03-04| SA_REP| 9500.0|          0.35|       146|           80|        6|\n",
    "# |        163|  Danielle|   Greene| DGREENE|011.44.1346.229268|1999-03-19| SA_REP| 9500.0|          0.15|       147|           80|        6|\n",
    "# |        152|     Peter|     Hall|   PHALL|011.44.1344.478968|1997-08-20| SA_REP| 9000.0|          0.25|       145|           80|        7|<<<===\n",
    "# |        158|     Allan|   McEwen| AMCEWEN|011.44.1345.829268|1996-08-01| SA_REP| 9000.0|          0.35|       146|           80|        7|"
   ]
  },
  {
   "cell_type": "markdown",
   "id": "79d04ee2",
   "metadata": {},
   "source": [
    "## SPARK SQL Approach"
   ]
  },
  {
   "cell_type": "code",
   "execution_count": 19,
   "id": "2c17b9f7",
   "metadata": {},
   "outputs": [],
   "source": [
    "df_employee.createOrReplaceTempView('employees')"
   ]
  },
  {
   "cell_type": "code",
   "execution_count": 20,
   "id": "6e222d7b",
   "metadata": {},
   "outputs": [
    {
     "name": "stdout",
     "output_type": "stream",
     "text": [
      "+-----------+----------+---------+--------+------------------+----------+-------+-------+--------------+----------+-------------+---------+\n",
      "|employee_id|first_name|last_name|   email|      phone_number| hire_date| job_id| salary|commission_pct|manager_id|department_id|dense_rnk|\n",
      "+-----------+----------+---------+--------+------------------+----------+-------+-------+--------------+----------+-------------+---------+\n",
      "|        100|    Steven|     King|   SKING|      515.123.4567|1987-06-17|AD_PRES|24000.0|          null|      null|           90|        1|\n",
      "|        114|       Den| Raphaely|DRAPHEAL|      515.127.4561|1994-12-07| PU_MAN|11000.0|          null|       100|           30|        1|\n",
      "|        204|   Hermann|     Baer|   HBAER|      515.123.8888|1994-06-07| PR_REP|10000.0|          null|       101|           70|        1|\n",
      "|        121|      Adam|    Fripp|  AFRIPP|      650.123.2234|1997-04-10| ST_MAN| 8200.0|          null|       100|           50|        1|\n",
      "|        120|   Matthew|    Weiss|  MWEISS|      650.123.1234|1996-07-18| ST_MAN| 8000.0|          null|       100|           50|        2|\n",
      "|        122|     Payam| Kaufling|PKAUFLIN|      650.123.3234|1995-05-01| ST_MAN| 7900.0|          null|       100|           50|        3|\n",
      "|        123|    Shanta|  Vollman|SVOLLMAN|      650.123.4234|1997-10-10| ST_MAN| 6500.0|          null|       100|           50|        4|\n",
      "|        124|     Kevin|  Mourgos|KMOURGOS|      650.123.5234|1999-11-16| ST_MAN| 5800.0|          null|       100|           50|        5|\n",
      "|        168|      Lisa|     Ozer|   LOZER|011.44.1343.929268|1997-03-11| SA_REP|11500.0|          0.25|       148|           80|        1|\n",
      "|        174|     Ellen|     Abel|   EABEL|011.44.1644.429267|1996-05-11| SA_REP|11000.0|           0.3|       149|           80|        2|\n",
      "|        162|     Clara|  Vishney|CVISHNEY|011.44.1346.129268|1997-11-11| SA_REP|10500.0|          0.25|       147|           80|        3|\n",
      "|        150|     Peter|   Tucker| PTUCKER|011.44.1344.129268|1997-01-30| SA_REP|10000.0|           0.3|       145|           80|        4|\n",
      "|        156|   Janette|     King|   JKING|011.44.1345.429268|1996-01-30| SA_REP|10000.0|          0.35|       146|           80|        4|\n",
      "|        169|  Harrison|    Bloom|  HBLOOM|011.44.1343.829268|1998-03-23| SA_REP|10000.0|           0.2|       148|           80|        4|\n",
      "|        170|    Tayler|      Fox|    TFOX|011.44.1343.729268|1998-01-24| SA_REP| 9600.0|           0.2|       148|           80|        5|\n",
      "|        151|     David|Bernstein|DBERNSTE|011.44.1344.345268|1997-03-24| SA_REP| 9500.0|          0.25|       145|           80|        6|\n",
      "|        157|   Patrick|    Sully|  PSULLY|011.44.1345.929268|1996-03-04| SA_REP| 9500.0|          0.35|       146|           80|        6|\n",
      "|        163|  Danielle|   Greene| DGREENE|011.44.1346.229268|1999-03-19| SA_REP| 9500.0|          0.15|       147|           80|        6|\n",
      "|        152|     Peter|     Hall|   PHALL|011.44.1344.478968|1997-08-20| SA_REP| 9000.0|          0.25|       145|           80|        7|\n",
      "|        158|     Allan|   McEwen| AMCEWEN|011.44.1345.829268|1996-08-01| SA_REP| 9000.0|          0.35|       146|           80|        7|\n",
      "+-----------+----------+---------+--------+------------------+----------+-------+-------+--------------+----------+-------------+---------+\n",
      "only showing top 20 rows\n",
      "\n"
     ]
    }
   ],
   "source": [
    "spark.sql('''\n",
    "    SELECT *,\n",
    "           dense_rank() over (partition by department_id, job_id order by salary desc rows between unbounded preceding and current row) as dense_rnk\n",
    "    FROM employees\n",
    "''') \\\n",
    ".show()\n",
    "\n",
    "# |        168|      Lisa|     Ozer|   LOZER|011.44.1343.929268|1997-03-11| SA_REP|11500.0|          0.25|       148|           80|        1|\n",
    "# |        174|     Ellen|     Abel|   EABEL|011.44.1644.429267|1996-05-11| SA_REP|11000.0|           0.3|       149|           80|        2|\n",
    "# |        162|     Clara|  Vishney|CVISHNEY|011.44.1346.129268|1997-11-11| SA_REP|10500.0|          0.25|       147|           80|        3|\n",
    "# |        150|     Peter|   Tucker| PTUCKER|011.44.1344.129268|1997-01-30| SA_REP|10000.0|           0.3|       145|           80|        4|\n",
    "# |        156|   Janette|     King|   JKING|011.44.1345.429268|1996-01-30| SA_REP|10000.0|          0.35|       146|           80|        4|\n",
    "# |        169|  Harrison|    Bloom|  HBLOOM|011.44.1343.829268|1998-03-23| SA_REP|10000.0|           0.2|       148|           80|        4|\n",
    "# |        170|    Tayler|      Fox|    TFOX|011.44.1343.729268|1998-01-24| SA_REP| 9600.0|           0.2|       148|           80|        5|<<<===\n",
    "# |        151|     David|Bernstein|DBERNSTE|011.44.1344.345268|1997-03-24| SA_REP| 9500.0|          0.25|       145|           80|        6|\n",
    "# |        157|   Patrick|    Sully|  PSULLY|011.44.1345.929268|1996-03-04| SA_REP| 9500.0|          0.35|       146|           80|        6|\n",
    "# |        163|  Danielle|   Greene| DGREENE|011.44.1346.229268|1999-03-19| SA_REP| 9500.0|          0.15|       147|           80|        6|\n",
    "# |        152|     Peter|     Hall|   PHALL|011.44.1344.478968|1997-08-20| SA_REP| 9000.0|          0.25|       145|           80|        7|<<<===\n",
    "# |        158|     Allan|   McEwen| AMCEWEN|011.44.1345.829268|1996-08-01| SA_REP| 9000.0|          0.35|       146|           80|        7|"
   ]
  },
  {
   "cell_type": "markdown",
   "id": "4b3f093e",
   "metadata": {},
   "source": [
    "# 4. NTILE"
   ]
  },
  {
   "cell_type": "markdown",
   "id": "195b0809",
   "metadata": {},
   "source": [
    "## Programatic Approach"
   ]
  },
  {
   "cell_type": "code",
   "execution_count": 21,
   "id": "b4251f18",
   "metadata": {},
   "outputs": [],
   "source": [
    "# Parttion By and Order By with Window Frame\n",
    "window = W.partitionBy('job_id').orderBy('employee_id').rowsBetween(W.unboundedPreceding, W.currentRow)"
   ]
  },
  {
   "cell_type": "code",
   "execution_count": 22,
   "id": "e1207cd3",
   "metadata": {},
   "outputs": [
    {
     "name": "stdout",
     "output_type": "stream",
     "text": [
      "+-----------+-----------+----------+--------+------------+----------+----------+-------+--------------+----------+-------------+---+\n",
      "|employee_id| first_name| last_name|   email|phone_number| hire_date|    job_id| salary|commission_pct|manager_id|department_id| nt|\n",
      "+-----------+-----------+----------+--------+------------+----------+----------+-------+--------------+----------+-------------+---+\n",
      "|        109|     Daniel|    Faviet| DFAVIET|515.124.4169|1994-08-16|FI_ACCOUNT| 9000.0|          null|       108|          100|  1|\n",
      "|        110|       John|      Chen|   JCHEN|515.124.4269|1997-09-28|FI_ACCOUNT| 8200.0|          null|       108|          100|  1|\n",
      "|        111|     Ismael|   Sciarra|ISCIARRA|515.124.4369|1997-09-30|FI_ACCOUNT| 7700.0|          null|       108|          100|  2|\n",
      "|        112|Jose Manuel|     Urman| JMURMAN|515.124.4469|1998-03-07|FI_ACCOUNT| 7800.0|          null|       108|          100|  3|\n",
      "|        113|       Luis|      Popp|   LPOPP|515.124.4567|1999-12-07|FI_ACCOUNT| 6900.0|          null|       108|          100|  4|\n",
      "|        201|    Michael| Hartstein|MHARTSTE|515.123.5555|1996-02-17|    MK_MAN|13000.0|          null|       100|           20|  1|\n",
      "|        103|  Alexander|    Hunold| AHUNOLD|590.423.4567|1990-01-03|   IT_PROG| 9000.0|          null|       102|           60|  1|\n",
      "|        104|      Bruce|     Ernst|  BERNST|590.423.4568|1991-05-21|   IT_PROG| 6000.0|          null|       103|           60|  1|\n",
      "|        105|      David|    Austin| DAUSTIN|590.423.4569|1997-06-25|   IT_PROG| 4800.0|          null|       103|           60|  2|\n",
      "|        106|      Valli| Pataballa|VPATABAL|590.423.4560|1998-02-05|   IT_PROG| 4800.0|          null|       103|           60|  3|\n",
      "|        107|      Diana|   Lorentz|DLORENTZ|590.423.5567|1999-02-07|   IT_PROG| 4200.0|          null|       103|           60|  4|\n",
      "|        108|      Nancy| Greenberg|NGREENBE|515.124.4569|1994-08-17|    FI_MGR|12000.0|          null|       101|          100|  1|\n",
      "|        206|    William|     Gietz|  WGIETZ|515.123.8181|1994-06-07|AC_ACCOUNT| 8300.0|          null|       205|          110|  1|\n",
      "|        203|      Susan|    Mavris| SMAVRIS|515.123.7777|1994-06-07|    HR_REP| 6500.0|          null|       101|           40|  1|\n",
      "|        115|  Alexander|      Khoo|   AKHOO|515.127.4562|1995-05-18|  PU_CLERK| 3100.0|          null|       114|           30|  1|\n",
      "|        116|     Shelli|     Baida|  SBAIDA|515.127.4563|1997-12-24|  PU_CLERK| 2900.0|          null|       114|           30|  1|\n",
      "|        117|      Sigal|    Tobias| STOBIAS|515.127.4564|1997-07-24|  PU_CLERK| 2800.0|          null|       114|           30|  2|\n",
      "|        118|        Guy|    Himuro| GHIMURO|515.127.4565|1998-11-15|  PU_CLERK| 2600.0|          null|       114|           30|  3|\n",
      "|        119|      Karen|Colmenares|KCOLMENA|515.127.4566|1999-08-10|  PU_CLERK| 2500.0|          null|       114|           30|  4|\n",
      "|        205|    Shelley|   Higgins|SHIGGINS|515.123.8080|1994-06-07|    AC_MGR|12000.0|          null|       101|          110|  1|\n",
      "+-----------+-----------+----------+--------+------------+----------+----------+-------+--------------+----------+-------------+---+\n",
      "only showing top 20 rows\n",
      "\n"
     ]
    }
   ],
   "source": [
    "df_employee\\\n",
    ".withColumn('nt', F.ntile(4).over(window)) \\\n",
    ".show()\n",
    "\n",
    "# |        103|  Alexander|    Hunold| AHUNOLD|590.423.4567|1990-01-03|   IT_PROG| 9000.0|          null|       102|           60|  1|\n",
    "# |        104|      Bruce|     Ernst|  BERNST|590.423.4568|1991-05-21|   IT_PROG| 6000.0|          null|       103|           60|  1|\n",
    "# |        105|      David|    Austin| DAUSTIN|590.423.4569|1997-06-25|   IT_PROG| 4800.0|          null|       103|           60|  2|\n",
    "# |        106|      Valli| Pataballa|VPATABAL|590.423.4560|1998-02-05|   IT_PROG| 4800.0|          null|       103|           60|  3|\n",
    "# |        107|      Diana|   Lorentz|DLORENTZ|590.423.5567|1999-02-07|   IT_PROG| 4200.0|          null|       103|           60|  4|"
   ]
  },
  {
   "cell_type": "markdown",
   "id": "14c4876b",
   "metadata": {},
   "source": [
    "## SPARK SQL Approach"
   ]
  },
  {
   "cell_type": "code",
   "execution_count": 23,
   "id": "871fad37",
   "metadata": {},
   "outputs": [],
   "source": [
    "df_employee.createOrReplaceTempView('employee')"
   ]
  },
  {
   "cell_type": "code",
   "execution_count": 24,
   "id": "85e32fd5",
   "metadata": {},
   "outputs": [
    {
     "name": "stdout",
     "output_type": "stream",
     "text": [
      "+-----------+-----------+----------+--------+------------+----------+----------+-------+--------------+----------+-------------+---+\n",
      "|employee_id| first_name| last_name|   email|phone_number| hire_date|    job_id| salary|commission_pct|manager_id|department_id| nt|\n",
      "+-----------+-----------+----------+--------+------------+----------+----------+-------+--------------+----------+-------------+---+\n",
      "|        109|     Daniel|    Faviet| DFAVIET|515.124.4169|1994-08-16|FI_ACCOUNT| 9000.0|          null|       108|          100|  1|\n",
      "|        110|       John|      Chen|   JCHEN|515.124.4269|1997-09-28|FI_ACCOUNT| 8200.0|          null|       108|          100|  1|\n",
      "|        111|     Ismael|   Sciarra|ISCIARRA|515.124.4369|1997-09-30|FI_ACCOUNT| 7700.0|          null|       108|          100|  2|\n",
      "|        112|Jose Manuel|     Urman| JMURMAN|515.124.4469|1998-03-07|FI_ACCOUNT| 7800.0|          null|       108|          100|  3|\n",
      "|        113|       Luis|      Popp|   LPOPP|515.124.4567|1999-12-07|FI_ACCOUNT| 6900.0|          null|       108|          100|  4|\n",
      "|        201|    Michael| Hartstein|MHARTSTE|515.123.5555|1996-02-17|    MK_MAN|13000.0|          null|       100|           20|  1|\n",
      "|        103|  Alexander|    Hunold| AHUNOLD|590.423.4567|1990-01-03|   IT_PROG| 9000.0|          null|       102|           60|  1|\n",
      "|        104|      Bruce|     Ernst|  BERNST|590.423.4568|1991-05-21|   IT_PROG| 6000.0|          null|       103|           60|  1|\n",
      "|        105|      David|    Austin| DAUSTIN|590.423.4569|1997-06-25|   IT_PROG| 4800.0|          null|       103|           60|  2|\n",
      "|        106|      Valli| Pataballa|VPATABAL|590.423.4560|1998-02-05|   IT_PROG| 4800.0|          null|       103|           60|  3|\n",
      "|        107|      Diana|   Lorentz|DLORENTZ|590.423.5567|1999-02-07|   IT_PROG| 4200.0|          null|       103|           60|  4|\n",
      "|        108|      Nancy| Greenberg|NGREENBE|515.124.4569|1994-08-17|    FI_MGR|12000.0|          null|       101|          100|  1|\n",
      "|        206|    William|     Gietz|  WGIETZ|515.123.8181|1994-06-07|AC_ACCOUNT| 8300.0|          null|       205|          110|  1|\n",
      "|        203|      Susan|    Mavris| SMAVRIS|515.123.7777|1994-06-07|    HR_REP| 6500.0|          null|       101|           40|  1|\n",
      "|        115|  Alexander|      Khoo|   AKHOO|515.127.4562|1995-05-18|  PU_CLERK| 3100.0|          null|       114|           30|  1|\n",
      "|        116|     Shelli|     Baida|  SBAIDA|515.127.4563|1997-12-24|  PU_CLERK| 2900.0|          null|       114|           30|  1|\n",
      "|        117|      Sigal|    Tobias| STOBIAS|515.127.4564|1997-07-24|  PU_CLERK| 2800.0|          null|       114|           30|  2|\n",
      "|        118|        Guy|    Himuro| GHIMURO|515.127.4565|1998-11-15|  PU_CLERK| 2600.0|          null|       114|           30|  3|\n",
      "|        119|      Karen|Colmenares|KCOLMENA|515.127.4566|1999-08-10|  PU_CLERK| 2500.0|          null|       114|           30|  4|\n",
      "|        205|    Shelley|   Higgins|SHIGGINS|515.123.8080|1994-06-07|    AC_MGR|12000.0|          null|       101|          110|  1|\n",
      "+-----------+-----------+----------+--------+------------+----------+----------+-------+--------------+----------+-------------+---+\n",
      "only showing top 20 rows\n",
      "\n"
     ]
    }
   ],
   "source": [
    "spark.sql('''\n",
    "    SELECT *,\n",
    "           ntile(4) over(partition by job_id order by employee_id rows between unbounded preceding and current row) as nt\n",
    "    FROM employee\n",
    "''') \\\n",
    ".show()"
   ]
  },
  {
   "cell_type": "markdown",
   "id": "4a3a4f63",
   "metadata": {},
   "source": [
    "# 5. LAG and LEAD"
   ]
  },
  {
   "cell_type": "markdown",
   "id": "238fc885",
   "metadata": {},
   "source": [
    "## Programatic Approach"
   ]
  },
  {
   "cell_type": "code",
   "execution_count": 25,
   "id": "724b416c",
   "metadata": {},
   "outputs": [],
   "source": [
    "# Parttion By and Order By with No Window Frame\n",
    "# For lead and lag don't mention and frame rather define the offset and default value ``` F.lag('column', offset, default) ```\n",
    "window = W.partitionBy('department_id').orderBy('salary')"
   ]
  },
  {
   "cell_type": "code",
   "execution_count": 26,
   "id": "cc6e4de9",
   "metadata": {},
   "outputs": [
    {
     "name": "stdout",
     "output_type": "stream",
     "text": [
      "+-----------+-------------+-------+----------+-----------+\n",
      "|employee_id|department_id| salary|lag_salary|lead_salary|\n",
      "+-----------+-------------+-------+----------+-----------+\n",
      "|        178|         null| 7000.0|       0.0|        0.0|\n",
      "|        202|           20| 6000.0|       0.0|    13000.0|\n",
      "|        201|           20|13000.0|    6000.0|        0.0|\n",
      "|        203|           40| 6500.0|       0.0|        0.0|\n",
      "|        113|          100| 6900.0|       0.0|     7700.0|\n",
      "|        111|          100| 7700.0|    6900.0|     7800.0|\n",
      "|        112|          100| 7800.0|    7700.0|     8200.0|\n",
      "|        110|          100| 8200.0|    7800.0|     9000.0|\n",
      "|        109|          100| 9000.0|    8200.0|    12000.0|\n",
      "|        108|          100|12000.0|    9000.0|        0.0|\n",
      "|        200|           10| 4400.0|       0.0|        0.0|\n",
      "|        132|           50| 2100.0|       0.0|     2200.0|\n",
      "|        128|           50| 2200.0|    2100.0|     2200.0|\n",
      "|        136|           50| 2200.0|    2200.0|     2400.0|\n",
      "|        127|           50| 2400.0|    2200.0|     2400.0|\n",
      "|        135|           50| 2400.0|    2400.0|     2500.0|\n",
      "|        182|           50| 2500.0|    2400.0|     2500.0|\n",
      "|        191|           50| 2500.0|    2500.0|     2500.0|\n",
      "|        131|           50| 2500.0|    2500.0|     2500.0|\n",
      "|        140|           50| 2500.0|    2500.0|     2500.0|\n",
      "+-----------+-------------+-------+----------+-----------+\n",
      "only showing top 20 rows\n",
      "\n"
     ]
    }
   ],
   "source": [
    "df_employee \\\n",
    ".select('employee_id', 'department_id', 'salary') \\\n",
    ".withColumn('lag_salary', F.lag('salary', 1, 0).over(window)) \\\n",
    ".withColumn('lead_salary', F.lead('salary', 1, 0).over(window)) \\\n",
    ".show()"
   ]
  },
  {
   "cell_type": "markdown",
   "id": "9afc009e",
   "metadata": {},
   "source": [
    "## SPARK SQL Approach"
   ]
  },
  {
   "cell_type": "code",
   "execution_count": 27,
   "id": "ae8d121f",
   "metadata": {},
   "outputs": [],
   "source": [
    "df_employee.createOrReplaceTempView('employees')"
   ]
  },
  {
   "cell_type": "code",
   "execution_count": 28,
   "id": "c65111ff",
   "metadata": {},
   "outputs": [
    {
     "name": "stdout",
     "output_type": "stream",
     "text": [
      "+-----------+-------------+-------+----------+-----------+\n",
      "|employee_id|department_id| salary|lag_salary|lead_salary|\n",
      "+-----------+-------------+-------+----------+-----------+\n",
      "|        178|         null| 7000.0|       0.0|        0.0|\n",
      "|        202|           20| 6000.0|       0.0|    13000.0|\n",
      "|        201|           20|13000.0|    6000.0|        0.0|\n",
      "|        203|           40| 6500.0|       0.0|        0.0|\n",
      "|        113|          100| 6900.0|       0.0|     7700.0|\n",
      "|        111|          100| 7700.0|    6900.0|     7800.0|\n",
      "|        112|          100| 7800.0|    7700.0|     8200.0|\n",
      "|        110|          100| 8200.0|    7800.0|     9000.0|\n",
      "|        109|          100| 9000.0|    8200.0|    12000.0|\n",
      "|        108|          100|12000.0|    9000.0|        0.0|\n",
      "|        200|           10| 4400.0|       0.0|        0.0|\n",
      "|        132|           50| 2100.0|       0.0|     2200.0|\n",
      "|        128|           50| 2200.0|    2100.0|     2200.0|\n",
      "|        136|           50| 2200.0|    2200.0|     2400.0|\n",
      "|        127|           50| 2400.0|    2200.0|     2400.0|\n",
      "|        135|           50| 2400.0|    2400.0|     2500.0|\n",
      "|        131|           50| 2500.0|    2400.0|     2500.0|\n",
      "|        140|           50| 2500.0|    2500.0|     2500.0|\n",
      "|        144|           50| 2500.0|    2500.0|     2500.0|\n",
      "|        182|           50| 2500.0|    2500.0|     2500.0|\n",
      "+-----------+-------------+-------+----------+-----------+\n",
      "only showing top 20 rows\n",
      "\n"
     ]
    }
   ],
   "source": [
    "spark.sql('''\n",
    "    SELECT employee_id, department_id, salary,\n",
    "           lag(salary, 1, 0) over (partition by department_id order by salary) as lag_salary,\n",
    "           lead(salary, 1, 0) over (partition by department_id order by salary) as lead_salary\n",
    "    FROM employees\n",
    "''') \\\n",
    ".show()"
   ]
  },
  {
   "cell_type": "markdown",
   "id": "b12cae00",
   "metadata": {},
   "source": [
    "# 6. Runnig Total "
   ]
  },
  {
   "cell_type": "markdown",
   "id": "6beae39c",
   "metadata": {},
   "source": [
    "## Programatic Approach"
   ]
  },
  {
   "cell_type": "code",
   "execution_count": 29,
   "id": "047555a1",
   "metadata": {},
   "outputs": [],
   "source": [
    "# Parttion By and Order By with Window Frame\n",
    "window = W.partitionBy('department_id').orderBy('salary').rowsBetween(W.unboundedPreceding, W.currentRow)"
   ]
  },
  {
   "cell_type": "code",
   "execution_count": 30,
   "id": "5aefcf59",
   "metadata": {},
   "outputs": [
    {
     "name": "stdout",
     "output_type": "stream",
     "text": [
      "+-----------+-------------+-------+-------------+\n",
      "|employee_id|department_id| salary|running_total|\n",
      "+-----------+-------------+-------+-------------+\n",
      "|        178|         null| 7000.0|       7000.0|\n",
      "|        202|           20| 6000.0|       6000.0|\n",
      "|        201|           20|13000.0|      19000.0|\n",
      "|        203|           40| 6500.0|       6500.0|\n",
      "|        113|          100| 6900.0|       6900.0|\n",
      "|        111|          100| 7700.0|      14600.0|\n",
      "|        112|          100| 7800.0|      22400.0|\n",
      "|        110|          100| 8200.0|      30600.0|\n",
      "|        109|          100| 9000.0|      39600.0|\n",
      "|        108|          100|12000.0|      51600.0|\n",
      "|        200|           10| 4400.0|       4400.0|\n",
      "|        132|           50| 2100.0|       2100.0|\n",
      "|        128|           50| 2200.0|       4300.0|\n",
      "|        136|           50| 2200.0|       6500.0|\n",
      "|        127|           50| 2400.0|       8900.0|\n",
      "|        135|           50| 2400.0|      11300.0|\n",
      "|        131|           50| 2500.0|      13800.0|\n",
      "|        140|           50| 2500.0|      16300.0|\n",
      "|        144|           50| 2500.0|      18800.0|\n",
      "|        182|           50| 2500.0|      21300.0|\n",
      "+-----------+-------------+-------+-------------+\n",
      "only showing top 20 rows\n",
      "\n"
     ]
    }
   ],
   "source": [
    "df_employee \\\n",
    ".select('employee_id', 'department_id', 'salary') \\\n",
    ".withColumn('running_total', F.sum('salary').over(window)) \\\n",
    ".show()"
   ]
  },
  {
   "cell_type": "markdown",
   "id": "24e98257",
   "metadata": {},
   "source": [
    "## SPARK SQL Approach"
   ]
  },
  {
   "cell_type": "code",
   "execution_count": 31,
   "id": "6e3a60c8",
   "metadata": {},
   "outputs": [],
   "source": [
    "df_employee.createOrReplaceTempView('employees')"
   ]
  },
  {
   "cell_type": "code",
   "execution_count": 32,
   "id": "0750c4f8",
   "metadata": {},
   "outputs": [
    {
     "name": "stdout",
     "output_type": "stream",
     "text": [
      "+-----------+-------------+-------+-------------+\n",
      "|employee_id|department_id| salary|running_total|\n",
      "+-----------+-------------+-------+-------------+\n",
      "|        178|         null| 7000.0|       7000.0|\n",
      "|        202|           20| 6000.0|       6000.0|\n",
      "|        201|           20|13000.0|      19000.0|\n",
      "|        203|           40| 6500.0|       6500.0|\n",
      "|        113|          100| 6900.0|       6900.0|\n",
      "|        111|          100| 7700.0|      14600.0|\n",
      "|        112|          100| 7800.0|      22400.0|\n",
      "|        110|          100| 8200.0|      30600.0|\n",
      "|        109|          100| 9000.0|      39600.0|\n",
      "|        108|          100|12000.0|      51600.0|\n",
      "|        200|           10| 4400.0|       4400.0|\n",
      "|        132|           50| 2100.0|       2100.0|\n",
      "|        128|           50| 2200.0|       4300.0|\n",
      "|        136|           50| 2200.0|       6500.0|\n",
      "|        127|           50| 2400.0|       8900.0|\n",
      "|        135|           50| 2400.0|      11300.0|\n",
      "|        131|           50| 2500.0|      13800.0|\n",
      "|        140|           50| 2500.0|      16300.0|\n",
      "|        144|           50| 2500.0|      18800.0|\n",
      "|        182|           50| 2500.0|      21300.0|\n",
      "+-----------+-------------+-------+-------------+\n",
      "only showing top 20 rows\n",
      "\n"
     ]
    }
   ],
   "source": [
    "spark.sql('''\n",
    "    SELECT employee_id, department_id, salary,\n",
    "           sum(salary) over (partition by department_id order by salary rows between unbounded preceding and current row) as running_total\n",
    "    FROM employees\n",
    "''') \\\n",
    ".show()"
   ]
  },
  {
   "cell_type": "markdown",
   "id": "bcfa8e80",
   "metadata": {},
   "source": [
    "# 7. Sum of a Group"
   ]
  },
  {
   "cell_type": "markdown",
   "id": "90dc9747",
   "metadata": {},
   "source": [
    "## Programatic Approach"
   ]
  },
  {
   "cell_type": "code",
   "execution_count": 33,
   "id": "6227b829",
   "metadata": {},
   "outputs": [],
   "source": [
    "# Parttion By and No Order By with Window Frame\n",
    "# For Group Total the Window Frame is UnBounded Preceding and Unbounded Following\n",
    "window = W.partitionBy('department_id').rowsBetween(W.unboundedPreceding, W.unboundedFollowing)"
   ]
  },
  {
   "cell_type": "code",
   "execution_count": 34,
   "id": "8966aa3e",
   "metadata": {},
   "outputs": [
    {
     "name": "stdout",
     "output_type": "stream",
     "text": [
      "+-----------+-------------+-------+---------+\n",
      "|employee_id|department_id| salary|total_sum|\n",
      "+-----------+-------------+-------+---------+\n",
      "|        178|         null| 7000.0|   7000.0|\n",
      "|        201|           20|13000.0|  19000.0|\n",
      "|        202|           20| 6000.0|  19000.0|\n",
      "|        203|           40| 6500.0|   6500.0|\n",
      "|        108|          100|12000.0|  51600.0|\n",
      "|        109|          100| 9000.0|  51600.0|\n",
      "|        110|          100| 8200.0|  51600.0|\n",
      "|        111|          100| 7700.0|  51600.0|\n",
      "|        112|          100| 7800.0|  51600.0|\n",
      "|        113|          100| 6900.0|  51600.0|\n",
      "|        200|           10| 4400.0|   4400.0|\n",
      "|        127|           50| 2400.0| 156400.0|\n",
      "|        128|           50| 2200.0| 156400.0|\n",
      "|        129|           50| 3300.0| 156400.0|\n",
      "|        130|           50| 2800.0| 156400.0|\n",
      "|        131|           50| 2500.0| 156400.0|\n",
      "|        132|           50| 2100.0| 156400.0|\n",
      "|        133|           50| 3300.0| 156400.0|\n",
      "|        134|           50| 2900.0| 156400.0|\n",
      "|        135|           50| 2400.0| 156400.0|\n",
      "+-----------+-------------+-------+---------+\n",
      "only showing top 20 rows\n",
      "\n"
     ]
    }
   ],
   "source": [
    "df_employee \\\n",
    ".select('employee_id', 'department_id', 'salary') \\\n",
    ".withColumn('total_sum', F.sum('salary').over(window)) \\\n",
    ".show()"
   ]
  },
  {
   "cell_type": "markdown",
   "id": "b9b78086",
   "metadata": {},
   "source": [
    "## SPARK SQL Approach"
   ]
  },
  {
   "cell_type": "code",
   "execution_count": 35,
   "id": "1ca1494d",
   "metadata": {},
   "outputs": [],
   "source": [
    "df_employee.createOrReplaceTempView('employees')"
   ]
  },
  {
   "cell_type": "code",
   "execution_count": 36,
   "id": "948daa6d",
   "metadata": {},
   "outputs": [
    {
     "name": "stdout",
     "output_type": "stream",
     "text": [
      "+-----------+-------------+-------+---------+\n",
      "|employee_id|department_id| salary|total_sum|\n",
      "+-----------+-------------+-------+---------+\n",
      "|        178|         null| 7000.0|   7000.0|\n",
      "|        201|           20|13000.0|  19000.0|\n",
      "|        202|           20| 6000.0|  19000.0|\n",
      "|        203|           40| 6500.0|   6500.0|\n",
      "|        108|          100|12000.0|  51600.0|\n",
      "|        109|          100| 9000.0|  51600.0|\n",
      "|        110|          100| 8200.0|  51600.0|\n",
      "|        111|          100| 7700.0|  51600.0|\n",
      "|        112|          100| 7800.0|  51600.0|\n",
      "|        113|          100| 6900.0|  51600.0|\n",
      "|        200|           10| 4400.0|   4400.0|\n",
      "|        120|           50| 8000.0| 156400.0|\n",
      "|        121|           50| 8200.0| 156400.0|\n",
      "|        122|           50| 7900.0| 156400.0|\n",
      "|        123|           50| 6500.0| 156400.0|\n",
      "|        124|           50| 5800.0| 156400.0|\n",
      "|        125|           50| 3200.0| 156400.0|\n",
      "|        126|           50| 2700.0| 156400.0|\n",
      "|        180|           50| 3200.0| 156400.0|\n",
      "|        181|           50| 3100.0| 156400.0|\n",
      "+-----------+-------------+-------+---------+\n",
      "only showing top 20 rows\n",
      "\n"
     ]
    }
   ],
   "source": [
    "spark.sql('''\n",
    "    SELECT employee_id, department_id, salary,\n",
    "           sum(salary) over (partition by department_id rows between unbounded preceding and unbounded following) as total_sum\n",
    "    FROM employees\n",
    "''') \\\n",
    ".show()"
   ]
  },
  {
   "cell_type": "markdown",
   "id": "628fda03",
   "metadata": {},
   "source": [
    "# 8. FIRST Value"
   ]
  },
  {
   "cell_type": "markdown",
   "id": "5a4214cb",
   "metadata": {},
   "source": [
    "## Programatic Approach"
   ]
  },
  {
   "cell_type": "code",
   "execution_count": 37,
   "id": "8b2dac73",
   "metadata": {},
   "outputs": [],
   "source": [
    "# For Min value in a group order it ASC where the Window Frame is UnBounded Preceding and Current Row\n",
    "window = W.partitionBy('department_id').orderBy('salary').rowsBetween(W.unboundedPreceding, W.currentRow)"
   ]
  },
  {
   "cell_type": "code",
   "execution_count": 38,
   "id": "e75f2119",
   "metadata": {},
   "outputs": [
    {
     "name": "stdout",
     "output_type": "stream",
     "text": [
      "+-----------+-------------+-------+----------+\n",
      "|employee_id|department_id| salary|min_salary|\n",
      "+-----------+-------------+-------+----------+\n",
      "|        178|         null| 7000.0|    7000.0|\n",
      "|        202|           20| 6000.0|    6000.0|\n",
      "|        201|           20|13000.0|    6000.0|\n",
      "|        203|           40| 6500.0|    6500.0|\n",
      "|        113|          100| 6900.0|    6900.0|\n",
      "|        111|          100| 7700.0|    6900.0|\n",
      "|        112|          100| 7800.0|    6900.0|\n",
      "|        110|          100| 8200.0|    6900.0|\n",
      "|        109|          100| 9000.0|    6900.0|\n",
      "|        108|          100|12000.0|    6900.0|\n",
      "|        200|           10| 4400.0|    4400.0|\n",
      "|        132|           50| 2100.0|    2100.0|\n",
      "|        128|           50| 2200.0|    2100.0|\n",
      "|        136|           50| 2200.0|    2100.0|\n",
      "|        127|           50| 2400.0|    2100.0|\n",
      "|        135|           50| 2400.0|    2100.0|\n",
      "|        131|           50| 2500.0|    2100.0|\n",
      "|        140|           50| 2500.0|    2100.0|\n",
      "|        144|           50| 2500.0|    2100.0|\n",
      "|        182|           50| 2500.0|    2100.0|\n",
      "+-----------+-------------+-------+----------+\n",
      "only showing top 20 rows\n",
      "\n"
     ]
    }
   ],
   "source": [
    "df_employee \\\n",
    ".select('employee_id', 'department_id', 'salary') \\\n",
    ".withColumn('min_salary', F.min('salary').over(window)) \\\n",
    ".show()"
   ]
  },
  {
   "cell_type": "markdown",
   "id": "3b9e4e13",
   "metadata": {},
   "source": [
    "## SPARK SQL Approach"
   ]
  },
  {
   "cell_type": "code",
   "execution_count": 39,
   "id": "73645fac",
   "metadata": {},
   "outputs": [],
   "source": [
    "df_employee.createOrReplaceTempView('employees')"
   ]
  },
  {
   "cell_type": "code",
   "execution_count": 40,
   "id": "48bdd4b1",
   "metadata": {},
   "outputs": [
    {
     "name": "stdout",
     "output_type": "stream",
     "text": [
      "+-----------+-------------+-------+----------+\n",
      "|employee_id|department_id| salary|min_salary|\n",
      "+-----------+-------------+-------+----------+\n",
      "|        178|         null| 7000.0|    7000.0|\n",
      "|        202|           20| 6000.0|    6000.0|\n",
      "|        201|           20|13000.0|    6000.0|\n",
      "|        203|           40| 6500.0|    6500.0|\n",
      "|        113|          100| 6900.0|    6900.0|\n",
      "|        111|          100| 7700.0|    6900.0|\n",
      "|        112|          100| 7800.0|    6900.0|\n",
      "|        110|          100| 8200.0|    6900.0|\n",
      "|        109|          100| 9000.0|    6900.0|\n",
      "|        108|          100|12000.0|    6900.0|\n",
      "|        200|           10| 4400.0|    4400.0|\n",
      "|        132|           50| 2100.0|    2100.0|\n",
      "|        128|           50| 2200.0|    2100.0|\n",
      "|        136|           50| 2200.0|    2100.0|\n",
      "|        127|           50| 2400.0|    2100.0|\n",
      "|        135|           50| 2400.0|    2100.0|\n",
      "|        131|           50| 2500.0|    2100.0|\n",
      "|        140|           50| 2500.0|    2100.0|\n",
      "|        144|           50| 2500.0|    2100.0|\n",
      "|        182|           50| 2500.0|    2100.0|\n",
      "+-----------+-------------+-------+----------+\n",
      "only showing top 20 rows\n",
      "\n"
     ]
    }
   ],
   "source": [
    "spark.sql('''\n",
    "    SELECT employee_id, department_id, salary,\n",
    "           min(salary) over (partition by department_id order by salary rows between unbounded preceding and current row) as min_salary\n",
    "    FROM employees\n",
    "''') \\\n",
    ".show()"
   ]
  },
  {
   "cell_type": "markdown",
   "id": "922b8e98",
   "metadata": {},
   "source": [
    "# 9. LAST Value"
   ]
  },
  {
   "cell_type": "markdown",
   "id": "eabdafdf",
   "metadata": {},
   "source": [
    "## Programatic Approach"
   ]
  },
  {
   "cell_type": "code",
   "execution_count": 41,
   "id": "4f48954d",
   "metadata": {},
   "outputs": [],
   "source": [
    "# For Max value in a group order it DESC where the Window Frame is UnBounded Preceding and Current Row\n",
    "window = W.partitionBy('department_id').orderBy(F.desc('salary')).rowsBetween(W.unboundedPreceding, W.currentRow)"
   ]
  },
  {
   "cell_type": "code",
   "execution_count": 42,
   "id": "13740aff",
   "metadata": {},
   "outputs": [
    {
     "name": "stdout",
     "output_type": "stream",
     "text": [
      "+-----------+-------------+-------+----------+\n",
      "|employee_id|department_id| salary|max_salary|\n",
      "+-----------+-------------+-------+----------+\n",
      "|        178|         null| 7000.0|    7000.0|\n",
      "|        200|           10| 4400.0|    4400.0|\n",
      "|        202|           20| 6000.0|   13000.0|\n",
      "|        201|           20|13000.0|   13000.0|\n",
      "|        119|           30| 2500.0|   11000.0|\n",
      "|        118|           30| 2600.0|   11000.0|\n",
      "|        117|           30| 2800.0|   11000.0|\n",
      "|        116|           30| 2900.0|   11000.0|\n",
      "|        115|           30| 3100.0|   11000.0|\n",
      "|        114|           30|11000.0|   11000.0|\n",
      "|        203|           40| 6500.0|    6500.0|\n",
      "|        132|           50| 2100.0|    8200.0|\n",
      "|        136|           50| 2200.0|    8200.0|\n",
      "|        128|           50| 2200.0|    8200.0|\n",
      "|        135|           50| 2400.0|    8200.0|\n",
      "|        127|           50| 2400.0|    8200.0|\n",
      "|        140|           50| 2500.0|    8200.0|\n",
      "|        182|           50| 2500.0|    8200.0|\n",
      "|        131|           50| 2500.0|    8200.0|\n",
      "|        144|           50| 2500.0|    8200.0|\n",
      "+-----------+-------------+-------+----------+\n",
      "only showing top 20 rows\n",
      "\n"
     ]
    }
   ],
   "source": [
    "df_employee \\\n",
    ".select('employee_id', 'department_id', 'salary') \\\n",
    ".withColumn('max_salary', F.max('salary').over(window)) \\\n",
    ".orderBy('department_id', 'salary') \\\n",
    ".show()"
   ]
  },
  {
   "cell_type": "markdown",
   "id": "a586e125",
   "metadata": {},
   "source": [
    "## SPARK SQL Approach"
   ]
  },
  {
   "cell_type": "code",
   "execution_count": 43,
   "id": "06a52511",
   "metadata": {},
   "outputs": [],
   "source": [
    "df_employee.createOrReplaceTempView('employees')"
   ]
  },
  {
   "cell_type": "code",
   "execution_count": 44,
   "id": "276941c0",
   "metadata": {},
   "outputs": [
    {
     "name": "stdout",
     "output_type": "stream",
     "text": [
      "+-----------+-------------+-------+----------+\n",
      "|employee_id|department_id| salary|max_salary|\n",
      "+-----------+-------------+-------+----------+\n",
      "|        178|         null| 7000.0|    7000.0|\n",
      "|        200|           10| 4400.0|    4400.0|\n",
      "|        202|           20| 6000.0|   13000.0|\n",
      "|        201|           20|13000.0|   13000.0|\n",
      "|        119|           30| 2500.0|   11000.0|\n",
      "|        118|           30| 2600.0|   11000.0|\n",
      "|        117|           30| 2800.0|   11000.0|\n",
      "|        116|           30| 2900.0|   11000.0|\n",
      "|        115|           30| 3100.0|   11000.0|\n",
      "|        114|           30|11000.0|   11000.0|\n",
      "|        203|           40| 6500.0|    6500.0|\n",
      "|        132|           50| 2100.0|    8200.0|\n",
      "|        136|           50| 2200.0|    8200.0|\n",
      "|        128|           50| 2200.0|    8200.0|\n",
      "|        135|           50| 2400.0|    8200.0|\n",
      "|        127|           50| 2400.0|    8200.0|\n",
      "|        131|           50| 2500.0|    8200.0|\n",
      "|        191|           50| 2500.0|    8200.0|\n",
      "|        140|           50| 2500.0|    8200.0|\n",
      "|        144|           50| 2500.0|    8200.0|\n",
      "+-----------+-------------+-------+----------+\n",
      "only showing top 20 rows\n",
      "\n"
     ]
    }
   ],
   "source": [
    "spark.sql('''\n",
    "    SELECT employee_id, department_id, salary,\n",
    "           max(salary) over (partition by department_id order by salary desc rows between unbounded preceding and current row) as max_salary\n",
    "    FROM employees\n",
    "    ORDER BY department_id, salary\n",
    "''') \\\n",
    ".show()"
   ]
  },
  {
   "cell_type": "code",
   "execution_count": 45,
   "id": "12991e76",
   "metadata": {},
   "outputs": [],
   "source": [
    "spark.stop()"
   ]
  }
 ],
 "metadata": {
  "kernelspec": {
   "display_name": "Pyspark 3",
   "language": "python",
   "name": "pyspark3"
  },
  "language_info": {
   "codemirror_mode": {
    "name": "ipython",
    "version": 3
   },
   "file_extension": ".py",
   "mimetype": "text/x-python",
   "name": "python",
   "nbconvert_exporter": "python",
   "pygments_lexer": "ipython3",
   "version": "3.6.12"
  }
 },
 "nbformat": 4,
 "nbformat_minor": 5
}
