{
 "cells": [
  {
   "cell_type": "markdown",
   "id": "6487eba4",
   "metadata": {},
   "source": [
    "## <b><u>Import the Modules"
   ]
  },
  {
   "cell_type": "code",
   "execution_count": 1,
   "id": "b7e07073",
   "metadata": {},
   "outputs": [],
   "source": [
    "import getpass as gp\n",
    "from pyspark.sql import SparkSession"
   ]
  },
  {
   "cell_type": "code",
   "execution_count": 2,
   "id": "724e6014",
   "metadata": {},
   "outputs": [],
   "source": [
    "user_name = gp.getuser()\n",
    "spark = SparkSession.builder \\\n",
    "    .appName(f'{user_name}-word-count-program') \\\n",
    "    .master('yarn') \\\n",
    "    .getOrCreate()"
   ]
  },
  {
   "cell_type": "code",
   "execution_count": 3,
   "id": "59a4787b",
   "metadata": {},
   "outputs": [
    {
     "data": {
      "text/html": [
       "\n",
       "            <div>\n",
       "                <p><b>SparkSession - in-memory</b></p>\n",
       "                \n",
       "        <div>\n",
       "            <p><b>SparkContext</b></p>\n",
       "\n",
       "            <p><a href=\"http://g02.itversity.com:4040\">Spark UI</a></p>\n",
       "\n",
       "            <dl>\n",
       "              <dt>Version</dt>\n",
       "                <dd><code>v3.0.1</code></dd>\n",
       "              <dt>Master</dt>\n",
       "                <dd><code>yarn</code></dd>\n",
       "              <dt>AppName</dt>\n",
       "                <dd><code>itv005077-word-count-program</code></dd>\n",
       "            </dl>\n",
       "        </div>\n",
       "        \n",
       "            </div>\n",
       "        "
      ],
      "text/plain": [
       "<pyspark.sql.session.SparkSession at 0x7f003dd14cf8>"
      ]
     },
     "execution_count": 3,
     "metadata": {},
     "output_type": "execute_result"
    }
   ],
   "source": [
    "spark"
   ]
  },
  {
   "cell_type": "code",
   "execution_count": 4,
   "id": "666eb088",
   "metadata": {},
   "outputs": [],
   "source": [
    "sc = spark.sparkContext"
   ]
  },
  {
   "cell_type": "code",
   "execution_count": 5,
   "id": "800eb9ba",
   "metadata": {},
   "outputs": [
    {
     "data": {
      "text/html": [
       "\n",
       "        <div>\n",
       "            <p><b>SparkContext</b></p>\n",
       "\n",
       "            <p><a href=\"http://g02.itversity.com:4040\">Spark UI</a></p>\n",
       "\n",
       "            <dl>\n",
       "              <dt>Version</dt>\n",
       "                <dd><code>v3.0.1</code></dd>\n",
       "              <dt>Master</dt>\n",
       "                <dd><code>yarn</code></dd>\n",
       "              <dt>AppName</dt>\n",
       "                <dd><code>itv005077-word-count-program</code></dd>\n",
       "            </dl>\n",
       "        </div>\n",
       "        "
      ],
      "text/plain": [
       "<SparkContext master=yarn appName=itv005077-word-count-program>"
      ]
     },
     "execution_count": 5,
     "metadata": {},
     "output_type": "execute_result"
    }
   ],
   "source": [
    "sc"
   ]
  },
  {
   "cell_type": "markdown",
   "id": "a3f23869",
   "metadata": {},
   "source": [
    "### Copy Files:\n",
    "\n",
    "* From /data/trendytech to local home directory\n",
    "* From local home directory to hdfs home directory"
   ]
  },
  {
   "cell_type": "code",
   "execution_count": 6,
   "id": "2862b5f6",
   "metadata": {},
   "outputs": [
    {
     "name": "stdout",
     "output_type": "stream",
     "text": [
      "total 4\n",
      "drwxr-xr-x 3 itv005077 students 4096 Apr 29 05:39 notebooks\n"
     ]
    }
   ],
   "source": [
    "!ls -l ~/"
   ]
  },
  {
   "cell_type": "code",
   "execution_count": 7,
   "id": "99bd0815",
   "metadata": {},
   "outputs": [],
   "source": [
    "!mkdir -p ~/data/trendytech"
   ]
  },
  {
   "cell_type": "code",
   "execution_count": 8,
   "id": "d4aa190f",
   "metadata": {},
   "outputs": [
    {
     "name": "stdout",
     "output_type": "stream",
     "text": [
      "total 0\n"
     ]
    }
   ],
   "source": [
    "!ls -l ~/data/trendytech"
   ]
  },
  {
   "cell_type": "code",
   "execution_count": 9,
   "id": "059d3284",
   "metadata": {},
   "outputs": [],
   "source": [
    "!cp -r /data/trendytech ~/data"
   ]
  },
  {
   "cell_type": "code",
   "execution_count": 10,
   "id": "ca3b6bdf",
   "metadata": {},
   "outputs": [
    {
     "name": "stdout",
     "output_type": "stream",
     "text": [
      "total 415600\n",
      "-rw-r--r-- 1 itv005077 students 365001114 Apr 29 05:40 bigLog.txt\n",
      "-rw-r--r-- 1 itv005077 students     79180 Apr 29 05:40 boringwords.txt\n",
      "-rw-r--r-- 1 itv005077 students    136855 Apr 29 05:40 customer-orders.csv\n",
      "-rw-r--r-- 1 itv005077 students      8254 Apr 29 05:40 friends-data.csv\n",
      "-rw-r--r-- 1 itv005077 students     95947 Apr 29 05:40 google-ads-data.csv\n",
      "-rw-r--r-- 1 itv005077 students      5812 Apr 29 05:40 kv1.txt\n",
      "drwxr-xr-x 2 itv005077 students      4096 Apr 29 05:40 mapreduce_jars\n",
      "-rw-r--r-- 1 itv005077 students       159 Apr 29 05:40 samplefile.txt\n",
      "-rw-r--r-- 1 itv005077 students     18322 Apr 29 05:40 search_data.txt\n",
      "-rwxr-xr-x 1 itv005077 students  60201900 Apr 29 05:40 students.csv\n"
     ]
    }
   ],
   "source": [
    "!ls -l ~/data/trendytech"
   ]
  },
  {
   "cell_type": "code",
   "execution_count": 11,
   "id": "59b5b01a",
   "metadata": {},
   "outputs": [
    {
     "name": "stdout",
     "output_type": "stream",
     "text": [
      "total 415600\n",
      "-rw-r--r-- 1 itv005077 students 365001114 Apr 29 05:40 bigLog.txt\n",
      "-rw-r--r-- 1 itv005077 students     79180 Apr 29 05:40 boringwords.txt\n",
      "-rw-r--r-- 1 itv005077 students    136855 Apr 29 05:40 customer-orders.csv\n",
      "-rw-r--r-- 1 itv005077 students      8254 Apr 29 05:40 friends-data.csv\n",
      "-rw-r--r-- 1 itv005077 students     95947 Apr 29 05:40 google-ads-data.csv\n",
      "-rw-r--r-- 1 itv005077 students      5812 Apr 29 05:40 kv1.txt\n",
      "drwxr-xr-x 2 itv005077 students      4096 Apr 29 05:40 mapreduce_jars\n",
      "-rw-r--r-- 1 itv005077 students       159 Apr 29 05:40 samplefile.txt\n",
      "-rw-r--r-- 1 itv005077 students     18322 Apr 29 05:40 search_data.txt\n",
      "-rwxr-xr-x 1 itv005077 students  60201900 Apr 29 05:40 students.csv\n"
     ]
    }
   ],
   "source": [
    "!ls -l /home/itv005077/data/trendytech/"
   ]
  },
  {
   "cell_type": "code",
   "execution_count": 12,
   "id": "6a06a5e6",
   "metadata": {},
   "outputs": [
    {
     "name": "stdout",
     "output_type": "stream",
     "text": [
      "Found 2 items\n",
      "drwx------   - itv005077 supergroup          0 2023-04-15 10:10 .Trash\n",
      "drwxr-xr-x   - itv005077 supergroup          0 2023-04-29 05:39 .sparkStaging\n"
     ]
    }
   ],
   "source": [
    "!hadoop fs -ls "
   ]
  },
  {
   "cell_type": "code",
   "execution_count": 13,
   "id": "5957a699",
   "metadata": {},
   "outputs": [],
   "source": [
    "!hadoop fs -mkdir -p data/trendytech"
   ]
  },
  {
   "cell_type": "code",
   "execution_count": 14,
   "id": "90b7313c",
   "metadata": {},
   "outputs": [],
   "source": [
    "!hadoop fs -ls data/trendytech"
   ]
  },
  {
   "cell_type": "code",
   "execution_count": 15,
   "id": "a988a72b",
   "metadata": {},
   "outputs": [],
   "source": [
    "!hadoop fs -copyFromLocal ~/data/trendytech/search_data.txt data/trendytech"
   ]
  },
  {
   "cell_type": "code",
   "execution_count": 16,
   "id": "a8c511f1",
   "metadata": {},
   "outputs": [
    {
     "name": "stdout",
     "output_type": "stream",
     "text": [
      "Found 1 items\n",
      "-rw-r--r--   3 itv005077 supergroup      18322 2023-04-29 05:40 data/trendytech/search_data.txt\n"
     ]
    }
   ],
   "source": [
    "!hadoop fs -ls data/trendytech"
   ]
  },
  {
   "cell_type": "markdown",
   "id": "7c275ee1",
   "metadata": {},
   "source": [
    "## Create RDD's"
   ]
  },
  {
   "cell_type": "code",
   "execution_count": 17,
   "id": "6f8d60a0",
   "metadata": {},
   "outputs": [],
   "source": [
    "FILE_PATH = f'/user/{user_name}/data'"
   ]
  },
  {
   "cell_type": "code",
   "execution_count": 18,
   "id": "e65f01cb",
   "metadata": {},
   "outputs": [],
   "source": [
    "rdd_file_input = sc.textFile(f'{FILE_PATH}/trendytech/search_data.txt')"
   ]
  },
  {
   "cell_type": "markdown",
   "id": "f245f8a9",
   "metadata": {},
   "source": [
    "#### quick check the file input rdd format"
   ]
  },
  {
   "cell_type": "code",
   "execution_count": 19,
   "id": "a11f7589",
   "metadata": {},
   "outputs": [
    {
     "data": {
      "text/plain": [
       "['best big data hadoop spark training',\n",
       " 'kelly technologies courses',\n",
       " 'intellepaat',\n",
       " 'cloudera training partner india',\n",
       " 'microsoft certification courses in big data']"
      ]
     },
     "execution_count": 19,
     "metadata": {},
     "output_type": "execute_result"
    }
   ],
   "source": [
    "rdd_file_input.take(5)"
   ]
  },
  {
   "cell_type": "markdown",
   "id": "dd74f330",
   "metadata": {},
   "source": [
    "### split the items in list based on whitespace\n",
    "\n",
    "e.g. Item[0] = 'best big data hadoop spark training' would be split into a list ['best', 'big', 'data', 'hadoop', 'spark', 'training']"
   ]
  },
  {
   "cell_type": "code",
   "execution_count": 20,
   "id": "ce92b76e",
   "metadata": {},
   "outputs": [],
   "source": [
    "rdd_split_file_input = rdd_file_input.map(lambda x : x.split())"
   ]
  },
  {
   "cell_type": "code",
   "execution_count": 21,
   "id": "20eb7235",
   "metadata": {},
   "outputs": [
    {
     "data": {
      "text/plain": [
       "[['best', 'big', 'data', 'hadoop', 'spark', 'training'],\n",
       " ['kelly', 'technologies', 'courses'],\n",
       " ['intellepaat'],\n",
       " ['cloudera', 'training', 'partner', 'india'],\n",
       " ['microsoft', 'certification', 'courses', 'in', 'big', 'data']]"
      ]
     },
     "execution_count": 21,
     "metadata": {},
     "output_type": "execute_result"
    }
   ],
   "source": [
    "rdd_split_file_input.take(5)"
   ]
  },
  {
   "cell_type": "markdown",
   "id": "8b977e04",
   "metadata": {},
   "source": [
    "### Flattern the list of list -> list"
   ]
  },
  {
   "cell_type": "code",
   "execution_count": 22,
   "id": "60c0a2bf",
   "metadata": {},
   "outputs": [],
   "source": [
    "rdd_flat_file_input = rdd_split_file_input.flatMap(lambda x: x)"
   ]
  },
  {
   "cell_type": "code",
   "execution_count": 23,
   "id": "3107ba46",
   "metadata": {},
   "outputs": [
    {
     "data": {
      "text/plain": [
       "['best',\n",
       " 'big',\n",
       " 'data',\n",
       " 'hadoop',\n",
       " 'spark',\n",
       " 'training',\n",
       " 'kelly',\n",
       " 'technologies',\n",
       " 'courses',\n",
       " 'intellepaat']"
      ]
     },
     "execution_count": 23,
     "metadata": {},
     "output_type": "execute_result"
    }
   ],
   "source": [
    "rdd_flat_file_input.take(10)"
   ]
  },
  {
   "cell_type": "markdown",
   "id": "01ba25d3",
   "metadata": {},
   "source": [
    "### Instead of writing it in two transformation the same thing can be achived as below:"
   ]
  },
  {
   "cell_type": "code",
   "execution_count": 24,
   "id": "2df16539",
   "metadata": {},
   "outputs": [],
   "source": [
    "rdd_flat_file_input = rdd_file_input.flatMap(lambda x : x.split())"
   ]
  },
  {
   "cell_type": "code",
   "execution_count": 25,
   "id": "d357240e",
   "metadata": {},
   "outputs": [
    {
     "data": {
      "text/plain": [
       "['best',\n",
       " 'big',\n",
       " 'data',\n",
       " 'hadoop',\n",
       " 'spark',\n",
       " 'training',\n",
       " 'kelly',\n",
       " 'technologies',\n",
       " 'courses',\n",
       " 'intellepaat']"
      ]
     },
     "execution_count": 25,
     "metadata": {},
     "output_type": "execute_result"
    }
   ],
   "source": [
    "rdd_flat_file_input.take(10)"
   ]
  },
  {
   "cell_type": "markdown",
   "id": "2b85c3af",
   "metadata": {},
   "source": [
    "### Approach-1:\n",
    "\n",
    "* using reduceByKey()"
   ]
  },
  {
   "cell_type": "code",
   "execution_count": 26,
   "id": "ae77ef86",
   "metadata": {},
   "outputs": [],
   "source": [
    "rdd_map_file_input = rdd_flat_file_input.map(lambda x : (x,1))"
   ]
  },
  {
   "cell_type": "code",
   "execution_count": 27,
   "id": "821da5f7",
   "metadata": {},
   "outputs": [
    {
     "data": {
      "text/plain": [
       "[('best', 1),\n",
       " ('big', 1),\n",
       " ('data', 1),\n",
       " ('hadoop', 1),\n",
       " ('spark', 1),\n",
       " ('training', 1),\n",
       " ('kelly', 1),\n",
       " ('technologies', 1),\n",
       " ('courses', 1),\n",
       " ('intellepaat', 1)]"
      ]
     },
     "execution_count": 27,
     "metadata": {},
     "output_type": "execute_result"
    }
   ],
   "source": [
    "rdd_map_file_input.take(10)"
   ]
  },
  {
   "cell_type": "code",
   "execution_count": 28,
   "id": "274685a7",
   "metadata": {},
   "outputs": [],
   "source": [
    "rdd_reduce_map_file_input = rdd_map_file_input.reduceByKey(lambda x,y : x+y)"
   ]
  },
  {
   "cell_type": "code",
   "execution_count": 29,
   "id": "1309606c",
   "metadata": {},
   "outputs": [
    {
     "data": {
      "text/plain": [
       "[('best', 29),\n",
       " ('hadoop', 96),\n",
       " ('training', 111),\n",
       " ('intellepaat', 1),\n",
       " ('microsoft', 3),\n",
       " ('in', 169),\n",
       " ('online', 58),\n",
       " ('preparation', 1),\n",
       " ('mining', 2),\n",
       " ('programs', 4)]"
      ]
     },
     "execution_count": 29,
     "metadata": {},
     "output_type": "execute_result"
    }
   ],
   "source": [
    "rdd_reduce_map_file_input.take(10)"
   ]
  },
  {
   "cell_type": "markdown",
   "id": "f8989937",
   "metadata": {},
   "source": [
    "### Save the output to a file"
   ]
  },
  {
   "cell_type": "code",
   "execution_count": 30,
   "id": "391aa4a3",
   "metadata": {},
   "outputs": [],
   "source": [
    "rdd_reduce_map_file_input.saveAsTextFile(f'{FILE_PATH}/trendytech/output/word-count')"
   ]
  },
  {
   "cell_type": "code",
   "execution_count": 31,
   "id": "79344d18",
   "metadata": {},
   "outputs": [
    {
     "name": "stdout",
     "output_type": "stream",
     "text": [
      "Found 3 items\n",
      "-rw-r--r--   3 itv005077 supergroup          0 2023-04-29 05:40 data/trendytech/output/word-count/_SUCCESS\n",
      "-rw-r--r--   3 itv005077 supergroup       4687 2023-04-29 05:40 data/trendytech/output/word-count/part-00000\n",
      "-rw-r--r--   3 itv005077 supergroup       5056 2023-04-29 05:40 data/trendytech/output/word-count/part-00001\n"
     ]
    }
   ],
   "source": [
    "!hadoop fs -ls data/trendytech/output/word-count"
   ]
  },
  {
   "cell_type": "markdown",
   "id": "d117cdc1",
   "metadata": {},
   "source": [
    "### File explorartion for quick check"
   ]
  },
  {
   "cell_type": "code",
   "execution_count": 32,
   "id": "0ad4261b",
   "metadata": {},
   "outputs": [
    {
     "name": "stdout",
     "output_type": "stream",
     "text": [
      "('best', 29)\n",
      "('hadoop', 96)\n",
      "('training', 111)\n",
      "('intellepaat', 1)\n",
      "('microsoft', 3)\n",
      "('in', 169)\n",
      "('online', 58)\n",
      "('preparation', 1)\n",
      "('mining', 2)\n",
      "('programs', 4)\n",
      "('module', 1)\n",
      "('1', 5)\n",
      "('PYTHON', 2)\n",
      "('delhi', 8)\n",
      "('HADOOP', 4)\n",
      "('analytics', 35)\n",
      "('professional', 2)\n",
      "('institute', 19)\n",
      "('good', 2)\n",
      "('questions', 3)\n",
      "('contents', 1)\n",
      "('b', 3)\n",
      "('sc', 1)\n",
      "('third', 1)\n",
      "('class', 6)\n",
      "('of', 27)\n",
      "('master', 4)\n",
      "('basics', 2)\n",
      "('days', 2)\n",
      "('is', 12)\n",
      "('starting', 1)\n",
      "('5www', 1)\n",
      "('im', 1)\n",
      "('cloudx', 2)\n",
      "('lab', 4)\n",
      "('credentials', 1)\n",
      "('coarse', 1)\n",
      "('ecosystems', 1)\n",
      "('intoduction', 1)\n",
      "('flair', 4)\n",
      "('www', 4)\n",
      "('intellipaat', 10)\n",
      "('pass', 2)\n",
      "('do', 2)\n",
      "('hacking', 1)\n",
      "('congitive', 1)\n",
      "('sheet', 1)\n",
      "('groups', 1)\n",
      "('analyst', 11)\n",
      "('python', 8)\n",
      "('bigdata', 19)\n",
      "('linkedin', 1)\n",
      "('centres', 2)\n",
      "('project', 3)\n",
      "('title', 1)\n",
      "('engineering', 9)\n",
      "('coaching', 6)\n",
      "('engineer', 9)\n",
      "('eligibility', 3)\n",
      "('scala', 10)\n",
      "('chahie', 1)\n",
      "('month', 1)\n",
      "('2020', 5)\n",
      "('20', 2)\n",
      "('placement', 11)\n",
      "('full', 4)\n",
      "('stack', 1)\n",
      "('thane', 1)\n",
      "('congnitive', 1)\n",
      "('ibm', 4)\n",
      "('udemy', 2)\n"
     ]
    }
   ],
   "source": [
    "!hadoop fs -head data/trendytech/output/word-count/part-00000"
   ]
  },
  {
   "cell_type": "markdown",
   "id": "cdc64b5a",
   "metadata": {},
   "source": [
    "### Check the block information of the output file"
   ]
  },
  {
   "cell_type": "code",
   "execution_count": 33,
   "id": "b048fe96",
   "metadata": {},
   "outputs": [
    {
     "name": "stdout",
     "output_type": "stream",
     "text": [
      "Connecting to namenode via http://m01.itversity.com:9870/fsck?ugi=itv005077&files=1&blocks=1&locations=1&path=%2Fuser%2Fitv005077%2Fdata%2Ftrendytech%2Foutput%2Fword-count%2Fpart-00001\n",
      "FSCK started by itv005077 (auth:SIMPLE) from /172.16.1.102 for path /user/itv005077/data/trendytech/output/word-count/part-00001 at Sat Apr 29 05:40:31 EDT 2023\n",
      "\n",
      "/user/itv005077/data/trendytech/output/word-count/part-00001 5056 bytes, replicated: replication=3, 1 block(s):  OK\n",
      "0. BP-1685381103-172.16.1.103-1609223169030:blk_1084778273_11045255 len=5056 Live_repl=3  [DatanodeInfoWithStorage[172.16.1.105:9866,DS-cd1d8ab0-7d77-4607-98bf-961a7ad81f45,DISK], DatanodeInfoWithStorage[172.16.1.107:9866,DS-53639da4-6786-42af-a4a6-5021150dddf3,DISK], DatanodeInfoWithStorage[172.16.1.106:9866,DS-3cdd1a86-1122-4b3f-9d9d-c9fe36cab433,DISK]]\n",
      "\n",
      "\n",
      "Status: HEALTHY\n",
      " Number of data-nodes:\t3\n",
      " Number of racks:\t\t1\n",
      " Total dirs:\t\t\t0\n",
      " Total symlinks:\t\t0\n",
      "\n",
      "Replicated Blocks:\n",
      " Total size:\t5056 B\n",
      " Total files:\t1\n",
      " Total blocks (validated):\t1 (avg. block size 5056 B)\n",
      " Minimally replicated blocks:\t1 (100.0 %)\n",
      " Over-replicated blocks:\t0 (0.0 %)\n",
      " Under-replicated blocks:\t0 (0.0 %)\n",
      " Mis-replicated blocks:\t\t0 (0.0 %)\n",
      " Default replication factor:\t3\n",
      " Average block replication:\t3.0\n",
      " Missing blocks:\t\t0\n",
      " Corrupt blocks:\t\t0\n",
      " Missing replicas:\t\t0 (0.0 %)\n",
      " Blocks queued for replication:\t0\n",
      "\n",
      "Erasure Coded Block Groups:\n",
      " Total size:\t0 B\n",
      " Total files:\t0\n",
      " Total block groups (validated):\t0\n",
      " Minimally erasure-coded block groups:\t0\n",
      " Over-erasure-coded block groups:\t0\n",
      " Under-erasure-coded block groups:\t0\n",
      " Unsatisfactory placement block groups:\t0\n",
      " Average block group size:\t0.0\n",
      " Missing block groups:\t\t0\n",
      " Corrupt block groups:\t\t0\n",
      " Missing internal blocks:\t0\n",
      " Blocks queued for replication:\t0\n",
      "FSCK ended at Sat Apr 29 05:40:31 EDT 2023 in 0 milliseconds\n",
      "\n",
      "\n",
      "The filesystem under path '/user/itv005077/data/trendytech/output/word-count/part-00001' is HEALTHY\n"
     ]
    }
   ],
   "source": [
    "!hdfs fsck /user/itv005077/data/trendytech/output/word-count/part-00001 -files -blocks -locations"
   ]
  },
  {
   "cell_type": "markdown",
   "id": "380045c0",
   "metadata": {},
   "source": [
    "### Collect the rdd into a local variable and print it in a desired format\n",
    "* collect() to capture the entire rdd into a local variable\n",
    "* take(n) to capture n items from rdd into a local variable"
   ]
  },
  {
   "cell_type": "code",
   "execution_count": 34,
   "id": "df74e43d",
   "metadata": {},
   "outputs": [],
   "source": [
    "output = rdd_reduce_map_file_input.take(10)"
   ]
  },
  {
   "cell_type": "code",
   "execution_count": 35,
   "id": "18613f4e",
   "metadata": {},
   "outputs": [
    {
     "name": "stdout",
     "output_type": "stream",
     "text": [
      "      best:29   \n",
      "    hadoop:96   \n",
      "  training:111  \n",
      "intellepaat:1    \n",
      " microsoft:3    \n",
      "        in:169  \n",
      "    online:58   \n",
      "preparation:1    \n",
      "    mining:2    \n",
      "  programs:4    \n"
     ]
    }
   ],
   "source": [
    "# tuple unpacking\n",
    "for word,count in output:\n",
    "    print(f\"{word: >10}:{count: <5}\")"
   ]
  },
  {
   "cell_type": "markdown",
   "id": "cd4dfa3e",
   "metadata": {},
   "source": [
    "### Approach-2:\n",
    "\n",
    "* using countByValue() action which loads the entire rdd into a local variable.\n",
    "\n",
    "** <b>May result in Out Of Memory Error **"
   ]
  },
  {
   "cell_type": "code",
   "execution_count": 36,
   "id": "8a952fa0",
   "metadata": {},
   "outputs": [],
   "source": [
    "rdd_sort_flat_file_input = rdd_flat_file_input.sortBy(lambda x : x)"
   ]
  },
  {
   "cell_type": "code",
   "execution_count": 37,
   "id": "4c085098",
   "metadata": {},
   "outputs": [
    {
     "data": {
      "text/plain": [
       "['*', '1', '1', '1', '1', '1', '10', '100', '1000', '101']"
      ]
     },
     "execution_count": 37,
     "metadata": {},
     "output_type": "execute_result"
    }
   ],
   "source": [
    "rdd_sort_flat_file_input.take(10)"
   ]
  },
  {
   "cell_type": "code",
   "execution_count": 38,
   "id": "5ca6dc2e",
   "metadata": {},
   "outputs": [],
   "source": [
    "output = rdd_sort_flat_file_input.countByValue()"
   ]
  },
  {
   "cell_type": "code",
   "execution_count": 39,
   "id": "3cd8067f",
   "metadata": {},
   "outputs": [
    {
     "data": {
      "text/plain": [
       "defaultdict(int,\n",
       "            {'*': 1,\n",
       "             '1': 5,\n",
       "             '10': 1,\n",
       "             '100': 1,\n",
       "             '1000': 1,\n",
       "             '101': 1,\n",
       "             '12': 2,\n",
       "             '13': 1,\n",
       "             '175': 1,\n",
       "             '1st': 1,\n",
       "             '1ywar': 1,\n",
       "             '2': 4,\n",
       "             '2.4': 1,\n",
       "             '20': 2,\n",
       "             '2020': 5,\n",
       "             '21': 1,\n",
       "             '3': 3,\n",
       "             '3000': 1,\n",
       "             '4': 2,\n",
       "             '5': 1,\n",
       "             '5www': 1,\n",
       "             'ARCHITECTURE': 1,\n",
       "             'BANGALORE': 2,\n",
       "             'BIG': 6,\n",
       "             'BIGDATA': 1,\n",
       "             'COURSE': 1,\n",
       "             'DATA': 7,\n",
       "             'DELHI': 1,\n",
       "             'HADOOP': 4,\n",
       "             'IN': 2,\n",
       "             'MICROSOFT': 1,\n",
       "             'PGP': 1,\n",
       "             'PYTHON': 2,\n",
       "             'SCALA': 1,\n",
       "             'SIMPLILEARN': 1,\n",
       "             'STUDENT': 1,\n",
       "             'TRAINING': 3,\n",
       "             'UDACITY': 1,\n",
       "             '_': 2,\n",
       "             'a': 5,\n",
       "             'about': 1,\n",
       "             'acadamy': 1,\n",
       "             'academy': 5,\n",
       "             'acadgild': 3,\n",
       "             'acadglid': 1,\n",
       "             'access': 1,\n",
       "             'acharya': 1,\n",
       "             'acknowledge': 1,\n",
       "             'action': 1,\n",
       "             'adminstartor': 1,\n",
       "             'advance': 1,\n",
       "             'affiliations': 1,\n",
       "             'after': 1,\n",
       "             'algorithm': 1,\n",
       "             'all': 1,\n",
       "             'am': 1,\n",
       "             'ameerpet': 6,\n",
       "             'amity': 1,\n",
       "             'amounts': 1,\n",
       "             'an': 3,\n",
       "             'analysis': 5,\n",
       "             'analyst': 11,\n",
       "             'analytic': 1,\n",
       "             'analytical': 1,\n",
       "             'analytics': 35,\n",
       "             'analytixlabs': 1,\n",
       "             'and': 22,\n",
       "             'anlyst': 1,\n",
       "             'answer': 1,\n",
       "             'any': 1,\n",
       "             'anyaless': 1,\n",
       "             'apache': 15,\n",
       "             'app': 2,\n",
       "             'application': 1,\n",
       "             'applications': 1,\n",
       "             'april': 2,\n",
       "             'architect': 7,\n",
       "             'architecture': 1,\n",
       "             'artificial': 1,\n",
       "             'as': 1,\n",
       "             'assessment': 1,\n",
       "             'assignment': 1,\n",
       "             'assignments': 1,\n",
       "             'ata': 1,\n",
       "             'attending': 1,\n",
       "             'australia': 1,\n",
       "             'aws': 1,\n",
       "             'axtria': 1,\n",
       "             'ayllabus': 1,\n",
       "             'azure': 1,\n",
       "             'b': 3,\n",
       "             'backgroud': 1,\n",
       "             'bangalore': 38,\n",
       "             'bangkok': 1,\n",
       "             'banglore': 1,\n",
       "             'banking': 1,\n",
       "             'banks': 1,\n",
       "             'basics': 2,\n",
       "             'be': 1,\n",
       "             'beginner': 1,\n",
       "             'beginners': 6,\n",
       "             'behind': 1,\n",
       "             'below': 1,\n",
       "             'benefits': 1,\n",
       "             'best': 29,\n",
       "             'bharathiar': 1,\n",
       "             'bharti': 1,\n",
       "             'bi': 1,\n",
       "             'bid': 1,\n",
       "             'big': 279,\n",
       "             'bigdaa': 1,\n",
       "             'bigdata': 19,\n",
       "             'bigdataphysicsclasses': 1,\n",
       "             'bigdatauniversity': 1,\n",
       "             'bihar': 3,\n",
       "             'birla': 1,\n",
       "             'bits': 3,\n",
       "             'blog': 1,\n",
       "             'blogs': 1,\n",
       "             'books': 1,\n",
       "             'broadway': 1,\n",
       "             'btm': 3,\n",
       "             'by': 9,\n",
       "             'c++': 1,\n",
       "             'ca': 1,\n",
       "             'calculator': 1,\n",
       "             'can': 2,\n",
       "             'career': 4,\n",
       "             'case': 1,\n",
       "             'cassandra': 1,\n",
       "             'catalog': 1,\n",
       "             'cca': 1,\n",
       "             'cca175': 1,\n",
       "             'cdac': 1,\n",
       "             'center': 3,\n",
       "             'centre': 2,\n",
       "             'centres': 2,\n",
       "             'certificate': 2,\n",
       "             'certification': 26,\n",
       "             'certified': 3,\n",
       "             'chahie': 1,\n",
       "             'changes': 1,\n",
       "             'charging': 1,\n",
       "             'cheat': 1,\n",
       "             'chellappan': 1,\n",
       "             'chennai': 20,\n",
       "             'choice': 1,\n",
       "             'cipet': 1,\n",
       "             'claases': 1,\n",
       "             'class': 6,\n",
       "             'classes': 11,\n",
       "             'classpath': 1,\n",
       "             'classroom': 1,\n",
       "             'cloud': 1,\n",
       "             'cloudera': 6,\n",
       "             'cloudx': 2,\n",
       "             'cloudxlab': 5,\n",
       "             'cluster': 2,\n",
       "             'co': 1,\n",
       "             'coaching': 6,\n",
       "             'coarse': 1,\n",
       "             'cochig': 1,\n",
       "             'code': 2,\n",
       "             'cognative': 1,\n",
       "             'cognativeclasses': 1,\n",
       "             'coimbatore': 1,\n",
       "             'collect': 1,\n",
       "             'college': 3,\n",
       "             'colleges': 4,\n",
       "             'com': 6,\n",
       "             'comment': 1,\n",
       "             'community': 1,\n",
       "             'comp': 1,\n",
       "             'complete': 3,\n",
       "             'computer': 1,\n",
       "             'computing': 1,\n",
       "             'concepts': 1,\n",
       "             'conduct': 1,\n",
       "             'congitive': 1,\n",
       "             'congnitive': 1,\n",
       "             'conitive': 1,\n",
       "             'content': 4,\n",
       "             'contents': 1,\n",
       "             'contentsbto': 1,\n",
       "             'continuous': 1,\n",
       "             'cost': 6,\n",
       "             'costing': 1,\n",
       "             'costs': 1,\n",
       "             'could': 1,\n",
       "             'course': 104,\n",
       "             'coursedata': 1,\n",
       "             'coursera': 9,\n",
       "             'courses': 53,\n",
       "             'credentials': 1,\n",
       "             'crunching': 1,\n",
       "             'cse': 1,\n",
       "             'cv': 1,\n",
       "             'dat': 1,\n",
       "             'data': 354,\n",
       "             'data101': 1,\n",
       "             'database': 1,\n",
       "             'databricks': 2,\n",
       "             'datafalir': 1,\n",
       "             'dataflair': 6,\n",
       "             'dataframe': 1,\n",
       "             'dataset': 1,\n",
       "             'datatutorial': 1,\n",
       "             'date': 1,\n",
       "             'day': 1,\n",
       "             'days': 2,\n",
       "             'db': 1,\n",
       "             'definitive': 1,\n",
       "             'degree': 1,\n",
       "             'delhi': 8,\n",
       "             'denotes': 1,\n",
       "             'deta': 1,\n",
       "             'details': 3,\n",
       "             'developer': 4,\n",
       "             'digital': 2,\n",
       "             'diploma': 4,\n",
       "             'discount': 1,\n",
       "             'distance': 2,\n",
       "             'django': 1,\n",
       "             'dlehi': 1,\n",
       "             'do': 2,\n",
       "             'docker': 1,\n",
       "             'dollars': 1,\n",
       "             'draw': 1,\n",
       "             'driver': 1,\n",
       "             'drivers': 1,\n",
       "             'duration': 1,\n",
       "             'e': 2,\n",
       "             'ecosystems': 1,\n",
       "             'edition': 1,\n",
       "             'education': 1,\n",
       "             'edulab': 1,\n",
       "             'edupristine': 1,\n",
       "             'edureka': 11,\n",
       "             'edvancer': 1,\n",
       "             'eligibility': 3,\n",
       "             'email': 1,\n",
       "             'emcdsa': 1,\n",
       "             'end': 2,\n",
       "             'engg': 1,\n",
       "             'engineer': 9,\n",
       "             'engineering': 9,\n",
       "             'english': 1,\n",
       "             'entrycomputer': 1,\n",
       "             'eureka': 1,\n",
       "             'europe': 1,\n",
       "             'every': 1,\n",
       "             'example': 2,\n",
       "             'excelr': 1,\n",
       "             'expert': 1,\n",
       "             'faculty': 1,\n",
       "             'false': 1,\n",
       "             'fee': 8,\n",
       "             'feedback': 1,\n",
       "             'fees': 10,\n",
       "             'files': 1,\n",
       "             'finance': 1,\n",
       "             'firms': 1,\n",
       "             'flair': 4,\n",
       "             'following': 2,\n",
       "             'for': 30,\n",
       "             'foundation': 1,\n",
       "             'framework': 1,\n",
       "             'fre': 1,\n",
       "             'freshers': 1,\n",
       "             'from': 8,\n",
       "             'full': 4,\n",
       "             'fundamentals': 1,\n",
       "             'garden': 1,\n",
       "             'gcp': 1,\n",
       "             'gemology': 1,\n",
       "             'generate': 1,\n",
       "             'genomics': 1,\n",
       "             'geoinsyssoft': 1,\n",
       "             'github': 1,\n",
       "             'go': 1,\n",
       "             'good': 2,\n",
       "             'google': 2,\n",
       "             'graded': 1,\n",
       "             'great': 3,\n",
       "             'greatlearing': 1,\n",
       "             'greatlearning': 1,\n",
       "             'groups': 1,\n",
       "             'gs': 1,\n",
       "             'guarantee': 2,\n",
       "             'guide': 2,\n",
       "             'haarop': 1,\n",
       "             'hacking': 1,\n",
       "             'hadoop': 96,\n",
       "             'hands': 1,\n",
       "             'has': 1,\n",
       "             'hat': 1,\n",
       "             'hdfs': 1,\n",
       "             'hdpcd': 1,\n",
       "             'help': 1,\n",
       "             'helper': 1,\n",
       "             'helping': 1,\n",
       "             'hindi': 2,\n",
       "             'hive': 2,\n",
       "             'hiw': 1,\n",
       "             'horizontal': 1,\n",
       "             'hortonworks': 1,\n",
       "             'https': 1,\n",
       "             'hyderabad': 33,\n",
       "             'hydrabad': 1,\n",
       "             'i': 2,\n",
       "             'ibm': 4,\n",
       "             'ignite': 1,\n",
       "             'iguru': 1,\n",
       "             'iit': 10,\n",
       "             'im': 1,\n",
       "             'image': 2,\n",
       "             'impala': 1,\n",
       "             'import': 1,\n",
       "             'important': 1,\n",
       "             'in': 169,\n",
       "             'ina': 1,\n",
       "             'inceptez': 2,\n",
       "             'india': 16,\n",
       "             'indore': 1,\n",
       "             'information': 1,\n",
       "             'infosys': 1,\n",
       "             'inspecs': 1,\n",
       "             'institute': 19,\n",
       "             'institutes': 12,\n",
       "             'institution': 1,\n",
       "             'intelipat': 1,\n",
       "             'intelipatt': 1,\n",
       "             'intellepaat': 1,\n",
       "             'intellepat': 1,\n",
       "             'intelligence': 1,\n",
       "             'intellipaat': 10,\n",
       "             'intellipat': 1,\n",
       "             'interact': 1,\n",
       "             'international': 3,\n",
       "             'intership': 1,\n",
       "             'interview': 2,\n",
       "             'intoduction': 1,\n",
       "             'intro': 1,\n",
       "             'ipc': 2,\n",
       "             'is': 12,\n",
       "             'it': 3,\n",
       "             'itversity': 1,\n",
       "             'ivy': 2,\n",
       "             'ivyproschool': 1,\n",
       "             'jaipur': 2,\n",
       "             'java': 4,\n",
       "             'javatpoint': 1,\n",
       "             'jigsaw': 3,\n",
       "             'jnu': 1,\n",
       "             'job': 3,\n",
       "             'jobs': 2,\n",
       "             'just': 1,\n",
       "             'kafka': 1,\n",
       "             'ke': 2,\n",
       "             'kelly': 2,\n",
       "             'keyskills': 1,\n",
       "             'kharadi': 1,\n",
       "             'khati': 1,\n",
       "             'kinds': 1,\n",
       "             'kit': 1,\n",
       "             'kolhapur': 1,\n",
       "             'kolkata': 3,\n",
       "             'kphb': 1,\n",
       "             'kr': 1,\n",
       "             'kubernetes': 2,\n",
       "             'kundalahalli': 1,\n",
       "             'kya': 1,\n",
       "             'lab': 4,\n",
       "             'labs': 1,\n",
       "             'lake': 2,\n",
       "             'lakes': 2,\n",
       "             'laptop': 1,\n",
       "             'large': 3,\n",
       "             'largest': 1,\n",
       "             'last': 2,\n",
       "             'latest': 2,\n",
       "             'layout': 3,\n",
       "             'leanr': 1,\n",
       "             'learn': 15,\n",
       "             'learnathone': 1,\n",
       "             'learnbay': 1,\n",
       "             'learning': 12,\n",
       "             'life': 1,\n",
       "             'light': 1,\n",
       "             'limited': 2,\n",
       "             'line': 1,\n",
       "             'linkedin': 1,\n",
       "             'linux': 1,\n",
       "             'list': 2,\n",
       "             'live': 3,\n",
       "             'liye': 2,\n",
       "             'lms': 1,\n",
       "             'loading': 1,\n",
       "             'location': 1,\n",
       "             'lower': 1,\n",
       "             'lucknow': 1,\n",
       "             'm': 1,\n",
       "             'mapr': 1,\n",
       "             'mapreduce': 1,\n",
       "             'marathahalli': 3,\n",
       "             'marketing': 2,\n",
       "             'master': 4,\n",
       "             'masters': 4,\n",
       "             'material': 1,\n",
       "             'may': 1,\n",
       "             'mba': 1,\n",
       "             'mca': 1,\n",
       "             'me': 5,\n",
       "             'microsoft': 3,\n",
       "             'mind': 1,\n",
       "             'minimum': 1,\n",
       "             'mining': 2,\n",
       "             'minutes': 1,\n",
       "             'mitx': 1,\n",
       "             'module': 1,\n",
       "             'mongo': 1,\n",
       "             'month': 1,\n",
       "             'most': 1,\n",
       "             'motivation': 1,\n",
       "             'msc': 3,\n",
       "             'multiple': 1,\n",
       "             'mumbai': 1,\n",
       "             'n': 1,\n",
       "             'name': 1,\n",
       "             'near': 6,\n",
       "             'necessary': 1,\n",
       "             'need': 1,\n",
       "             'network': 1,\n",
       "             'new': 1,\n",
       "             'nit': 1,\n",
       "             'nlp': 1,\n",
       "             'nmims': 1,\n",
       "             'noida': 1,\n",
       "             'not': 2,\n",
       "             'npntraining': 1,\n",
       "             'nsdc': 1,\n",
       "             'numpy': 1,\n",
       "             'nural': 1,\n",
       "             'of': 27,\n",
       "             'offer': 1,\n",
       "             'offered': 1,\n",
       "             'offering': 1,\n",
       "             'ofhadoop': 1,\n",
       "             'omr': 1,\n",
       "             'on': 7,\n",
       "             'one': 1,\n",
       "             'online': 58,\n",
       "             'opportunities': 2,\n",
       "             'or': 1,\n",
       "             'oracle': 1,\n",
       "             'org': 1,\n",
       "             'orovide': 1,\n",
       "             'overview': 2,\n",
       "             'paid': 1,\n",
       "             'paper': 2,\n",
       "             'paras': 1,\n",
       "             'part': 1,\n",
       "             'partner': 1,\n",
       "             'pass': 2,\n",
       "             'patna': 1,\n",
       "             'pay': 1,\n",
       "             'pdg': 1,\n",
       "             'peer': 1,\n",
       "             'per': 1,\n",
       "             'pg': 7,\n",
       "             'pgdm': 1,\n",
       "             'pgp': 1,\n",
       "             'physics': 1,\n",
       "             'pilani': 3,\n",
       "             'pipeline': 1,\n",
       "             'placement': 11,\n",
       "             'placements': 1,\n",
       "             'places': 1,\n",
       "             'players': 1,\n",
       "             'portion': 1,\n",
       "             'power': 1,\n",
       "             'preparation': 1,\n",
       "             'prerequisites': 1,\n",
       "             'presto': 1,\n",
       "             'private': 1,\n",
       "             'pro': 2,\n",
       "             'processing': 1,\n",
       "             'professional': 2,\n",
       "             'program': 7,\n",
       "             'programme': 1,\n",
       "             'programs': 4,\n",
       "             'project': 3,\n",
       "             'projects': 5,\n",
       "             'providers': 2,\n",
       "             'provision': 1,\n",
       "             'prwatech': 2,\n",
       "             'publication': 1,\n",
       "             'pune': 8,\n",
       "             'puram': 1,\n",
       "             'python': 8,\n",
       "             'qjavq5catum': 1,\n",
       "             'qlikview': 1,\n",
       "             'qualification': 1,\n",
       "             'qualifications': 1,\n",
       "             'queries': 2,\n",
       "             'question': 1,\n",
       "             'questions': 3,\n",
       "             'quesy': 1,\n",
       "             'quiz': 1,\n",
       "             'quora': 1,\n",
       "             'radicaltechnologies': 1,\n",
       "             'rahul': 1,\n",
       "             'rajouri': 1,\n",
       "             'rapid': 1,\n",
       "             'rcm': 1,\n",
       "             'rdd': 1,\n",
       "             'real': 2,\n",
       "             'red': 1,\n",
       "             'regular': 1,\n",
       "             'related': 1,\n",
       "             'relational': 1,\n",
       "             'remoteexception': 1,\n",
       "             'report': 1,\n",
       "             'required': 2,\n",
       "             'review': 4,\n",
       "             'reviews': 6,\n",
       "             'rg': 1,\n",
       "             'roorkee': 3,\n",
       "             'rourkela': 1,\n",
       "             'sample': 2,\n",
       "             'sathish': 1,\n",
       "             'sc': 1,\n",
       "             'scala': 10,\n",
       "             'scalability': 1,\n",
       "             'scd': 1,\n",
       "             'school': 2,\n",
       "             'science': 1,\n",
       "             'scienctist': 1,\n",
       "             'scipy': 1,\n",
       "             'scratch': 3,\n",
       "             'search': 1,\n",
       "             'section': 1,\n",
       "             'seema': 1,\n",
       "             'select': 1,\n",
       "             'session': 1,\n",
       "             'sessions': 1,\n",
       "             'setup': 1,\n",
       "             'several': 1,\n",
       "             'sharif': 3,\n",
       "             'sheet': 1,\n",
       "             'show': 1,\n",
       "             'similar': 1,\n",
       "             'simplilearn': 6,\n",
       "             'site': 1,\n",
       "             'skills': 1,\n",
       "             'sla': 1,\n",
       "             'software': 3,\n",
       "             'solution': 2,\n",
       "             'solutions': 1,\n",
       "             'south': 1,\n",
       "             'spark': 42,\n",
       "             'specialization': 2,\n",
       "             'speech': 1,\n",
       "             'sql': 4,\n",
       "             'sqoop': 1,\n",
       "             'stack': 1,\n",
       "             'standbyexception': 1,\n",
       "             'start': 1,\n",
       "             'starter': 1,\n",
       "             'starting': 1,\n",
       "             'startups': 1,\n",
       "             'step': 2,\n",
       "             'steps': 1,\n",
       "             'storage': 1,\n",
       "             'storahe': 1,\n",
       "             'store': 1,\n",
       "             'strategy': 1,\n",
       "             'structure': 1,\n",
       "             'students': 1,\n",
       "             'study': 5,\n",
       "             'subhashini': 1,\n",
       "             'subject': 1,\n",
       "             'subjects': 1,\n",
       "             'sum': 1,\n",
       "             'supporting': 1,\n",
       "             'syllabus': 2,\n",
       "             'tamil': 2,\n",
       "             'tamilnadu': 1,\n",
       "             'taming': 1,\n",
       "             'task': 1,\n",
       "             'teachers': 1,\n",
       "             'tech': 1,\n",
       "             'techetraining': 1,\n",
       "             'technogeeks': 1,\n",
       "             'technologies': 3,\n",
       "             'technology': 3,\n",
       "             'testers': 1,\n",
       "             'text': 1,\n",
       "             'thane': 1,\n",
       "             'that': 1,\n",
       "             'the': 12,\n",
       "             'there': 2,\n",
       "             'third': 1,\n",
       "             'thiruvanthapuram': 1,\n",
       "             'time': 3,\n",
       "             'title': 1,\n",
       "             'to': 21,\n",
       "             'today': 1,\n",
       "             'tools': 1,\n",
       "             'top': 8,\n",
       "             'topic': 1,\n",
       "             'topics': 1,\n",
       "             'trainer': 2,\n",
       "             'trainers': 1,\n",
       "             'trainin': 1,\n",
       "             'training': 111,\n",
       "             'trainjng': 1,\n",
       "             'tranning': 1,\n",
       "             'trending': 1,\n",
       "             'trining': 1,\n",
       "             'trivandrum': 1,\n",
       "             'true': 1,\n",
       "             'tutor': 1,\n",
       "             'tutorial': 15,\n",
       "             'tutorials': 1,\n",
       "             'types': 2,\n",
       "             'udacity': 1,\n",
       "             'udemy': 2,\n",
       "             'uk': 2,\n",
       "             'unacademy': 1,\n",
       "             'under': 1,\n",
       "             'understanding': 1,\n",
       "             'universities': 2,\n",
       "             'university': 3,\n",
       "             'updates': 1,\n",
       "             'upgrad': 1,\n",
       "             'uppal': 1,\n",
       "             'use': 1,\n",
       "             'used': 1,\n",
       "             'using': 3,\n",
       "             'utilized': 1,\n",
       "             \"v's\": 1,\n",
       "             'value': 1,\n",
       "             'vancouver': 1,\n",
       "             'velachery': 1,\n",
       "             'very': 1,\n",
       "             'vidya': 1,\n",
       "             'visualizing': 1,\n",
       "             'volume': 2,\n",
       "             'vourse': 1,\n",
       "             'vtu': 1,\n",
       "             'we': 1,\n",
       "             'web': 1,\n",
       "             'websie': 1,\n",
       "             'week': 2,\n",
       "             'weekend': 1,\n",
       "             'weeks': 1,\n",
       "             'what': 2,\n",
       "             'when': 2,\n",
       "             'where': 2,\n",
       "             'which': 8,\n",
       "             'who': 1,\n",
       "             'wiley': 1,\n",
       "             'willing': 1,\n",
       "             'with': 21,\n",
       "             'workshop': 1,\n",
       "             'world': 1,\n",
       "             'would': 1,\n",
       "             'www': 4,\n",
       "             'year': 1,\n",
       "             'yellanki': 1,\n",
       "             'you': 1,\n",
       "             'your': 1,\n",
       "             'yraining': 1,\n",
       "             'zaloni': 1,\n",
       "             'zealand': 1})"
      ]
     },
     "execution_count": 39,
     "metadata": {},
     "output_type": "execute_result"
    }
   ],
   "source": [
    "output"
   ]
  },
  {
   "cell_type": "markdown",
   "id": "8b269a5e",
   "metadata": {},
   "source": [
    "### <b><u> *** Remember to stop sparkContext and SparkSession ***"
   ]
  },
  {
   "cell_type": "code",
   "execution_count": 40,
   "id": "20a20db2",
   "metadata": {},
   "outputs": [],
   "source": [
    "sc.stop()\n",
    "spark.stop()"
   ]
  },
  {
   "cell_type": "markdown",
   "id": "93ebafd8",
   "metadata": {},
   "source": [
    "### Deleting working directories from both local and hdfs"
   ]
  },
  {
   "cell_type": "code",
   "execution_count": 41,
   "id": "0bd9b3be",
   "metadata": {},
   "outputs": [
    {
     "name": "stdout",
     "output_type": "stream",
     "text": [
      "total 8\n",
      "drwxr-xr-x 3 itv005077 students 4096 Apr 29 05:39 data\n",
      "drwxr-xr-x 3 itv005077 students 4096 Apr 29 05:39 notebooks\n"
     ]
    }
   ],
   "source": [
    "!ls -l ~/"
   ]
  },
  {
   "cell_type": "code",
   "execution_count": 42,
   "id": "7ce06b87",
   "metadata": {},
   "outputs": [],
   "source": [
    "!rm -r ~/data"
   ]
  },
  {
   "cell_type": "code",
   "execution_count": 43,
   "id": "4e33a52b",
   "metadata": {},
   "outputs": [
    {
     "name": "stdout",
     "output_type": "stream",
     "text": [
      "total 4\n",
      "drwxr-xr-x 3 itv005077 students 4096 Apr 29 05:39 notebooks\n"
     ]
    }
   ],
   "source": [
    "!ls -l ~/"
   ]
  },
  {
   "cell_type": "code",
   "execution_count": 44,
   "id": "e9030ff9",
   "metadata": {},
   "outputs": [
    {
     "name": "stdout",
     "output_type": "stream",
     "text": [
      "Found 3 items\n",
      "drwx------   - itv005077 supergroup          0 2023-04-15 10:10 .Trash\n",
      "drwxr-xr-x   - itv005077 supergroup          0 2023-04-29 05:40 .sparkStaging\n",
      "drwxr-xr-x   - itv005077 supergroup          0 2023-04-29 05:40 data\n"
     ]
    }
   ],
   "source": [
    "!hadoop fs -ls "
   ]
  },
  {
   "cell_type": "code",
   "execution_count": 45,
   "id": "35cea3e4",
   "metadata": {},
   "outputs": [
    {
     "name": "stdout",
     "output_type": "stream",
     "text": [
      "2023-04-29 05:40:36,868 INFO fs.TrashPolicyDefault: Moved: 'hdfs://m01.itversity.com:9000/user/itv005077/data' to trash at: hdfs://m01.itversity.com:9000/user/itv005077/.Trash/Current/user/itv005077/data1682761236852\n"
     ]
    }
   ],
   "source": [
    "!hadoop fs -rm -r data"
   ]
  },
  {
   "cell_type": "code",
   "execution_count": 46,
   "id": "3c00b81a",
   "metadata": {},
   "outputs": [
    {
     "name": "stdout",
     "output_type": "stream",
     "text": [
      "Found 2 items\n",
      "drwx------   - itv005077 supergroup          0 2023-04-15 10:10 .Trash\n",
      "drwxr-xr-x   - itv005077 supergroup          0 2023-04-29 05:40 .sparkStaging\n"
     ]
    }
   ],
   "source": [
    "!hadoop fs -ls"
   ]
  }
 ],
 "metadata": {
  "kernelspec": {
   "display_name": "Pyspark 3",
   "language": "python",
   "name": "pyspark3"
  },
  "language_info": {
   "codemirror_mode": {
    "name": "ipython",
    "version": 3
   },
   "file_extension": ".py",
   "mimetype": "text/x-python",
   "name": "python",
   "nbconvert_exporter": "python",
   "pygments_lexer": "ipython3",
   "version": "3.6.12"
  }
 },
 "nbformat": 4,
 "nbformat_minor": 5
}
