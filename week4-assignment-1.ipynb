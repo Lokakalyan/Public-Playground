{
 "cells": [
  {
   "cell_type": "markdown",
   "id": "0f4797ef",
   "metadata": {},
   "source": [
    "## Week-4 Asignment (Question-1)"
   ]
  },
  {
   "cell_type": "code",
   "execution_count": 1,
   "id": "768f5ff6",
   "metadata": {},
   "outputs": [
    {
     "name": "stdout",
     "output_type": "stream",
     "text": [
      "Found 7 items\n",
      "drwxr-xr-x   - itv005857 supergroup          0 2023-04-26 16:47 /public/trendytech/retail_db/categories\n",
      "drwxr-xr-x   - itv005857 supergroup          0 2023-04-26 16:47 /public/trendytech/retail_db/customers\n",
      "drwxr-xr-x   - itv005857 supergroup          0 2023-04-26 16:47 /public/trendytech/retail_db/departments\n",
      "drwxr-xr-x   - itv005857 supergroup          0 2023-04-26 16:47 /public/trendytech/retail_db/order_items\n",
      "drwxr-xr-x   - itv005857 supergroup          0 2023-05-04 16:18 /public/trendytech/retail_db/orders\n",
      "drwxr-xr-x   - itv005857 supergroup          0 2023-04-26 16:47 /public/trendytech/retail_db/products\n",
      "-rw-r--r--   3 itv005857 supergroup       4965 2023-04-26 16:47 /public/trendytech/retail_db/wordcount.rtf\n"
     ]
    }
   ],
   "source": [
    "!hadoop fs -ls /public/trendytech/retail_db/"
   ]
  },
  {
   "cell_type": "code",
   "execution_count": 2,
   "id": "764347e6",
   "metadata": {},
   "outputs": [
    {
     "name": "stdout",
     "output_type": "stream",
     "text": [
      "1,2013-07-25 00:00:00.0,11599,CLOSED\n",
      "2,2013-07-25 00:00:00.0,256,PENDING_PAYMENT\n",
      "3,2013-07-25 00:00:00.0,12111,COMPLETE\n",
      "4,2013-07-25 00:00:00.0,8827,CLOSED\n",
      "5,2013-07-25 00:00:00.0,11318,COMPLETE\n",
      "6,2013-07-25 00:00:00.0,7130,COMPLETE\n",
      "7,2013-07-25 00:00:00.0,4530,COMPLETE\n",
      "8,2013-07-25 00:00:00.0,2911,PROCESSING\n",
      "9,2013-07-25 00:00:00.0,5657,PENDING_PAYMENT\n",
      "10,2013-07-25 00:00:00.0,5648,PENDING_PAYMENT\n",
      "11,2013-07-25 00:00:00.0,918,PAYMENT_REVIEW\n",
      "12,2013-07-25 00:00:00.0,1837,CLOSED\n",
      "13,2013-07-25 00:00:00.0,9149,PENDING_PAYMENT\n",
      "14,2013-07-25 00:00:00.0,9842,PROCESSING\n",
      "15,2013-07-25 00:00:00.0,2568,COMPLETE\n",
      "16,2013-07-25 00:00:00.0,7276,PENDING_PAYMENT\n",
      "17,2013-07-25 00:00:00.0,2667,COMPLETE\n",
      "18,2013-07-25 00:00:00.0,1205,CLOSED\n",
      "19,2013-07-25 00:00:00.0,9488,PENDING_PAYMENT\n",
      "20,2013-07-25 00:00:00.0,9198,PROCESSING\n",
      "21,2013-07-25 00:00:00.0,2711,PENDING\n",
      "22,2013-07-25 00:00:00.0,333,COMPLETE\n",
      "23,2013-07-25 00:00:00.0,4367,PENDING_PAYMENT\n",
      "24,2013-07-25 00:00:00.0,11441,CLOSED\n",
      "25,2013-07-25 00:00:00.0,9503,CLOSED\n",
      "26,2013-0"
     ]
    }
   ],
   "source": [
    "!hadoop fs -head /public/trendytech/retail_db/orders/part-00000"
   ]
  },
  {
   "cell_type": "code",
   "execution_count": 3,
   "id": "e7f83cc5",
   "metadata": {},
   "outputs": [
    {
     "name": "stdout",
     "output_type": "stream",
     "text": [
      "1,Richard,Hernandez,XXXXXXXXX,XXXXXXXXX,6303 Heather Plaza,Brownsville,TX,78521\n",
      "2,Mary,Barrett,XXXXXXXXX,XXXXXXXXX,9526 Noble Embers Ridge,Littleton,CO,80126\n",
      "3,Ann,Smith,XXXXXXXXX,XXXXXXXXX,3422 Blue Pioneer Bend,Caguas,PR,00725\n",
      "4,Mary,Jones,XXXXXXXXX,XXXXXXXXX,8324 Little Common,San Marcos,CA,92069\n",
      "5,Robert,Hudson,XXXXXXXXX,XXXXXXXXX,\"10 Crystal River Mall \",Caguas,PR,00725\n",
      "6,Mary,Smith,XXXXXXXXX,XXXXXXXXX,3151 Sleepy Quail Promenade,Passaic,NJ,07055\n",
      "7,Melissa,Wilcox,XXXXXXXXX,XXXXXXXXX,9453 High Concession,Caguas,PR,00725\n",
      "8,Megan,Smith,XXXXXXXXX,XXXXXXXXX,3047 Foggy Forest Plaza,Lawrence,MA,01841\n",
      "9,Mary,Perez,XXXXXXXXX,XXXXXXXXX,3616 Quaking Street,Caguas,PR,00725\n",
      "10,Melissa,Smith,XXXXXXXXX,XXXXXXXXX,8598 Harvest Beacon Plaza,Stafford,VA,22554\n",
      "11,Mary,Huffman,XXXXXXXXX,XXXXXXXXX,3169 Stony Woods,Caguas,PR,00725\n",
      "12,Christopher,Smith,XXXXXXXXX,XXXXXXXXX,5594 Jagged Embers By-pass,San Antonio,TX,78227\n",
      "13,Mary,Baldwin,XXXXXXXXX,XXXXXXXXX,7922 Iron Oak Gardens,Caguas,PR,00725\n",
      "14,Katherine,Smith,XXXXXXXXX,XXXXXXX"
     ]
    }
   ],
   "source": [
    "!hadoop fs -head /public/trendytech/retail_db/customers/part-00000"
   ]
  },
  {
   "cell_type": "code",
   "execution_count": 4,
   "id": "3cfa80c9",
   "metadata": {},
   "outputs": [
    {
     "name": "stdout",
     "output_type": "stream",
     "text": [
      "1,1,957,1,299.98,299.98\n",
      "2,2,1073,1,199.99,199.99\n",
      "3,2,502,5,250.0,50.0\n",
      "4,2,403,1,129.99,129.99\n",
      "5,4,897,2,49.98,24.99\n",
      "6,4,365,5,299.95,59.99\n",
      "7,4,502,3,150.0,50.0\n",
      "8,4,1014,4,199.92,49.98\n",
      "9,5,957,1,299.98,299.98\n",
      "10,5,365,5,299.95,59.99\n",
      "11,5,1014,2,99.96,49.98\n",
      "12,5,957,1,299.98,299.98\n",
      "13,5,403,1,129.99,129.99\n",
      "14,7,1073,1,199.99,199.99\n",
      "15,7,957,1,299.98,299.98\n",
      "16,7,926,5,79.95,15.99\n",
      "17,8,365,3,179.97,59.99\n",
      "18,8,365,5,299.95,59.99\n",
      "19,8,1014,4,199.92,49.98\n",
      "20,8,502,1,50.0,50.0\n",
      "21,9,191,2,199.98,99.99\n",
      "22,9,1073,1,199.99,199.99\n",
      "23,9,1073,1,199.99,199.99\n",
      "24,10,1073,1,199.99,199.99\n",
      "25,10,1014,2,99.96,49.98\n",
      "26,10,403,1,129.99,129.99\n",
      "27,10,917,1,21.99,21.99\n",
      "28,10,1073,1,199.99,199.99\n",
      "29,11,365,1,59.99,59.99\n",
      "30,11,627,4,159.96,39.99\n",
      "31,11,1014,1,49.98,49.98\n",
      "32,11,191,4,399.96,99.99\n",
      "33,11,1014,5,249.9,49.98\n",
      "34,12,957,1,299.98,299.98\n",
      "35,12,134,4,100.0,25.0\n",
      "36,12,1014,3,149.94,49.98\n",
      "37,12,191,5,499.95,99.99\n",
      "38,12,502,5,250.0,50.0\n",
      "39,13,276,4,127.96,31.99\n",
      "40,14,1004,1,399.98,399.98\n",
      "41,14,1014,2,99.96,49.98\n",
      "42,14,502,1,50.0,50.0"
     ]
    }
   ],
   "source": [
    "!hadoop fs -head /public/trendytech/retail_db/order_items/part-00000"
   ]
  },
  {
   "cell_type": "code",
   "execution_count": 5,
   "id": "55ed7f57",
   "metadata": {},
   "outputs": [],
   "source": [
    "import getpass as gp\n",
    "from pyspark.sql import SparkSession"
   ]
  },
  {
   "cell_type": "code",
   "execution_count": 6,
   "id": "70639f5e",
   "metadata": {},
   "outputs": [],
   "source": [
    "user = gp.getuser()\n",
    "spark = SparkSession.builder \\\n",
    "            .appName(f'{user}-week4-assignment-question-1') \\\n",
    "            .master('yarn') \\\n",
    "            .getOrCreate()"
   ]
  },
  {
   "cell_type": "code",
   "execution_count": 7,
   "id": "80812ee1",
   "metadata": {},
   "outputs": [
    {
     "data": {
      "text/html": [
       "\n",
       "            <div>\n",
       "                <p><b>SparkSession - in-memory</b></p>\n",
       "                \n",
       "        <div>\n",
       "            <p><b>SparkContext</b></p>\n",
       "\n",
       "            <p><a href=\"http://g02.itversity.com:4040\">Spark UI</a></p>\n",
       "\n",
       "            <dl>\n",
       "              <dt>Version</dt>\n",
       "                <dd><code>v3.0.1</code></dd>\n",
       "              <dt>Master</dt>\n",
       "                <dd><code>yarn</code></dd>\n",
       "              <dt>AppName</dt>\n",
       "                <dd><code>itv005077-week4-assignment-question-1</code></dd>\n",
       "            </dl>\n",
       "        </div>\n",
       "        \n",
       "            </div>\n",
       "        "
      ],
      "text/plain": [
       "<pyspark.sql.session.SparkSession at 0x7f6c084b9cc0>"
      ]
     },
     "execution_count": 7,
     "metadata": {},
     "output_type": "execute_result"
    }
   ],
   "source": [
    "spark"
   ]
  },
  {
   "cell_type": "markdown",
   "id": "9f816d20",
   "metadata": {},
   "source": [
    "### Create File Base RDD"
   ]
  },
  {
   "cell_type": "code",
   "execution_count": 8,
   "id": "81fa78da",
   "metadata": {},
   "outputs": [],
   "source": [
    "rdd_input_file_cust = spark.sparkContext.textFile('/public/trendytech/retail_db/customers/*') \\\n",
    "                        .map(lambda row : row.split(','))"
   ]
  },
  {
   "cell_type": "code",
   "execution_count": 9,
   "id": "261aa850",
   "metadata": {},
   "outputs": [
    {
     "data": {
      "text/plain": [
       "[['1',\n",
       "  'Richard',\n",
       "  'Hernandez',\n",
       "  'XXXXXXXXX',\n",
       "  'XXXXXXXXX',\n",
       "  '6303 Heather Plaza',\n",
       "  'Brownsville',\n",
       "  'TX',\n",
       "  '78521'],\n",
       " ['2',\n",
       "  'Mary',\n",
       "  'Barrett',\n",
       "  'XXXXXXXXX',\n",
       "  'XXXXXXXXX',\n",
       "  '9526 Noble Embers Ridge',\n",
       "  'Littleton',\n",
       "  'CO',\n",
       "  '80126']]"
      ]
     },
     "execution_count": 9,
     "metadata": {},
     "output_type": "execute_result"
    }
   ],
   "source": [
    "rdd_input_file_cust.take(2)"
   ]
  },
  {
   "cell_type": "code",
   "execution_count": 10,
   "id": "6880f900",
   "metadata": {},
   "outputs": [],
   "source": [
    "rdd_input_file_ord = spark.sparkContext.textFile('/public/trendytech/retail_db/orders/*') \\\n",
    "                        .map(lambda row : row.split(','))"
   ]
  },
  {
   "cell_type": "code",
   "execution_count": 11,
   "id": "3daff0dc",
   "metadata": {},
   "outputs": [
    {
     "data": {
      "text/plain": [
       "[['1', '2013-07-25 00:00:00.0', '11599', 'CLOSED'],\n",
       " ['2', '2013-07-25 00:00:00.0', '256', 'PENDING_PAYMENT']]"
      ]
     },
     "execution_count": 11,
     "metadata": {},
     "output_type": "execute_result"
    }
   ],
   "source": [
    "rdd_input_file_ord.take(2)"
   ]
  },
  {
   "cell_type": "code",
   "execution_count": 12,
   "id": "693864bc",
   "metadata": {},
   "outputs": [],
   "source": [
    "rdd_input_file_ord_itm = spark.sparkContext.textFile('/public/trendytech/retail_db/order_items/*') \\\n",
    "                        .map(lambda row : row.split(','))"
   ]
  },
  {
   "cell_type": "code",
   "execution_count": 13,
   "id": "12b816d0",
   "metadata": {},
   "outputs": [
    {
     "data": {
      "text/plain": [
       "[['1', '1', '957', '1', '299.98', '299.98'],\n",
       " ['2', '2', '1073', '1', '199.99', '199.99']]"
      ]
     },
     "execution_count": 13,
     "metadata": {},
     "output_type": "execute_result"
    }
   ],
   "source": [
    "rdd_input_file_ord_itm.take(2)"
   ]
  },
  {
   "cell_type": "code",
   "execution_count": 14,
   "id": "544a63cb",
   "metadata": {},
   "outputs": [],
   "source": [
    "rdd_cust_req_cols = rdd_input_file_cust.map(lambda col : (int(col[0]), col[1] + ' ' + col[2], col[6], col[7], col[8]))"
   ]
  },
  {
   "cell_type": "code",
   "execution_count": 15,
   "id": "60c4f5fe",
   "metadata": {},
   "outputs": [
    {
     "data": {
      "text/plain": [
       "[(1, 'Richard Hernandez', 'Brownsville', 'TX', '78521'),\n",
       " (2, 'Mary Barrett', 'Littleton', 'CO', '80126')]"
      ]
     },
     "execution_count": 15,
     "metadata": {},
     "output_type": "execute_result"
    }
   ],
   "source": [
    "rdd_cust_req_cols.take(2)"
   ]
  },
  {
   "cell_type": "code",
   "execution_count": 16,
   "id": "95c8bf91",
   "metadata": {},
   "outputs": [],
   "source": [
    "rdd_ord_req_cols = rdd_input_file_ord.map(lambda col : (int(col[0]), int(col[2]), col[3]))"
   ]
  },
  {
   "cell_type": "code",
   "execution_count": 17,
   "id": "bbc3ed3b",
   "metadata": {},
   "outputs": [
    {
     "data": {
      "text/plain": [
       "[(1, 11599, 'CLOSED'), (2, 256, 'PENDING_PAYMENT')]"
      ]
     },
     "execution_count": 17,
     "metadata": {},
     "output_type": "execute_result"
    }
   ],
   "source": [
    "rdd_ord_req_cols.take(2)"
   ]
  },
  {
   "cell_type": "code",
   "execution_count": 18,
   "id": "2a12e6d9",
   "metadata": {},
   "outputs": [],
   "source": [
    "rdd_ord_itm_req_cols = rdd_input_file_ord_itm.map(lambda col : (int(col[0]), int(col[1]), int(col[2]), int(col[3]), float(col[4])))"
   ]
  },
  {
   "cell_type": "code",
   "execution_count": 19,
   "id": "9fa326d5",
   "metadata": {},
   "outputs": [
    {
     "data": {
      "text/plain": [
       "[(1, 1, 957, 1, 299.98), (2, 2, 1073, 1, 199.99)]"
      ]
     },
     "execution_count": 19,
     "metadata": {},
     "output_type": "execute_result"
    }
   ],
   "source": [
    "rdd_ord_itm_req_cols.take(2)"
   ]
  },
  {
   "cell_type": "markdown",
   "id": "4f481362",
   "metadata": {},
   "source": [
    "### 1. Top 10 customers who have spent the most amount"
   ]
  },
  {
   "cell_type": "code",
   "execution_count": 20,
   "id": "c85f644b",
   "metadata": {},
   "outputs": [],
   "source": [
    "rdd_cust_ord_join = rdd_cust_req_cols.map(lambda col : (col[0], col[1])) \\\n",
    "                        .join(\n",
    "                            rdd_ord_req_cols.map(lambda col : (col[1], col[0]))\n",
    "                        )"
   ]
  },
  {
   "cell_type": "code",
   "execution_count": 21,
   "id": "ba334ee6",
   "metadata": {},
   "outputs": [
    {
     "data": {
      "text/plain": [
       "[(4, ('Mary Jones', 9023)), (4, ('Mary Jones', 9704))]"
      ]
     },
     "execution_count": 21,
     "metadata": {},
     "output_type": "execute_result"
    }
   ],
   "source": [
    "rdd_cust_ord_join.take(2)"
   ]
  },
  {
   "cell_type": "code",
   "execution_count": 22,
   "id": "d652a2a6",
   "metadata": {},
   "outputs": [],
   "source": [
    "rdd_rdd_cust_ord_ord_itm_join = rdd_cust_ord_join.map(lambda col : (col[1][1], col[0])) \\\n",
    "                                    .join(\n",
    "                                        rdd_ord_itm_req_cols.map(lambda col : (col[1], col[4]))\n",
    "                                    )"
   ]
  },
  {
   "cell_type": "code",
   "execution_count": 23,
   "id": "52a2646c",
   "metadata": {},
   "outputs": [
    {
     "data": {
      "text/plain": [
       "[(12, (1837, 299.98)), (12, (1837, 100.0))]"
      ]
     },
     "execution_count": 23,
     "metadata": {},
     "output_type": "execute_result"
    }
   ],
   "source": [
    "rdd_rdd_cust_ord_ord_itm_join.take(2)"
   ]
  },
  {
   "cell_type": "code",
   "execution_count": 24,
   "id": "86ae3e73",
   "metadata": {},
   "outputs": [],
   "source": [
    "rdd_cust_top_spend = rdd_rdd_cust_ord_ord_itm_join.map(lambda col : (col[1][0], col[1][1])) \\\n",
    "                            .reduceByKey(lambda x,y : x+y) \\\n",
    "                            .sortBy(lambda col : col[1], ascending= False)"
   ]
  },
  {
   "cell_type": "code",
   "execution_count": 25,
   "id": "5aada48c",
   "metadata": {},
   "outputs": [
    {
     "data": {
      "text/plain": [
       "[(791, 10524.17),\n",
       " (9371, 9299.03),\n",
       " (8766, 9296.14),\n",
       " (1657, 9223.710000000001),\n",
       " (2641, 9130.919999999998),\n",
       " (1288, 9019.109999999999),\n",
       " (3710, 9019.1),\n",
       " (4249, 8918.85),\n",
       " (5654, 8904.949999999999),\n",
       " (5624, 8761.98)]"
      ]
     },
     "execution_count": 25,
     "metadata": {},
     "output_type": "execute_result"
    }
   ],
   "source": [
    "rdd_cust_top_spend.take(10)"
   ]
  },
  {
   "cell_type": "code",
   "execution_count": 26,
   "id": "ac8e0a69",
   "metadata": {},
   "outputs": [],
   "source": [
    "rdd_top_spend_cust_dtls = rdd_cust_req_cols.map(lambda col : (col[0], (col[1], col[2], col[3], col[4]))) \\\n",
    "                                .join(\n",
    "                                        rdd_cust_top_spend\n",
    "                                ) \\\n",
    "                                .sortBy(lambda col : col[1][1], ascending= False) \\\n",
    "                                .map(lambda col : (col[0], col[1][0][0], col[1][0][1], col[1][0][2], col[1][0][3], col[1][1]))\n"
   ]
  },
  {
   "cell_type": "code",
   "execution_count": 27,
   "id": "fb3e0ce6",
   "metadata": {},
   "outputs": [
    {
     "data": {
      "text/plain": [
       "[(791, 'Mary Smith', 'Canton', 'MI', '48187', 10524.17),\n",
       " (9371, 'Mary Patterson', 'Meridian', 'ID', '83642', 9299.03),\n",
       " (8766, 'Mary Duncan', 'Caguas', 'PR', '00725', 9296.14),\n",
       " (1657, 'Betty Phillips', 'Caguas', 'PR', '00725', 9223.710000000001),\n",
       " (2641, 'Betty Spears', 'Carrollton', 'TX', '75006', 9130.919999999998),\n",
       " (1288, 'Evelyn Thompson', 'Caguas', 'PR', '00725', 9019.109999999999),\n",
       " (3710, 'Ashley Smith', 'Springfield', 'MO', '65807', 9019.1),\n",
       " (4249, 'Mary Butler', 'Caguas', 'PR', '00725', 8918.85),\n",
       " (5654, 'Jerry Smith', 'Caguas', 'PR', '00725', 8904.949999999999),\n",
       " (5624, 'Mary Mata', 'Caguas', 'PR', '00725', 8761.98)]"
      ]
     },
     "execution_count": 27,
     "metadata": {},
     "output_type": "execute_result"
    }
   ],
   "source": [
    "rdd_top_spend_cust_dtls.take(10)"
   ]
  },
  {
   "cell_type": "code",
   "execution_count": 28,
   "id": "4b7f35ad",
   "metadata": {},
   "outputs": [],
   "source": [
    "# end"
   ]
  },
  {
   "cell_type": "markdown",
   "id": "f69831ba",
   "metadata": {},
   "source": [
    "### 2. Top 10 product id's with most quantities sold"
   ]
  },
  {
   "cell_type": "code",
   "execution_count": 29,
   "id": "a54027ba",
   "metadata": {},
   "outputs": [
    {
     "data": {
      "text/plain": [
       "[(365, 73698),\n",
       " (502, 62956),\n",
       " (1014, 57803),\n",
       " (191, 36680),\n",
       " (627, 31735),\n",
       " (403, 22246),\n",
       " (1004, 17325),\n",
       " (1073, 15500),\n",
       " (957, 13729),\n",
       " (977, 998)]"
      ]
     },
     "execution_count": 29,
     "metadata": {},
     "output_type": "execute_result"
    }
   ],
   "source": [
    "rdd_ord_itm_req_cols \\\n",
    ".map(lambda col : (col[2], col[3])) \\\n",
    ".reduceByKey(lambda x,y : x+y) \\\n",
    ".sortBy(lambda col : col[1], ascending= False) \\\n",
    ".take(10)"
   ]
  },
  {
   "cell_type": "code",
   "execution_count": 30,
   "id": "b90e7e6d",
   "metadata": {},
   "outputs": [],
   "source": [
    "#end"
   ]
  },
  {
   "cell_type": "markdown",
   "id": "21d5bc0a",
   "metadata": {},
   "source": [
    "### 3. How many customers are from Caguas city"
   ]
  },
  {
   "cell_type": "code",
   "execution_count": 31,
   "id": "5d5b3fb4",
   "metadata": {},
   "outputs": [
    {
     "data": {
      "text/plain": [
       "4584"
      ]
     },
     "execution_count": 31,
     "metadata": {},
     "output_type": "execute_result"
    }
   ],
   "source": [
    "rdd_cust_req_cols \\\n",
    ".filter(lambda col : col[2] == 'Caguas') \\\n",
    ".count()"
   ]
  },
  {
   "cell_type": "code",
   "execution_count": 32,
   "id": "26c1bdad",
   "metadata": {},
   "outputs": [],
   "source": [
    "# end"
   ]
  },
  {
   "cell_type": "markdown",
   "id": "172cd3e5",
   "metadata": {},
   "source": [
    "### 4. Top 3 states with maximum customers"
   ]
  },
  {
   "cell_type": "code",
   "execution_count": 33,
   "id": "f8c78600",
   "metadata": {},
   "outputs": [
    {
     "data": {
      "text/plain": [
       "defaultdict(int,\n",
       "            {'TX': 635,\n",
       "             'CO': 122,\n",
       "             'PR': 4771,\n",
       "             'CA': 2012,\n",
       "             'NJ': 219,\n",
       "             'MA': 113,\n",
       "             'VA': 136,\n",
       "             'MI': 254,\n",
       "             'AZ': 213,\n",
       "             'IL': 523,\n",
       "             'WA': 72,\n",
       "             'NM': 73,\n",
       "             'LA': 63,\n",
       "             'NY': 775,\n",
       "             'GA': 169,\n",
       "             'OH': 276,\n",
       "             'MD': 164,\n",
       "             'PA': 261,\n",
       "             'NC': 150,\n",
       "             'TN': 104,\n",
       "             'FL': 374,\n",
       "             'NV': 103,\n",
       "             'MN': 39,\n",
       "             'OR': 119,\n",
       "             'WI': 64,\n",
       "             'UT': 69,\n",
       "             'OK': 19,\n",
       "             'MO': 92,\n",
       "             'KY': 35,\n",
       "             'CT': 73,\n",
       "             'WV': 16,\n",
       "             'HI': 87,\n",
       "             'IA': 5,\n",
       "             'DE': 23,\n",
       "             'DC': 42,\n",
       "             'SC': 41,\n",
       "             'IN': 40,\n",
       "             'ID': 9,\n",
       "             'RI': 15,\n",
       "             'AR': 12,\n",
       "             'KS': 29,\n",
       "             'AL': 3,\n",
       "             'MT': 7,\n",
       "             'ND': 14})"
      ]
     },
     "execution_count": 33,
     "metadata": {},
     "output_type": "execute_result"
    }
   ],
   "source": [
    "rdd_cust_req_cols \\\n",
    ".map(lambda col : col[3]) \\\n",
    ".countByValue() "
   ]
  },
  {
   "cell_type": "code",
   "execution_count": 34,
   "id": "f82dd39a",
   "metadata": {},
   "outputs": [],
   "source": [
    "result = [(state, count) for state, count in rdd_cust_req_cols.map(lambda col : col[3]).countByValue().items()]"
   ]
  },
  {
   "cell_type": "code",
   "execution_count": 35,
   "id": "4ee736d8",
   "metadata": {},
   "outputs": [],
   "source": [
    "result.sort(key= lambda col : col[1], reverse=True)"
   ]
  },
  {
   "cell_type": "code",
   "execution_count": 36,
   "id": "3f146e7d",
   "metadata": {},
   "outputs": [
    {
     "data": {
      "text/plain": [
       "[('PR', 4771), ('CA', 2012), ('NY', 775)]"
      ]
     },
     "execution_count": 36,
     "metadata": {},
     "output_type": "execute_result"
    }
   ],
   "source": [
    "result[:3]"
   ]
  },
  {
   "cell_type": "code",
   "execution_count": 37,
   "id": "0211f879",
   "metadata": {},
   "outputs": [],
   "source": [
    "# end"
   ]
  },
  {
   "cell_type": "code",
   "execution_count": 38,
   "id": "60ad1c2d",
   "metadata": {},
   "outputs": [
    {
     "data": {
      "text/plain": [
       "[('PR', 4771), ('CA', 2012), ('NY', 775), ('TX', 635), ('IL', 523)]"
      ]
     },
     "execution_count": 38,
     "metadata": {},
     "output_type": "execute_result"
    }
   ],
   "source": [
    "rdd_cust_req_cols \\\n",
    ".map(lambda col : (col[3],1)) \\\n",
    ".reduceByKey(lambda x,y : x+y) \\\n",
    ".sortBy(lambda col : col[1], ascending= False) \\\n",
    ".take(5)"
   ]
  },
  {
   "cell_type": "code",
   "execution_count": 39,
   "id": "f461c779",
   "metadata": {},
   "outputs": [],
   "source": [
    "# end"
   ]
  },
  {
   "cell_type": "code",
   "execution_count": 40,
   "id": "8ad81b90",
   "metadata": {},
   "outputs": [
    {
     "data": {
      "text/plain": [
       "[('PR', 4771), ('CA', 2012), ('NY', 775), ('TX', 635), ('IL', 523)]"
      ]
     },
     "execution_count": 40,
     "metadata": {},
     "output_type": "execute_result"
    }
   ],
   "source": [
    "rdd_cust_req_cols \\\n",
    ".map(lambda col : (col[3],1)) \\\n",
    ".groupByKey() \\\n",
    ".map(lambda col : (col[0], len(col[1]))) \\\n",
    ".sortBy(lambda col : col[1], ascending= False) \\\n",
    ".take(5)"
   ]
  },
  {
   "cell_type": "code",
   "execution_count": 41,
   "id": "79e8d884",
   "metadata": {},
   "outputs": [],
   "source": [
    "# end"
   ]
  },
  {
   "cell_type": "markdown",
   "id": "86842471",
   "metadata": {},
   "source": [
    "### 5. How many customers have spent more than `$1000` in total"
   ]
  },
  {
   "cell_type": "code",
   "execution_count": 42,
   "id": "da8fa26d",
   "metadata": {},
   "outputs": [
    {
     "data": {
      "text/plain": [
       "12310"
      ]
     },
     "execution_count": 42,
     "metadata": {},
     "output_type": "execute_result"
    }
   ],
   "source": [
    "rdd_top_spend_cust_dtls \\\n",
    ".filter(lambda col : col[5] >= 100.00) \\\n",
    ".distinct().count()"
   ]
  },
  {
   "cell_type": "code",
   "execution_count": 43,
   "id": "5c82f41f",
   "metadata": {},
   "outputs": [],
   "source": [
    "# end"
   ]
  },
  {
   "cell_type": "markdown",
   "id": "9bcfe9eb",
   "metadata": {},
   "source": [
    "### 6. Which state has most number of orders in CLOSED status"
   ]
  },
  {
   "cell_type": "code",
   "execution_count": 44,
   "id": "fbf00021",
   "metadata": {},
   "outputs": [
    {
     "data": {
      "text/plain": [
       "[('PR', 2891), ('CA', 1232), ('NY', 450), ('TX', 403), ('IL', 313)]"
      ]
     },
     "execution_count": 44,
     "metadata": {},
     "output_type": "execute_result"
    }
   ],
   "source": [
    "rdd_cust_req_cols.map(lambda col : (col[0], col[3])) \\\n",
    ".join(\n",
    "    rdd_ord_req_cols.filter(lambda col : col[2] == 'CLOSED').map(lambda col : (col[1], 1))\n",
    ") \\\n",
    ".map(lambda col : (col[1][0], col[1][1])) \\\n",
    ".reduceByKey(lambda x,y : x+y) \\\n",
    ".sortBy(lambda col : col[1], ascending= False) \\\n",
    ".take(5)"
   ]
  },
  {
   "cell_type": "code",
   "execution_count": 45,
   "id": "213cff1b",
   "metadata": {},
   "outputs": [],
   "source": [
    "# end"
   ]
  },
  {
   "cell_type": "markdown",
   "id": "7e6ed209",
   "metadata": {},
   "source": [
    "### 7. How many customers are active (active customers are the one's who placed atleast one order)"
   ]
  },
  {
   "cell_type": "code",
   "execution_count": 46,
   "id": "47c95e49",
   "metadata": {},
   "outputs": [
    {
     "data": {
      "text/plain": [
       "12405"
      ]
     },
     "execution_count": 46,
     "metadata": {},
     "output_type": "execute_result"
    }
   ],
   "source": [
    "rdd_cust_req_cols.map(lambda col : (col[0], col[1])) \\\n",
    ".join(\n",
    "    rdd_ord_req_cols.map(lambda col : (col[1], col[0]))\n",
    ") \\\n",
    ".map(lambda col : col[0]) \\\n",
    ".distinct().count()"
   ]
  },
  {
   "cell_type": "code",
   "execution_count": 47,
   "id": "44d1f18d",
   "metadata": {},
   "outputs": [],
   "source": [
    "# end"
   ]
  },
  {
   "cell_type": "markdown",
   "id": "3c125fde",
   "metadata": {},
   "source": [
    "### 8. What is the revenue generated by each state in sorted order."
   ]
  },
  {
   "cell_type": "code",
   "execution_count": 48,
   "id": "017a8f55",
   "metadata": {},
   "outputs": [
    {
     "data": {
      "text/plain": [
       "[('PR', 13208867.689999992),\n",
       " ('CA', 5542722.999999998),\n",
       " ('NY', 2152706.7399999998),\n",
       " ('TX', 1731407.4899999998),\n",
       " ('IL', 1457225.83),\n",
       " ('FL', 1048609.7700000003),\n",
       " ('OH', 773804.11),\n",
       " ('MI', 730078.9699999999),\n",
       " ('PA', 724375.93),\n",
       " ('NJ', 606550.99),\n",
       " ('AZ', 566459.29),\n",
       " ('GA', 467765.18),\n",
       " ('MD', 456100.42000000004),\n",
       " ('NC', 378877.63999999996),\n",
       " ('CO', 358310.60000000003),\n",
       " ('VA', 344824.35000000003),\n",
       " ('OR', 315239.51),\n",
       " ('MA', 306025.73000000004),\n",
       " ('TN', 297614.41000000003),\n",
       " ('NV', 276364.97),\n",
       " ('MO', 260417.28),\n",
       " ('HI', 238208.11000000002),\n",
       " ('CT', 211264.24000000002),\n",
       " ('UT', 184356.83),\n",
       " ('LA', 182954.74),\n",
       " ('NM', 181366.65000000002),\n",
       " ('WA', 172982.45),\n",
       " ('WI', 164058.32),\n",
       " ('MN', 133183.97),\n",
       " ('SC', 129411.79000000002),\n",
       " ('IN', 110015.14),\n",
       " ('DC', 108841.48000000001),\n",
       " ('KY', 94894.75),\n",
       " ('KS', 85865.07),\n",
       " ('DE', 48873.25000000001),\n",
       " ('RI', 47439.35),\n",
       " ('OK', 43493.32000000001),\n",
       " ('WV', 43452.67000000001),\n",
       " ('ND', 41221.97000000001),\n",
       " ('ID', 31791.199999999997),\n",
       " ('AR', 29241.610000000004),\n",
       " ('MT', 16189.98),\n",
       " ('IA', 12761.740000000002),\n",
       " ('AL', 6401.400000000001)]"
      ]
     },
     "execution_count": 48,
     "metadata": {},
     "output_type": "execute_result"
    }
   ],
   "source": [
    "rdd_top_spend_cust_dtls \\\n",
    ".map(lambda col : (col[3], col[5])) \\\n",
    ".reduceByKey(lambda x,y : x+y) \\\n",
    ".sortBy(lambda col : col[1], ascending= False) \\\n",
    ".collect()"
   ]
  },
  {
   "cell_type": "code",
   "execution_count": 49,
   "id": "03358a13",
   "metadata": {},
   "outputs": [],
   "source": [
    "# end"
   ]
  }
 ],
 "metadata": {
  "kernelspec": {
   "display_name": "Pyspark 3",
   "language": "python",
   "name": "pyspark3"
  },
  "language_info": {
   "codemirror_mode": {
    "name": "ipython",
    "version": 3
   },
   "file_extension": ".py",
   "mimetype": "text/x-python",
   "name": "python",
   "nbconvert_exporter": "python",
   "pygments_lexer": "ipython3",
   "version": "3.6.12"
  }
 },
 "nbformat": 4,
 "nbformat_minor": 5
}
