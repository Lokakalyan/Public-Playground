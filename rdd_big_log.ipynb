{
 "cells": [
  {
   "attachments": {},
   "cell_type": "markdown",
   "id": "6be6b1b3",
   "metadata": {},
   "source": [
    "### Import Modules"
   ]
  },
  {
   "cell_type": "code",
   "execution_count": 1,
   "id": "77133d05",
   "metadata": {},
   "outputs": [],
   "source": [
    "import getpass as gp\n",
    "from pyspark.sql import SparkSession"
   ]
  },
  {
   "cell_type": "code",
   "execution_count": 2,
   "id": "cb9d1b63",
   "metadata": {},
   "outputs": [],
   "source": [
    "user = gp.getuser()\n",
    "spark = SparkSession \\\n",
    "            .builder \\\n",
    "            .appName(f'{user}-error-log-analysis') \\\n",
    "            .master('yarn') \\\n",
    "            .getOrCreate()"
   ]
  },
  {
   "cell_type": "code",
   "execution_count": 3,
   "id": "d27dc81d",
   "metadata": {},
   "outputs": [
    {
     "data": {
      "text/html": [
       "\n",
       "            <div>\n",
       "                <p><b>SparkSession - in-memory</b></p>\n",
       "                \n",
       "        <div>\n",
       "            <p><b>SparkContext</b></p>\n",
       "\n",
       "            <p><a href=\"http://g02.itversity.com:4043\">Spark UI</a></p>\n",
       "\n",
       "            <dl>\n",
       "              <dt>Version</dt>\n",
       "                <dd><code>v3.0.1</code></dd>\n",
       "              <dt>Master</dt>\n",
       "                <dd><code>yarn</code></dd>\n",
       "              <dt>AppName</dt>\n",
       "                <dd><code>itv005077-error-log-analysis</code></dd>\n",
       "            </dl>\n",
       "        </div>\n",
       "        \n",
       "            </div>\n",
       "        "
      ],
      "text/plain": [
       "<pyspark.sql.session.SparkSession at 0x7f5f14806e48>"
      ]
     },
     "execution_count": 3,
     "metadata": {},
     "output_type": "execute_result"
    }
   ],
   "source": [
    "spark"
   ]
  },
  {
   "cell_type": "code",
   "execution_count": 4,
   "id": "310d116a",
   "metadata": {},
   "outputs": [],
   "source": [
    "INPUT_FILE_NAME = '/public/trendytech/bigLog.txt'"
   ]
  },
  {
   "cell_type": "code",
   "execution_count": 5,
   "id": "adc7a52f",
   "metadata": {},
   "outputs": [],
   "source": [
    "OUTPUT_FILE_PATH = f'/user/{user}/data/output/'"
   ]
  },
  {
   "cell_type": "code",
   "execution_count": 6,
   "id": "2a9d9816",
   "metadata": {},
   "outputs": [],
   "source": [
    "rdd_file_load = spark.sparkContext.textFile(INPUT_FILE_NAME)"
   ]
  },
  {
   "cell_type": "code",
   "execution_count": 7,
   "id": "c8525fdf",
   "metadata": {},
   "outputs": [
    {
     "data": {
      "text/plain": [
       "['ERROR: Thu Jun 04 10:37:51 BST 2015',\n",
       " 'WARN: Sun Nov 06 10:37:51 GMT 2016',\n",
       " 'WARN: Mon Aug 29 10:37:51 BST 2016',\n",
       " 'ERROR: Thu Dec 10 10:37:51 GMT 2015',\n",
       " 'ERROR: Fri Dec 26 10:37:51 GMT 2014']"
      ]
     },
     "execution_count": 7,
     "metadata": {},
     "output_type": "execute_result"
    }
   ],
   "source": [
    "rdd_file_load.take(5)"
   ]
  },
  {
   "cell_type": "code",
   "execution_count": 10,
   "id": "97fd2e09",
   "metadata": {},
   "outputs": [],
   "source": [
    "rdd_msg_read = rdd_file_load.map(lambda x : x.split(':')[0])"
   ]
  },
  {
   "cell_type": "code",
   "execution_count": 11,
   "id": "de96f504",
   "metadata": {},
   "outputs": [
    {
     "data": {
      "text/plain": [
       "['ERROR', 'WARN', 'WARN', 'ERROR', 'ERROR']"
      ]
     },
     "execution_count": 11,
     "metadata": {},
     "output_type": "execute_result"
    }
   ],
   "source": [
    "rdd_msg_read.take(5)"
   ]
  },
  {
   "cell_type": "code",
   "execution_count": 12,
   "id": "f98c6a7c",
   "metadata": {},
   "outputs": [],
   "source": [
    "output = rdd_msg_read.countByValue()"
   ]
  },
  {
   "cell_type": "code",
   "execution_count": 13,
   "id": "7abfd7bb",
   "metadata": {},
   "outputs": [
    {
     "data": {
      "text/plain": [
       "defaultdict(int, {'ERROR': 5001114, 'WARN': 4998886})"
      ]
     },
     "execution_count": 13,
     "metadata": {},
     "output_type": "execute_result"
    }
   ],
   "source": [
    "output"
   ]
  },
  {
   "cell_type": "code",
   "execution_count": 14,
   "id": "19a5a063",
   "metadata": {},
   "outputs": [],
   "source": [
    "spark.stop()"
   ]
  },
  {
   "cell_type": "code",
   "execution_count": 15,
   "id": "a6b1ef98",
   "metadata": {},
   "outputs": [],
   "source": [
    "# end of file"
   ]
  }
 ],
 "metadata": {
  "kernelspec": {
   "display_name": "Pyspark 3",
   "language": "python",
   "name": "pyspark3"
  },
  "language_info": {
   "codemirror_mode": {
    "name": "ipython",
    "version": 3
   },
   "file_extension": ".py",
   "mimetype": "text/x-python",
   "name": "python",
   "nbconvert_exporter": "python",
   "pygments_lexer": "ipython3",
   "version": "3.6.12"
  }
 },
 "nbformat": 4,
 "nbformat_minor": 5
}
