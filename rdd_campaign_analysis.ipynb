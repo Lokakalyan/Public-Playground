{
 "cells": [
  {
   "attachments": {},
   "cell_type": "markdown",
   "id": "b6091cf6",
   "metadata": {},
   "source": [
    "## Import Modules"
   ]
  },
  {
   "cell_type": "code",
   "execution_count": 1,
   "id": "f75b2f95",
   "metadata": {},
   "outputs": [],
   "source": [
    "import getpass as gp\n",
    "from pyspark.sql import SparkSession"
   ]
  },
  {
   "cell_type": "code",
   "execution_count": 2,
   "id": "c27a31f5",
   "metadata": {},
   "outputs": [],
   "source": [
    "user = gp.getuser()\n",
    "spark = SparkSession \\\n",
    "            .builder \\\n",
    "            .appName(f'{user}-campaing-data-analysis') \\\n",
    "            .getOrCreate()"
   ]
  },
  {
   "cell_type": "code",
   "execution_count": 3,
   "id": "74b574b7",
   "metadata": {},
   "outputs": [
    {
     "data": {
      "text/html": [
       "\n",
       "            <div>\n",
       "                <p><b>SparkSession - in-memory</b></p>\n",
       "                \n",
       "        <div>\n",
       "            <p><b>SparkContext</b></p>\n",
       "\n",
       "            <p><a href=\"http://g02.itversity.com:4043\">Spark UI</a></p>\n",
       "\n",
       "            <dl>\n",
       "              <dt>Version</dt>\n",
       "                <dd><code>v3.0.1</code></dd>\n",
       "              <dt>Master</dt>\n",
       "                <dd><code>yarn</code></dd>\n",
       "              <dt>AppName</dt>\n",
       "                <dd><code>itv005077-campaing-data-analysis</code></dd>\n",
       "            </dl>\n",
       "        </div>\n",
       "        \n",
       "            </div>\n",
       "        "
      ],
      "text/plain": [
       "<pyspark.sql.session.SparkSession at 0x7f785bcb63c8>"
      ]
     },
     "execution_count": 3,
     "metadata": {},
     "output_type": "execute_result"
    }
   ],
   "source": [
    "spark"
   ]
  },
  {
   "attachments": {},
   "cell_type": "markdown",
   "id": "3ee603a9",
   "metadata": {},
   "source": [
    "### Copy the files from local to hdfs"
   ]
  },
  {
   "cell_type": "code",
   "execution_count": 25,
   "id": "9001acfa",
   "metadata": {},
   "outputs": [
    {
     "name": "stdout",
     "output_type": "stream",
     "text": [
      "Found 2 items\n",
      "drwx------   - itv005077 supergroup          0 2023-04-15 10:10 .Trash\n",
      "drwxr-xr-x   - itv005077 supergroup          0 2023-05-01 05:47 .sparkStaging\n"
     ]
    }
   ],
   "source": [
    "!hadoop fs -ls"
   ]
  },
  {
   "cell_type": "code",
   "execution_count": 26,
   "id": "3f530dac",
   "metadata": {},
   "outputs": [],
   "source": [
    "!hadoop fs -mkdir -p data/input"
   ]
  },
  {
   "cell_type": "code",
   "execution_count": 27,
   "id": "e2e371d0",
   "metadata": {},
   "outputs": [
    {
     "name": "stdout",
     "output_type": "stream",
     "text": [
      "Found 1 items\n",
      "drwxr-xr-x   - itv005077 supergroup          0 2023-05-01 06:03 data/input\n"
     ]
    }
   ],
   "source": [
    "!hadoop fs -ls data/"
   ]
  },
  {
   "cell_type": "code",
   "execution_count": 28,
   "id": "652e65b5",
   "metadata": {},
   "outputs": [],
   "source": [
    "!hadoop fs -copyFromLocal /data/trendytech/google-ads-data.csv data/input"
   ]
  },
  {
   "cell_type": "code",
   "execution_count": 29,
   "id": "e092dbb5",
   "metadata": {},
   "outputs": [
    {
     "name": "stdout",
     "output_type": "stream",
     "text": [
      "Found 1 items\n",
      "-rw-r--r--   3 itv005077 supergroup      95947 2023-05-01 06:04 data/input/google-ads-data.csv\n"
     ]
    }
   ],
   "source": [
    "!hadoop fs -ls data/input"
   ]
  },
  {
   "cell_type": "markdown",
   "id": "9a42fe75",
   "metadata": {},
   "source": [
    "### Read from Local File System"
   ]
  },
  {
   "cell_type": "code",
   "execution_count": 30,
   "id": "3351f862",
   "metadata": {},
   "outputs": [],
   "source": [
    "# for local file system prefix the file path with \"file://\"\n",
    "INPUT_FILE_NAME = f'/user/{user}/data/input/google-ads-data.csv'"
   ]
  },
  {
   "cell_type": "code",
   "execution_count": 31,
   "id": "d611b88d",
   "metadata": {},
   "outputs": [],
   "source": [
    "rdd_file_load = spark.sparkContext.textFile(INPUT_FILE_NAME)"
   ]
  },
  {
   "cell_type": "code",
   "execution_count": 32,
   "id": "632b32ba",
   "metadata": {},
   "outputs": [
    {
     "data": {
      "text/plain": [
       "['big data contents,Broad match,None,TrendyTech Search India,Broad Match #3,1,1,100%,INR,24.06,24.06,0,0,0%,Search',\n",
       " 'spark training with lab access,Broad match,None,TrendyTech Search India,Broad Match #3,1,2,200%,INR,29.97,59.94,0,0,0%,Search',\n",
       " 'online hadoop training institutes in hyderabad,Broad match,None,TrendyTech Search India,Broad Match #3,1,1,100%,INR,28.45,28.45,0,0,0%,Search',\n",
       " 'coursera data analytics,Broad match,None,TrendyTech Search India,Broad Match #3,1,1,100%,INR,24.64,24.64,0,0,0%,Search',\n",
       " 'ameerpet big data training cost,Broad match,None,TrendyTech Search India,Broad Match #3,2,1,50%,INR,34.86,34.86,0,0,0%,Search']"
      ]
     },
     "execution_count": 32,
     "metadata": {},
     "output_type": "execute_result"
    }
   ],
   "source": [
    "rdd_file_load.take(5)"
   ]
  },
  {
   "cell_type": "code",
   "execution_count": 34,
   "id": "c5a4184a",
   "metadata": {},
   "outputs": [],
   "source": [
    "rdd_load_file_split = rdd_file_load.map(lambda x : x.split(','))"
   ]
  },
  {
   "cell_type": "code",
   "execution_count": 35,
   "id": "4df7f94a",
   "metadata": {},
   "outputs": [
    {
     "data": {
      "text/plain": [
       "[['big data contents',\n",
       "  'Broad match',\n",
       "  'None',\n",
       "  'TrendyTech Search India',\n",
       "  'Broad Match #3',\n",
       "  '1',\n",
       "  '1',\n",
       "  '100%',\n",
       "  'INR',\n",
       "  '24.06',\n",
       "  '24.06',\n",
       "  '0',\n",
       "  '0',\n",
       "  '0%',\n",
       "  'Search'],\n",
       " ['spark training with lab access',\n",
       "  'Broad match',\n",
       "  'None',\n",
       "  'TrendyTech Search India',\n",
       "  'Broad Match #3',\n",
       "  '1',\n",
       "  '2',\n",
       "  '200%',\n",
       "  'INR',\n",
       "  '29.97',\n",
       "  '59.94',\n",
       "  '0',\n",
       "  '0',\n",
       "  '0%',\n",
       "  'Search']]"
      ]
     },
     "execution_count": 35,
     "metadata": {},
     "output_type": "execute_result"
    }
   ],
   "source": [
    "rdd_load_file_split.take(2)"
   ]
  },
  {
   "cell_type": "code",
   "execution_count": 45,
   "id": "69ba0d53",
   "metadata": {},
   "outputs": [],
   "source": [
    "rdd_split_col_rev = rdd_load_file_split.map(lambda x : (float(x[10]), x[0].lower()))"
   ]
  },
  {
   "cell_type": "code",
   "execution_count": 46,
   "id": "0edaf291",
   "metadata": {},
   "outputs": [
    {
     "data": {
      "text/plain": [
       "[(24.06, 'big data contents'),\n",
       " (59.94, 'spark training with lab access'),\n",
       " (28.45, 'online hadoop training institutes in hyderabad'),\n",
       " (24.64, 'coursera data analytics'),\n",
       " (34.86, 'ameerpet big data training cost')]"
      ]
     },
     "execution_count": 46,
     "metadata": {},
     "output_type": "execute_result"
    }
   ],
   "source": [
    "rdd_split_col_rev.take(5)"
   ]
  },
  {
   "cell_type": "code",
   "execution_count": 47,
   "id": "560fb153",
   "metadata": {},
   "outputs": [],
   "source": [
    "# flatMapValue() - flat the value \n",
    "rdd_value_flat_map = rdd_split_col_rev.flatMapValues(lambda x : x.split())"
   ]
  },
  {
   "cell_type": "code",
   "execution_count": 48,
   "id": "69535d33",
   "metadata": {},
   "outputs": [
    {
     "data": {
      "text/plain": [
       "[(24.06, 'big'),\n",
       " (24.06, 'data'),\n",
       " (24.06, 'contents'),\n",
       " (59.94, 'spark'),\n",
       " (59.94, 'training'),\n",
       " (59.94, 'with'),\n",
       " (59.94, 'lab'),\n",
       " (59.94, 'access'),\n",
       " (28.45, 'online'),\n",
       " (28.45, 'hadoop')]"
      ]
     },
     "execution_count": 48,
     "metadata": {},
     "output_type": "execute_result"
    }
   ],
   "source": [
    "rdd_value_flat_map.take(10)"
   ]
  },
  {
   "cell_type": "code",
   "execution_count": 49,
   "id": "95b048e8",
   "metadata": {},
   "outputs": [],
   "source": [
    "rdd_orig_col_order = rdd_value_flat_map.map(lambda x : (x[1], x[0]))"
   ]
  },
  {
   "cell_type": "code",
   "execution_count": 50,
   "id": "a9f0d7be",
   "metadata": {},
   "outputs": [
    {
     "data": {
      "text/plain": [
       "[('big', 24.06),\n",
       " ('data', 24.06),\n",
       " ('contents', 24.06),\n",
       " ('spark', 59.94),\n",
       " ('training', 59.94),\n",
       " ('with', 59.94),\n",
       " ('lab', 59.94),\n",
       " ('access', 59.94),\n",
       " ('online', 28.45),\n",
       " ('hadoop', 28.45)]"
      ]
     },
     "execution_count": 50,
     "metadata": {},
     "output_type": "execute_result"
    }
   ],
   "source": [
    "rdd_orig_col_order.take(10)"
   ]
  },
  {
   "cell_type": "code",
   "execution_count": 51,
   "id": "87603b0c",
   "metadata": {},
   "outputs": [],
   "source": [
    "rdd_sum_amount = rdd_orig_col_order.reduceByKey(lambda x,y: float(x+y))"
   ]
  },
  {
   "cell_type": "code",
   "execution_count": 52,
   "id": "bd71b04d",
   "metadata": {},
   "outputs": [
    {
     "data": {
      "text/plain": [
       "[('contents', 24.06),\n",
       " ('training', 4099.37),\n",
       " ('lab', 135.57999999999998),\n",
       " ('online', 3484.42),\n",
       " ('hadoop', 4818.34),\n",
       " ('institutes', 437.14000000000004),\n",
       " ('in', 5774.84),\n",
       " ('analytics', 1458.5099999999998),\n",
       " ('ameerpet', 184.94),\n",
       " ('good', 83.86)]"
      ]
     },
     "execution_count": 52,
     "metadata": {},
     "output_type": "execute_result"
    }
   ],
   "source": [
    "rdd_sum_amount.take(10)"
   ]
  },
  {
   "cell_type": "code",
   "execution_count": 55,
   "id": "38f9cc7d",
   "metadata": {},
   "outputs": [],
   "source": [
    "rdd_sort_top_spend = rdd_sum_amount.sortBy(lambda x : x[1], False)"
   ]
  },
  {
   "cell_type": "code",
   "execution_count": 56,
   "id": "fd005263",
   "metadata": {},
   "outputs": [
    {
     "data": {
      "text/plain": [
       "[('data', 16394.64),\n",
       " ('big', 12889.279999999999),\n",
       " ('in', 5774.84),\n",
       " ('hadoop', 4818.34),\n",
       " ('course', 4191.59),\n",
       " ('training', 4099.37),\n",
       " ('online', 3484.42),\n",
       " ('courses', 2565.7800000000007),\n",
       " ('intellipaat', 2081.22),\n",
       " ('analytics', 1458.5099999999998),\n",
       " ('tutorial', 1383.37),\n",
       " ('hyderabad', 1118.1600000000003),\n",
       " ('spark', 1078.72),\n",
       " ('best', 1047.7),\n",
       " ('bangalore', 1039.2699999999998),\n",
       " ('and', 985.8),\n",
       " ('certification', 967.44),\n",
       " ('for', 967.05),\n",
       " ('of', 871.4199999999998),\n",
       " ('to', 848.3299999999999)]"
      ]
     },
     "execution_count": 56,
     "metadata": {},
     "output_type": "execute_result"
    }
   ],
   "source": [
    "rdd_sort_top_spend.take(20)"
   ]
  },
  {
   "cell_type": "code",
   "execution_count": 57,
   "id": "fa099d38",
   "metadata": {},
   "outputs": [
    {
     "name": "stdout",
     "output_type": "stream",
     "text": [
      "2023-05-01 06:15:41,452 INFO fs.TrashPolicyDefault: Moved: 'hdfs://m01.itversity.com:9000/user/itv005077/data' to trash at: hdfs://m01.itversity.com:9000/user/itv005077/.Trash/Current/user/itv005077/data1682936141425\n"
     ]
    }
   ],
   "source": [
    "!hadoop fs -rm -r data"
   ]
  },
  {
   "cell_type": "code",
   "execution_count": 58,
   "id": "26db370f",
   "metadata": {},
   "outputs": [
    {
     "name": "stdout",
     "output_type": "stream",
     "text": [
      "Found 2 items\n",
      "drwx------   - itv005077 supergroup          0 2023-04-15 10:10 .Trash\n",
      "drwxr-xr-x   - itv005077 supergroup          0 2023-05-01 05:47 .sparkStaging\n"
     ]
    }
   ],
   "source": [
    "!hadoop fs -ls"
   ]
  },
  {
   "cell_type": "code",
   "execution_count": 59,
   "id": "4fcdd0f9",
   "metadata": {},
   "outputs": [],
   "source": [
    "spark.stop()"
   ]
  },
  {
   "cell_type": "code",
   "execution_count": 60,
   "id": "bc2b0c2c",
   "metadata": {},
   "outputs": [],
   "source": [
    "# end of file"
   ]
  }
 ],
 "metadata": {
  "kernelspec": {
   "display_name": "Pyspark 3",
   "language": "python",
   "name": "pyspark3"
  },
  "language_info": {
   "codemirror_mode": {
    "name": "ipython",
    "version": 3
   },
   "file_extension": ".py",
   "mimetype": "text/x-python",
   "name": "python",
   "nbconvert_exporter": "python",
   "pygments_lexer": "ipython3",
   "version": "3.6.12"
  }
 },
 "nbformat": 4,
 "nbformat_minor": 5
}
