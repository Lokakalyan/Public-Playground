{
 "cells": [
  {
   "cell_type": "markdown",
   "id": "e7bbe586",
   "metadata": {},
   "source": [
    "## Import Modules"
   ]
  },
  {
   "cell_type": "code",
   "execution_count": 1,
   "id": "af562cad",
   "metadata": {},
   "outputs": [],
   "source": [
    "import getpass as gp\n",
    "from pyspark.sql import SparkSession"
   ]
  },
  {
   "cell_type": "code",
   "execution_count": 2,
   "id": "85cad1ca",
   "metadata": {},
   "outputs": [],
   "source": [
    "user = gp.getuser()\n",
    "spark = SparkSession \\\n",
    "            .builder \\\n",
    "            .appName(f'{user}-broadcast-join') \\\n",
    "            .master('yarn') \\\n",
    "            .getOrCreate()"
   ]
  },
  {
   "cell_type": "code",
   "execution_count": 3,
   "id": "96217d01",
   "metadata": {},
   "outputs": [
    {
     "data": {
      "text/html": [
       "\n",
       "            <div>\n",
       "                <p><b>SparkSession - in-memory</b></p>\n",
       "                \n",
       "        <div>\n",
       "            <p><b>SparkContext</b></p>\n",
       "\n",
       "            <p><a href=\"http://g02.itversity.com:4040\">Spark UI</a></p>\n",
       "\n",
       "            <dl>\n",
       "              <dt>Version</dt>\n",
       "                <dd><code>v3.0.1</code></dd>\n",
       "              <dt>Master</dt>\n",
       "                <dd><code>yarn</code></dd>\n",
       "              <dt>AppName</dt>\n",
       "                <dd><code>itv005077-broadcast-join</code></dd>\n",
       "            </dl>\n",
       "        </div>\n",
       "        \n",
       "            </div>\n",
       "        "
      ],
      "text/plain": [
       "<pyspark.sql.session.SparkSession at 0x7f50a3d38c88>"
      ]
     },
     "execution_count": 3,
     "metadata": {},
     "output_type": "execute_result"
    }
   ],
   "source": [
    "spark"
   ]
  },
  {
   "cell_type": "code",
   "execution_count": 4,
   "id": "868b405e",
   "metadata": {},
   "outputs": [
    {
     "name": "stdout",
     "output_type": "stream",
     "text": [
      "Found 1 items\n",
      "-rw-r--r--   2 hdfs supergroup      2.9 M 2021-01-28 09:27 /public/retail_db/orders/part-00000\n"
     ]
    }
   ],
   "source": [
    "!hadoop fs -ls -h /public/retail_db/orders"
   ]
  },
  {
   "cell_type": "code",
   "execution_count": 5,
   "id": "1f296e75",
   "metadata": {},
   "outputs": [
    {
     "name": "stdout",
     "output_type": "stream",
     "text": [
      "Found 1 items\n",
      "-rw-r--r--   2 hdfs supergroup    931.4 K 2021-01-28 08:59 /public/retail_db/customers/part-00000\n"
     ]
    }
   ],
   "source": [
    "!hadoop fs -ls -h /public/retail_db/customers"
   ]
  },
  {
   "cell_type": "markdown",
   "id": "794cc5ee",
   "metadata": {},
   "source": [
    "### Create RDD's"
   ]
  },
  {
   "cell_type": "code",
   "execution_count": 6,
   "id": "b3ea7c70",
   "metadata": {},
   "outputs": [],
   "source": [
    "rdd_orders_input = spark.sparkContext.textFile('/public/retail_db/orders/part-00000')"
   ]
  },
  {
   "cell_type": "code",
   "execution_count": 7,
   "id": "872a4061",
   "metadata": {},
   "outputs": [
    {
     "data": {
      "text/plain": [
       "['1,2013-07-25 00:00:00.0,11599,CLOSED',\n",
       " '2,2013-07-25 00:00:00.0,256,PENDING_PAYMENT',\n",
       " '3,2013-07-25 00:00:00.0,12111,COMPLETE',\n",
       " '4,2013-07-25 00:00:00.0,8827,CLOSED',\n",
       " '5,2013-07-25 00:00:00.0,11318,COMPLETE']"
      ]
     },
     "execution_count": 7,
     "metadata": {},
     "output_type": "execute_result"
    }
   ],
   "source": [
    "rdd_orders_input.take(5)"
   ]
  },
  {
   "cell_type": "code",
   "execution_count": 8,
   "id": "4c9d25c6",
   "metadata": {},
   "outputs": [],
   "source": [
    "rdd_customers_input = spark.sparkContext.textFile('/public/retail_db/customers/part-00000')"
   ]
  },
  {
   "cell_type": "code",
   "execution_count": 9,
   "id": "be08fd15",
   "metadata": {},
   "outputs": [
    {
     "data": {
      "text/plain": [
       "['1,Richard,Hernandez,XXXXXXXXX,XXXXXXXXX,6303 Heather Plaza,Brownsville,TX,78521',\n",
       " '2,Mary,Barrett,XXXXXXXXX,XXXXXXXXX,9526 Noble Embers Ridge,Littleton,CO,80126',\n",
       " '3,Ann,Smith,XXXXXXXXX,XXXXXXXXX,3422 Blue Pioneer Bend,Caguas,PR,00725',\n",
       " '4,Mary,Jones,XXXXXXXXX,XXXXXXXXX,8324 Little Common,San Marcos,CA,92069',\n",
       " '5,Robert,Hudson,XXXXXXXXX,XXXXXXXXX,\"10 Crystal River Mall \",Caguas,PR,00725']"
      ]
     },
     "execution_count": 9,
     "metadata": {},
     "output_type": "execute_result"
    }
   ],
   "source": [
    "rdd_customers_input.take(5)"
   ]
  },
  {
   "cell_type": "code",
   "execution_count": 10,
   "id": "0817c872",
   "metadata": {},
   "outputs": [],
   "source": [
    "rdd_split_customers = rdd_customers_input.map(lambda x : x.split(','))"
   ]
  },
  {
   "cell_type": "code",
   "execution_count": 12,
   "id": "0c611d12",
   "metadata": {},
   "outputs": [],
   "source": [
    "rdd_customer_final = rdd_split_customers.map(lambda x : {x[0]:x[8]})"
   ]
  },
  {
   "cell_type": "code",
   "execution_count": 13,
   "id": "48ba6f0f",
   "metadata": {},
   "outputs": [
    {
     "data": {
      "text/plain": [
       "[{'1': '78521'},\n",
       " {'2': '80126'},\n",
       " {'3': '00725'},\n",
       " {'4': '92069'},\n",
       " {'5': '00725'}]"
      ]
     },
     "execution_count": 13,
     "metadata": {},
     "output_type": "execute_result"
    }
   ],
   "source": [
    "rdd_customer_final.take(5)"
   ]
  },
  {
   "cell_type": "code",
   "execution_count": 14,
   "id": "9724e560",
   "metadata": {},
   "outputs": [],
   "source": [
    "local_var = rdd_customer_final.collect()"
   ]
  },
  {
   "cell_type": "code",
   "execution_count": 15,
   "id": "f618bc13",
   "metadata": {},
   "outputs": [
    {
     "data": {
      "text/plain": [
       "[{'1': '78521'},\n",
       " {'2': '80126'},\n",
       " {'3': '00725'},\n",
       " {'4': '92069'},\n",
       " {'5': '00725'},\n",
       " {'6': '07055'},\n",
       " {'7': '00725'},\n",
       " {'8': '01841'},\n",
       " {'9': '00725'},\n",
       " {'10': '22554'}]"
      ]
     },
     "execution_count": 15,
     "metadata": {},
     "output_type": "execute_result"
    }
   ],
   "source": [
    "local_var[0:10]"
   ]
  },
  {
   "cell_type": "code",
   "execution_count": 16,
   "id": "6c0e0b69",
   "metadata": {},
   "outputs": [],
   "source": [
    "broadcast_var = spark.sparkContext.broadcast(local_var)"
   ]
  },
  {
   "cell_type": "code",
   "execution_count": 17,
   "id": "e1947e1f",
   "metadata": {},
   "outputs": [
    {
     "data": {
      "text/plain": [
       "pyspark.broadcast.Broadcast"
      ]
     },
     "execution_count": 17,
     "metadata": {},
     "output_type": "execute_result"
    }
   ],
   "source": [
    "type(broadcast_var)"
   ]
  },
  {
   "cell_type": "code",
   "execution_count": 18,
   "id": "14cc90c0",
   "metadata": {},
   "outputs": [],
   "source": [
    "def getpincode(cust):\n",
    "    for item in broadcast_var.value:\n",
    "        try:\n",
    "            return item[cust]\n",
    "        except:\n",
    "            continue"
   ]
  },
  {
   "cell_type": "code",
   "execution_count": 19,
   "id": "f26def86",
   "metadata": {},
   "outputs": [
    {
     "data": {
      "text/plain": [
       "'22554'"
      ]
     },
     "execution_count": 19,
     "metadata": {},
     "output_type": "execute_result"
    }
   ],
   "source": [
    "getpincode('10')"
   ]
  },
  {
   "cell_type": "code",
   "execution_count": 20,
   "id": "0c4fb9a1",
   "metadata": {},
   "outputs": [
    {
     "data": {
      "text/plain": [
       "['1,2013-07-25 00:00:00.0,11599,CLOSED',\n",
       " '2,2013-07-25 00:00:00.0,256,PENDING_PAYMENT',\n",
       " '3,2013-07-25 00:00:00.0,12111,COMPLETE',\n",
       " '4,2013-07-25 00:00:00.0,8827,CLOSED',\n",
       " '5,2013-07-25 00:00:00.0,11318,COMPLETE']"
      ]
     },
     "execution_count": 20,
     "metadata": {},
     "output_type": "execute_result"
    }
   ],
   "source": [
    "rdd_orders_input.take(5)"
   ]
  },
  {
   "cell_type": "code",
   "execution_count": 21,
   "id": "b02716c3",
   "metadata": {},
   "outputs": [],
   "source": [
    "rdd_orders_split = rdd_orders_input.map(lambda x : x.split(','))"
   ]
  },
  {
   "cell_type": "code",
   "execution_count": 22,
   "id": "991c3ce8",
   "metadata": {},
   "outputs": [
    {
     "data": {
      "text/plain": [
       "[['1', '2013-07-25 00:00:00.0', '11599', 'CLOSED'],\n",
       " ['2', '2013-07-25 00:00:00.0', '256', 'PENDING_PAYMENT'],\n",
       " ['3', '2013-07-25 00:00:00.0', '12111', 'COMPLETE'],\n",
       " ['4', '2013-07-25 00:00:00.0', '8827', 'CLOSED'],\n",
       " ['5', '2013-07-25 00:00:00.0', '11318', 'COMPLETE']]"
      ]
     },
     "execution_count": 22,
     "metadata": {},
     "output_type": "execute_result"
    }
   ],
   "source": [
    "rdd_orders_split.take(5)"
   ]
  },
  {
   "cell_type": "code",
   "execution_count": 23,
   "id": "da3dbe48",
   "metadata": {},
   "outputs": [],
   "source": [
    "rdd_joined = rdd_orders_split.map(lambda x : (x[0], x[2], getpincode(x[2]), x[3]))"
   ]
  },
  {
   "cell_type": "code",
   "execution_count": 24,
   "id": "49d0b51d",
   "metadata": {},
   "outputs": [
    {
     "data": {
      "text/plain": [
       "[('1', '11599', '28601', 'CLOSED'),\n",
       " ('2', '256', '60625', 'PENDING_PAYMENT'),\n",
       " ('3', '12111', '95060', 'COMPLETE'),\n",
       " ('4', '8827', '78240', 'CLOSED'),\n",
       " ('5', '11318', '00725', 'COMPLETE')]"
      ]
     },
     "execution_count": 24,
     "metadata": {},
     "output_type": "execute_result"
    }
   ],
   "source": [
    "rdd_joined.take(5)"
   ]
  }
 ],
 "metadata": {
  "kernelspec": {
   "display_name": "Pyspark 3",
   "language": "python",
   "name": "pyspark3"
  },
  "language_info": {
   "codemirror_mode": {
    "name": "ipython",
    "version": 3
   },
   "file_extension": ".py",
   "mimetype": "text/x-python",
   "name": "python",
   "nbconvert_exporter": "python",
   "pygments_lexer": "ipython3",
   "version": "3.6.12"
  }
 },
 "nbformat": 4,
 "nbformat_minor": 5
}
