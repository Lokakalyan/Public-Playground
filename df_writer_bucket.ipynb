{
 "cells": [
  {
   "cell_type": "code",
   "execution_count": 1,
   "id": "39e95a95",
   "metadata": {},
   "outputs": [
    {
     "name": "stdout",
     "output_type": "stream",
     "text": [
      "Found 1 items\n",
      "-rw-r--r--   2 hdfs supergroup      2.9 M 2021-01-28 09:27 /public/retail_db/orders/part-00000\n"
     ]
    }
   ],
   "source": [
    "!hadoop fs -ls -h /public/retail_db/orders"
   ]
  },
  {
   "cell_type": "code",
   "execution_count": 2,
   "id": "1a8c5e93",
   "metadata": {},
   "outputs": [
    {
     "name": "stdout",
     "output_type": "stream",
     "text": [
      "1,2013-07-25 00:00:00.0,11599,CLOSED\n",
      "2,2013-07-25 00:00:00.0,256,PENDING_PAYMENT\n",
      "3,2013-07-25 00:00:00.0,12111,COMPLETE\n",
      "4,2013-07-25 00:00:00.0,8827,CLOSED\n",
      "5,2013-07-25 00:00:00.0,11318,COMPLETE\n",
      "6,2013-07-25 00:00:00.0,7130,COMPLETE\n",
      "7,2013-07-25 00:00:00.0,4530,COMPLETE\n",
      "8,2013-07-25 00:00:00.0,2911,PROCESSING\n",
      "9,2013-07-25 00:00:00.0,5657,PENDING_PAYMENT\n",
      "10,2013-07-25 00:00:00.0,5648,PENDING_PAYMENT\n",
      "11,2013-07-25 00:00:00.0,918,PAYMENT_REVIEW\n",
      "12,2013-07-25 00:00:00.0,1837,CLOSED\n",
      "13,2013-07-25 00:00:00.0,9149,PENDING_PAYMENT\n",
      "14,2013-07-25 00:00:00.0,9842,PROCESSING\n",
      "15,2013-07-25 00:00:00.0,2568,COMPLETE\n",
      "16,2013-07-25 00:00:00.0,7276,PENDING_PAYMENT\n",
      "17,2013-07-25 00:00:00.0,2667,COMPLETE\n",
      "18,2013-07-25 00:00:00.0,1205,CLOSED\n",
      "19,2013-07-25 00:00:00.0,9488,PENDING_PAYMENT\n",
      "20,2013-07-25 00:00:00.0,9198,PROCESSING\n",
      "21,2013-07-25 00:00:00.0,2711,PENDING\n",
      "22,2013-07-25 00:00:00.0,333,COMPLETE\n",
      "23,2013-07-25 00:00:00.0,4367,PENDING_PAYMENT\n",
      "24,2013-07-25 00:00:00.0,11441,CLOSED\n",
      "25,2013-07-25 00:00:00.0,9503,CLOSED\n",
      "26,2013-0"
     ]
    }
   ],
   "source": [
    "!hadoop fs -head /public/retail_db/orders/part-00000"
   ]
  },
  {
   "cell_type": "code",
   "execution_count": 3,
   "id": "5e656b8d",
   "metadata": {},
   "outputs": [],
   "source": [
    "import getpass as gp\n",
    "from pyspark.sql import SparkSession, functions as F, types as T"
   ]
  },
  {
   "cell_type": "code",
   "execution_count": 4,
   "id": "ce10fedf",
   "metadata": {},
   "outputs": [
    {
     "data": {
      "text/plain": [
       "'itv005077'"
      ]
     },
     "execution_count": 4,
     "metadata": {},
     "output_type": "execute_result"
    }
   ],
   "source": [
    "user = gp.getuser()\n",
    "user"
   ]
  },
  {
   "cell_type": "code",
   "execution_count": 5,
   "id": "d764ca76",
   "metadata": {},
   "outputs": [],
   "source": [
    "spark = SparkSession.builder \\\n",
    "    .appName(f'{user}-Spark_writer-bucket-demo') \\\n",
    "    .master('yarn') \\\n",
    "    .config('spark.sql.warehouse.dir', f'/user/{user}/warehouse') \\\n",
    "    .config('spark.sql.catalogImplementation', 'hive') \\\n",
    "    .enableHiveSupport() \\\n",
    "    .getOrCreate()"
   ]
  },
  {
   "cell_type": "code",
   "execution_count": 6,
   "id": "2a01f540",
   "metadata": {},
   "outputs": [
    {
     "data": {
      "text/html": [
       "\n",
       "            <div>\n",
       "                <p><b>SparkSession - hive</b></p>\n",
       "                \n",
       "        <div>\n",
       "            <p><b>SparkContext</b></p>\n",
       "\n",
       "            <p><a href=\"http://g02.itversity.com:4040\">Spark UI</a></p>\n",
       "\n",
       "            <dl>\n",
       "              <dt>Version</dt>\n",
       "                <dd><code>v3.0.1</code></dd>\n",
       "              <dt>Master</dt>\n",
       "                <dd><code>yarn</code></dd>\n",
       "              <dt>AppName</dt>\n",
       "                <dd><code>itv005077-Spark_writer-bucket-demo</code></dd>\n",
       "            </dl>\n",
       "        </div>\n",
       "        \n",
       "            </div>\n",
       "        "
      ],
      "text/plain": [
       "<pyspark.sql.session.SparkSession at 0x7fbe4bafbe10>"
      ]
     },
     "execution_count": 6,
     "metadata": {},
     "output_type": "execute_result"
    }
   ],
   "source": [
    "spark"
   ]
  },
  {
   "cell_type": "code",
   "execution_count": 7,
   "id": "0374a011",
   "metadata": {},
   "outputs": [],
   "source": [
    "schema = T.StructType([\n",
    "    T.StructField('order_id', T.IntegerType()),\n",
    "    T.StructField('order_date', T.TimestampType()),\n",
    "    T.StructField('cust_id', T.LongType()),\n",
    "    T.StructField('order_status', T.StringType()),\n",
    "])"
   ]
  },
  {
   "cell_type": "code",
   "execution_count": 8,
   "id": "39ac9525",
   "metadata": {},
   "outputs": [],
   "source": [
    "df_orders = spark.read \\\n",
    "    .format('csv') \\\n",
    "    .schema(schema) \\\n",
    "    .load('/public/retail_db/orders')"
   ]
  },
  {
   "cell_type": "code",
   "execution_count": 9,
   "id": "039571cf",
   "metadata": {},
   "outputs": [
    {
     "name": "stdout",
     "output_type": "stream",
     "text": [
      "+--------+-------------------+-------+---------------+\n",
      "|order_id|         order_date|cust_id|   order_status|\n",
      "+--------+-------------------+-------+---------------+\n",
      "|       1|2013-07-25 00:00:00|  11599|         CLOSED|\n",
      "|       2|2013-07-25 00:00:00|    256|PENDING_PAYMENT|\n",
      "|       3|2013-07-25 00:00:00|  12111|       COMPLETE|\n",
      "|       4|2013-07-25 00:00:00|   8827|         CLOSED|\n",
      "|       5|2013-07-25 00:00:00|  11318|       COMPLETE|\n",
      "|       6|2013-07-25 00:00:00|   7130|       COMPLETE|\n",
      "|       7|2013-07-25 00:00:00|   4530|       COMPLETE|\n",
      "|       8|2013-07-25 00:00:00|   2911|     PROCESSING|\n",
      "|       9|2013-07-25 00:00:00|   5657|PENDING_PAYMENT|\n",
      "|      10|2013-07-25 00:00:00|   5648|PENDING_PAYMENT|\n",
      "|      11|2013-07-25 00:00:00|    918| PAYMENT_REVIEW|\n",
      "|      12|2013-07-25 00:00:00|   1837|         CLOSED|\n",
      "|      13|2013-07-25 00:00:00|   9149|PENDING_PAYMENT|\n",
      "|      14|2013-07-25 00:00:00|   9842|     PROCESSING|\n",
      "|      15|2013-07-25 00:00:00|   2568|       COMPLETE|\n",
      "|      16|2013-07-25 00:00:00|   7276|PENDING_PAYMENT|\n",
      "|      17|2013-07-25 00:00:00|   2667|       COMPLETE|\n",
      "|      18|2013-07-25 00:00:00|   1205|         CLOSED|\n",
      "|      19|2013-07-25 00:00:00|   9488|PENDING_PAYMENT|\n",
      "|      20|2013-07-25 00:00:00|   9198|     PROCESSING|\n",
      "+--------+-------------------+-------+---------------+\n",
      "only showing top 20 rows\n",
      "\n"
     ]
    }
   ],
   "source": [
    "df_orders.show()"
   ]
  },
  {
   "cell_type": "code",
   "execution_count": 10,
   "id": "ba1f5a78",
   "metadata": {},
   "outputs": [],
   "source": [
    "df = df_orders.withColumn('order_date', F.date_format('order_date', 'mm/dd/yyyy'))"
   ]
  },
  {
   "cell_type": "code",
   "execution_count": 11,
   "id": "8fafb048",
   "metadata": {},
   "outputs": [
    {
     "name": "stdout",
     "output_type": "stream",
     "text": [
      "+--------+----------+-------+---------------+\n",
      "|order_id|order_date|cust_id|   order_status|\n",
      "+--------+----------+-------+---------------+\n",
      "|       1|00/25/2013|  11599|         CLOSED|\n",
      "|       2|00/25/2013|    256|PENDING_PAYMENT|\n",
      "|       3|00/25/2013|  12111|       COMPLETE|\n",
      "|       4|00/25/2013|   8827|         CLOSED|\n",
      "|       5|00/25/2013|  11318|       COMPLETE|\n",
      "|       6|00/25/2013|   7130|       COMPLETE|\n",
      "|       7|00/25/2013|   4530|       COMPLETE|\n",
      "|       8|00/25/2013|   2911|     PROCESSING|\n",
      "|       9|00/25/2013|   5657|PENDING_PAYMENT|\n",
      "|      10|00/25/2013|   5648|PENDING_PAYMENT|\n",
      "|      11|00/25/2013|    918| PAYMENT_REVIEW|\n",
      "|      12|00/25/2013|   1837|         CLOSED|\n",
      "|      13|00/25/2013|   9149|PENDING_PAYMENT|\n",
      "|      14|00/25/2013|   9842|     PROCESSING|\n",
      "|      15|00/25/2013|   2568|       COMPLETE|\n",
      "|      16|00/25/2013|   7276|PENDING_PAYMENT|\n",
      "|      17|00/25/2013|   2667|       COMPLETE|\n",
      "|      18|00/25/2013|   1205|         CLOSED|\n",
      "|      19|00/25/2013|   9488|PENDING_PAYMENT|\n",
      "|      20|00/25/2013|   9198|     PROCESSING|\n",
      "+--------+----------+-------+---------------+\n",
      "only showing top 20 rows\n",
      "\n"
     ]
    }
   ],
   "source": [
    "df.show()"
   ]
  },
  {
   "cell_type": "code",
   "execution_count": 12,
   "id": "e9f45002",
   "metadata": {},
   "outputs": [
    {
     "data": {
      "text/plain": [
       "1"
      ]
     },
     "execution_count": 12,
     "metadata": {},
     "output_type": "execute_result"
    }
   ],
   "source": [
    "df.rdd.getNumPartitions()"
   ]
  },
  {
   "cell_type": "code",
   "execution_count": 13,
   "id": "6afcee43",
   "metadata": {},
   "outputs": [
    {
     "data": {
      "text/html": [
       "<table border='1'>\n",
       "<tr><th></th></tr>\n",
       "</table>\n"
      ],
      "text/plain": [
       "++\n",
       "||\n",
       "++\n",
       "++"
      ]
     },
     "execution_count": 13,
     "metadata": {},
     "output_type": "execute_result"
    }
   ],
   "source": [
    "spark.sql('create database if not exists itv005077_database')"
   ]
  },
  {
   "cell_type": "code",
   "execution_count": 14,
   "id": "1e56be7c",
   "metadata": {},
   "outputs": [],
   "source": [
    "# Creates an External Table as path is mentioned\n",
    "df.write \\\n",
    ".format('csv') \\\n",
    ".option('header', True) \\\n",
    ".option('delimiter', '|') \\\n",
    ".mode('ignore') \\\n",
    ".bucketBy(4, 'order_id') \\\n",
    ".option('path', f'/user/{user}/spark_write/bucket/orders') \\\n",
    ".saveAsTable('itv005077_database.orders_external')"
   ]
  },
  {
   "cell_type": "code",
   "execution_count": 15,
   "id": "a15a9507",
   "metadata": {},
   "outputs": [
    {
     "name": "stdout",
     "output_type": "stream",
     "text": [
      "Found 5 items\n",
      "-rw-r--r--   3 itv005077 supergroup          0 2023-07-02 17:09 spark_write/bucket/orders/_SUCCESS\n",
      "-rw-r--r--   3 itv005077 supergroup     561168 2023-07-02 17:09 spark_write/bucket/orders/part-00000-92498afa-038f-422e-b760-908101f21155_00000.c000.csv\n",
      "-rw-r--r--   3 itv005077 supergroup     560836 2023-07-02 17:09 spark_write/bucket/orders/part-00000-92498afa-038f-422e-b760-908101f21155_00001.c000.csv\n",
      "-rw-r--r--   3 itv005077 supergroup     562067 2023-07-02 17:09 spark_write/bucket/orders/part-00000-92498afa-038f-422e-b760-908101f21155_00002.c000.csv\n",
      "-rw-r--r--   3 itv005077 supergroup     558324 2023-07-02 17:09 spark_write/bucket/orders/part-00000-92498afa-038f-422e-b760-908101f21155_00003.c000.csv\n"
     ]
    }
   ],
   "source": [
    "!hadoop fs -ls spark_write/bucket/orders"
   ]
  },
  {
   "cell_type": "code",
   "execution_count": 16,
   "id": "780f1567",
   "metadata": {},
   "outputs": [
    {
     "name": "stdout",
     "output_type": "stream",
     "text": [
      "order_id|order_date|cust_id|order_status\n",
      "12|00/25/2013|1837|CLOSED\n",
      "13|00/25/2013|9149|PENDING_PAYMENT\n",
      "14|00/25/2013|9842|PROCESSING\n",
      "18|00/25/2013|1205|CLOSED\n",
      "25|00/25/2013|9503|CLOSED\n",
      "37|00/25/2013|5863|CLOSED\n",
      "38|00/25/2013|11586|PROCESSING\n",
      "46|00/25/2013|1549|ON_HOLD\n",
      "50|00/25/2013|5225|CANCELED\n",
      "52|00/25/2013|5126|PENDING_PAYMENT\n",
      "56|00/25/2013|10519|COMPLETE\n",
      "65|00/25/2013|5903|COMPLETE\n",
      "67|00/25/2013|1406|COMPLETE\n",
      "70|00/25/2013|11809|PENDING_PAYMENT\n",
      "73|00/25/2013|8504|PENDING_PAYMENT\n",
      "83|00/25/2013|1265|COMPLETE\n",
      "93|00/25/2013|2256|PENDING_PAYMENT\n",
      "95|00/25/2013|9032|COMPLETE\n",
      "97|00/25/2013|10784|PENDING\n",
      "101|00/25/2013|5116|CLOSED\n",
      "107|00/26/2013|1845|COMPLETE\n",
      "109|00/26/2013|9345|PENDING_PAYMENT\n",
      "110|00/26/2013|2746|COMPLETE\n",
      "115|00/26/2013|104|PROCESSING\n",
      "126|00/26/2013|610|COMPLETE\n",
      "130|00/26/2013|7509|PENDING_PAYMENT\n",
      "135|00/26/2013|7738|COMPLETE\n",
      "140|00/26/2013|4257|PENDING_PAYMENT\n",
      "148|00/26/2013|5383|PROCESSING\n",
      "150|00/26/2013|236|PROCESSING\n",
      "157|00/26/2013|8986|ON_HOLD\n",
      "161|00/26/2013|4513|PENDING_PAYMENT\n",
      "171|00/26/201"
     ]
    }
   ],
   "source": [
    "!hadoop fs -head spark_write/bucket/orders/part-00000-92498afa-038f-422e-b760-908101f21155_00000.c000.csv"
   ]
  },
  {
   "cell_type": "code",
   "execution_count": 17,
   "id": "cfa94c92",
   "metadata": {},
   "outputs": [
    {
     "name": "stdout",
     "output_type": "stream",
     "text": [
      "+----------------------------+----------------------------------------------------------------------+-------+\n",
      "|col_name                    |data_type                                                             |comment|\n",
      "+----------------------------+----------------------------------------------------------------------+-------+\n",
      "|order_id                    |int                                                                   |null   |\n",
      "|order_date                  |string                                                                |null   |\n",
      "|cust_id                     |bigint                                                                |null   |\n",
      "|order_status                |string                                                                |null   |\n",
      "|                            |                                                                      |       |\n",
      "|# Detailed Table Information|                                                                      |       |\n",
      "|Database                    |itv005077_database                                                    |       |\n",
      "|Table                       |orders_external                                                       |       |\n",
      "|Owner                       |itv005077                                                             |       |\n",
      "|Created Time                |Sun Jul 02 17:09:45 EDT 2023                                          |       |\n",
      "|Last Access                 |UNKNOWN                                                               |       |\n",
      "|Created By                  |Spark 3.0.1                                                           |       |\n",
      "|Type                        |EXTERNAL                                                              |       |\n",
      "|Provider                    |csv                                                                   |       |\n",
      "|Num Buckets                 |4                                                                     |       |\n",
      "|Bucket Columns              |[`order_id`]                                                          |       |\n",
      "|Sort Columns                |[]                                                                    |       |\n",
      "|Location                    |hdfs://m01.itversity.com:9000/user/itv005077/spark_write/bucket/orders|       |\n",
      "|Serde Library               |org.apache.hadoop.hive.serde2.lazy.LazySimpleSerDe                    |       |\n",
      "|InputFormat                 |org.apache.hadoop.mapred.SequenceFileInputFormat                      |       |\n",
      "+----------------------------+----------------------------------------------------------------------+-------+\n",
      "only showing top 20 rows\n",
      "\n"
     ]
    }
   ],
   "source": [
    "spark.sql('describe formatted itv005077_database.orders_external').show(truncate=False)"
   ]
  },
  {
   "cell_type": "code",
   "execution_count": 18,
   "id": "8bf3a99b",
   "metadata": {},
   "outputs": [
    {
     "name": "stdout",
     "output_type": "stream",
     "text": [
      "+--------+----------+-------+------------+\n",
      "|order_id|order_date|cust_id|order_status|\n",
      "+--------+----------+-------+------------+\n",
      "|     171|00/26/2013|   1980|    COMPLETE|\n",
      "+--------+----------+-------+------------+\n",
      "\n"
     ]
    }
   ],
   "source": [
    "spark.sql('''\n",
    "    SELECT * FROM itv005077_database.orders_external\n",
    "    WHERE order_id = 171\n",
    "''').show()"
   ]
  },
  {
   "cell_type": "code",
   "execution_count": 19,
   "id": "1fd391fd",
   "metadata": {},
   "outputs": [],
   "source": [
    "# Creates a Managed Table as path is not mentioned\n",
    "df.write \\\n",
    ".format('csv') \\\n",
    ".option('header', True) \\\n",
    ".option('delimiter', '|') \\\n",
    ".mode('ignore') \\\n",
    ".bucketBy(4, 'order_id') \\\n",
    ".saveAsTable('itv005077_database.orders_managed')"
   ]
  },
  {
   "cell_type": "code",
   "execution_count": 20,
   "id": "f70adbeb",
   "metadata": {},
   "outputs": [
    {
     "name": "stdout",
     "output_type": "stream",
     "text": [
      "Found 5 items\n",
      "-rw-r--r--   3 itv005077 supergroup          0 2023-07-02 17:11 warehouse/itv005077_database.db/orders_managed/_SUCCESS\n",
      "-rw-r--r--   3 itv005077 supergroup     561168 2023-07-02 17:11 warehouse/itv005077_database.db/orders_managed/part-00000-e6495736-d283-4e56-88c5-a1c4ad1fa48f_00000.c000.csv\n",
      "-rw-r--r--   3 itv005077 supergroup     560836 2023-07-02 17:11 warehouse/itv005077_database.db/orders_managed/part-00000-e6495736-d283-4e56-88c5-a1c4ad1fa48f_00001.c000.csv\n",
      "-rw-r--r--   3 itv005077 supergroup     562067 2023-07-02 17:11 warehouse/itv005077_database.db/orders_managed/part-00000-e6495736-d283-4e56-88c5-a1c4ad1fa48f_00002.c000.csv\n",
      "-rw-r--r--   3 itv005077 supergroup     558324 2023-07-02 17:11 warehouse/itv005077_database.db/orders_managed/part-00000-e6495736-d283-4e56-88c5-a1c4ad1fa48f_00003.c000.csv\n"
     ]
    }
   ],
   "source": [
    "!hadoop fs -ls warehouse/itv005077_database.db/orders_managed"
   ]
  },
  {
   "cell_type": "code",
   "execution_count": 22,
   "id": "c9ff912a",
   "metadata": {},
   "outputs": [
    {
     "name": "stdout",
     "output_type": "stream",
     "text": [
      "order_id|order_date|cust_id|order_status\n",
      "2|00/25/2013|256|PENDING_PAYMENT\n",
      "4|00/25/2013|8827|CLOSED\n",
      "5|00/25/2013|11318|COMPLETE\n",
      "10|00/25/2013|5648|PENDING_PAYMENT\n",
      "22|00/25/2013|333|COMPLETE\n",
      "28|00/25/2013|656|COMPLETE\n",
      "31|00/25/2013|6983|PAYMENT_REVIEW\n",
      "32|00/25/2013|3960|COMPLETE\n",
      "36|00/25/2013|5649|PENDING\n",
      "45|00/25/2013|2636|COMPLETE\n",
      "49|00/25/2013|1871|PENDING\n",
      "55|00/25/2013|2052|PENDING\n",
      "57|00/25/2013|7073|CLOSED\n",
      "58|00/25/2013|9213|PENDING_PAYMENT\n",
      "59|00/25/2013|11644|PENDING_PAYMENT\n",
      "60|00/25/2013|8365|PENDING_PAYMENT\n",
      "76|00/25/2013|6898|COMPLETE\n",
      "77|00/25/2013|7915|PENDING_PAYMENT\n",
      "79|00/25/2013|7327|PENDING_PAYMENT\n",
      "88|00/25/2013|3809|COMPLETE\n",
      "90|00/25/2013|9131|CLOSED\n",
      "92|00/25/2013|6932|COMPLETE\n",
      "98|00/25/2013|5243|COMPLETE\n",
      "102|00/25/2013|8027|COMPLETE\n",
      "104|00/25/2013|7790|PENDING_PAYMENT\n",
      "108|00/26/2013|12149|PROCESSING\n",
      "111|00/26/2013|4271|PROCESSING\n",
      "118|00/26/2013|1737|COMPLETE\n",
      "123|00/26/2013|3695|PENDING_PAYMENT\n",
      "128|00/26/2013|2772|PENDING_PAYMENT\n",
      "133|00/26/2013|10604|CLOSED\n",
      "144|00/26/2013|2158|PROCESSING\n",
      "153|00/26"
     ]
    }
   ],
   "source": [
    "!hadoop fs -head warehouse/itv005077_database.db/orders_managed/part-00000-e6495736-d283-4e56-88c5-a1c4ad1fa48f_00002.c000.csv"
   ]
  },
  {
   "cell_type": "code",
   "execution_count": 23,
   "id": "2dffd838",
   "metadata": {},
   "outputs": [
    {
     "name": "stdout",
     "output_type": "stream",
     "text": [
      "+----------------------------+-------------------------------------------------------------------------------------------+-------+\n",
      "|col_name                    |data_type                                                                                  |comment|\n",
      "+----------------------------+-------------------------------------------------------------------------------------------+-------+\n",
      "|order_id                    |int                                                                                        |null   |\n",
      "|order_date                  |string                                                                                     |null   |\n",
      "|cust_id                     |bigint                                                                                     |null   |\n",
      "|order_status                |string                                                                                     |null   |\n",
      "|                            |                                                                                           |       |\n",
      "|# Detailed Table Information|                                                                                           |       |\n",
      "|Database                    |itv005077_database                                                                         |       |\n",
      "|Table                       |orders_managed                                                                             |       |\n",
      "|Owner                       |itv005077                                                                                  |       |\n",
      "|Created Time                |Sun Jul 02 17:11:43 EDT 2023                                                               |       |\n",
      "|Last Access                 |UNKNOWN                                                                                    |       |\n",
      "|Created By                  |Spark 3.0.1                                                                                |       |\n",
      "|Type                        |MANAGED                                                                                    |       |\n",
      "|Provider                    |csv                                                                                        |       |\n",
      "|Num Buckets                 |4                                                                                          |       |\n",
      "|Bucket Columns              |[`order_id`]                                                                               |       |\n",
      "|Sort Columns                |[]                                                                                         |       |\n",
      "|Statistics                  |2242395 bytes                                                                              |       |\n",
      "|Location                    |hdfs://m01.itversity.com:9000/user/itv005077/warehouse/itv005077_database.db/orders_managed|       |\n",
      "|Serde Library               |org.apache.hadoop.hive.serde2.lazy.LazySimpleSerDe                                         |       |\n",
      "+----------------------------+-------------------------------------------------------------------------------------------+-------+\n",
      "only showing top 20 rows\n",
      "\n"
     ]
    }
   ],
   "source": [
    "spark.sql('describe formatted itv005077_database.orders_managed').show(truncate=False)"
   ]
  },
  {
   "cell_type": "code",
   "execution_count": 24,
   "id": "06721164",
   "metadata": {},
   "outputs": [
    {
     "name": "stdout",
     "output_type": "stream",
     "text": [
      "+--------+----------+-------+------------+\n",
      "|order_id|order_date|cust_id|order_status|\n",
      "+--------+----------+-------+------------+\n",
      "|     144|00/26/2013|   2158|  PROCESSING|\n",
      "+--------+----------+-------+------------+\n",
      "\n"
     ]
    }
   ],
   "source": [
    "spark.sql('''\n",
    "    SELECT * FROM itv005077_database.orders_managed\n",
    "    WHERE order_id = 144\n",
    "''').show()"
   ]
  },
  {
   "cell_type": "code",
   "execution_count": 25,
   "id": "37cfaeee",
   "metadata": {},
   "outputs": [
    {
     "data": {
      "text/html": [
       "<table border='1'>\n",
       "<tr><th></th></tr>\n",
       "</table>\n"
      ],
      "text/plain": [
       "++\n",
       "||\n",
       "++\n",
       "++"
      ]
     },
     "execution_count": 25,
     "metadata": {},
     "output_type": "execute_result"
    }
   ],
   "source": [
    "spark.sql('use itv005077_database')"
   ]
  },
  {
   "cell_type": "code",
   "execution_count": 26,
   "id": "372e234d",
   "metadata": {},
   "outputs": [
    {
     "name": "stdout",
     "output_type": "stream",
     "text": [
      "+------------------+---------------+-----------+\n",
      "|          database|      tableName|isTemporary|\n",
      "+------------------+---------------+-----------+\n",
      "|itv005077_database|orders_external|      false|\n",
      "|itv005077_database| orders_managed|      false|\n",
      "+------------------+---------------+-----------+\n",
      "\n"
     ]
    }
   ],
   "source": [
    "spark.sql('show tables').show()"
   ]
  },
  {
   "cell_type": "code",
   "execution_count": 27,
   "id": "edfc2389",
   "metadata": {},
   "outputs": [
    {
     "data": {
      "text/html": [
       "<table border='1'>\n",
       "<tr><th></th></tr>\n",
       "</table>\n"
      ],
      "text/plain": [
       "++\n",
       "||\n",
       "++\n",
       "++"
      ]
     },
     "execution_count": 27,
     "metadata": {},
     "output_type": "execute_result"
    }
   ],
   "source": [
    "spark.sql('drop table orders_external')"
   ]
  },
  {
   "cell_type": "code",
   "execution_count": 28,
   "id": "a6661782",
   "metadata": {},
   "outputs": [
    {
     "name": "stdout",
     "output_type": "stream",
     "text": [
      "+------------------+--------------+-----------+\n",
      "|          database|     tableName|isTemporary|\n",
      "+------------------+--------------+-----------+\n",
      "|itv005077_database|orders_managed|      false|\n",
      "+------------------+--------------+-----------+\n",
      "\n"
     ]
    }
   ],
   "source": [
    "spark.sql('show tables').show()"
   ]
  },
  {
   "cell_type": "code",
   "execution_count": 29,
   "id": "431d9a96",
   "metadata": {},
   "outputs": [
    {
     "name": "stdout",
     "output_type": "stream",
     "text": [
      "Found 5 items\n",
      "-rw-r--r--   3 itv005077 supergroup          0 2023-07-02 17:09 spark_write/bucket/orders/_SUCCESS\n",
      "-rw-r--r--   3 itv005077 supergroup     561168 2023-07-02 17:09 spark_write/bucket/orders/part-00000-92498afa-038f-422e-b760-908101f21155_00000.c000.csv\n",
      "-rw-r--r--   3 itv005077 supergroup     560836 2023-07-02 17:09 spark_write/bucket/orders/part-00000-92498afa-038f-422e-b760-908101f21155_00001.c000.csv\n",
      "-rw-r--r--   3 itv005077 supergroup     562067 2023-07-02 17:09 spark_write/bucket/orders/part-00000-92498afa-038f-422e-b760-908101f21155_00002.c000.csv\n",
      "-rw-r--r--   3 itv005077 supergroup     558324 2023-07-02 17:09 spark_write/bucket/orders/part-00000-92498afa-038f-422e-b760-908101f21155_00003.c000.csv\n"
     ]
    }
   ],
   "source": [
    "!hadoop fs -ls spark_write/bucket/orders"
   ]
  },
  {
   "cell_type": "code",
   "execution_count": 30,
   "id": "b6db2b3a",
   "metadata": {},
   "outputs": [
    {
     "data": {
      "text/html": [
       "<table border='1'>\n",
       "<tr><th></th></tr>\n",
       "</table>\n"
      ],
      "text/plain": [
       "++\n",
       "||\n",
       "++\n",
       "++"
      ]
     },
     "execution_count": 30,
     "metadata": {},
     "output_type": "execute_result"
    }
   ],
   "source": [
    "spark.sql('drop table orders_managed')"
   ]
  },
  {
   "cell_type": "code",
   "execution_count": 31,
   "id": "323b4df8",
   "metadata": {},
   "outputs": [
    {
     "name": "stdout",
     "output_type": "stream",
     "text": [
      "+--------+---------+-----------+\n",
      "|database|tableName|isTemporary|\n",
      "+--------+---------+-----------+\n",
      "+--------+---------+-----------+\n",
      "\n"
     ]
    }
   ],
   "source": [
    "spark.sql('show tables').show()"
   ]
  },
  {
   "cell_type": "code",
   "execution_count": 32,
   "id": "d90b429c",
   "metadata": {},
   "outputs": [],
   "source": [
    "!hadoop fs -ls warehouse/itv005077_database.db"
   ]
  },
  {
   "cell_type": "code",
   "execution_count": 33,
   "id": "332b3320",
   "metadata": {},
   "outputs": [
    {
     "data": {
      "text/html": [
       "<table border='1'>\n",
       "<tr><th></th></tr>\n",
       "</table>\n"
      ],
      "text/plain": [
       "++\n",
       "||\n",
       "++\n",
       "++"
      ]
     },
     "execution_count": 33,
     "metadata": {},
     "output_type": "execute_result"
    }
   ],
   "source": [
    "spark.sql('drop database itv005077_database')"
   ]
  },
  {
   "cell_type": "code",
   "execution_count": 34,
   "id": "30141e09",
   "metadata": {},
   "outputs": [],
   "source": [
    "!hadoop fs -ls warehouse"
   ]
  },
  {
   "cell_type": "code",
   "execution_count": 35,
   "id": "8f57f3b1",
   "metadata": {},
   "outputs": [],
   "source": [
    "spark.stop()"
   ]
  }
 ],
 "metadata": {
  "kernelspec": {
   "display_name": "Pyspark 3",
   "language": "python",
   "name": "pyspark3"
  },
  "language_info": {
   "codemirror_mode": {
    "name": "ipython",
    "version": 3
   },
   "file_extension": ".py",
   "mimetype": "text/x-python",
   "name": "python",
   "nbconvert_exporter": "python",
   "pygments_lexer": "ipython3",
   "version": "3.6.12"
  }
 },
 "nbformat": 4,
 "nbformat_minor": 5
}
