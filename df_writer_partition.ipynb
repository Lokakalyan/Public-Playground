{
 "cells": [
  {
   "cell_type": "code",
   "execution_count": 1,
   "id": "9b7d878f",
   "metadata": {},
   "outputs": [
    {
     "name": "stdout",
     "output_type": "stream",
     "text": [
      "Found 3 items\n",
      "-rw-r--r--   3 itv005857 supergroup      3.5 G 2023-04-28 06:15 /public/trendytech/orders/orders.csv\n",
      "-rw-r--r--   3 itv005857 supergroup      1.0 G 2023-04-29 14:10 /public/trendytech/orders/orders_1gb.csv\n",
      "drwxr-xr-x   - itv005857 supergroup          0 2023-05-28 05:02 /public/trendytech/orders/ordersparquet\n"
     ]
    }
   ],
   "source": [
    "!hadoop fs -ls -h /public/trendytech/orders/"
   ]
  },
  {
   "cell_type": "code",
   "execution_count": 2,
   "id": "662db814",
   "metadata": {},
   "outputs": [
    {
     "name": "stdout",
     "output_type": "stream",
     "text": [
      "1,2013-07-25 00:00:00.0,11599,CLOSED\n",
      "2,2013-07-25 00:00:00.0,256,PENDING_PAYMENT\n",
      "3,2013-07-25 00:00:00.0,12111,COMPLETE\n",
      "4,2013-07-25 00:00:00.0,8827,CLOSED\n",
      "5,2013-07-25 00:00:00.0,11318,COMPLETE\n",
      "6,2013-07-25 00:00:00.0,7130,COMPLETE\n",
      "7,2013-07-25 00:00:00.0,4530,COMPLETE\n",
      "8,2013-07-25 00:00:00.0,2911,PROCESSING\n",
      "9,2013-07-25 00:00:00.0,5657,PENDING_PAYMENT\n",
      "10,2013-07-25 00:00:00.0,5648,PENDING_PAYMENT\n",
      "11,2013-07-25 00:00:00.0,918,PAYMENT_REVIEW\n",
      "12,2013-07-25 00:00:00.0,1837,CLOSED\n",
      "13,2013-07-25 00:00:00.0,9149,PENDING_PAYMENT\n",
      "14,2013-07-25 00:00:00.0,9842,PROCESSING\n",
      "15,2013-07-25 00:00:00.0,2568,COMPLETE\n",
      "16,2013-07-25 00:00:00.0,7276,PENDING_PAYMENT\n",
      "17,2013-07-25 00:00:00.0,2667,COMPLETE\n",
      "18,2013-07-25 00:00:00.0,1205,CLOSED\n",
      "19,2013-07-25 00:00:00.0,9488,PENDING_PAYMENT\n",
      "20,2013-07-25 00:00:00.0,9198,PROCESSING\n",
      "21,2013-07-25 00:00:00.0,2711,PENDING\n",
      "22,2013-07-25 00:00:00.0,333,COMPLETE\n",
      "23,2013-07-25 00:00:00.0,4367,PENDING_PAYMENT\n",
      "24,2013-07-25 00:00:00.0,11441,CLOSED\n",
      "25,2013-07-25 00:00:00.0,9503,CLOSED\n",
      "26,2013-0"
     ]
    }
   ],
   "source": [
    "!hadoop fs -head /public/trendytech/orders/orders.csv"
   ]
  },
  {
   "cell_type": "code",
   "execution_count": 3,
   "id": "b43ecb9d",
   "metadata": {},
   "outputs": [],
   "source": [
    "import getpass as gp\n",
    "from pyspark.sql import SparkSession, functions as F, types as T"
   ]
  },
  {
   "cell_type": "code",
   "execution_count": 4,
   "id": "7150bc2f",
   "metadata": {},
   "outputs": [
    {
     "data": {
      "text/plain": [
       "'itv005077'"
      ]
     },
     "execution_count": 4,
     "metadata": {},
     "output_type": "execute_result"
    }
   ],
   "source": [
    "user = gp.getuser()\n",
    "user"
   ]
  },
  {
   "cell_type": "code",
   "execution_count": 5,
   "id": "f485a7ab",
   "metadata": {},
   "outputs": [],
   "source": [
    "spark = SparkSession.builder \\\n",
    "    .appName(f'{user}-DF-Writer-Parition-demo') \\\n",
    "    .master('yarn') \\\n",
    "    .config('spark.sql.warehouse.dir', f'/user/{user}/warehouse') \\\n",
    "    .config('spark.sql.catalogImplementation', 'hive') \\\n",
    "    .enableHiveSupport() \\\n",
    "    .getOrCreate()"
   ]
  },
  {
   "cell_type": "code",
   "execution_count": 6,
   "id": "c7fe59c2",
   "metadata": {},
   "outputs": [
    {
     "data": {
      "text/html": [
       "\n",
       "            <div>\n",
       "                <p><b>SparkSession - hive</b></p>\n",
       "                \n",
       "        <div>\n",
       "            <p><b>SparkContext</b></p>\n",
       "\n",
       "            <p><a href=\"http://g02.itversity.com:4040\">Spark UI</a></p>\n",
       "\n",
       "            <dl>\n",
       "              <dt>Version</dt>\n",
       "                <dd><code>v3.0.1</code></dd>\n",
       "              <dt>Master</dt>\n",
       "                <dd><code>yarn</code></dd>\n",
       "              <dt>AppName</dt>\n",
       "                <dd><code>itv005077-DF-Writer-Parition-demo</code></dd>\n",
       "            </dl>\n",
       "        </div>\n",
       "        \n",
       "            </div>\n",
       "        "
      ],
      "text/plain": [
       "<pyspark.sql.session.SparkSession at 0x7f4947afdbe0>"
      ]
     },
     "execution_count": 6,
     "metadata": {},
     "output_type": "execute_result"
    }
   ],
   "source": [
    "spark"
   ]
  },
  {
   "cell_type": "code",
   "execution_count": 7,
   "id": "7617832c",
   "metadata": {},
   "outputs": [],
   "source": [
    "schema = T.StructType([\n",
    "    T.StructField('order_id', T.IntegerType()),\n",
    "    T.StructField('order_date', T.TimestampType()),\n",
    "    T.StructField('cust_id', T.LongType()),\n",
    "    T.StructField('order_status', T.StringType()),\n",
    "])"
   ]
  },
  {
   "cell_type": "code",
   "execution_count": 8,
   "id": "1a98c372",
   "metadata": {},
   "outputs": [],
   "source": [
    "df_orders = spark.read \\\n",
    "    .format('csv') \\\n",
    "    .schema(schema) \\\n",
    "    .option('mode', 'permissive') \\\n",
    "    .load('/public/trendytech/orders/orders.csv')"
   ]
  },
  {
   "cell_type": "code",
   "execution_count": 9,
   "id": "265db04a",
   "metadata": {},
   "outputs": [
    {
     "name": "stdout",
     "output_type": "stream",
     "text": [
      "+--------+-------------------+-------+---------------+\n",
      "|order_id|         order_date|cust_id|   order_status|\n",
      "+--------+-------------------+-------+---------------+\n",
      "|       1|2013-07-25 00:00:00|  11599|         CLOSED|\n",
      "|       2|2013-07-25 00:00:00|    256|PENDING_PAYMENT|\n",
      "|       3|2013-07-25 00:00:00|  12111|       COMPLETE|\n",
      "|       4|2013-07-25 00:00:00|   8827|         CLOSED|\n",
      "|       5|2013-07-25 00:00:00|  11318|       COMPLETE|\n",
      "|       6|2013-07-25 00:00:00|   7130|       COMPLETE|\n",
      "|       7|2013-07-25 00:00:00|   4530|       COMPLETE|\n",
      "|       8|2013-07-25 00:00:00|   2911|     PROCESSING|\n",
      "|       9|2013-07-25 00:00:00|   5657|PENDING_PAYMENT|\n",
      "|      10|2013-07-25 00:00:00|   5648|PENDING_PAYMENT|\n",
      "|      11|2013-07-25 00:00:00|    918| PAYMENT_REVIEW|\n",
      "|      12|2013-07-25 00:00:00|   1837|         CLOSED|\n",
      "|      13|2013-07-25 00:00:00|   9149|PENDING_PAYMENT|\n",
      "|      14|2013-07-25 00:00:00|   9842|     PROCESSING|\n",
      "|      15|2013-07-25 00:00:00|   2568|       COMPLETE|\n",
      "|      16|2013-07-25 00:00:00|   7276|PENDING_PAYMENT|\n",
      "|      17|2013-07-25 00:00:00|   2667|       COMPLETE|\n",
      "|      18|2013-07-25 00:00:00|   1205|         CLOSED|\n",
      "|      19|2013-07-25 00:00:00|   9488|PENDING_PAYMENT|\n",
      "|      20|2013-07-25 00:00:00|   9198|     PROCESSING|\n",
      "+--------+-------------------+-------+---------------+\n",
      "only showing top 20 rows\n",
      "\n"
     ]
    }
   ],
   "source": [
    "df_orders.show()"
   ]
  },
  {
   "cell_type": "code",
   "execution_count": 10,
   "id": "75240c39",
   "metadata": {},
   "outputs": [],
   "source": [
    "df = df_orders.withColumn('order_date', F.to_date('order_date', 'yyyy-MM-dd'))"
   ]
  },
  {
   "cell_type": "code",
   "execution_count": 11,
   "id": "bc27bd4f",
   "metadata": {},
   "outputs": [
    {
     "name": "stdout",
     "output_type": "stream",
     "text": [
      "+--------+----------+-------+---------------+\n",
      "|order_id|order_date|cust_id|   order_status|\n",
      "+--------+----------+-------+---------------+\n",
      "|       1|2013-07-25|  11599|         CLOSED|\n",
      "|       2|2013-07-25|    256|PENDING_PAYMENT|\n",
      "|       3|2013-07-25|  12111|       COMPLETE|\n",
      "|       4|2013-07-25|   8827|         CLOSED|\n",
      "|       5|2013-07-25|  11318|       COMPLETE|\n",
      "|       6|2013-07-25|   7130|       COMPLETE|\n",
      "|       7|2013-07-25|   4530|       COMPLETE|\n",
      "|       8|2013-07-25|   2911|     PROCESSING|\n",
      "|       9|2013-07-25|   5657|PENDING_PAYMENT|\n",
      "|      10|2013-07-25|   5648|PENDING_PAYMENT|\n",
      "|      11|2013-07-25|    918| PAYMENT_REVIEW|\n",
      "|      12|2013-07-25|   1837|         CLOSED|\n",
      "|      13|2013-07-25|   9149|PENDING_PAYMENT|\n",
      "|      14|2013-07-25|   9842|     PROCESSING|\n",
      "|      15|2013-07-25|   2568|       COMPLETE|\n",
      "|      16|2013-07-25|   7276|PENDING_PAYMENT|\n",
      "|      17|2013-07-25|   2667|       COMPLETE|\n",
      "|      18|2013-07-25|   1205|         CLOSED|\n",
      "|      19|2013-07-25|   9488|PENDING_PAYMENT|\n",
      "|      20|2013-07-25|   9198|     PROCESSING|\n",
      "+--------+----------+-------+---------------+\n",
      "only showing top 20 rows\n",
      "\n"
     ]
    }
   ],
   "source": [
    "df.show()"
   ]
  },
  {
   "cell_type": "code",
   "execution_count": 12,
   "id": "30f2965d",
   "metadata": {},
   "outputs": [
    {
     "name": "stdout",
     "output_type": "stream",
     "text": [
      "root\n",
      " |-- order_id: integer (nullable = true)\n",
      " |-- order_date: date (nullable = true)\n",
      " |-- cust_id: long (nullable = true)\n",
      " |-- order_status: string (nullable = true)\n",
      "\n"
     ]
    }
   ],
   "source": [
    "df.printSchema()"
   ]
  },
  {
   "cell_type": "code",
   "execution_count": 13,
   "id": "874d36c7",
   "metadata": {},
   "outputs": [
    {
     "data": {
      "text/plain": [
       "28"
      ]
     },
     "execution_count": 13,
     "metadata": {},
     "output_type": "execute_result"
    }
   ],
   "source": [
    "df.rdd.getNumPartitions()"
   ]
  },
  {
   "cell_type": "code",
   "execution_count": 14,
   "id": "48f8326a",
   "metadata": {},
   "outputs": [],
   "source": [
    "df.write \\\n",
    ".format('parquet') \\\n",
    ".mode('ignore') \\\n",
    ".partitionBy('order_status') \\\n",
    ".save(f'/user/{user}/spark_write/part/orders')"
   ]
  },
  {
   "cell_type": "code",
   "execution_count": 15,
   "id": "38d5021a",
   "metadata": {},
   "outputs": [
    {
     "name": "stdout",
     "output_type": "stream",
     "text": [
      "Found 10 items\n",
      "-rw-r--r--   3 itv005077 supergroup          0 2023-07-02 16:23 spark_write/part/orders/_SUCCESS\n",
      "drwxr-xr-x   - itv005077 supergroup          0 2023-07-02 16:23 spark_write/part/orders/order_status=CANCELED\n",
      "drwxr-xr-x   - itv005077 supergroup          0 2023-07-02 16:23 spark_write/part/orders/order_status=CLOSED\n",
      "drwxr-xr-x   - itv005077 supergroup          0 2023-07-02 16:23 spark_write/part/orders/order_status=COMPLETE\n",
      "drwxr-xr-x   - itv005077 supergroup          0 2023-07-02 16:23 spark_write/part/orders/order_status=ON_HOLD\n",
      "drwxr-xr-x   - itv005077 supergroup          0 2023-07-02 16:23 spark_write/part/orders/order_status=PAYMENT_REVIEW\n",
      "drwxr-xr-x   - itv005077 supergroup          0 2023-07-02 16:23 spark_write/part/orders/order_status=PENDING\n",
      "drwxr-xr-x   - itv005077 supergroup          0 2023-07-02 16:23 spark_write/part/orders/order_status=PENDING_PAYMENT\n",
      "drwxr-xr-x   - itv005077 supergroup          0 2023-07-02 16:23 spark_write/part/orders/order_status=PROCESSING\n",
      "drwxr-xr-x   - itv005077 supergroup          0 2023-07-02 16:23 spark_write/part/orders/order_status=SUSPECTED_FRAUD\n"
     ]
    }
   ],
   "source": [
    "!hadoop fs -ls spark_write/part/orders"
   ]
  },
  {
   "cell_type": "code",
   "execution_count": 16,
   "id": "3bc6eb36",
   "metadata": {},
   "outputs": [
    {
     "name": "stdout",
     "output_type": "stream",
     "text": [
      "Found 28 items\n",
      "-rw-r--r--   3 itv005077 supergroup     33.1 K 2023-07-02 16:22 spark_write/part/orders/order_status=PAYMENT_REVIEW/part-00000-964c7686-1a59-4c65-89a2-560ccf621134.c000.snappy.parquet\n",
      "-rw-r--r--   3 itv005077 supergroup     34.1 K 2023-07-02 16:22 spark_write/part/orders/order_status=PAYMENT_REVIEW/part-00001-964c7686-1a59-4c65-89a2-560ccf621134.c000.snappy.parquet\n",
      "-rw-r--r--   3 itv005077 supergroup     42.5 K 2023-07-02 16:22 spark_write/part/orders/order_status=PAYMENT_REVIEW/part-00002-964c7686-1a59-4c65-89a2-560ccf621134.c000.snappy.parquet\n",
      "-rw-r--r--   3 itv005077 supergroup     34.2 K 2023-07-02 16:22 spark_write/part/orders/order_status=PAYMENT_REVIEW/part-00003-964c7686-1a59-4c65-89a2-560ccf621134.c000.snappy.parquet\n",
      "-rw-r--r--   3 itv005077 supergroup     42.5 K 2023-07-02 16:22 spark_write/part/orders/order_status=PAYMENT_REVIEW/part-00004-964c7686-1a59-4c65-89a2-560ccf621134.c000.snappy.parquet\n",
      "-rw-r--r--   3 itv005077 supergroup     42.7 K 2023-07-02 16:22 spark_write/part/orders/order_status=PAYMENT_REVIEW/part-00005-964c7686-1a59-4c65-89a2-560ccf621134.c000.snappy.parquet\n",
      "-rw-r--r--   3 itv005077 supergroup     42.5 K 2023-07-02 16:22 spark_write/part/orders/order_status=PAYMENT_REVIEW/part-00006-964c7686-1a59-4c65-89a2-560ccf621134.c000.snappy.parquet\n",
      "-rw-r--r--   3 itv005077 supergroup     33.7 K 2023-07-02 16:22 spark_write/part/orders/order_status=PAYMENT_REVIEW/part-00007-964c7686-1a59-4c65-89a2-560ccf621134.c000.snappy.parquet\n",
      "-rw-r--r--   3 itv005077 supergroup     41.9 K 2023-07-02 16:22 spark_write/part/orders/order_status=PAYMENT_REVIEW/part-00008-964c7686-1a59-4c65-89a2-560ccf621134.c000.snappy.parquet\n",
      "-rw-r--r--   3 itv005077 supergroup     42.4 K 2023-07-02 16:22 spark_write/part/orders/order_status=PAYMENT_REVIEW/part-00009-964c7686-1a59-4c65-89a2-560ccf621134.c000.snappy.parquet\n",
      "-rw-r--r--   3 itv005077 supergroup     58.8 K 2023-07-02 16:22 spark_write/part/orders/order_status=PAYMENT_REVIEW/part-00010-964c7686-1a59-4c65-89a2-560ccf621134.c000.snappy.parquet\n",
      "-rw-r--r--   3 itv005077 supergroup     42.6 K 2023-07-02 16:22 spark_write/part/orders/order_status=PAYMENT_REVIEW/part-00011-964c7686-1a59-4c65-89a2-560ccf621134.c000.snappy.parquet\n",
      "-rw-r--r--   3 itv005077 supergroup     42.3 K 2023-07-02 16:23 spark_write/part/orders/order_status=PAYMENT_REVIEW/part-00012-964c7686-1a59-4c65-89a2-560ccf621134.c000.snappy.parquet\n",
      "-rw-r--r--   3 itv005077 supergroup     42.4 K 2023-07-02 16:23 spark_write/part/orders/order_status=PAYMENT_REVIEW/part-00013-964c7686-1a59-4c65-89a2-560ccf621134.c000.snappy.parquet\n",
      "-rw-r--r--   3 itv005077 supergroup     34.0 K 2023-07-02 16:23 spark_write/part/orders/order_status=PAYMENT_REVIEW/part-00014-964c7686-1a59-4c65-89a2-560ccf621134.c000.snappy.parquet\n",
      "-rw-r--r--   3 itv005077 supergroup     31.3 K 2023-07-02 16:23 spark_write/part/orders/order_status=PAYMENT_REVIEW/part-00015-964c7686-1a59-4c65-89a2-560ccf621134.c000.snappy.parquet\n",
      "-rw-r--r--   3 itv005077 supergroup     32.4 K 2023-07-02 16:23 spark_write/part/orders/order_status=PAYMENT_REVIEW/part-00016-964c7686-1a59-4c65-89a2-560ccf621134.c000.snappy.parquet\n",
      "-rw-r--r--   3 itv005077 supergroup     42.1 K 2023-07-02 16:23 spark_write/part/orders/order_status=PAYMENT_REVIEW/part-00017-964c7686-1a59-4c65-89a2-560ccf621134.c000.snappy.parquet\n",
      "-rw-r--r--   3 itv005077 supergroup     43.6 K 2023-07-02 16:23 spark_write/part/orders/order_status=PAYMENT_REVIEW/part-00018-964c7686-1a59-4c65-89a2-560ccf621134.c000.snappy.parquet\n",
      "-rw-r--r--   3 itv005077 supergroup     42.5 K 2023-07-02 16:23 spark_write/part/orders/order_status=PAYMENT_REVIEW/part-00019-964c7686-1a59-4c65-89a2-560ccf621134.c000.snappy.parquet\n",
      "-rw-r--r--   3 itv005077 supergroup     42.6 K 2023-07-02 16:23 spark_write/part/orders/order_status=PAYMENT_REVIEW/part-00020-964c7686-1a59-4c65-89a2-560ccf621134.c000.snappy.parquet\n",
      "-rw-r--r--   3 itv005077 supergroup     42.0 K 2023-07-02 16:23 spark_write/part/orders/order_status=PAYMENT_REVIEW/part-00021-964c7686-1a59-4c65-89a2-560ccf621134.c000.snappy.parquet\n",
      "-rw-r--r--   3 itv005077 supergroup     35.6 K 2023-07-02 16:23 spark_write/part/orders/order_status=PAYMENT_REVIEW/part-00022-964c7686-1a59-4c65-89a2-560ccf621134.c000.snappy.parquet\n",
      "-rw-r--r--   3 itv005077 supergroup     42.3 K 2023-07-02 16:23 spark_write/part/orders/order_status=PAYMENT_REVIEW/part-00023-964c7686-1a59-4c65-89a2-560ccf621134.c000.snappy.parquet\n",
      "-rw-r--r--   3 itv005077 supergroup     42.9 K 2023-07-02 16:23 spark_write/part/orders/order_status=PAYMENT_REVIEW/part-00024-964c7686-1a59-4c65-89a2-560ccf621134.c000.snappy.parquet\n",
      "-rw-r--r--   3 itv005077 supergroup     42.8 K 2023-07-02 16:23 spark_write/part/orders/order_status=PAYMENT_REVIEW/part-00025-964c7686-1a59-4c65-89a2-560ccf621134.c000.snappy.parquet\n",
      "-rw-r--r--   3 itv005077 supergroup     42.6 K 2023-07-02 16:23 spark_write/part/orders/order_status=PAYMENT_REVIEW/part-00026-964c7686-1a59-4c65-89a2-560ccf621134.c000.snappy.parquet\n",
      "-rw-r--r--   3 itv005077 supergroup     32.9 K 2023-07-02 16:23 spark_write/part/orders/order_status=PAYMENT_REVIEW/part-00027-964c7686-1a59-4c65-89a2-560ccf621134.c000.snappy.parquet\n"
     ]
    }
   ],
   "source": [
    "!hadoop fs -ls -h spark_write/part/orders/order_status=PAYMENT_REVIEW"
   ]
  },
  {
   "cell_type": "markdown",
   "id": "c54f4c05",
   "metadata": {},
   "source": [
    "## Read the partitioned data"
   ]
  },
  {
   "cell_type": "code",
   "execution_count": 17,
   "id": "dee6a489",
   "metadata": {},
   "outputs": [],
   "source": [
    "df_orders = spark.read \\\n",
    "    .format('parquet') \\\n",
    "    .option('mode', 'dropMalformed') \\\n",
    "    .load(f'/user/{user}/spark_write/part/orders')"
   ]
  },
  {
   "cell_type": "code",
   "execution_count": 18,
   "id": "19af4ce9",
   "metadata": {},
   "outputs": [
    {
     "name": "stdout",
     "output_type": "stream",
     "text": [
      "+--------+----------+-------+------------+\n",
      "|order_id|order_date|cust_id|order_status|\n",
      "+--------+----------+-------+------------+\n",
      "|   22317|2013-12-08|   4876|    COMPLETE|\n",
      "|   22320|2013-12-08|   3752|    COMPLETE|\n",
      "|   22325|2013-12-09|   1137|    COMPLETE|\n",
      "|   22327|2013-12-09|  10077|    COMPLETE|\n",
      "|   22328|2013-12-09|    788|    COMPLETE|\n",
      "|   22334|2013-12-09|   4629|    COMPLETE|\n",
      "|   22336|2013-12-09|   4686|    COMPLETE|\n",
      "|   22345|2013-12-09|   2718|    COMPLETE|\n",
      "|   22350|2013-12-09|   9754|    COMPLETE|\n",
      "|   22351|2013-12-09|  11355|    COMPLETE|\n",
      "|   22352|2013-12-09|   4697|    COMPLETE|\n",
      "|   22354|2013-12-09|   6353|    COMPLETE|\n",
      "|   22357|2013-12-09|   2415|    COMPLETE|\n",
      "|   22360|2013-12-09|   2854|    COMPLETE|\n",
      "|   22362|2013-12-09|   8614|    COMPLETE|\n",
      "|   22366|2013-12-09|   4648|    COMPLETE|\n",
      "|   22369|2013-12-09|  10216|    COMPLETE|\n",
      "|   22373|2013-12-09|  11398|    COMPLETE|\n",
      "|   22374|2013-12-09|   4758|    COMPLETE|\n",
      "|   22378|2013-12-09|  11798|    COMPLETE|\n",
      "+--------+----------+-------+------------+\n",
      "only showing top 20 rows\n",
      "\n"
     ]
    }
   ],
   "source": [
    "df_orders.show()"
   ]
  },
  {
   "cell_type": "code",
   "execution_count": 19,
   "id": "0bfe702c",
   "metadata": {},
   "outputs": [],
   "source": [
    "df_orders.createOrReplaceTempView('orders')"
   ]
  },
  {
   "cell_type": "code",
   "execution_count": 20,
   "id": "a91e1841",
   "metadata": {},
   "outputs": [
    {
     "name": "stdout",
     "output_type": "stream",
     "text": [
      "+--------+----------+-------+--------------+\n",
      "|order_id|order_date|cust_id|  order_status|\n",
      "+--------+----------+-------+--------------+\n",
      "|   27819|2014-01-13|  11318|PAYMENT_REVIEW|\n",
      "|   27930|2014-01-14|    282|PAYMENT_REVIEW|\n",
      "|   27941|2014-01-14|   8926|PAYMENT_REVIEW|\n",
      "|   28028|2014-01-14|  11377|PAYMENT_REVIEW|\n",
      "|   28045|2014-01-14|   1417|PAYMENT_REVIEW|\n",
      "|   28347|2014-01-16|   8579|PAYMENT_REVIEW|\n",
      "|   28404|2014-01-16|   3360|PAYMENT_REVIEW|\n",
      "|   28416|2014-01-16|   8445|PAYMENT_REVIEW|\n",
      "|   28595|2014-01-17|  11497|PAYMENT_REVIEW|\n",
      "|   28597|2014-01-17|   4090|PAYMENT_REVIEW|\n",
      "|   28707|2014-01-18|   7994|PAYMENT_REVIEW|\n",
      "|   28755|2014-01-19|   3917|PAYMENT_REVIEW|\n",
      "|   28761|2014-01-19|  10841|PAYMENT_REVIEW|\n",
      "|   28798|2014-01-19|   6086|PAYMENT_REVIEW|\n",
      "|   28895|2014-01-19|   9265|PAYMENT_REVIEW|\n",
      "|   29049|2014-01-20|   7831|PAYMENT_REVIEW|\n",
      "|   29057|2014-01-20|   5928|PAYMENT_REVIEW|\n",
      "|   29134|2014-01-21|  10576|PAYMENT_REVIEW|\n",
      "|   29268|2014-01-21|   9902|PAYMENT_REVIEW|\n",
      "|   29399|2014-01-22|  11527|PAYMENT_REVIEW|\n",
      "+--------+----------+-------+--------------+\n",
      "only showing top 20 rows\n",
      "\n"
     ]
    }
   ],
   "source": [
    "spark.sql('''\n",
    "    SELECT * FROM orders\n",
    "    WHERE order_status = 'PAYMENT_REVIEW'\n",
    "''').show()"
   ]
  },
  {
   "cell_type": "code",
   "execution_count": 21,
   "id": "019c30f6",
   "metadata": {},
   "outputs": [],
   "source": [
    "spark.stop()"
   ]
  }
 ],
 "metadata": {
  "kernelspec": {
   "display_name": "Pyspark 3",
   "language": "python",
   "name": "pyspark3"
  },
  "language_info": {
   "codemirror_mode": {
    "name": "ipython",
    "version": 3
   },
   "file_extension": ".py",
   "mimetype": "text/x-python",
   "name": "python",
   "nbconvert_exporter": "python",
   "pygments_lexer": "ipython3",
   "version": "3.6.12"
  }
 },
 "nbformat": 4,
 "nbformat_minor": 5
}
