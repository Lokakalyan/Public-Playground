{
 "cells": [
  {
   "cell_type": "code",
   "execution_count": 1,
   "id": "0a99bf83",
   "metadata": {},
   "outputs": [],
   "source": [
    "import getpass as gp\n",
    "from pyspark.sql import SparkSession, functions as F, types as T"
   ]
  },
  {
   "cell_type": "code",
   "execution_count": 2,
   "id": "3c545bbf",
   "metadata": {},
   "outputs": [],
   "source": [
    "user = gp.getuser()\n",
    "spark = SparkSession.builder \\\n",
    "    .appName(f'{user}-Week-5-Assignment-3') \\\n",
    "    .config('spark.sql.warehouse.dir', f'/user/{user}/warehouse') \\\n",
    "    .config('spark.sql.catalogImplementation', 'hive') \\\n",
    "    .enableHiveSupport() \\\n",
    "    .master('yarn') \\\n",
    "    .getOrCreate()"
   ]
  },
  {
   "cell_type": "code",
   "execution_count": 3,
   "id": "cfa64676",
   "metadata": {},
   "outputs": [
    {
     "data": {
      "text/html": [
       "\n",
       "            <div>\n",
       "                <p><b>SparkSession - hive</b></p>\n",
       "                \n",
       "        <div>\n",
       "            <p><b>SparkContext</b></p>\n",
       "\n",
       "            <p><a href=\"http://g02.itversity.com:4040\">Spark UI</a></p>\n",
       "\n",
       "            <dl>\n",
       "              <dt>Version</dt>\n",
       "                <dd><code>v3.0.1</code></dd>\n",
       "              <dt>Master</dt>\n",
       "                <dd><code>yarn</code></dd>\n",
       "              <dt>AppName</dt>\n",
       "                <dd><code>itv005077-Week-5-Assignment-3</code></dd>\n",
       "            </dl>\n",
       "        </div>\n",
       "        \n",
       "            </div>\n",
       "        "
      ],
      "text/plain": [
       "<pyspark.sql.session.SparkSession at 0x7f02050a10b8>"
      ]
     },
     "execution_count": 3,
     "metadata": {},
     "output_type": "execute_result"
    }
   ],
   "source": [
    "spark"
   ]
  },
  {
   "cell_type": "code",
   "execution_count": 4,
   "id": "db0fdf0d",
   "metadata": {},
   "outputs": [
    {
     "name": "stdout",
     "output_type": "stream",
     "text": [
      "Found 1 items\n",
      "-rw-r--r--   3 itv005857 supergroup     953719 2023-04-26 16:47 /public/trendytech/retail_db/customers/part-00000\n"
     ]
    }
   ],
   "source": [
    "!hadoop fs -ls /public/trendytech/retail_db/customers"
   ]
  },
  {
   "cell_type": "code",
   "execution_count": 5,
   "id": "c7874d16",
   "metadata": {},
   "outputs": [
    {
     "name": "stdout",
     "output_type": "stream",
     "text": [
      "1,Richard,Hernandez,XXXXXXXXX,XXXXXXXXX,6303 Heather Plaza,Brownsville,TX,78521\n",
      "2,Mary,Barrett,XXXXXXXXX,XXXXXXXXX,9526 Noble Embers Ridge,Littleton,CO,80126\n",
      "3,Ann,Smith,XXXXXXXXX,XXXXXXXXX,3422 Blue Pioneer Bend,Caguas,PR,00725\n",
      "4,Mary,Jones,XXXXXXXXX,XXXXXXXXX,8324 Little Common,San Marcos,CA,92069\n",
      "5,Robert,Hudson,XXXXXXXXX,XXXXXXXXX,\"10 Crystal River Mall \",Caguas,PR,00725\n",
      "6,Mary,Smith,XXXXXXXXX,XXXXXXXXX,3151 Sleepy Quail Promenade,Passaic,NJ,07055\n",
      "7,Melissa,Wilcox,XXXXXXXXX,XXXXXXXXX,9453 High Concession,Caguas,PR,00725\n",
      "8,Megan,Smith,XXXXXXXXX,XXXXXXXXX,3047 Foggy Forest Plaza,Lawrence,MA,01841\n",
      "9,Mary,Perez,XXXXXXXXX,XXXXXXXXX,3616 Quaking Street,Caguas,PR,00725\n",
      "10,Melissa,Smith,XXXXXXXXX,XXXXXXXXX,8598 Harvest Beacon Plaza,Stafford,VA,22554\n",
      "11,Mary,Huffman,XXXXXXXXX,XXXXXXXXX,3169 Stony Woods,Caguas,PR,00725\n",
      "12,Christopher,Smith,XXXXXXXXX,XXXXXXXXX,5594 Jagged Embers By-pass,San Antonio,TX,78227\n",
      "13,Mary,Baldwin,XXXXXXXXX,XXXXXXXXX,7922 Iron Oak Gardens,Caguas,PR,00725\n",
      "14,Katherine,Smith,XXXXXXXXX,XXXXXXX"
     ]
    }
   ],
   "source": [
    "!hadoop fs -head /public/trendytech/retail_db/customers/part-00000"
   ]
  },
  {
   "cell_type": "code",
   "execution_count": 6,
   "id": "2ae0eaee",
   "metadata": {},
   "outputs": [],
   "source": [
    "schema = T.StructType([\n",
    "    T.StructField('cust_id', T.IntegerType()),\n",
    "    T.StructField('cust_fname', T.StringType()),\n",
    "    T.StructField('cust_lname', T.StringType()),\n",
    "    T.StructField('cust_email', T.StringType()),\n",
    "    T.StructField('cust_password', T.StringType()),\n",
    "    T.StructField('cust_street', T.StringType()),\n",
    "    T.StructField('cust_city', T.StringType()),\n",
    "    T.StructField('cust_state', T.StringType()),\n",
    "    T.StructField('cust_zipcode', T.StringType()),\n",
    "])"
   ]
  },
  {
   "cell_type": "code",
   "execution_count": 7,
   "id": "a704cf33",
   "metadata": {},
   "outputs": [],
   "source": [
    "df_cust = spark.read \\\n",
    "    .schema(schema) \\\n",
    "    .csv('/public/trendytech/retail_db/customers/part-00000')"
   ]
  },
  {
   "cell_type": "code",
   "execution_count": 8,
   "id": "f04d9645",
   "metadata": {},
   "outputs": [
    {
     "name": "stdout",
     "output_type": "stream",
     "text": [
      "root\n",
      " |-- cust_id: integer (nullable = true)\n",
      " |-- cust_fname: string (nullable = true)\n",
      " |-- cust_lname: string (nullable = true)\n",
      " |-- cust_email: string (nullable = true)\n",
      " |-- cust_password: string (nullable = true)\n",
      " |-- cust_street: string (nullable = true)\n",
      " |-- cust_city: string (nullable = true)\n",
      " |-- cust_state: string (nullable = true)\n",
      " |-- cust_zipcode: string (nullable = true)\n",
      "\n"
     ]
    }
   ],
   "source": [
    "df_cust.printSchema()"
   ]
  },
  {
   "cell_type": "code",
   "execution_count": 9,
   "id": "df3c885a",
   "metadata": {},
   "outputs": [
    {
     "name": "stdout",
     "output_type": "stream",
     "text": [
      "+-------+----------+----------+----------+-------------+-----------------------+-----------+----------+------------+\n",
      "|cust_id|cust_fname|cust_lname|cust_email|cust_password|cust_street            |cust_city  |cust_state|cust_zipcode|\n",
      "+-------+----------+----------+----------+-------------+-----------------------+-----------+----------+------------+\n",
      "|1      |Richard   |Hernandez |XXXXXXXXX |XXXXXXXXX    |6303 Heather Plaza     |Brownsville|TX        |78521       |\n",
      "|2      |Mary      |Barrett   |XXXXXXXXX |XXXXXXXXX    |9526 Noble Embers Ridge|Littleton  |CO        |80126       |\n",
      "|3      |Ann       |Smith     |XXXXXXXXX |XXXXXXXXX    |3422 Blue Pioneer Bend |Caguas     |PR        |00725       |\n",
      "|4      |Mary      |Jones     |XXXXXXXXX |XXXXXXXXX    |8324 Little Common     |San Marcos |CA        |92069       |\n",
      "|5      |Robert    |Hudson    |XXXXXXXXX |XXXXXXXXX    |10 Crystal River Mall  |Caguas     |PR        |00725       |\n",
      "+-------+----------+----------+----------+-------------+-----------------------+-----------+----------+------------+\n",
      "only showing top 5 rows\n",
      "\n"
     ]
    }
   ],
   "source": [
    "df_cust.show(5, truncate=False)"
   ]
  },
  {
   "cell_type": "code",
   "execution_count": 10,
   "id": "0a051631",
   "metadata": {},
   "outputs": [],
   "source": [
    "df_cust.createOrReplaceTempView('customers')"
   ]
  },
  {
   "cell_type": "code",
   "execution_count": 11,
   "id": "8d9fd128",
   "metadata": {},
   "outputs": [
    {
     "name": "stdout",
     "output_type": "stream",
     "text": [
      "+--------+---------+-----------+\n",
      "|database|tableName|isTemporary|\n",
      "+--------+---------+-----------+\n",
      "|        |customers|       true|\n",
      "+--------+---------+-----------+\n",
      "\n"
     ]
    }
   ],
   "source": [
    "spark.sql('show tables').filter('isTemporary == \"true\" and tableName == \"customers\"').show()"
   ]
  },
  {
   "cell_type": "code",
   "execution_count": 12,
   "id": "b67e3821",
   "metadata": {},
   "outputs": [
    {
     "name": "stdout",
     "output_type": "stream",
     "text": [
      "+-------+----------+----------+----------+-------------+--------------------+-----------+----------+------------+\n",
      "|cust_id|cust_fname|cust_lname|cust_email|cust_password|         cust_street|  cust_city|cust_state|cust_zipcode|\n",
      "+-------+----------+----------+----------+-------------+--------------------+-----------+----------+------------+\n",
      "|      1|   Richard| Hernandez| XXXXXXXXX|    XXXXXXXXX|  6303 Heather Plaza|Brownsville|        TX|       78521|\n",
      "|      2|      Mary|   Barrett| XXXXXXXXX|    XXXXXXXXX|9526 Noble Embers...|  Littleton|        CO|       80126|\n",
      "|      3|       Ann|     Smith| XXXXXXXXX|    XXXXXXXXX|3422 Blue Pioneer...|     Caguas|        PR|       00725|\n",
      "|      4|      Mary|     Jones| XXXXXXXXX|    XXXXXXXXX|  8324 Little Common| San Marcos|        CA|       92069|\n",
      "|      5|    Robert|    Hudson| XXXXXXXXX|    XXXXXXXXX|10 Crystal River ...|     Caguas|        PR|       00725|\n",
      "+-------+----------+----------+----------+-------------+--------------------+-----------+----------+------------+\n",
      "\n"
     ]
    }
   ],
   "source": [
    "spark.sql('select * from customers limit 5').show()"
   ]
  },
  {
   "cell_type": "markdown",
   "id": "e4db8770",
   "metadata": {},
   "source": [
    "### Find the total number of customers in each state."
   ]
  },
  {
   "cell_type": "code",
   "execution_count": 13,
   "id": "07720a42",
   "metadata": {},
   "outputs": [
    {
     "name": "stdout",
     "output_type": "stream",
     "text": [
      "+----------+-----+\n",
      "|cust_state|count|\n",
      "+----------+-----+\n",
      "|        AZ|  213|\n",
      "|        SC|   41|\n",
      "|        LA|   63|\n",
      "|        MN|   39|\n",
      "|        NJ|  219|\n",
      "|        DC|   42|\n",
      "|        OR|  119|\n",
      "|        VA|  136|\n",
      "|        RI|   15|\n",
      "|        KY|   35|\n",
      "|        MI|  254|\n",
      "|        NV|  103|\n",
      "|        WI|   64|\n",
      "|        ID|    9|\n",
      "|        CA| 2012|\n",
      "|        CT|   73|\n",
      "|        MT|    7|\n",
      "|        NC|  150|\n",
      "|        MD|  164|\n",
      "|        DE|   23|\n",
      "+----------+-----+\n",
      "only showing top 20 rows\n",
      "\n"
     ]
    }
   ],
   "source": [
    "df_cust.groupBy('cust_state').count().show()"
   ]
  },
  {
   "cell_type": "code",
   "execution_count": 14,
   "id": "b9c441ad",
   "metadata": {},
   "outputs": [
    {
     "name": "stdout",
     "output_type": "stream",
     "text": [
      "+----------+--------------+\n",
      "|cust_state|count(cust_id)|\n",
      "+----------+--------------+\n",
      "|        AZ|           213|\n",
      "|        SC|            41|\n",
      "|        LA|            63|\n",
      "|        MN|            39|\n",
      "|        NJ|           219|\n",
      "|        DC|            42|\n",
      "|        OR|           119|\n",
      "|        VA|           136|\n",
      "|        RI|            15|\n",
      "|        KY|            35|\n",
      "|        MI|           254|\n",
      "|        NV|           103|\n",
      "|        WI|            64|\n",
      "|        ID|             9|\n",
      "|        CA|          2012|\n",
      "|        CT|            73|\n",
      "|        MT|             7|\n",
      "|        NC|           150|\n",
      "|        MD|           164|\n",
      "|        DE|            23|\n",
      "+----------+--------------+\n",
      "only showing top 20 rows\n",
      "\n"
     ]
    }
   ],
   "source": [
    "spark.sql('select cust_state, count(cust_id) from customers group by cust_state').show()"
   ]
  },
  {
   "cell_type": "markdown",
   "id": "75e25943",
   "metadata": {},
   "source": [
    "### Find the top 5 most common last names among the customers."
   ]
  },
  {
   "cell_type": "code",
   "execution_count": 15,
   "id": "b435fed7",
   "metadata": {},
   "outputs": [
    {
     "name": "stdout",
     "output_type": "stream",
     "text": [
      "+----------+-----+\n",
      "|cust_lname|count|\n",
      "+----------+-----+\n",
      "|     Smith| 4626|\n",
      "|   Johnson|   76|\n",
      "|  Williams|   69|\n",
      "|     Jones|   65|\n",
      "|     Brown|   62|\n",
      "+----------+-----+\n",
      "\n"
     ]
    }
   ],
   "source": [
    "df_cust.groupBy('cust_lname').count().orderBy('count', ascending=False).limit(5).show()"
   ]
  },
  {
   "cell_type": "code",
   "execution_count": 16,
   "id": "70c6d105",
   "metadata": {},
   "outputs": [
    {
     "name": "stdout",
     "output_type": "stream",
     "text": [
      "+----------+-----+\n",
      "|cust_lname|count|\n",
      "+----------+-----+\n",
      "|     Smith| 4626|\n",
      "|   Johnson|   76|\n",
      "|  Williams|   69|\n",
      "|     Jones|   65|\n",
      "|     Brown|   62|\n",
      "+----------+-----+\n",
      "\n"
     ]
    }
   ],
   "source": [
    "spark.sql('select cust_lname, count(cust_id) as count from customers group by cust_lname order by count desc limit 5').show()"
   ]
  },
  {
   "cell_type": "markdown",
   "id": "87110661",
   "metadata": {},
   "source": [
    "### Check whether there are any customers whose zip codes are not valid (i.e., not equal to 5 digits)."
   ]
  },
  {
   "cell_type": "code",
   "execution_count": 17,
   "id": "df5e0613",
   "metadata": {},
   "outputs": [
    {
     "name": "stdout",
     "output_type": "stream",
     "text": [
      "+-------+----------+----------+----------+-------------+-----------+---------+----------+------------+\n",
      "|cust_id|cust_fname|cust_lname|cust_email|cust_password|cust_street|cust_city|cust_state|cust_zipcode|\n",
      "+-------+----------+----------+----------+-------------+-----------+---------+----------+------------+\n",
      "+-------+----------+----------+----------+-------------+-----------+---------+----------+------------+\n",
      "\n"
     ]
    }
   ],
   "source": [
    "df_cust.filter(F.length('cust_zipcode') != 5).show()"
   ]
  },
  {
   "cell_type": "code",
   "execution_count": 18,
   "id": "a6f25c3e",
   "metadata": {},
   "outputs": [
    {
     "name": "stdout",
     "output_type": "stream",
     "text": [
      "+-------+----------+----------+----------+-------------+-----------+---------+----------+------------+\n",
      "|cust_id|cust_fname|cust_lname|cust_email|cust_password|cust_street|cust_city|cust_state|cust_zipcode|\n",
      "+-------+----------+----------+----------+-------------+-----------+---------+----------+------------+\n",
      "+-------+----------+----------+----------+-------------+-----------+---------+----------+------------+\n",
      "\n"
     ]
    }
   ],
   "source": [
    "spark.sql('select * from customers where length(cust_zipcode) != 5').show()"
   ]
  },
  {
   "cell_type": "markdown",
   "id": "f6c25e68",
   "metadata": {},
   "source": [
    "### Find the number of customers from each city in the state of California(CA)."
   ]
  },
  {
   "cell_type": "code",
   "execution_count": 19,
   "id": "9e67f4be",
   "metadata": {},
   "outputs": [
    {
     "name": "stdout",
     "output_type": "stream",
     "text": [
      "+--------------+-----+\n",
      "|     cust_city|count|\n",
      "+--------------+-----+\n",
      "|   Los Angeles|  224|\n",
      "|     San Diego|  104|\n",
      "|      San Jose|   71|\n",
      "|   Bakersfield|   41|\n",
      "|     Santa Ana|   36|\n",
      "|    Long Beach|   36|\n",
      "|        Fresno|   29|\n",
      "|     Escondido|   29|\n",
      "|       Ontario|   29|\n",
      "| San Francisco|   28|\n",
      "|     Riverside|   27|\n",
      "| Mission Viejo|   26|\n",
      "|     Oceanside|   24|\n",
      "|    Sacramento|   23|\n",
      "|       Modesto|   23|\n",
      "|       Fremont|   22|\n",
      "|       Hayward|   21|\n",
      "| Moreno Valley|   21|\n",
      "|   Simi Valley|   20|\n",
      "|San Bernardino|   20|\n",
      "+--------------+-----+\n",
      "only showing top 20 rows\n",
      "\n"
     ]
    }
   ],
   "source": [
    "df_cust.filter('cust_state == \"CA\"').groupBy('cust_city').count().orderBy('count', ascending=False).show()"
   ]
  },
  {
   "cell_type": "code",
   "execution_count": 20,
   "id": "82d56558",
   "metadata": {},
   "outputs": [
    {
     "name": "stdout",
     "output_type": "stream",
     "text": [
      "+--------------+-----+\n",
      "|     cust_city|count|\n",
      "+--------------+-----+\n",
      "|   Los Angeles|  224|\n",
      "|     San Diego|  104|\n",
      "|      San Jose|   71|\n",
      "|   Bakersfield|   41|\n",
      "|     Santa Ana|   36|\n",
      "|    Long Beach|   36|\n",
      "|        Fresno|   29|\n",
      "|     Escondido|   29|\n",
      "|       Ontario|   29|\n",
      "| San Francisco|   28|\n",
      "|     Riverside|   27|\n",
      "| Mission Viejo|   26|\n",
      "|     Oceanside|   24|\n",
      "|    Sacramento|   23|\n",
      "|       Modesto|   23|\n",
      "|       Fremont|   22|\n",
      "|       Hayward|   21|\n",
      "| Moreno Valley|   21|\n",
      "|   Simi Valley|   20|\n",
      "|San Bernardino|   20|\n",
      "+--------------+-----+\n",
      "only showing top 20 rows\n",
      "\n"
     ]
    }
   ],
   "source": [
    "spark.sql('select cust_city, count(cust_id) as count from customers where cust_state = \"CA\" group by cust_city order by count desc').show()"
   ]
  },
  {
   "cell_type": "code",
   "execution_count": 21,
   "id": "96a58e06",
   "metadata": {},
   "outputs": [],
   "source": [
    "spark.stop()"
   ]
  }
 ],
 "metadata": {
  "kernelspec": {
   "display_name": "Pyspark 3",
   "language": "python",
   "name": "pyspark3"
  },
  "language_info": {
   "codemirror_mode": {
    "name": "ipython",
    "version": 3
   },
   "file_extension": ".py",
   "mimetype": "text/x-python",
   "name": "python",
   "nbconvert_exporter": "python",
   "pygments_lexer": "ipython3",
   "version": "3.6.12"
  }
 },
 "nbformat": 4,
 "nbformat_minor": 5
}
