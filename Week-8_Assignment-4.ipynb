{
 "cells": [
  {
   "cell_type": "code",
   "execution_count": 1,
   "id": "aa3ed750",
   "metadata": {},
   "outputs": [
    {
     "name": "stdout",
     "output_type": "stream",
     "text": [
      "Found 18 items\n",
      "-rw-r--r--   3 itv005857 supergroup 2362455918 2023-06-06 09:28 /public/trendytech/datasets/cust_transf.csv\n",
      "drwxr-xr-x   - itv005857 supergroup          0 2023-05-18 17:40 /public/trendytech/datasets/customer_nested\n",
      "-rw-r--r--   3 itv005857 supergroup       1319 2023-05-23 13:04 /public/trendytech/datasets/hospital.csv\n",
      "-rw-r--r--   3 itv005857 supergroup       5697 2023-06-05 02:31 /public/trendytech/datasets/hotel_data.csv\n",
      "-rw-r--r--   3 itv005857 supergroup        925 2023-05-23 13:05 /public/trendytech/datasets/library_data.json\n",
      "-rw-r--r--   3 itv005857 supergroup   25487177 2023-06-11 04:35 /public/trendytech/datasets/logdata1m.csv\n",
      "-rw-r--r--   3 itv005857 supergroup   46079587 2023-06-09 13:05 /public/trendytech/datasets/order_data.csv\n",
      "drwxr-xr-x   - itv005857 supergroup          0 2023-06-02 02:47 /public/trendytech/datasets/orders\n",
      "-rw-r--r--   3 itv005857 supergroup    7064041 2023-05-04 07:46 /public/trendytech/datasets/orders.json\n",
      "-rw-r--r--   3 itv005857 supergroup        292 2023-05-18 10:50 /public/trendytech/datasets/orders_sample1.csv\n",
      "-rw-r--r--   3 itv005857 supergroup        292 2023-05-18 10:50 /public/trendytech/datasets/orders_sample2.csv\n",
      "-rw-r--r--   3 itv005857 supergroup        296 2023-05-18 10:50 /public/trendytech/datasets/orders_sample3.csv\n",
      "drwxr-xr-x   - itv005857 supergroup          0 2023-05-04 07:54 /public/trendytech/datasets/ordersorc\n",
      "drwxr-xr-x   - itv005857 supergroup          0 2023-05-04 07:58 /public/trendytech/datasets/ordersparquet\n",
      "-rw-r--r--   3 itv005857 supergroup       1602 2023-05-23 13:05 /public/trendytech/datasets/sales_data.json\n",
      "-rw-r--r--   3 itv005857 supergroup        324 2023-05-23 13:04 /public/trendytech/datasets/train.csv\n",
      "-rw-r--r--   3 itv005857 supergroup       1353 2023-06-09 16:01 /public/trendytech/datasets/windowdata.csv\n",
      "-rw-r--r--   3 itv005857 supergroup       1317 2023-06-10 04:52 /public/trendytech/datasets/windowdatamodified.csv\n"
     ]
    }
   ],
   "source": [
    "!hadoop fs -ls /public/trendytech/datasets"
   ]
  },
  {
   "cell_type": "code",
   "execution_count": 2,
   "id": "70360d52",
   "metadata": {},
   "outputs": [
    {
     "name": "stdout",
     "output_type": "stream",
     "text": [
      "INFO,2015-8-8 20:49:22\n",
      "WARN,2015-1-14 20:05:00\n",
      "INFO,2017-6-14 00:08:35\n",
      "INFO,2016-1-18 11:50:14\n",
      "DEBUG,2017-7-1 12:55:02\n",
      "INFO,2014-2-26 12:34:21\n",
      "INFO,2015-7-12 11:13:47\n",
      "INFO,2017-4-15 01:20:18\n",
      "DEBUG,2016-11-2 20:19:23\n",
      "INFO,2012-8-20 10:09:44\n",
      "DEBUG,2014-4-22 21:30:49\n",
      "WARN,2013-12-6 17:54:15\n",
      "DEBUG,2017-1-12 10:47:02\n",
      "DEBUG,2016-6-25 11:06:42\n",
      "ERROR,2015-6-28 19:25:05\n",
      "DEBUG,2012-6-24 01:06:37\n",
      "INFO,2014-12-9 09:53:54\n",
      "DEBUG,2015-11-8 19:20:08\n",
      "INFO,2017-7-21 18:34:18\n",
      "DEBUG,2014-12-26 06:38:42\n",
      "DEBUG,2013-1-6 16:56:43\n",
      "INFO,2015-10-8 11:33:25\n",
      "INFO,2016-11-18 09:47:31\n",
      "DEBUG,2015-2-6 16:24:07\n",
      "WARN,2016-7-26 18:54:43\n",
      "INFO,2012-10-18 14:35:19\n",
      "DEBUG,2012-4-26 14:26:50\n",
      "DEBUG,2013-9-28 20:27:13\n",
      "INFO,2017-8-20 13:17:27\n",
      "INFO,2015-4-13 09:28:17\n",
      "DEBUG,2015-7-17 00:49:27\n",
      "DEBUG,2014-7-26 02:33:09\n",
      "INFO,2016-1-13 09:51:57\n",
      "DEBUG,2015-1-14 08:55:30\n",
      "DEBUG,2016-1-20 03:47:06\n",
      "DEBUG,2013-7-8 21:00:50\n",
      "DEBUG,2012-5-22 11:43:57\n",
      "DEBUG,2013-3-20 06:14:50\n",
      "DEBUG,2017-7-13 15:35:11\n",
      "DEBUG,2013-1-21 20:20:25\n",
      "DEBU"
     ]
    }
   ],
   "source": [
    "!hadoop fs -head /public/trendytech/datasets/logdata1m.csv"
   ]
  },
  {
   "cell_type": "code",
   "execution_count": 3,
   "id": "800e0632",
   "metadata": {},
   "outputs": [],
   "source": [
    "import getpass as gp\n",
    "from pyspark.sql import SparkSession, functions as F, types as T"
   ]
  },
  {
   "cell_type": "code",
   "execution_count": 4,
   "id": "b13017a5",
   "metadata": {},
   "outputs": [
    {
     "data": {
      "text/plain": [
       "'itv005077'"
      ]
     },
     "execution_count": 4,
     "metadata": {},
     "output_type": "execute_result"
    }
   ],
   "source": [
    "user = gp.getuser()\n",
    "user"
   ]
  },
  {
   "cell_type": "code",
   "execution_count": 5,
   "id": "60676b6e",
   "metadata": {},
   "outputs": [],
   "source": [
    "spark = SparkSession.builder \\\n",
    "    .appName(f'{user}-Week-8-Assignment-4') \\\n",
    "    .master('yarn') \\\n",
    "    .config('spark.sql.warehouse.dir', f'/user/{user}/warehouse') \\\n",
    "    .config('spark.sql.catalogImplementation', 'hive') \\\n",
    "    .enableHiveSupport() \\\n",
    "    .getOrCreate()"
   ]
  },
  {
   "cell_type": "code",
   "execution_count": 6,
   "id": "bb96da61",
   "metadata": {},
   "outputs": [
    {
     "data": {
      "text/html": [
       "\n",
       "            <div>\n",
       "                <p><b>SparkSession - hive</b></p>\n",
       "                \n",
       "        <div>\n",
       "            <p><b>SparkContext</b></p>\n",
       "\n",
       "            <p><a href=\"http://g02.itversity.com:4040\">Spark UI</a></p>\n",
       "\n",
       "            <dl>\n",
       "              <dt>Version</dt>\n",
       "                <dd><code>v3.0.1</code></dd>\n",
       "              <dt>Master</dt>\n",
       "                <dd><code>yarn</code></dd>\n",
       "              <dt>AppName</dt>\n",
       "                <dd><code>itv005077-Week-8-Assignment-4</code></dd>\n",
       "            </dl>\n",
       "        </div>\n",
       "        \n",
       "            </div>\n",
       "        "
      ],
      "text/plain": [
       "<pyspark.sql.session.SparkSession at 0x7f9218531ba8>"
      ]
     },
     "execution_count": 6,
     "metadata": {},
     "output_type": "execute_result"
    }
   ],
   "source": [
    "spark"
   ]
  },
  {
   "cell_type": "code",
   "execution_count": 7,
   "id": "7f0d1055",
   "metadata": {},
   "outputs": [],
   "source": [
    "schema = T.StructType([\n",
    "    T.StructField('log_level', T.StringType()),\n",
    "    T.StructField('date_time', T.TimestampType()),\n",
    "])"
   ]
  },
  {
   "cell_type": "code",
   "execution_count": 8,
   "id": "09fe5cdc",
   "metadata": {},
   "outputs": [],
   "source": [
    "df_logs = spark.read \\\n",
    "    .format('csv') \\\n",
    "    .option('delimiter', ',') \\\n",
    "    .schema(schema) \\\n",
    "    .load('/public/trendytech/datasets/logdata1m.csv')"
   ]
  },
  {
   "cell_type": "code",
   "execution_count": 9,
   "id": "6d4c458a",
   "metadata": {},
   "outputs": [
    {
     "name": "stdout",
     "output_type": "stream",
     "text": [
      "+---------+-------------------+\n",
      "|log_level|          date_time|\n",
      "+---------+-------------------+\n",
      "|     INFO|2015-08-08 20:49:22|\n",
      "|     WARN|2015-01-14 20:05:00|\n",
      "|     INFO|2017-06-14 00:08:35|\n",
      "|     INFO|2016-01-18 11:50:14|\n",
      "|    DEBUG|2017-07-01 12:55:02|\n",
      "|     INFO|2014-02-26 12:34:21|\n",
      "|     INFO|2015-07-12 11:13:47|\n",
      "|     INFO|2017-04-15 01:20:18|\n",
      "|    DEBUG|2016-11-02 20:19:23|\n",
      "|     INFO|2012-08-20 10:09:44|\n",
      "|    DEBUG|2014-04-22 21:30:49|\n",
      "|     WARN|2013-12-06 17:54:15|\n",
      "|    DEBUG|2017-01-12 10:47:02|\n",
      "|    DEBUG|2016-06-25 11:06:42|\n",
      "|    ERROR|2015-06-28 19:25:05|\n",
      "|    DEBUG|2012-06-24 01:06:37|\n",
      "|     INFO|2014-12-09 09:53:54|\n",
      "|    DEBUG|2015-11-08 19:20:08|\n",
      "|     INFO|2017-07-21 18:34:18|\n",
      "|    DEBUG|2014-12-26 06:38:42|\n",
      "+---------+-------------------+\n",
      "only showing top 20 rows\n",
      "\n"
     ]
    }
   ],
   "source": [
    "df_logs.show()"
   ]
  },
  {
   "cell_type": "code",
   "execution_count": 10,
   "id": "72f2b5da",
   "metadata": {},
   "outputs": [],
   "source": [
    "df_logs = df_logs.withColumn('month', F.date_format('date_time', 'MMMM'))"
   ]
  },
  {
   "cell_type": "code",
   "execution_count": 11,
   "id": "0c5024b4",
   "metadata": {},
   "outputs": [
    {
     "name": "stdout",
     "output_type": "stream",
     "text": [
      "+---------+-------------------+--------+\n",
      "|log_level|          date_time|   month|\n",
      "+---------+-------------------+--------+\n",
      "|     INFO|2015-08-08 20:49:22|  August|\n",
      "|     WARN|2015-01-14 20:05:00| January|\n",
      "|     INFO|2017-06-14 00:08:35|    June|\n",
      "|     INFO|2016-01-18 11:50:14| January|\n",
      "|    DEBUG|2017-07-01 12:55:02|    July|\n",
      "|     INFO|2014-02-26 12:34:21|February|\n",
      "|     INFO|2015-07-12 11:13:47|    July|\n",
      "|     INFO|2017-04-15 01:20:18|   April|\n",
      "|    DEBUG|2016-11-02 20:19:23|November|\n",
      "|     INFO|2012-08-20 10:09:44|  August|\n",
      "|    DEBUG|2014-04-22 21:30:49|   April|\n",
      "|     WARN|2013-12-06 17:54:15|December|\n",
      "|    DEBUG|2017-01-12 10:47:02| January|\n",
      "|    DEBUG|2016-06-25 11:06:42|    June|\n",
      "|    ERROR|2015-06-28 19:25:05|    June|\n",
      "|    DEBUG|2012-06-24 01:06:37|    June|\n",
      "|     INFO|2014-12-09 09:53:54|December|\n",
      "|    DEBUG|2015-11-08 19:20:08|November|\n",
      "|     INFO|2017-07-21 18:34:18|    July|\n",
      "|    DEBUG|2014-12-26 06:38:42|December|\n",
      "+---------+-------------------+--------+\n",
      "only showing top 20 rows\n",
      "\n"
     ]
    }
   ],
   "source": [
    "df_logs.show()"
   ]
  },
  {
   "cell_type": "markdown",
   "id": "acc83227",
   "metadata": {},
   "source": [
    "## Programatic Approach"
   ]
  },
  {
   "cell_type": "code",
   "execution_count": 14,
   "id": "c5a34cd1",
   "metadata": {},
   "outputs": [
    {
     "name": "stdout",
     "output_type": "stream",
     "text": [
      "+---------+---------+--------+\n",
      "|log_level|    month|count(1)|\n",
      "+---------+---------+--------+\n",
      "|    DEBUG|    April|   41869|\n",
      "|    DEBUG|   August|   42147|\n",
      "|    DEBUG| December|   41749|\n",
      "|    DEBUG| February|   41734|\n",
      "|    DEBUG|  January|   41961|\n",
      "|    DEBUG|     July|   42085|\n",
      "|    DEBUG|     June|   41774|\n",
      "|    DEBUG|    March|   41652|\n",
      "|    DEBUG|      May|   41785|\n",
      "|    DEBUG| November|   33366|\n",
      "|    DEBUG|  October|   41936|\n",
      "|    DEBUG|September|   41433|\n",
      "|    ERROR|    April|    4107|\n",
      "|    ERROR|   August|    3987|\n",
      "|    ERROR| December|    4106|\n",
      "|    ERROR| February|    4013|\n",
      "|    ERROR|  January|    4054|\n",
      "|    ERROR|     July|    3976|\n",
      "|    ERROR|     June|    4059|\n",
      "|    ERROR|    March|    4122|\n",
      "+---------+---------+--------+\n",
      "only showing top 20 rows\n",
      "\n"
     ]
    }
   ],
   "source": [
    "df_logs \\\n",
    ".groupBy('log_level', 'month') \\\n",
    ".agg(F.count('*')) \\\n",
    ".orderBy('log_level', 'month') \\\n",
    ".show()"
   ]
  },
  {
   "cell_type": "markdown",
   "id": "ffabb932",
   "metadata": {},
   "source": [
    "## SPARK SQL Approach"
   ]
  },
  {
   "cell_type": "code",
   "execution_count": 15,
   "id": "9233441a",
   "metadata": {},
   "outputs": [],
   "source": [
    "df_logs.createOrReplaceTempView('loglevels')"
   ]
  },
  {
   "cell_type": "code",
   "execution_count": 16,
   "id": "ff3c3cd5",
   "metadata": {},
   "outputs": [
    {
     "name": "stdout",
     "output_type": "stream",
     "text": [
      "+---------+---------+--------+\n",
      "|log_level|    month|count(1)|\n",
      "+---------+---------+--------+\n",
      "|    DEBUG|    April|   41869|\n",
      "|    DEBUG|   August|   42147|\n",
      "|    DEBUG| December|   41749|\n",
      "|    DEBUG| February|   41734|\n",
      "|    DEBUG|  January|   41961|\n",
      "|    DEBUG|     July|   42085|\n",
      "|    DEBUG|     June|   41774|\n",
      "|    DEBUG|    March|   41652|\n",
      "|    DEBUG|      May|   41785|\n",
      "|    DEBUG| November|   33366|\n",
      "|    DEBUG|  October|   41936|\n",
      "|    DEBUG|September|   41433|\n",
      "|    ERROR|    April|    4107|\n",
      "|    ERROR|   August|    3987|\n",
      "|    ERROR| December|    4106|\n",
      "|    ERROR| February|    4013|\n",
      "|    ERROR|  January|    4054|\n",
      "|    ERROR|     July|    3976|\n",
      "|    ERROR|     June|    4059|\n",
      "|    ERROR|    March|    4122|\n",
      "+---------+---------+--------+\n",
      "only showing top 20 rows\n",
      "\n"
     ]
    }
   ],
   "source": [
    "spark.sql('''\n",
    "    SELECT log_level, month, count(*)\n",
    "    FROM loglevels\n",
    "    GROUP BY log_level, month\n",
    "    ORDER BY log_level, month\n",
    "''') \\\n",
    ".show()"
   ]
  },
  {
   "cell_type": "markdown",
   "id": "d7fc8ce2",
   "metadata": {},
   "source": [
    "# PIVOT TABLE"
   ]
  },
  {
   "cell_type": "markdown",
   "id": "de44e794",
   "metadata": {},
   "source": [
    "## Programatic Approach"
   ]
  },
  {
   "cell_type": "code",
   "execution_count": 17,
   "id": "67243769",
   "metadata": {},
   "outputs": [
    {
     "name": "stdout",
     "output_type": "stream",
     "text": [
      "+---------+-----+------+--------+--------+-------+-----+-----+-----+-----+--------+-------+---------+\n",
      "|log_level|April|August|December|February|January| July| June|March|  May|November|October|September|\n",
      "+---------+-----+------+--------+--------+-------+-----+-----+-----+-----+--------+-------+---------+\n",
      "|     INFO|29302| 28993|   28874|   28983|  29119|29300|29143|29095|28900|   23301|  29018|    29038|\n",
      "|    ERROR| 4107|  3987|    4106|    4013|   4054| 3976| 4059| 4122| 4086|    3389|   4040|     4161|\n",
      "|     WARN| 8277|  8381|    8328|    8266|   8217| 8222| 8191| 8165| 8403|    6616|   8226|     8352|\n",
      "|    FATAL|   83|    80|      94|      72|     94|   98|   78|   70|   60|   16797|     92|       81|\n",
      "|    DEBUG|41869| 42147|   41749|   41734|  41961|42085|41774|41652|41785|   33366|  41936|    41433|\n",
      "+---------+-----+------+--------+--------+-------+-----+-----+-----+-----+--------+-------+---------+\n",
      "\n"
     ]
    }
   ],
   "source": [
    "# Sorting of Month is not possible in case of Pivot\n",
    "df_logs \\\n",
    ".groupBy('log_level') \\\n",
    ".pivot('month') \\\n",
    ".agg(F.count('*')) \\\n",
    ".show()"
   ]
  },
  {
   "cell_type": "markdown",
   "id": "9241882f",
   "metadata": {},
   "source": [
    "## Optimization Technique"
   ]
  },
  {
   "cell_type": "code",
   "execution_count": 18,
   "id": "88617b7a",
   "metadata": {},
   "outputs": [],
   "source": [
    "month_list = ['January', 'February', 'March', 'April', 'May', 'June', 'July', 'August', 'September', 'October', 'November', 'December']"
   ]
  },
  {
   "cell_type": "code",
   "execution_count": 19,
   "id": "8db35254",
   "metadata": {},
   "outputs": [
    {
     "name": "stdout",
     "output_type": "stream",
     "text": [
      "+---------+-------+--------+-----+-----+-----+-----+-----+------+---------+-------+--------+--------+\n",
      "|log_level|January|February|March|April|  May| June| July|August|September|October|November|December|\n",
      "+---------+-------+--------+-----+-----+-----+-----+-----+------+---------+-------+--------+--------+\n",
      "|     INFO|  29119|   28983|29095|29302|28900|29143|29300| 28993|    29038|  29018|   23301|   28874|\n",
      "|    ERROR|   4054|    4013| 4122| 4107| 4086| 4059| 3976|  3987|     4161|   4040|    3389|    4106|\n",
      "|     WARN|   8217|    8266| 8165| 8277| 8403| 8191| 8222|  8381|     8352|   8226|    6616|    8328|\n",
      "|    FATAL|     94|      72|   70|   83|   60|   78|   98|    80|       81|     92|   16797|      94|\n",
      "|    DEBUG|  41961|   41734|41652|41869|41785|41774|42085| 42147|    41433|  41936|   33366|   41749|\n",
      "+---------+-------+--------+-----+-----+-----+-----+-----+------+---------+-------+--------+--------+\n",
      "\n"
     ]
    }
   ],
   "source": [
    "# Sorting of Month can be done using a local list in case of Pivot\n",
    "df_logs \\\n",
    ".groupBy('log_level') \\\n",
    ".pivot('month', month_list) \\\n",
    ".agg(F.count('*')) \\\n",
    ".show()"
   ]
  },
  {
   "cell_type": "code",
   "execution_count": 20,
   "id": "752dfeaa",
   "metadata": {},
   "outputs": [],
   "source": [
    "spark.stop()"
   ]
  }
 ],
 "metadata": {
  "kernelspec": {
   "display_name": "Pyspark 3",
   "language": "python",
   "name": "pyspark3"
  },
  "language_info": {
   "codemirror_mode": {
    "name": "ipython",
    "version": 3
   },
   "file_extension": ".py",
   "mimetype": "text/x-python",
   "name": "python",
   "nbconvert_exporter": "python",
   "pygments_lexer": "ipython3",
   "version": "3.6.12"
  }
 },
 "nbformat": 4,
 "nbformat_minor": 5
}
