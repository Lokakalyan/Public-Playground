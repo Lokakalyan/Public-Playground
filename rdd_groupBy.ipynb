{
 "cells": [
  {
   "cell_type": "code",
   "execution_count": 2,
   "id": "f4c56940",
   "metadata": {},
   "outputs": [],
   "source": [
    "import getpass as gp\n",
    "from pyspark.sql import SparkSession"
   ]
  },
  {
   "cell_type": "code",
   "execution_count": 3,
   "id": "391559c3",
   "metadata": {},
   "outputs": [],
   "source": [
    "user = gp.getuser()\n",
    "spark = SparkSession \\\n",
    "            .builder \\\n",
    "            .appName(f'{user}-grouBy-Program') \\\n",
    "            .master('yarn') \\\n",
    "            .getOrCreate()"
   ]
  },
  {
   "cell_type": "code",
   "execution_count": 4,
   "id": "8ac95033",
   "metadata": {},
   "outputs": [
    {
     "data": {
      "text/html": [
       "\n",
       "            <div>\n",
       "                <p><b>SparkSession - in-memory</b></p>\n",
       "                \n",
       "        <div>\n",
       "            <p><b>SparkContext</b></p>\n",
       "\n",
       "            <p><a href=\"http://g02.itversity.com:4040\">Spark UI</a></p>\n",
       "\n",
       "            <dl>\n",
       "              <dt>Version</dt>\n",
       "                <dd><code>v3.0.1</code></dd>\n",
       "              <dt>Master</dt>\n",
       "                <dd><code>yarn</code></dd>\n",
       "              <dt>AppName</dt>\n",
       "                <dd><code>itv005077-grouBy-Program</code></dd>\n",
       "            </dl>\n",
       "        </div>\n",
       "        \n",
       "            </div>\n",
       "        "
      ],
      "text/plain": [
       "<pyspark.sql.session.SparkSession at 0x7fd2051f6160>"
      ]
     },
     "execution_count": 4,
     "metadata": {},
     "output_type": "execute_result"
    }
   ],
   "source": [
    "spark"
   ]
  },
  {
   "cell_type": "code",
   "execution_count": 9,
   "id": "2bf46666",
   "metadata": {},
   "outputs": [
    {
     "name": "stdout",
     "output_type": "stream",
     "text": [
      "-rw-r--r--   3 itv005857 supergroup  365001114 2023-04-27 16:02 /public/trendytech/bigLog.txt\n"
     ]
    }
   ],
   "source": [
    "!hadoop fs -ls /public/trendytech/bigLog.txt"
   ]
  },
  {
   "cell_type": "code",
   "execution_count": 10,
   "id": "f8dddc6b",
   "metadata": {},
   "outputs": [],
   "source": [
    "rdd_file_input = spark.sparkContext.textFile('/public/trendytech/bigLog.txt')"
   ]
  },
  {
   "cell_type": "code",
   "execution_count": 11,
   "id": "830812b2",
   "metadata": {},
   "outputs": [
    {
     "data": {
      "text/plain": [
       "['ERROR: Thu Jun 04 10:37:51 BST 2015',\n",
       " 'WARN: Sun Nov 06 10:37:51 GMT 2016',\n",
       " 'WARN: Mon Aug 29 10:37:51 BST 2016',\n",
       " 'ERROR: Thu Dec 10 10:37:51 GMT 2015',\n",
       " 'ERROR: Fri Dec 26 10:37:51 GMT 2014']"
      ]
     },
     "execution_count": 11,
     "metadata": {},
     "output_type": "execute_result"
    }
   ],
   "source": [
    "rdd_file_input.take(5)"
   ]
  },
  {
   "cell_type": "code",
   "execution_count": 18,
   "id": "4ed626ac",
   "metadata": {},
   "outputs": [],
   "source": [
    "rdd_group_dates = rdd_file_input \\\n",
    "                    .map(lambda line : line.split(':')) \\\n",
    "                    .map(lambda item : (item[0],item[1])) \\\n",
    "                    .groupByKey()"
   ]
  },
  {
   "cell_type": "code",
   "execution_count": 19,
   "id": "a36bd762",
   "metadata": {},
   "outputs": [
    {
     "data": {
      "text/plain": [
       "[('WARN', <pyspark.resultiterable.ResultIterable at 0x7fd2049ea908>),\n",
       " ('ERROR', <pyspark.resultiterable.ResultIterable at 0x7fd2049ea710>)]"
      ]
     },
     "execution_count": 19,
     "metadata": {},
     "output_type": "execute_result"
    }
   ],
   "source": [
    "rdd_group_dates.take(5)"
   ]
  },
  {
   "cell_type": "code",
   "execution_count": 20,
   "id": "9ad596cf",
   "metadata": {},
   "outputs": [],
   "source": [
    "rdd_group_count = rdd_group_dates.map(lambda item : (item[0], len(item[1])))"
   ]
  },
  {
   "cell_type": "code",
   "execution_count": 21,
   "id": "293a7f7f",
   "metadata": {},
   "outputs": [
    {
     "data": {
      "text/plain": [
       "[('WARN', 4998886), ('ERROR', 5001114)]"
      ]
     },
     "execution_count": 21,
     "metadata": {},
     "output_type": "execute_result"
    }
   ],
   "source": [
    "rdd_group_count.take(5)"
   ]
  },
  {
   "cell_type": "code",
   "execution_count": null,
   "id": "583c1e8f",
   "metadata": {},
   "outputs": [],
   "source": [
    "# end of file\n",
    "spark.stop()"
   ]
  }
 ],
 "metadata": {
  "kernelspec": {
   "display_name": "Pyspark 3",
   "language": "python",
   "name": "pyspark3"
  },
  "language_info": {
   "codemirror_mode": {
    "name": "ipython",
    "version": 3
   },
   "file_extension": ".py",
   "mimetype": "text/x-python",
   "name": "python",
   "nbconvert_exporter": "python",
   "pygments_lexer": "ipython3",
   "version": "3.6.12"
  }
 },
 "nbformat": 4,
 "nbformat_minor": 5
}
