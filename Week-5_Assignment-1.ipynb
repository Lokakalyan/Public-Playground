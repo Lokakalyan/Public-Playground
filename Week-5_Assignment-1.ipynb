{
 "cells": [
  {
   "cell_type": "code",
   "execution_count": 1,
   "id": "9b675749",
   "metadata": {},
   "outputs": [],
   "source": [
    "import getpass as gp\n",
    "from pyspark.sql import SparkSession"
   ]
  },
  {
   "cell_type": "code",
   "execution_count": 2,
   "id": "937da827",
   "metadata": {},
   "outputs": [],
   "source": [
    "user = gp.getuser()\n",
    "spark = SparkSession \\\n",
    "    .builder \\\n",
    "    .appName(f'{user}-Week-5-Assignment-1') \\\n",
    "    .config('spark.sql.warehouse.dir', f'/user/{user}/warehouse') \\\n",
    "    .config('spark.sql.catalogImplementation', 'hive') \\\n",
    "    .enableHiveSupport() \\\n",
    "    .master('yarn') \\\n",
    "    .getOrCreate()"
   ]
  },
  {
   "cell_type": "code",
   "execution_count": 3,
   "id": "8b318314",
   "metadata": {},
   "outputs": [
    {
     "data": {
      "text/html": [
       "\n",
       "            <div>\n",
       "                <p><b>SparkSession - hive</b></p>\n",
       "                \n",
       "        <div>\n",
       "            <p><b>SparkContext</b></p>\n",
       "\n",
       "            <p><a href=\"http://g02.itversity.com:4041\">Spark UI</a></p>\n",
       "\n",
       "            <dl>\n",
       "              <dt>Version</dt>\n",
       "                <dd><code>v3.0.1</code></dd>\n",
       "              <dt>Master</dt>\n",
       "                <dd><code>yarn</code></dd>\n",
       "              <dt>AppName</dt>\n",
       "                <dd><code>itv005077-Week-5-Assignment-1</code></dd>\n",
       "            </dl>\n",
       "        </div>\n",
       "        \n",
       "            </div>\n",
       "        "
      ],
      "text/plain": [
       "<pyspark.sql.session.SparkSession at 0x7efd889223c8>"
      ]
     },
     "execution_count": 3,
     "metadata": {},
     "output_type": "execute_result"
    }
   ],
   "source": [
    "spark"
   ]
  },
  {
   "cell_type": "code",
   "execution_count": 4,
   "id": "6e11a440",
   "metadata": {},
   "outputs": [
    {
     "name": "stdout",
     "output_type": "stream",
     "text": [
      "order_id,location,item,order_date,quantity\n",
      "o1,Seattle,Bananas,01/01/2017,7\n",
      "o2,Kent,Apples,02/01/2017,20\n",
      "o3,Bellevue,Flowers,02/01/2017,10\n",
      "o4,Redmond,Meat,03/01/2017,40\n",
      "o5,Seattle,Potatoes,04/01/2017,9\n",
      "o6,Bellevue,Bread,04/01/2017,5\n",
      "o7,Redmond,Bread,05/01/2017,5\n",
      "o8,Issaquah,Onion,05/01/2017,4\n",
      "o9,Redmond,Cheese,05/01/2017,15\n",
      "o10,Issaquah,Onion,06/01/2017,4\n",
      "o11,Renton,Bread,05/01/2017,5\n",
      "o12,Issaquah,Onion,07/01/2017,4\n",
      "o13,Sammamish,Bread,07/01/2017,5\n",
      "o14,Issaquah,Tomato,07/01/2017,6\n",
      "o15,Issaquah,Meat,08/01/2017,3\n",
      "o16,Issaquah,Meat,09/01/2017,5\n",
      "o17,Issaquah,Meat,10/01/2017,6\n",
      "o18,Bellevue,Bread,11/01/2017,7\n",
      "o19,Bellevue,Bread,12/01/2017,54\n",
      "o20,Bellevue,Bread,13/01/2017,34\n",
      "o21,Bellevue,Bread,14/01/2017,25\n"
     ]
    }
   ],
   "source": [
    "!hadoop fs -head /public/trendytech/groceries.csv"
   ]
  },
  {
   "cell_type": "code",
   "execution_count": 5,
   "id": "dd406062",
   "metadata": {},
   "outputs": [],
   "source": [
    "from pyspark.sql import types as T\n",
    "\n",
    "schema = T.StructType([\n",
    "    T.StructField('order_id', T.StringType()),\n",
    "    T.StructField('locaton', T.StringType()),\n",
    "    T.StructField('item', T.StringType()),\n",
    "    T.StructField('order_date', T.StringType()),\n",
    "    T.StructField('quantity', T.IntegerType()),\n",
    "])\n",
    "\n",
    "\n",
    "df_groceries = spark.read \\\n",
    "    .format('csv') \\\n",
    "    .option('header', 'true') \\\n",
    "    .schema(schema) \\\n",
    "    .option('path', '/public/trendytech/groceries.csv') \\\n",
    "    .load()"
   ]
  },
  {
   "cell_type": "code",
   "execution_count": 6,
   "id": "aa1a5412",
   "metadata": {},
   "outputs": [
    {
     "name": "stdout",
     "output_type": "stream",
     "text": [
      "root\n",
      " |-- order_id: string (nullable = true)\n",
      " |-- locaton: string (nullable = true)\n",
      " |-- item: string (nullable = true)\n",
      " |-- order_date: string (nullable = true)\n",
      " |-- quantity: integer (nullable = true)\n",
      "\n"
     ]
    }
   ],
   "source": [
    "df_groceries.printSchema()"
   ]
  },
  {
   "cell_type": "code",
   "execution_count": 7,
   "id": "9272b957",
   "metadata": {},
   "outputs": [
    {
     "name": "stdout",
     "output_type": "stream",
     "text": [
      "+--------+--------+--------+----------+--------+\n",
      "|order_id|locaton |item    |order_date|quantity|\n",
      "+--------+--------+--------+----------+--------+\n",
      "|o1      |Seattle |Bananas |01/01/2017|7       |\n",
      "|o2      |Kent    |Apples  |02/01/2017|20      |\n",
      "|o3      |Bellevue|Flowers |02/01/2017|10      |\n",
      "|o4      |Redmond |Meat    |03/01/2017|40      |\n",
      "|o5      |Seattle |Potatoes|04/01/2017|9       |\n",
      "+--------+--------+--------+----------+--------+\n",
      "only showing top 5 rows\n",
      "\n"
     ]
    }
   ],
   "source": [
    "df_groceries.show(5, truncate=False)"
   ]
  },
  {
   "cell_type": "code",
   "execution_count": 8,
   "id": "6c5e0f1f",
   "metadata": {},
   "outputs": [],
   "source": [
    "from pyspark.sql import functions as F\n",
    "df_groceries  = df_groceries.withColumn('order_date', F.to_date('order_date', 'mm/dd/yyyy'))"
   ]
  },
  {
   "cell_type": "code",
   "execution_count": 9,
   "id": "a54966dc",
   "metadata": {},
   "outputs": [
    {
     "name": "stdout",
     "output_type": "stream",
     "text": [
      "root\n",
      " |-- order_id: string (nullable = true)\n",
      " |-- locaton: string (nullable = true)\n",
      " |-- item: string (nullable = true)\n",
      " |-- order_date: date (nullable = true)\n",
      " |-- quantity: integer (nullable = true)\n",
      "\n"
     ]
    }
   ],
   "source": [
    "df_groceries.printSchema()"
   ]
  },
  {
   "cell_type": "code",
   "execution_count": 10,
   "id": "1d76af7e",
   "metadata": {},
   "outputs": [
    {
     "name": "stdout",
     "output_type": "stream",
     "text": [
      "+--------+--------+--------+----------+--------+\n",
      "|order_id|locaton |item    |order_date|quantity|\n",
      "+--------+--------+--------+----------+--------+\n",
      "|o1      |Seattle |Bananas |2017-01-01|7       |\n",
      "|o2      |Kent    |Apples  |2017-01-01|20      |\n",
      "|o3      |Bellevue|Flowers |2017-01-01|10      |\n",
      "|o4      |Redmond |Meat    |2017-01-01|40      |\n",
      "|o5      |Seattle |Potatoes|2017-01-01|9       |\n",
      "+--------+--------+--------+----------+--------+\n",
      "only showing top 5 rows\n",
      "\n"
     ]
    }
   ],
   "source": [
    "df_groceries.show(5, truncate=False)"
   ]
  },
  {
   "cell_type": "code",
   "execution_count": 11,
   "id": "6b64d604",
   "metadata": {},
   "outputs": [
    {
     "data": {
      "text/plain": [
       "[Row(order_id='o1', locaton='Seattle', item='Bananas', order_date=datetime.date(2017, 1, 1), quantity=7),\n",
       " Row(order_id='o2', locaton='Kent', item='Apples', order_date=datetime.date(2017, 1, 1), quantity=20),\n",
       " Row(order_id='o3', locaton='Bellevue', item='Flowers', order_date=datetime.date(2017, 1, 1), quantity=10),\n",
       " Row(order_id='o4', locaton='Redmond', item='Meat', order_date=datetime.date(2017, 1, 1), quantity=40),\n",
       " Row(order_id='o5', locaton='Seattle', item='Potatoes', order_date=datetime.date(2017, 1, 1), quantity=9),\n",
       " Row(order_id='o6', locaton='Bellevue', item='Bread', order_date=datetime.date(2017, 1, 1), quantity=5),\n",
       " Row(order_id='o7', locaton='Redmond', item='Bread', order_date=datetime.date(2017, 1, 1), quantity=5),\n",
       " Row(order_id='o8', locaton='Issaquah', item='Onion', order_date=datetime.date(2017, 1, 1), quantity=4),\n",
       " Row(order_id='o9', locaton='Redmond', item='Cheese', order_date=datetime.date(2017, 1, 1), quantity=15),\n",
       " Row(order_id='o10', locaton='Issaquah', item='Onion', order_date=datetime.date(2017, 1, 1), quantity=4),\n",
       " Row(order_id='o11', locaton='Renton', item='Bread', order_date=datetime.date(2017, 1, 1), quantity=5),\n",
       " Row(order_id='o12', locaton='Issaquah', item='Onion', order_date=datetime.date(2017, 1, 1), quantity=4),\n",
       " Row(order_id='o13', locaton='Sammamish', item='Bread', order_date=datetime.date(2017, 1, 1), quantity=5),\n",
       " Row(order_id='o14', locaton='Issaquah', item='Tomato', order_date=datetime.date(2017, 1, 1), quantity=6),\n",
       " Row(order_id='o15', locaton='Issaquah', item='Meat', order_date=datetime.date(2017, 1, 1), quantity=3),\n",
       " Row(order_id='o16', locaton='Issaquah', item='Meat', order_date=datetime.date(2017, 1, 1), quantity=5),\n",
       " Row(order_id='o17', locaton='Issaquah', item='Meat', order_date=datetime.date(2017, 1, 1), quantity=6),\n",
       " Row(order_id='o18', locaton='Bellevue', item='Bread', order_date=datetime.date(2017, 1, 1), quantity=7),\n",
       " Row(order_id='o19', locaton='Bellevue', item='Bread', order_date=datetime.date(2017, 1, 1), quantity=54),\n",
       " Row(order_id='o20', locaton='Bellevue', item='Bread', order_date=datetime.date(2017, 1, 1), quantity=34),\n",
       " Row(order_id='o21', locaton='Bellevue', item='Bread', order_date=datetime.date(2017, 1, 1), quantity=25)]"
      ]
     },
     "execution_count": 11,
     "metadata": {},
     "output_type": "execute_result"
    }
   ],
   "source": [
    "df_groceries.collect()"
   ]
  },
  {
   "cell_type": "code",
   "execution_count": 12,
   "id": "00f9c548",
   "metadata": {},
   "outputs": [
    {
     "name": "stdout",
     "output_type": "stream",
     "text": [
      "+---------+\n",
      "|namespace|\n",
      "+---------+\n",
      "+---------+\n",
      "\n"
     ]
    }
   ],
   "source": [
    "spark.sql('show databases').filter(\"namespace like '%itv005077%'\").show()"
   ]
  },
  {
   "cell_type": "code",
   "execution_count": 13,
   "id": "7124623c",
   "metadata": {},
   "outputs": [
    {
     "data": {
      "text/html": [
       "<table border='1'>\n",
       "<tr><th></th></tr>\n",
       "</table>\n"
      ],
      "text/plain": [
       "++\n",
       "||\n",
       "++\n",
       "++"
      ]
     },
     "execution_count": 13,
     "metadata": {},
     "output_type": "execute_result"
    }
   ],
   "source": [
    "spark.sql('create database if not exists itv005077_database')"
   ]
  },
  {
   "cell_type": "code",
   "execution_count": 14,
   "id": "ff4d25e5",
   "metadata": {},
   "outputs": [
    {
     "name": "stdout",
     "output_type": "stream",
     "text": [
      "+------------------+\n",
      "|         namespace|\n",
      "+------------------+\n",
      "|itv005077_database|\n",
      "+------------------+\n",
      "\n"
     ]
    }
   ],
   "source": [
    "spark.sql('show databases').filter(\"namespace like '%itv005077%'\").show()"
   ]
  },
  {
   "cell_type": "code",
   "execution_count": 15,
   "id": "32a1e049",
   "metadata": {},
   "outputs": [
    {
     "data": {
      "text/html": [
       "<table border='1'>\n",
       "<tr><th></th></tr>\n",
       "</table>\n"
      ],
      "text/plain": [
       "++\n",
       "||\n",
       "++\n",
       "++"
      ]
     },
     "execution_count": 15,
     "metadata": {},
     "output_type": "execute_result"
    }
   ],
   "source": [
    "spark.sql('use itv005077_database')"
   ]
  },
  {
   "cell_type": "code",
   "execution_count": 16,
   "id": "569dcfd3",
   "metadata": {},
   "outputs": [
    {
     "data": {
      "text/html": [
       "<table border='1'>\n",
       "<tr><th>database</th><th>tableName</th><th>isTemporary</th></tr>\n",
       "</table>\n"
      ],
      "text/plain": [
       "+--------+---------+-----------+\n",
       "|database|tableName|isTemporary|\n",
       "+--------+---------+-----------+\n",
       "+--------+---------+-----------+"
      ]
     },
     "execution_count": 16,
     "metadata": {},
     "output_type": "execute_result"
    }
   ],
   "source": [
    "spark.sql('show tables')"
   ]
  },
  {
   "cell_type": "code",
   "execution_count": 17,
   "id": "d6d72406",
   "metadata": {},
   "outputs": [],
   "source": [
    "df_groceries.createOrReplaceTempView('groceries')"
   ]
  },
  {
   "cell_type": "code",
   "execution_count": 18,
   "id": "9dd3c3b6",
   "metadata": {},
   "outputs": [
    {
     "name": "stdout",
     "output_type": "stream",
     "text": [
      "+----------+---------+-------+\n",
      "|  col_name|data_type|comment|\n",
      "+----------+---------+-------+\n",
      "|  order_id|   string|   null|\n",
      "|   locaton|   string|   null|\n",
      "|      item|   string|   null|\n",
      "|order_date|     date|   null|\n",
      "|  quantity|      int|   null|\n",
      "+----------+---------+-------+\n",
      "\n"
     ]
    }
   ],
   "source": [
    "spark.sql('describe extended groceries').show()"
   ]
  },
  {
   "cell_type": "code",
   "execution_count": 19,
   "id": "52719728",
   "metadata": {},
   "outputs": [
    {
     "name": "stdout",
     "output_type": "stream",
     "text": [
      "+--------+---------+-----------+\n",
      "|database|tableName|isTemporary|\n",
      "+--------+---------+-----------+\n",
      "|        |groceries|       true|\n",
      "+--------+---------+-----------+\n",
      "\n"
     ]
    }
   ],
   "source": [
    "spark.sql('show tables').show()"
   ]
  },
  {
   "cell_type": "code",
   "execution_count": 20,
   "id": "629e7eda",
   "metadata": {},
   "outputs": [
    {
     "name": "stdout",
     "output_type": "stream",
     "text": [
      "+--------+--------+--------+----------+--------+\n",
      "|order_id|locaton |item    |order_date|quantity|\n",
      "+--------+--------+--------+----------+--------+\n",
      "|o1      |Seattle |Bananas |2017-01-01|7       |\n",
      "|o2      |Kent    |Apples  |2017-01-01|20      |\n",
      "|o3      |Bellevue|Flowers |2017-01-01|10      |\n",
      "|o4      |Redmond |Meat    |2017-01-01|40      |\n",
      "|o5      |Seattle |Potatoes|2017-01-01|9       |\n",
      "+--------+--------+--------+----------+--------+\n",
      "only showing top 5 rows\n",
      "\n"
     ]
    }
   ],
   "source": [
    "spark.sql('select * from groceries').show(5, truncate=False)"
   ]
  },
  {
   "cell_type": "code",
   "execution_count": 21,
   "id": "dea8a2a6",
   "metadata": {},
   "outputs": [
    {
     "data": {
      "text/html": [
       "<table border='1'>\n",
       "<tr><th></th></tr>\n",
       "</table>\n"
      ],
      "text/plain": [
       "++\n",
       "||\n",
       "++\n",
       "++"
      ]
     },
     "execution_count": 21,
     "metadata": {},
     "output_type": "execute_result"
    }
   ],
   "source": [
    "spark.sql('create table if not exists itv005077_database.groceries_managed as select * from groceries')"
   ]
  },
  {
   "cell_type": "code",
   "execution_count": 22,
   "id": "dd1ae76f",
   "metadata": {},
   "outputs": [
    {
     "name": "stdout",
     "output_type": "stream",
     "text": [
      "+------------------+-----------------+-----------+\n",
      "|          database|        tableName|isTemporary|\n",
      "+------------------+-----------------+-----------+\n",
      "|itv005077_database|groceries_managed|      false|\n",
      "|                  |        groceries|       true|\n",
      "+------------------+-----------------+-----------+\n",
      "\n"
     ]
    }
   ],
   "source": [
    "spark.sql('show tables').show()"
   ]
  },
  {
   "cell_type": "code",
   "execution_count": 23,
   "id": "c1ecafec",
   "metadata": {},
   "outputs": [
    {
     "name": "stdout",
     "output_type": "stream",
     "text": [
      "+----------------------------+----------------------------------------------------------------------------------------------+-------+\n",
      "|col_name                    |data_type                                                                                     |comment|\n",
      "+----------------------------+----------------------------------------------------------------------------------------------+-------+\n",
      "|order_id                    |string                                                                                        |null   |\n",
      "|locaton                     |string                                                                                        |null   |\n",
      "|item                        |string                                                                                        |null   |\n",
      "|order_date                  |date                                                                                          |null   |\n",
      "|quantity                    |int                                                                                           |null   |\n",
      "|                            |                                                                                              |       |\n",
      "|# Detailed Table Information|                                                                                              |       |\n",
      "|Database                    |itv005077_database                                                                            |       |\n",
      "|Table                       |groceries_managed                                                                             |       |\n",
      "|Owner                       |itv005077                                                                                     |       |\n",
      "|Created Time                |Tue May 30 14:06:38 EDT 2023                                                                  |       |\n",
      "|Last Access                 |UNKNOWN                                                                                       |       |\n",
      "|Created By                  |Spark 3.0.1                                                                                   |       |\n",
      "|Type                        |MANAGED                                                                                       |       |\n",
      "|Provider                    |hive                                                                                          |       |\n",
      "|Table Properties            |[transient_lastDdlTime=1685470000]                                                            |       |\n",
      "|Statistics                  |666 bytes                                                                                     |       |\n",
      "|Location                    |hdfs://m01.itversity.com:9000/user/itv005077/warehouse/itv005077_database.db/groceries_managed|       |\n",
      "|Serde Library               |org.apache.hadoop.hive.serde2.lazy.LazySimpleSerDe                                            |       |\n",
      "|InputFormat                 |org.apache.hadoop.mapred.TextInputFormat                                                      |       |\n",
      "+----------------------------+----------------------------------------------------------------------------------------------+-------+\n",
      "only showing top 20 rows\n",
      "\n"
     ]
    }
   ],
   "source": [
    "spark.sql('describe extended itv005077_database.groceries_managed').show(truncate=False)"
   ]
  },
  {
   "cell_type": "code",
   "execution_count": 24,
   "id": "b60e4d57",
   "metadata": {},
   "outputs": [
    {
     "name": "stdout",
     "output_type": "stream",
     "text": [
      "Found 1 items\n",
      "drwxr-xr-x   - itv005077 supergroup          0 2023-05-30 14:06 warehouse/itv005077_database.db\n"
     ]
    }
   ],
   "source": [
    "!hadoop fs -ls warehouse"
   ]
  },
  {
   "cell_type": "code",
   "execution_count": 25,
   "id": "9abf1af1",
   "metadata": {},
   "outputs": [
    {
     "name": "stdout",
     "output_type": "stream",
     "text": [
      "Found 1 items\n",
      "drwxr-xr-x   - itv005077 supergroup          0 2023-05-30 14:06 warehouse/itv005077_database.db/groceries_managed\n"
     ]
    }
   ],
   "source": [
    "!hadoop fs -ls warehouse/itv005077_database.db"
   ]
  },
  {
   "cell_type": "code",
   "execution_count": 26,
   "id": "f59db578",
   "metadata": {},
   "outputs": [
    {
     "name": "stdout",
     "output_type": "stream",
     "text": [
      "Found 1 items\n",
      "-rwxr-xr-x   3 itv005077 supergroup        666 2023-05-30 14:06 warehouse/itv005077_database.db/groceries_managed/part-00000-9476cd06-e687-4066-ab08-a718fa3a27a1-c000\n"
     ]
    }
   ],
   "source": [
    "!hadoop fs -ls warehouse/itv005077_database.db/groceries_managed"
   ]
  },
  {
   "cell_type": "code",
   "execution_count": 27,
   "id": "0f7123f3",
   "metadata": {},
   "outputs": [
    {
     "name": "stdout",
     "output_type": "stream",
     "text": [
      "head: `warehouse/itv005077_database.db/groceries_managed/part-00000-ba781f1c-a55b-4dcf-a272-abc77d939bcf-c000': No such file or directory\n"
     ]
    }
   ],
   "source": [
    "!hadoop fs -head warehouse/itv005077_database.db/groceries_managed/part-00000-ba781f1c-a55b-4dcf-a272-abc77d939bcf-c000"
   ]
  },
  {
   "cell_type": "code",
   "execution_count": 28,
   "id": "996205a0",
   "metadata": {},
   "outputs": [
    {
     "name": "stdout",
     "output_type": "stream",
     "text": [
      "+--------+--------+--------+----------+--------+\n",
      "|order_id|locaton |item    |order_date|quantity|\n",
      "+--------+--------+--------+----------+--------+\n",
      "|o1      |Seattle |Bananas |2017-01-01|7       |\n",
      "|o2      |Kent    |Apples  |2017-01-01|20      |\n",
      "|o3      |Bellevue|Flowers |2017-01-01|10      |\n",
      "|o4      |Redmond |Meat    |2017-01-01|40      |\n",
      "|o5      |Seattle |Potatoes|2017-01-01|9       |\n",
      "+--------+--------+--------+----------+--------+\n",
      "only showing top 5 rows\n",
      "\n"
     ]
    }
   ],
   "source": [
    "spark.sql('select * from itv005077_database.groceries_managed').show(5, truncate=False)"
   ]
  },
  {
   "cell_type": "code",
   "execution_count": 29,
   "id": "dd549cb7",
   "metadata": {},
   "outputs": [
    {
     "data": {
      "text/html": [
       "<table border='1'>\n",
       "<tr><th></th></tr>\n",
       "</table>\n"
      ],
      "text/plain": [
       "++\n",
       "||\n",
       "++\n",
       "++"
      ]
     },
     "execution_count": 29,
     "metadata": {},
     "output_type": "execute_result"
    }
   ],
   "source": [
    "spark.sql('drop table itv005077_database.groceries_managed')"
   ]
  },
  {
   "cell_type": "code",
   "execution_count": 30,
   "id": "e220194e",
   "metadata": {},
   "outputs": [],
   "source": [
    "!hadoop fs -ls warehouse/itv005077_database.db"
   ]
  },
  {
   "cell_type": "code",
   "execution_count": 31,
   "id": "307d0e2c",
   "metadata": {},
   "outputs": [
    {
     "data": {
      "text/html": [
       "<table border='1'>\n",
       "<tr><th></th></tr>\n",
       "</table>\n"
      ],
      "text/plain": [
       "++\n",
       "||\n",
       "++\n",
       "++"
      ]
     },
     "execution_count": 31,
     "metadata": {},
     "output_type": "execute_result"
    }
   ],
   "source": [
    "spark.sql('drop database itv005077_database')"
   ]
  },
  {
   "cell_type": "code",
   "execution_count": 32,
   "id": "2bb8178e",
   "metadata": {},
   "outputs": [],
   "source": [
    "!hadoop fs -ls warehouse"
   ]
  },
  {
   "cell_type": "code",
   "execution_count": 33,
   "id": "aee5c6d6",
   "metadata": {},
   "outputs": [],
   "source": [
    "spark.stop()"
   ]
  }
 ],
 "metadata": {
  "kernelspec": {
   "display_name": "Pyspark 3",
   "language": "python",
   "name": "pyspark3"
  },
  "language_info": {
   "codemirror_mode": {
    "name": "ipython",
    "version": 3
   },
   "file_extension": ".py",
   "mimetype": "text/x-python",
   "name": "python",
   "nbconvert_exporter": "python",
   "pygments_lexer": "ipython3",
   "version": "3.6.12"
  }
 },
 "nbformat": 4,
 "nbformat_minor": 5
}
