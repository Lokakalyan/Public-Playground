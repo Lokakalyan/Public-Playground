{
 "cells": [
  {
   "cell_type": "code",
   "execution_count": 1,
   "id": "e1f83678",
   "metadata": {},
   "outputs": [],
   "source": [
    "import getpass as gp\n",
    "from pyspark.sql import SparkSession, functions as F"
   ]
  },
  {
   "cell_type": "code",
   "execution_count": 2,
   "id": "2ef752fc",
   "metadata": {},
   "outputs": [],
   "source": [
    "user = gp.getuser()\n",
    "spark = SparkSession.builder \\\n",
    "            .appName(f'{user}-first-dataframe-program') \\\n",
    "            .master('yarn') \\\n",
    "            .getOrCreate()"
   ]
  },
  {
   "cell_type": "code",
   "execution_count": 3,
   "id": "9d0256db",
   "metadata": {},
   "outputs": [
    {
     "data": {
      "text/html": [
       "\n",
       "            <div>\n",
       "                <p><b>SparkSession - in-memory</b></p>\n",
       "                \n",
       "        <div>\n",
       "            <p><b>SparkContext</b></p>\n",
       "\n",
       "            <p><a href=\"http://g02.itversity.com:4040\">Spark UI</a></p>\n",
       "\n",
       "            <dl>\n",
       "              <dt>Version</dt>\n",
       "                <dd><code>v3.0.1</code></dd>\n",
       "              <dt>Master</dt>\n",
       "                <dd><code>yarn</code></dd>\n",
       "              <dt>AppName</dt>\n",
       "                <dd><code>itv005077-first-dataframe-program</code></dd>\n",
       "            </dl>\n",
       "        </div>\n",
       "        \n",
       "            </div>\n",
       "        "
      ],
      "text/plain": [
       "<pyspark.sql.session.SparkSession at 0x7fb989c98908>"
      ]
     },
     "execution_count": 3,
     "metadata": {},
     "output_type": "execute_result"
    }
   ],
   "source": [
    "spark"
   ]
  },
  {
   "cell_type": "code",
   "execution_count": 4,
   "id": "2055e53e",
   "metadata": {},
   "outputs": [
    {
     "name": "stdout",
     "output_type": "stream",
     "text": [
      "Found 1 items\n",
      "-rw-r--r--   2 hdfs supergroup      1.4 G 2021-01-28 09:08 /public/crime/csv/crime_data.csv\n"
     ]
    }
   ],
   "source": [
    "!hadoop fs -ls -h /public/crime/csv"
   ]
  },
  {
   "cell_type": "code",
   "execution_count": 5,
   "id": "67df6597",
   "metadata": {},
   "outputs": [
    {
     "name": "stdout",
     "output_type": "stream",
     "text": [
      "ID,Case Number,Date,Block,IUCR,Primary Type,Description,Location Description,Arrest,Domestic,Beat,District,Ward,Community Area,FBI Code,X Coordinate,Y Coordinate,Year,Updated On,Latitude,Longitude,Location\n",
      "5679862,HN487108,07/24/2007 10:11:00 PM,054XX S ABERDEEN ST,1320,CRIMINAL DAMAGE,TO VEHICLE,STREET,false,false,0934,009,16,61,14,1169912,1868555,2007,04/15/2016 08:55:02 AM,41.794811309,-87.652466989,\"(41.794811309, -87.652466989)\"\n",
      "5679863,HN488302,07/24/2007 01:00:00 PM,082XX S TALMAN AVE,0460,BATTERY,SIMPLE,STREET,false,false,0835,008,18,70,08B,1160134,1850078,2007,04/15/2016 08:55:02 AM,41.744314668,-87.688830696,\"(41.744314668, -87.688830696)\"\n",
      "5679864,HN487195,07/24/2007 02:20:00 PM,034XX N MILWAUKEE AVE,0486,BATTERY,DOMESTIC BATTERY SIMPLE,RESIDENCE,false,true,1731,017,30,16,08B,1148204,1922490,2007,04/15/2016 08:55:02 AM,41.943259605,-87.730682304,\"(41.943259605, -87.730682304)\"\n",
      "5679865,HN484199,07/21/2007 12:30:00 PM,035XX W BELMONT AVE,0820,THEFT,$500 AND UNDER,STREET,false,false,1412,014,35,21,06,1"
     ]
    }
   ],
   "source": [
    "!hadoop fs -head /public/crime/csv/crime_data.csv"
   ]
  },
  {
   "cell_type": "code",
   "execution_count": 6,
   "id": "0dda865d",
   "metadata": {},
   "outputs": [],
   "source": [
    "df = spark.read \\\n",
    "        .format('csv') \\\n",
    "        .option(\"header\", \"true\") \\\n",
    "        .option('inferSchema', 'false') \\\n",
    "        .load('/public/crime/csv/*')"
   ]
  },
  {
   "cell_type": "code",
   "execution_count": 7,
   "id": "74a971ef",
   "metadata": {},
   "outputs": [
    {
     "name": "stdout",
     "output_type": "stream",
     "text": [
      "root\n",
      " |-- ID: string (nullable = true)\n",
      " |-- Case Number: string (nullable = true)\n",
      " |-- Date: string (nullable = true)\n",
      " |-- Block: string (nullable = true)\n",
      " |-- IUCR: string (nullable = true)\n",
      " |-- Primary Type: string (nullable = true)\n",
      " |-- Description: string (nullable = true)\n",
      " |-- Location Description: string (nullable = true)\n",
      " |-- Arrest: string (nullable = true)\n",
      " |-- Domestic: string (nullable = true)\n",
      " |-- Beat: string (nullable = true)\n",
      " |-- District: string (nullable = true)\n",
      " |-- Ward: string (nullable = true)\n",
      " |-- Community Area: string (nullable = true)\n",
      " |-- FBI Code: string (nullable = true)\n",
      " |-- X Coordinate: string (nullable = true)\n",
      " |-- Y Coordinate: string (nullable = true)\n",
      " |-- Year: string (nullable = true)\n",
      " |-- Updated On: string (nullable = true)\n",
      " |-- Latitude: string (nullable = true)\n",
      " |-- Longitude: string (nullable = true)\n",
      " |-- Location: string (nullable = true)\n",
      "\n"
     ]
    }
   ],
   "source": [
    "df.printSchema()"
   ]
  },
  {
   "cell_type": "code",
   "execution_count": 8,
   "id": "76b629a1",
   "metadata": {},
   "outputs": [
    {
     "name": "stdout",
     "output_type": "stream",
     "text": [
      "+-------+-----------+----------------------+---------------------+----+---------------+-----------------------+--------------------+------+--------+----+--------+----+--------------+--------+------------+------------+----+----------------------+------------+-------------+-----------------------------+\n",
      "|ID     |Case Number|Date                  |Block                |IUCR|Primary Type   |Description            |Location Description|Arrest|Domestic|Beat|District|Ward|Community Area|FBI Code|X Coordinate|Y Coordinate|Year|Updated On            |Latitude    |Longitude    |Location                     |\n",
      "+-------+-----------+----------------------+---------------------+----+---------------+-----------------------+--------------------+------+--------+----+--------+----+--------------+--------+------------+------------+----+----------------------+------------+-------------+-----------------------------+\n",
      "|5679862|HN487108   |07/24/2007 10:11:00 PM|054XX S ABERDEEN ST  |1320|CRIMINAL DAMAGE|TO VEHICLE             |STREET              |false |false   |0934|009     |16  |61            |14      |1169912     |1868555     |2007|04/15/2016 08:55:02 AM|41.794811309|-87.652466989|(41.794811309, -87.652466989)|\n",
      "|5679863|HN488302   |07/24/2007 01:00:00 PM|082XX S TALMAN AVE   |0460|BATTERY        |SIMPLE                 |STREET              |false |false   |0835|008     |18  |70            |08B     |1160134     |1850078     |2007|04/15/2016 08:55:02 AM|41.744314668|-87.688830696|(41.744314668, -87.688830696)|\n",
      "|5679864|HN487195   |07/24/2007 02:20:00 PM|034XX N MILWAUKEE AVE|0486|BATTERY        |DOMESTIC BATTERY SIMPLE|RESIDENCE           |false |true    |1731|017     |30  |16            |08B     |1148204     |1922490     |2007|04/15/2016 08:55:02 AM|41.943259605|-87.730682304|(41.943259605, -87.730682304)|\n",
      "|5679865|HN484199   |07/21/2007 12:30:00 PM|035XX W BELMONT AVE  |0820|THEFT          |$500 AND UNDER         |STREET              |false |false   |1412|014     |35  |21            |06      |1152064     |1921048     |2007|04/15/2016 08:55:02 AM|41.9392273  |-87.716532899|(41.9392273, -87.716532899)  |\n",
      "|5679866|HN489706   |07/26/2007 03:00:00 AM|048XX W ARGYLE ST    |1305|CRIMINAL DAMAGE|CRIMINAL DEFACEMENT    |RESIDENCE           |false |false   |1623|016     |45  |12            |14      |1143169     |1932807     |2007|04/15/2016 08:55:02 AM|41.971665985|-87.74893007 |(41.971665985, -87.74893007) |\n",
      "+-------+-----------+----------------------+---------------------+----+---------------+-----------------------+--------------------+------+--------+----+--------+----+--------------+--------+------------+------------+----+----------------------+------------+-------------+-----------------------------+\n",
      "only showing top 5 rows\n",
      "\n"
     ]
    }
   ],
   "source": [
    "df.show(5, truncate= False)"
   ]
  },
  {
   "cell_type": "markdown",
   "id": "3e252874",
   "metadata": {},
   "source": [
    "## Read JSON file"
   ]
  },
  {
   "cell_type": "code",
   "execution_count": 9,
   "id": "15548f4a",
   "metadata": {},
   "outputs": [
    {
     "name": "stdout",
     "output_type": "stream",
     "text": [
      "-rw-r--r--   3 itv005857 supergroup      6.7 M 2023-05-04 07:46 /public/trendytech/datasets/orders.json\n"
     ]
    }
   ],
   "source": [
    "!hadoop fs -ls -h /public/trendytech/datasets/orders.json"
   ]
  },
  {
   "cell_type": "code",
   "execution_count": 10,
   "id": "1ab01b6c",
   "metadata": {},
   "outputs": [
    {
     "name": "stdout",
     "output_type": "stream",
     "text": [
      "{\"order_id\":1,\"order_date\":\"2013-07-25 00:00:00.0\",\"customer_id\":11599,\"order_status\":\"CLOSED\"}\n",
      "{\"order_id\":2,\"order_date\":\"2013-07-25 00:00:00.0\",\"customer_id\":256,\"order_status\":\"PENDING_PAYMENT\"}\n",
      "{\"order_id\":3,\"order_date\":\"2013-07-25 00:00:00.0\",\"customer_id\":12111,\"order_status\":\"COMPLETE\"}\n",
      "{\"order_id\":4,\"order_date\":\"2013-07-25 00:00:00.0\",\"customer_id\":8827,\"order_status\":\"CLOSED\"}\n",
      "{\"order_id\":5,\"order_date\":\"2013-07-25 00:00:00.0\",\"customer_id\":11318,\"order_status\":\"COMPLETE\"}\n",
      "{\"order_id\":6,\"order_date\":\"2013-07-25 00:00:00.0\",\"customer_id\":7130,\"order_status\":\"COMPLETE\"}\n",
      "{\"order_id\":7,\"order_date\":\"2013-07-25 00:00:00.0\",\"customer_id\":4530,\"order_status\":\"COMPLETE\"}\n",
      "{\"order_id\":8,\"order_date\":\"2013-07-25 00:00:00.0\",\"customer_id\":2911,\"order_status\":\"PROCESSING\"}\n",
      "{\"order_id\":9,\"order_date\":\"2013-07-25 00:00:00.0\",\"customer_id\":5657,\"order_status\":\"PENDING_PAYMENT\"}\n",
      "{\"order_id\":10,\"order_date\":\"2013-07-25 00:00:00.0\",\"customer_id\":5648,\"order_status\":\"PENDING_PAYMENT\"}\n",
      "{\"order_id\":11,\"order_date\":\"201"
     ]
    }
   ],
   "source": [
    "!hadoop fs -head /public/trendytech/datasets/orders.json"
   ]
  },
  {
   "cell_type": "code",
   "execution_count": 11,
   "id": "18fed2e7",
   "metadata": {},
   "outputs": [],
   "source": [
    "df = spark.read \\\n",
    "        .json(\"/public/trendytech/datasets/orders.json\")"
   ]
  },
  {
   "cell_type": "code",
   "execution_count": 12,
   "id": "016fa43b",
   "metadata": {},
   "outputs": [
    {
     "name": "stdout",
     "output_type": "stream",
     "text": [
      "+-----------+---------------------+--------+---------------+\n",
      "|customer_id|order_date           |order_id|order_status   |\n",
      "+-----------+---------------------+--------+---------------+\n",
      "|11599      |2013-07-25 00:00:00.0|1       |CLOSED         |\n",
      "|256        |2013-07-25 00:00:00.0|2       |PENDING_PAYMENT|\n",
      "|12111      |2013-07-25 00:00:00.0|3       |COMPLETE       |\n",
      "|8827       |2013-07-25 00:00:00.0|4       |CLOSED         |\n",
      "|11318      |2013-07-25 00:00:00.0|5       |COMPLETE       |\n",
      "+-----------+---------------------+--------+---------------+\n",
      "only showing top 5 rows\n",
      "\n"
     ]
    }
   ],
   "source": [
    "df.show(5, truncate= False)"
   ]
  },
  {
   "cell_type": "markdown",
   "id": "f29e029d",
   "metadata": {},
   "source": [
    "### Read PARQUET File"
   ]
  },
  {
   "cell_type": "code",
   "execution_count": 13,
   "id": "e5bde5bb",
   "metadata": {},
   "outputs": [
    {
     "name": "stdout",
     "output_type": "stream",
     "text": [
      "Found 3 items\n",
      "-rw-r--r--   3 itv005857 supergroup          0 2023-05-04 07:58 /public/trendytech/datasets/ordersparquet/_SUCCESS\n",
      "-rw-r--r--   3 itv005857 supergroup    389.0 K 2023-05-04 07:58 /public/trendytech/datasets/ordersparquet/part-00000-95703d6e-20f5-43be-94eb-1fade70892f8-c000.snappy.parquet\n",
      "-rw-r--r--   3 itv005857 supergroup    124.4 K 2023-05-04 07:58 /public/trendytech/datasets/ordersparquet/part-00001-95703d6e-20f5-43be-94eb-1fade70892f8-c000.snappy.parquet\n"
     ]
    }
   ],
   "source": [
    "!hadoop fs -ls -h /public/trendytech/datasets/ordersparquet"
   ]
  },
  {
   "cell_type": "code",
   "execution_count": 14,
   "id": "e580ab43",
   "metadata": {},
   "outputs": [],
   "source": [
    "df = spark.read \\\n",
    "        .parquet('/public/trendytech/datasets/ordersparquet')"
   ]
  },
  {
   "cell_type": "code",
   "execution_count": 15,
   "id": "812d5b78",
   "metadata": {},
   "outputs": [
    {
     "name": "stdout",
     "output_type": "stream",
     "text": [
      "+-----------+--------------------+--------+---------------+\n",
      "|customer_id|          order_date|order_id|   order_status|\n",
      "+-----------+--------------------+--------+---------------+\n",
      "|      11599|2013-07-25 00:00:...|       1|         CLOSED|\n",
      "|        256|2013-07-25 00:00:...|       2|PENDING_PAYMENT|\n",
      "|      12111|2013-07-25 00:00:...|       3|       COMPLETE|\n",
      "|       8827|2013-07-25 00:00:...|       4|         CLOSED|\n",
      "|      11318|2013-07-25 00:00:...|       5|       COMPLETE|\n",
      "+-----------+--------------------+--------+---------------+\n",
      "only showing top 5 rows\n",
      "\n"
     ]
    }
   ],
   "source": [
    "df.show(5)"
   ]
  },
  {
   "cell_type": "markdown",
   "id": "397d49e2",
   "metadata": {},
   "source": [
    "### Read ORC File"
   ]
  },
  {
   "cell_type": "code",
   "execution_count": 16,
   "id": "c847946c",
   "metadata": {},
   "outputs": [],
   "source": [
    "df = spark.read \\\n",
    "        .orc('/public/trendytech/datasets/ordersorc')"
   ]
  },
  {
   "cell_type": "code",
   "execution_count": 17,
   "id": "7249fb20",
   "metadata": {},
   "outputs": [
    {
     "name": "stdout",
     "output_type": "stream",
     "text": [
      "+-----------+--------------------+--------+---------------+\n",
      "|customer_id|          order_date|order_id|   order_status|\n",
      "+-----------+--------------------+--------+---------------+\n",
      "|      11599|2013-07-25 00:00:...|       1|         CLOSED|\n",
      "|        256|2013-07-25 00:00:...|       2|PENDING_PAYMENT|\n",
      "|      12111|2013-07-25 00:00:...|       3|       COMPLETE|\n",
      "|       8827|2013-07-25 00:00:...|       4|         CLOSED|\n",
      "|      11318|2013-07-25 00:00:...|       5|       COMPLETE|\n",
      "+-----------+--------------------+--------+---------------+\n",
      "only showing top 5 rows\n",
      "\n"
     ]
    }
   ],
   "source": [
    "df.show(5)"
   ]
  },
  {
   "cell_type": "markdown",
   "id": "f8d3cb87",
   "metadata": {},
   "source": [
    "### Filter Rows\n",
    "1. Using where `df.where('col == val')`\n",
    "2. Using filter `df.filter('col == val`)"
   ]
  },
  {
   "cell_type": "code",
   "execution_count": 18,
   "id": "84e05006",
   "metadata": {},
   "outputs": [
    {
     "name": "stdout",
     "output_type": "stream",
     "text": [
      "+-----------+--------------------+--------+------------+\n",
      "|customer_id|          order_date|order_id|order_status|\n",
      "+-----------+--------------------+--------+------------+\n",
      "|      11599|2013-07-25 00:00:...|       1|      CLOSED|\n",
      "|      11599|2013-10-03 00:00:...|   11397|    COMPLETE|\n",
      "|      11599|2013-12-20 00:00:...|   23908|    COMPLETE|\n",
      "|      11599|2014-06-27 00:00:...|   53545|     PENDING|\n",
      "|      11599|2013-10-17 00:00:...|   59911|  PROCESSING|\n",
      "+-----------+--------------------+--------+------------+\n",
      "\n"
     ]
    }
   ],
   "source": [
    "df.where('customer_id == 11599').show(5)"
   ]
  },
  {
   "cell_type": "code",
   "execution_count": 19,
   "id": "f1035dc9",
   "metadata": {},
   "outputs": [
    {
     "name": "stdout",
     "output_type": "stream",
     "text": [
      "+-----------+--------------------+--------+------------+\n",
      "|customer_id|          order_date|order_id|order_status|\n",
      "+-----------+--------------------+--------+------------+\n",
      "|      11599|2013-07-25 00:00:...|       1|      CLOSED|\n",
      "|       8827|2013-07-25 00:00:...|       4|      CLOSED|\n",
      "|       1837|2013-07-25 00:00:...|      12|      CLOSED|\n",
      "|       1205|2013-07-25 00:00:...|      18|      CLOSED|\n",
      "|      11441|2013-07-25 00:00:...|      24|      CLOSED|\n",
      "+-----------+--------------------+--------+------------+\n",
      "only showing top 5 rows\n",
      "\n"
     ]
    }
   ],
   "source": [
    "df.filter('order_status == \"CLOSED\"').show(5)"
   ]
  },
  {
   "cell_type": "markdown",
   "id": "fd2ba0f9",
   "metadata": {},
   "source": [
    "### Create Spark Table from Dataframe (df -> table)"
   ]
  },
  {
   "cell_type": "code",
   "execution_count": 20,
   "id": "0ffcd830",
   "metadata": {},
   "outputs": [],
   "source": [
    "df.createOrReplaceTempView('orders')"
   ]
  },
  {
   "cell_type": "code",
   "execution_count": 21,
   "id": "781453df",
   "metadata": {},
   "outputs": [],
   "source": [
    "df = spark.sql('select * from orders where order_status = \"COMPLETE\"')"
   ]
  },
  {
   "cell_type": "code",
   "execution_count": 22,
   "id": "456c731e",
   "metadata": {},
   "outputs": [
    {
     "name": "stdout",
     "output_type": "stream",
     "text": [
      "+-----------+--------------------+--------+------------+\n",
      "|customer_id|          order_date|order_id|order_status|\n",
      "+-----------+--------------------+--------+------------+\n",
      "|      12111|2013-07-25 00:00:...|       3|    COMPLETE|\n",
      "|      11318|2013-07-25 00:00:...|       5|    COMPLETE|\n",
      "|       7130|2013-07-25 00:00:...|       6|    COMPLETE|\n",
      "|       4530|2013-07-25 00:00:...|       7|    COMPLETE|\n",
      "|       2568|2013-07-25 00:00:...|      15|    COMPLETE|\n",
      "|       2667|2013-07-25 00:00:...|      17|    COMPLETE|\n",
      "|        333|2013-07-25 00:00:...|      22|    COMPLETE|\n",
      "|       7562|2013-07-25 00:00:...|      26|    COMPLETE|\n",
      "|        656|2013-07-25 00:00:...|      28|    COMPLETE|\n",
      "|       3960|2013-07-25 00:00:...|      32|    COMPLETE|\n",
      "|       4840|2013-07-25 00:00:...|      35|    COMPLETE|\n",
      "|       2636|2013-07-25 00:00:...|      45|    COMPLETE|\n",
      "|      10519|2013-07-25 00:00:...|      56|    COMPLETE|\n",
      "|       1148|2013-07-25 00:00:...|      63|    COMPLETE|\n",
      "|       5903|2013-07-25 00:00:...|      65|    COMPLETE|\n",
      "|       1406|2013-07-25 00:00:...|      67|    COMPLETE|\n",
      "|       8646|2013-07-25 00:00:...|      71|    COMPLETE|\n",
      "|       4349|2013-07-25 00:00:...|      72|    COMPLETE|\n",
      "|       6898|2013-07-25 00:00:...|      76|    COMPLETE|\n",
      "|       3007|2013-07-25 00:00:...|      80|    COMPLETE|\n",
      "+-----------+--------------------+--------+------------+\n",
      "only showing top 20 rows\n",
      "\n"
     ]
    }
   ],
   "source": [
    "df.show()"
   ]
  },
  {
   "cell_type": "markdown",
   "id": "fda4151f",
   "metadata": {},
   "source": [
    "### Create Dataframe from Spark Table (table -> df)"
   ]
  },
  {
   "cell_type": "code",
   "execution_count": 23,
   "id": "e7d10c8b",
   "metadata": {},
   "outputs": [],
   "source": [
    "df = spark.read.table('orders')"
   ]
  },
  {
   "cell_type": "code",
   "execution_count": 24,
   "id": "b8655a62",
   "metadata": {},
   "outputs": [
    {
     "name": "stdout",
     "output_type": "stream",
     "text": [
      "+-----------+--------------------+--------+---------------+\n",
      "|customer_id|          order_date|order_id|   order_status|\n",
      "+-----------+--------------------+--------+---------------+\n",
      "|      11599|2013-07-25 00:00:...|       1|         CLOSED|\n",
      "|        256|2013-07-25 00:00:...|       2|PENDING_PAYMENT|\n",
      "|      12111|2013-07-25 00:00:...|       3|       COMPLETE|\n",
      "|       8827|2013-07-25 00:00:...|       4|         CLOSED|\n",
      "|      11318|2013-07-25 00:00:...|       5|       COMPLETE|\n",
      "|       7130|2013-07-25 00:00:...|       6|       COMPLETE|\n",
      "|       4530|2013-07-25 00:00:...|       7|       COMPLETE|\n",
      "|       2911|2013-07-25 00:00:...|       8|     PROCESSING|\n",
      "|       5657|2013-07-25 00:00:...|       9|PENDING_PAYMENT|\n",
      "|       5648|2013-07-25 00:00:...|      10|PENDING_PAYMENT|\n",
      "|        918|2013-07-25 00:00:...|      11| PAYMENT_REVIEW|\n",
      "|       1837|2013-07-25 00:00:...|      12|         CLOSED|\n",
      "|       9149|2013-07-25 00:00:...|      13|PENDING_PAYMENT|\n",
      "|       9842|2013-07-25 00:00:...|      14|     PROCESSING|\n",
      "|       2568|2013-07-25 00:00:...|      15|       COMPLETE|\n",
      "|       7276|2013-07-25 00:00:...|      16|PENDING_PAYMENT|\n",
      "|       2667|2013-07-25 00:00:...|      17|       COMPLETE|\n",
      "|       1205|2013-07-25 00:00:...|      18|         CLOSED|\n",
      "|       9488|2013-07-25 00:00:...|      19|PENDING_PAYMENT|\n",
      "|       9198|2013-07-25 00:00:...|      20|     PROCESSING|\n",
      "+-----------+--------------------+--------+---------------+\n",
      "only showing top 20 rows\n",
      "\n"
     ]
    }
   ],
   "source": [
    "df.show()"
   ]
  },
  {
   "cell_type": "code",
   "execution_count": 25,
   "id": "8410024e",
   "metadata": {},
   "outputs": [],
   "source": [
    "# end of file\n",
    "spark.stop()"
   ]
  }
 ],
 "metadata": {
  "kernelspec": {
   "display_name": "Pyspark 3",
   "language": "python",
   "name": "pyspark3"
  },
  "language_info": {
   "codemirror_mode": {
    "name": "ipython",
    "version": 3
   },
   "file_extension": ".py",
   "mimetype": "text/x-python",
   "name": "python",
   "nbconvert_exporter": "python",
   "pygments_lexer": "ipython3",
   "version": "3.6.12"
  }
 },
 "nbformat": 4,
 "nbformat_minor": 5
}
