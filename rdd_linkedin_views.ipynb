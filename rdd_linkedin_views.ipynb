{
 "cells": [
  {
   "cell_type": "code",
   "execution_count": 1,
   "id": "fcb2e383",
   "metadata": {},
   "outputs": [
    {
     "name": "stdout",
     "output_type": "stream",
     "text": [
      "total 4\n",
      "drwxr-xr-x 3 itv005077 students 4096 Apr 22 12:28 trendytech\n"
     ]
    }
   ],
   "source": [
    "!ls -l ~/data"
   ]
  },
  {
   "cell_type": "code",
   "execution_count": 2,
   "id": "3e9459d2",
   "metadata": {},
   "outputs": [],
   "source": [
    "!mkdir ~/data/input"
   ]
  },
  {
   "cell_type": "code",
   "execution_count": 3,
   "id": "bf4e2a86",
   "metadata": {},
   "outputs": [
    {
     "name": "stdout",
     "output_type": "stream",
     "text": [
      "total 8\n",
      "drwxr-xr-x 2 itv005077 students 4096 Apr 24 15:54 input\n",
      "drwxr-xr-x 3 itv005077 students 4096 Apr 22 12:28 trendytech\n"
     ]
    }
   ],
   "source": [
    "!ls -l ~/data"
   ]
  },
  {
   "cell_type": "code",
   "execution_count": 4,
   "id": "61e30068",
   "metadata": {},
   "outputs": [
    {
     "name": "stdout",
     "output_type": "stream",
     "text": [
      "/home/itv005077/data/input/linkedin_views.csv\n"
     ]
    }
   ],
   "source": [
    "!ls ~/data/input/linkedin_views.csv"
   ]
  },
  {
   "cell_type": "code",
   "execution_count": 20,
   "id": "ff47a781",
   "metadata": {},
   "outputs": [
    {
     "name": "stdout",
     "output_type": "stream",
     "text": [
      "1,Manasa,Sumit\n",
      "2,Deepa,Sumit\n",
      "3,Sumit,Manasa\n",
      "4,Manasa,Deepa\n",
      "5,Deepa,Manasa\n",
      "6,Shilpy,Manasa\n"
     ]
    }
   ],
   "source": [
    "!cat ~/data/input/linkedin_views.csv"
   ]
  },
  {
   "cell_type": "code",
   "execution_count": 21,
   "id": "77064851",
   "metadata": {},
   "outputs": [
    {
     "name": "stdout",
     "output_type": "stream",
     "text": [
      "Found 1 items\n",
      "-rw-r--r--   3 itv005077 supergroup      18322 2023-04-22 12:28 data/search_data.txt\n"
     ]
    }
   ],
   "source": [
    "!hadoop fs -ls data"
   ]
  },
  {
   "cell_type": "code",
   "execution_count": 22,
   "id": "7252bbfe",
   "metadata": {},
   "outputs": [],
   "source": [
    "!hadoop fs -copyFromLocal ~/data/input/linkedin_views.csv data"
   ]
  },
  {
   "cell_type": "code",
   "execution_count": 23,
   "id": "1b98d829",
   "metadata": {},
   "outputs": [
    {
     "name": "stdout",
     "output_type": "stream",
     "text": [
      "Found 2 items\n",
      "-rw-r--r--   3 itv005077 supergroup         90 2023-04-24 16:05 data/linkedin_views.csv\n",
      "-rw-r--r--   3 itv005077 supergroup      18322 2023-04-22 12:28 data/search_data.txt\n"
     ]
    }
   ],
   "source": [
    "!hadoop fs -ls data"
   ]
  },
  {
   "cell_type": "markdown",
   "id": "82ee4eb0",
   "metadata": {},
   "source": [
    "### find how many times each person's profile is viewed "
   ]
  },
  {
   "cell_type": "code",
   "execution_count": 11,
   "id": "6d366831",
   "metadata": {},
   "outputs": [],
   "source": [
    "from pyspark.sql import SparkSession"
   ]
  },
  {
   "cell_type": "code",
   "execution_count": 12,
   "id": "a181905d",
   "metadata": {},
   "outputs": [],
   "source": [
    "spark = SparkSession.builder \\\n",
    "    .master('yarn') \\\n",
    "    .appName('Linkedin-Views') \\\n",
    "    .getOrCreate()"
   ]
  },
  {
   "cell_type": "code",
   "execution_count": 13,
   "id": "0ff93ea3",
   "metadata": {},
   "outputs": [
    {
     "data": {
      "text/html": [
       "\n",
       "            <div>\n",
       "                <p><b>SparkSession - in-memory</b></p>\n",
       "                \n",
       "        <div>\n",
       "            <p><b>SparkContext</b></p>\n",
       "\n",
       "            <p><a href=\"http://g02.itversity.com:4040\">Spark UI</a></p>\n",
       "\n",
       "            <dl>\n",
       "              <dt>Version</dt>\n",
       "                <dd><code>v3.0.1</code></dd>\n",
       "              <dt>Master</dt>\n",
       "                <dd><code>yarn</code></dd>\n",
       "              <dt>AppName</dt>\n",
       "                <dd><code>Linkedin-Views</code></dd>\n",
       "            </dl>\n",
       "        </div>\n",
       "        \n",
       "            </div>\n",
       "        "
      ],
      "text/plain": [
       "<pyspark.sql.session.SparkSession at 0x7f009497bc18>"
      ]
     },
     "execution_count": 13,
     "metadata": {},
     "output_type": "execute_result"
    }
   ],
   "source": [
    "spark"
   ]
  },
  {
   "cell_type": "code",
   "execution_count": 15,
   "id": "ee65ac34",
   "metadata": {},
   "outputs": [],
   "source": [
    "sc = spark.sparkContext"
   ]
  },
  {
   "cell_type": "code",
   "execution_count": 16,
   "id": "d9ed7da1",
   "metadata": {},
   "outputs": [
    {
     "data": {
      "text/html": [
       "\n",
       "        <div>\n",
       "            <p><b>SparkContext</b></p>\n",
       "\n",
       "            <p><a href=\"http://g02.itversity.com:4040\">Spark UI</a></p>\n",
       "\n",
       "            <dl>\n",
       "              <dt>Version</dt>\n",
       "                <dd><code>v3.0.1</code></dd>\n",
       "              <dt>Master</dt>\n",
       "                <dd><code>yarn</code></dd>\n",
       "              <dt>AppName</dt>\n",
       "                <dd><code>Linkedin-Views</code></dd>\n",
       "            </dl>\n",
       "        </div>\n",
       "        "
      ],
      "text/plain": [
       "<SparkContext master=yarn appName=Linkedin-Views>"
      ]
     },
     "execution_count": 16,
     "metadata": {},
     "output_type": "execute_result"
    }
   ],
   "source": [
    "sc"
   ]
  },
  {
   "cell_type": "code",
   "execution_count": 24,
   "id": "ed791346",
   "metadata": {},
   "outputs": [],
   "source": [
    "file_read_rdd = sc.textFile('/user/itv005077/data/linkedin_views.csv')"
   ]
  },
  {
   "cell_type": "code",
   "execution_count": 25,
   "id": "7ce10173",
   "metadata": {},
   "outputs": [
    {
     "data": {
      "text/plain": [
       "['1,Manasa,Sumit',\n",
       " '2,Deepa,Sumit',\n",
       " '3,Sumit,Manasa',\n",
       " '4,Manasa,Deepa',\n",
       " '5,Deepa,Manasa']"
      ]
     },
     "execution_count": 25,
     "metadata": {},
     "output_type": "execute_result"
    }
   ],
   "source": [
    "file_read_rdd.take(5)"
   ]
  },
  {
   "cell_type": "code",
   "execution_count": 30,
   "id": "6d5646c8",
   "metadata": {},
   "outputs": [],
   "source": [
    "linkedin_rdd = file_read_rdd.map(lambda row : row.split(','))"
   ]
  },
  {
   "cell_type": "code",
   "execution_count": 31,
   "id": "b717341c",
   "metadata": {},
   "outputs": [
    {
     "data": {
      "text/plain": [
       "[['1', 'Manasa', 'Sumit'],\n",
       " ['2', 'Deepa', 'Sumit'],\n",
       " ['3', 'Sumit', 'Manasa'],\n",
       " ['4', 'Manasa', 'Deepa'],\n",
       " ['5', 'Deepa', 'Manasa']]"
      ]
     },
     "execution_count": 31,
     "metadata": {},
     "output_type": "execute_result"
    }
   ],
   "source": [
    "linkedin_rdd.take(5)"
   ]
  },
  {
   "cell_type": "code",
   "execution_count": 32,
   "id": "523133ea",
   "metadata": {},
   "outputs": [],
   "source": [
    "profile_rdd = linkedin_rdd.map(lambda col : col[2])"
   ]
  },
  {
   "cell_type": "code",
   "execution_count": 33,
   "id": "c1647fa7",
   "metadata": {},
   "outputs": [
    {
     "data": {
      "text/plain": [
       "['Sumit', 'Sumit', 'Manasa', 'Deepa', 'Manasa']"
      ]
     },
     "execution_count": 33,
     "metadata": {},
     "output_type": "execute_result"
    }
   ],
   "source": [
    "profile_rdd.take(5)"
   ]
  },
  {
   "cell_type": "code",
   "execution_count": 34,
   "id": "0063270f",
   "metadata": {},
   "outputs": [],
   "source": [
    "individual_view_rdd = profile_rdd.countByValue()"
   ]
  },
  {
   "cell_type": "code",
   "execution_count": 35,
   "id": "47b7fc86",
   "metadata": {},
   "outputs": [
    {
     "data": {
      "text/plain": [
       "defaultdict(int, {'Sumit': 2, 'Manasa': 3, 'Deepa': 1})"
      ]
     },
     "execution_count": 35,
     "metadata": {},
     "output_type": "execute_result"
    }
   ],
   "source": [
    "individual_view_rdd"
   ]
  },
  {
   "cell_type": "code",
   "execution_count": 37,
   "id": "7f407221",
   "metadata": {},
   "outputs": [
    {
     "name": "stdout",
     "output_type": "stream",
     "text": [
      "Sumit's profile has been viewed 2 times\n",
      "Manasa's profile has been viewed 3 times\n",
      "Deepa's profile has been viewed 1 times\n"
     ]
    }
   ],
   "source": [
    "for profile, no_views in individual_view_rdd.items():\n",
    "    print(f'{profile}\\'s profile has been viewed {no_views} times')"
   ]
  },
  {
   "cell_type": "markdown",
   "id": "716d64e4",
   "metadata": {},
   "source": [
    "### alternate approach"
   ]
  },
  {
   "cell_type": "code",
   "execution_count": 38,
   "id": "19ec0231",
   "metadata": {},
   "outputs": [],
   "source": [
    "individual_view_rdd1 = profile_rdd.map(lambda profile : (profile,1))"
   ]
  },
  {
   "cell_type": "code",
   "execution_count": 39,
   "id": "838a0b7b",
   "metadata": {},
   "outputs": [
    {
     "data": {
      "text/plain": [
       "[('Sumit', 1), ('Sumit', 1), ('Manasa', 1), ('Deepa', 1), ('Manasa', 1)]"
      ]
     },
     "execution_count": 39,
     "metadata": {},
     "output_type": "execute_result"
    }
   ],
   "source": [
    "individual_view_rdd1.take(5)"
   ]
  },
  {
   "cell_type": "code",
   "execution_count": 40,
   "id": "cf7f0a57",
   "metadata": {},
   "outputs": [],
   "source": [
    "views_per_profile_rdd = individual_view_rdd1.reduceByKey(lambda x,y : x+y)"
   ]
  },
  {
   "cell_type": "code",
   "execution_count": 41,
   "id": "5d1fc91f",
   "metadata": {},
   "outputs": [
    {
     "data": {
      "text/plain": [
       "[('Sumit', 2), ('Deepa', 1), ('Manasa', 3)]"
      ]
     },
     "execution_count": 41,
     "metadata": {},
     "output_type": "execute_result"
    }
   ],
   "source": [
    "views_per_profile_rdd.take(5)"
   ]
  },
  {
   "cell_type": "code",
   "execution_count": 42,
   "id": "173d39f6",
   "metadata": {},
   "outputs": [],
   "source": [
    "views = views_per_profile_rdd.collect()"
   ]
  },
  {
   "cell_type": "code",
   "execution_count": 43,
   "id": "1031577f",
   "metadata": {},
   "outputs": [
    {
     "data": {
      "text/plain": [
       "[('Sumit', 2), ('Deepa', 1), ('Manasa', 3)]"
      ]
     },
     "execution_count": 43,
     "metadata": {},
     "output_type": "execute_result"
    }
   ],
   "source": [
    "views"
   ]
  },
  {
   "cell_type": "code",
   "execution_count": 44,
   "id": "a9a5ed31",
   "metadata": {},
   "outputs": [
    {
     "name": "stdout",
     "output_type": "stream",
     "text": [
      "Sumit's profile has been viewed 2 times\n",
      "Deepa's profile has been viewed 1 times\n",
      "Manasa's profile has been viewed 3 times\n"
     ]
    }
   ],
   "source": [
    "for profile, no_views in views:\n",
    "    print(f'{profile}\\'s profile has been viewed {no_views} times')"
   ]
  },
  {
   "cell_type": "code",
   "execution_count": null,
   "id": "d50d6a8f",
   "metadata": {},
   "outputs": [],
   "source": []
  }
 ],
 "metadata": {
  "kernelspec": {
   "display_name": "Pyspark 3",
   "language": "python",
   "name": "pyspark3"
  },
  "language_info": {
   "codemirror_mode": {
    "name": "ipython",
    "version": 3
   },
   "file_extension": ".py",
   "mimetype": "text/x-python",
   "name": "python",
   "nbconvert_exporter": "python",
   "pygments_lexer": "ipython3",
   "version": "3.6.12"
  }
 },
 "nbformat": 4,
 "nbformat_minor": 5
}
