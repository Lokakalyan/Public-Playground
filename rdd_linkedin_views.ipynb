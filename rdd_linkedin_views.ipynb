{
 "cells": [
  {
   "cell_type": "code",
   "execution_count": 1,
   "id": "36faffba",
   "metadata": {},
   "outputs": [
    {
     "name": "stdout",
     "output_type": "stream",
     "text": [
      "total 4\n",
      "drwxr-xr-x 3 itv005077 students 4096 Apr 29 05:40 notebooks\n"
     ]
    }
   ],
   "source": [
    "!ls -l ~/"
   ]
  },
  {
   "cell_type": "code",
   "execution_count": 3,
   "id": "24b497ee",
   "metadata": {},
   "outputs": [],
   "source": [
    "!mkdir -p ~/data/input"
   ]
  },
  {
   "cell_type": "code",
   "execution_count": 4,
   "id": "3a091d12",
   "metadata": {},
   "outputs": [
    {
     "name": "stdout",
     "output_type": "stream",
     "text": [
      "total 4\n",
      "drwxr-xr-x 2 itv005077 students 4096 Apr 29 05:42 input\n"
     ]
    }
   ],
   "source": [
    "!ls -l ~/data"
   ]
  },
  {
   "cell_type": "markdown",
   "id": "10be4376",
   "metadata": {},
   "source": [
    "### Go to terminal:\n",
    "1. cd ~/data/input\n",
    "2. vi linkedin_views.csv\n",
    "3. press 'i'\n",
    "4. paste \n",
    "1,Manasa,Sumit\n",
    "2,Deepa,Sumit\n",
    "3,Sumit,Manasa\n",
    "4,Manasa,Deepa\n",
    "5,Deepa,Manasa\n",
    "6,Shilpy,Manasa\n",
    "5. press ':wq!'\n"
   ]
  },
  {
   "cell_type": "code",
   "execution_count": 6,
   "id": "a957cf6e",
   "metadata": {},
   "outputs": [
    {
     "name": "stdout",
     "output_type": "stream",
     "text": [
      "/home/itv005077/data/input/linkedin_views.csv\n"
     ]
    }
   ],
   "source": [
    "!ls ~/data/input/linkedin_views.csv"
   ]
  },
  {
   "cell_type": "code",
   "execution_count": 7,
   "id": "6148cde7",
   "metadata": {},
   "outputs": [
    {
     "name": "stdout",
     "output_type": "stream",
     "text": [
      "1,Manasa,Sumit\n",
      "2,Deepa,Sumit\n",
      "3,Sumit,Manasa\n",
      "4,Manasa,Deepa\n",
      "5,Deepa,Manasa\n",
      "6,Shilpy,Manasa\n"
     ]
    }
   ],
   "source": [
    "!cat ~/data/input/linkedin_views.csv"
   ]
  },
  {
   "cell_type": "code",
   "execution_count": 8,
   "id": "559bb943",
   "metadata": {},
   "outputs": [
    {
     "name": "stdout",
     "output_type": "stream",
     "text": [
      "Found 2 items\n",
      "drwx------   - itv005077 supergroup          0 2023-04-15 10:10 .Trash\n",
      "drwxr-xr-x   - itv005077 supergroup          0 2023-04-29 05:40 .sparkStaging\n"
     ]
    }
   ],
   "source": [
    "!hadoop fs -ls"
   ]
  },
  {
   "cell_type": "code",
   "execution_count": 9,
   "id": "30f20f4f",
   "metadata": {},
   "outputs": [],
   "source": [
    "!hadoop fs -mkdir -p data/input"
   ]
  },
  {
   "cell_type": "code",
   "execution_count": 10,
   "id": "0e3ae5d0",
   "metadata": {},
   "outputs": [
    {
     "name": "stdout",
     "output_type": "stream",
     "text": [
      "Found 1 items\n",
      "drwxr-xr-x   - itv005077 supergroup          0 2023-04-29 06:02 data/input\n"
     ]
    }
   ],
   "source": [
    "!hadoop fs -ls data"
   ]
  },
  {
   "cell_type": "code",
   "execution_count": 11,
   "id": "eae51668",
   "metadata": {},
   "outputs": [],
   "source": [
    "!hadoop fs -copyFromLocal ~/data/input/linkedin_views.csv data/input"
   ]
  },
  {
   "cell_type": "code",
   "execution_count": 12,
   "id": "509303b9",
   "metadata": {},
   "outputs": [
    {
     "name": "stdout",
     "output_type": "stream",
     "text": [
      "Found 1 items\n",
      "-rw-r--r--   3 itv005077 supergroup         90 2023-04-29 06:03 data/input/linkedin_views.csv\n"
     ]
    }
   ],
   "source": [
    "!hadoop fs -ls data/input"
   ]
  },
  {
   "cell_type": "markdown",
   "id": "db9c185c",
   "metadata": {},
   "source": [
    "## Find how many times each person's profile is viewed "
   ]
  },
  {
   "cell_type": "code",
   "execution_count": 13,
   "id": "bf61daab",
   "metadata": {},
   "outputs": [],
   "source": [
    "import getpass as gp\n",
    "from pyspark.sql import SparkSession"
   ]
  },
  {
   "cell_type": "code",
   "execution_count": 14,
   "id": "a1d00f4c",
   "metadata": {},
   "outputs": [],
   "source": [
    "user_name = gp.getuser()\n",
    "spark = SparkSession.builder \\\n",
    "    .appName(f'{user_name}-linkedin-view-program') \\\n",
    "    .master('yarn') \\\n",
    "    .getOrCreate()"
   ]
  },
  {
   "cell_type": "code",
   "execution_count": 15,
   "id": "c49fa413",
   "metadata": {},
   "outputs": [
    {
     "data": {
      "text/html": [
       "\n",
       "            <div>\n",
       "                <p><b>SparkSession - in-memory</b></p>\n",
       "                \n",
       "        <div>\n",
       "            <p><b>SparkContext</b></p>\n",
       "\n",
       "            <p><a href=\"http://g02.itversity.com:4040\">Spark UI</a></p>\n",
       "\n",
       "            <dl>\n",
       "              <dt>Version</dt>\n",
       "                <dd><code>v3.0.1</code></dd>\n",
       "              <dt>Master</dt>\n",
       "                <dd><code>yarn</code></dd>\n",
       "              <dt>AppName</dt>\n",
       "                <dd><code>itv005077-linkedin-view-program</code></dd>\n",
       "            </dl>\n",
       "        </div>\n",
       "        \n",
       "            </div>\n",
       "        "
      ],
      "text/plain": [
       "<pyspark.sql.session.SparkSession at 0x7f9328bb6198>"
      ]
     },
     "execution_count": 15,
     "metadata": {},
     "output_type": "execute_result"
    }
   ],
   "source": [
    "spark"
   ]
  },
  {
   "cell_type": "code",
   "execution_count": 16,
   "id": "7fd37fbc",
   "metadata": {},
   "outputs": [],
   "source": [
    "sc = spark.sparkContext"
   ]
  },
  {
   "cell_type": "code",
   "execution_count": 17,
   "id": "25179925",
   "metadata": {},
   "outputs": [
    {
     "data": {
      "text/html": [
       "\n",
       "        <div>\n",
       "            <p><b>SparkContext</b></p>\n",
       "\n",
       "            <p><a href=\"http://g02.itversity.com:4040\">Spark UI</a></p>\n",
       "\n",
       "            <dl>\n",
       "              <dt>Version</dt>\n",
       "                <dd><code>v3.0.1</code></dd>\n",
       "              <dt>Master</dt>\n",
       "                <dd><code>yarn</code></dd>\n",
       "              <dt>AppName</dt>\n",
       "                <dd><code>itv005077-linkedin-view-program</code></dd>\n",
       "            </dl>\n",
       "        </div>\n",
       "        "
      ],
      "text/plain": [
       "<SparkContext master=yarn appName=itv005077-linkedin-view-program>"
      ]
     },
     "execution_count": 17,
     "metadata": {},
     "output_type": "execute_result"
    }
   ],
   "source": [
    "sc"
   ]
  },
  {
   "cell_type": "markdown",
   "id": "c7961dce",
   "metadata": {},
   "source": [
    "### Create RDD's"
   ]
  },
  {
   "cell_type": "code",
   "execution_count": 19,
   "id": "7aad201b",
   "metadata": {},
   "outputs": [],
   "source": [
    "FILE_PATH = f'/user/{user_name}/data'"
   ]
  },
  {
   "cell_type": "code",
   "execution_count": 20,
   "id": "5da490b8",
   "metadata": {},
   "outputs": [],
   "source": [
    "rdd_file_read = sc.textFile(f'{FILE_PATH}/input/linkedin_views.csv')"
   ]
  },
  {
   "cell_type": "code",
   "execution_count": 21,
   "id": "2f4ee155",
   "metadata": {},
   "outputs": [
    {
     "data": {
      "text/plain": [
       "['1,Manasa,Sumit',\n",
       " '2,Deepa,Sumit',\n",
       " '3,Sumit,Manasa',\n",
       " '4,Manasa,Deepa',\n",
       " '5,Deepa,Manasa']"
      ]
     },
     "execution_count": 21,
     "metadata": {},
     "output_type": "execute_result"
    }
   ],
   "source": [
    "rdd_file_read.take(5)"
   ]
  },
  {
   "cell_type": "code",
   "execution_count": 22,
   "id": "8cf3d958",
   "metadata": {},
   "outputs": [],
   "source": [
    "rdd_split_file_read = rdd_file_read.map(lambda row : row.split(','))"
   ]
  },
  {
   "cell_type": "code",
   "execution_count": 23,
   "id": "875c2519",
   "metadata": {},
   "outputs": [
    {
     "data": {
      "text/plain": [
       "[['1', 'Manasa', 'Sumit'],\n",
       " ['2', 'Deepa', 'Sumit'],\n",
       " ['3', 'Sumit', 'Manasa'],\n",
       " ['4', 'Manasa', 'Deepa'],\n",
       " ['5', 'Deepa', 'Manasa']]"
      ]
     },
     "execution_count": 23,
     "metadata": {},
     "output_type": "execute_result"
    }
   ],
   "source": [
    "rdd_split_file_read.take(5)"
   ]
  },
  {
   "cell_type": "code",
   "execution_count": 24,
   "id": "d9b72a21",
   "metadata": {},
   "outputs": [],
   "source": [
    "rdd_profile_file_read = rdd_split_file_read.map(lambda col : col[2])"
   ]
  },
  {
   "cell_type": "code",
   "execution_count": 25,
   "id": "519b2fa3",
   "metadata": {},
   "outputs": [
    {
     "data": {
      "text/plain": [
       "['Sumit', 'Sumit', 'Manasa', 'Deepa', 'Manasa']"
      ]
     },
     "execution_count": 25,
     "metadata": {},
     "output_type": "execute_result"
    }
   ],
   "source": [
    "rdd_profile_file_read.take(5)"
   ]
  },
  {
   "cell_type": "code",
   "execution_count": 27,
   "id": "9b099cbf",
   "metadata": {},
   "outputs": [],
   "source": [
    "output = rdd_profile_file_read.countByValue()"
   ]
  },
  {
   "cell_type": "code",
   "execution_count": 28,
   "id": "35a968a8",
   "metadata": {},
   "outputs": [
    {
     "data": {
      "text/plain": [
       "defaultdict(int, {'Sumit': 2, 'Manasa': 3, 'Deepa': 1})"
      ]
     },
     "execution_count": 28,
     "metadata": {},
     "output_type": "execute_result"
    }
   ],
   "source": [
    "output"
   ]
  },
  {
   "cell_type": "code",
   "execution_count": 29,
   "id": "ec1fc4c7",
   "metadata": {},
   "outputs": [
    {
     "name": "stdout",
     "output_type": "stream",
     "text": [
      "Sumit's profile has been viewed 2 times\n",
      "Manasa's profile has been viewed 3 times\n",
      "Deepa's profile has been viewed 1 times\n"
     ]
    }
   ],
   "source": [
    "for profile, no_views in output.items():\n",
    "    print(f'{profile}\\'s profile has been viewed {no_views} times')"
   ]
  },
  {
   "cell_type": "markdown",
   "id": "6bf56318",
   "metadata": {},
   "source": [
    "### alternate approach"
   ]
  },
  {
   "cell_type": "code",
   "execution_count": 30,
   "id": "48171391",
   "metadata": {},
   "outputs": [],
   "source": [
    "rdd_individual_view = rdd_profile_file_read.map(lambda profile : (profile,1))"
   ]
  },
  {
   "cell_type": "code",
   "execution_count": 31,
   "id": "54674bb6",
   "metadata": {},
   "outputs": [
    {
     "data": {
      "text/plain": [
       "[('Sumit', 1), ('Sumit', 1), ('Manasa', 1), ('Deepa', 1), ('Manasa', 1)]"
      ]
     },
     "execution_count": 31,
     "metadata": {},
     "output_type": "execute_result"
    }
   ],
   "source": [
    "rdd_individual_view.take(5)"
   ]
  },
  {
   "cell_type": "code",
   "execution_count": 32,
   "id": "04878876",
   "metadata": {},
   "outputs": [],
   "source": [
    "rdd_reduce_individual_view = rdd_individual_view.reduceByKey(lambda x,y : x+y)"
   ]
  },
  {
   "cell_type": "code",
   "execution_count": 33,
   "id": "69c9498b",
   "metadata": {},
   "outputs": [
    {
     "data": {
      "text/plain": [
       "[('Sumit', 2), ('Deepa', 1), ('Manasa', 3)]"
      ]
     },
     "execution_count": 33,
     "metadata": {},
     "output_type": "execute_result"
    }
   ],
   "source": [
    "rdd_reduce_individual_view.take(5)"
   ]
  },
  {
   "cell_type": "code",
   "execution_count": 34,
   "id": "d512cb2c",
   "metadata": {},
   "outputs": [],
   "source": [
    "output = rdd_reduce_individual_view.collect()"
   ]
  },
  {
   "cell_type": "code",
   "execution_count": 36,
   "id": "ae4abbc9",
   "metadata": {},
   "outputs": [
    {
     "data": {
      "text/plain": [
       "[('Sumit', 2), ('Deepa', 1), ('Manasa', 3)]"
      ]
     },
     "execution_count": 36,
     "metadata": {},
     "output_type": "execute_result"
    }
   ],
   "source": [
    "output"
   ]
  },
  {
   "cell_type": "code",
   "execution_count": 37,
   "id": "b5fda9d5",
   "metadata": {},
   "outputs": [
    {
     "name": "stdout",
     "output_type": "stream",
     "text": [
      "Sumit's profile has been viewed 2 times\n",
      "Deepa's profile has been viewed 1 times\n",
      "Manasa's profile has been viewed 3 times\n"
     ]
    }
   ],
   "source": [
    "for profile, no_views in output:\n",
    "    print(f'{profile}\\'s profile has been viewed {no_views} times')"
   ]
  },
  {
   "cell_type": "code",
   "execution_count": 38,
   "id": "2e00584e",
   "metadata": {},
   "outputs": [],
   "source": [
    "sc.stop()\n",
    "spark.stop()"
   ]
  },
  {
   "cell_type": "markdown",
   "id": "b5865b65",
   "metadata": {},
   "source": [
    "### Deleting working directories from both local and hdfs"
   ]
  },
  {
   "cell_type": "code",
   "execution_count": 39,
   "id": "3a7da3e1",
   "metadata": {},
   "outputs": [
    {
     "name": "stdout",
     "output_type": "stream",
     "text": [
      "total 4\n",
      "drwxr-xr-x 2 itv005077 students 4096 Apr 29 06:01 input\n"
     ]
    }
   ],
   "source": [
    "!ls -l ~/data"
   ]
  },
  {
   "cell_type": "code",
   "execution_count": 40,
   "id": "f9fb8cec",
   "metadata": {},
   "outputs": [],
   "source": [
    "!rm -r ~/data"
   ]
  },
  {
   "cell_type": "code",
   "execution_count": 42,
   "id": "62db8b61",
   "metadata": {},
   "outputs": [
    {
     "name": "stdout",
     "output_type": "stream",
     "text": [
      "total 4\n",
      "drwxr-xr-x 3 itv005077 students 4096 Apr 29 06:17 notebooks\n"
     ]
    }
   ],
   "source": [
    "!ls -l ~/"
   ]
  },
  {
   "cell_type": "code",
   "execution_count": 43,
   "id": "86210e74",
   "metadata": {},
   "outputs": [
    {
     "name": "stdout",
     "output_type": "stream",
     "text": [
      "Found 3 items\n",
      "drwx------   - itv005077 supergroup          0 2023-04-15 10:10 .Trash\n",
      "drwxr-xr-x   - itv005077 supergroup          0 2023-04-29 06:18 .sparkStaging\n",
      "drwxr-xr-x   - itv005077 supergroup          0 2023-04-29 06:02 data\n"
     ]
    }
   ],
   "source": [
    "!hadoop fs -ls "
   ]
  },
  {
   "cell_type": "code",
   "execution_count": 44,
   "id": "0780e060",
   "metadata": {},
   "outputs": [
    {
     "name": "stdout",
     "output_type": "stream",
     "text": [
      "2023-04-29 06:19:49,657 INFO fs.TrashPolicyDefault: Moved: 'hdfs://m01.itversity.com:9000/user/itv005077/data' to trash at: hdfs://m01.itversity.com:9000/user/itv005077/.Trash/Current/user/itv005077/data1682763589631\n"
     ]
    }
   ],
   "source": [
    "!hadoop fs -rm -r data"
   ]
  },
  {
   "cell_type": "code",
   "execution_count": 45,
   "id": "70c84aae",
   "metadata": {},
   "outputs": [
    {
     "name": "stdout",
     "output_type": "stream",
     "text": [
      "Found 2 items\n",
      "drwx------   - itv005077 supergroup          0 2023-04-15 10:10 .Trash\n",
      "drwxr-xr-x   - itv005077 supergroup          0 2023-04-29 06:18 .sparkStaging\n"
     ]
    }
   ],
   "source": [
    "!hadoop fs -ls"
   ]
  }
 ],
 "metadata": {
  "kernelspec": {
   "display_name": "Pyspark 3",
   "language": "python",
   "name": "pyspark3"
  },
  "language_info": {
   "codemirror_mode": {
    "name": "ipython",
    "version": 3
   },
   "file_extension": ".py",
   "mimetype": "text/x-python",
   "name": "python",
   "nbconvert_exporter": "python",
   "pygments_lexer": "ipython3",
   "version": "3.6.12"
  }
 },
 "nbformat": 4,
 "nbformat_minor": 5
}
