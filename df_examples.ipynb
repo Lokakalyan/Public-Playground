{
 "cells": [
  {
   "cell_type": "code",
   "execution_count": 1,
   "id": "17cf8103",
   "metadata": {},
   "outputs": [],
   "source": [
    "import getpass as gp\n",
    "from pyspark.sql import SparkSession, functions as F"
   ]
  },
  {
   "cell_type": "code",
   "execution_count": 2,
   "id": "390a7992",
   "metadata": {},
   "outputs": [],
   "source": [
    "user = gp.getuser()\n",
    "spark = SparkSession.builder \\\n",
    "            .appName(f'{user}-dataframe-spark-sql-example') \\\n",
    "            .master('yarn') \\\n",
    "            .getOrCreate()"
   ]
  },
  {
   "cell_type": "code",
   "execution_count": 3,
   "id": "7f610623",
   "metadata": {},
   "outputs": [
    {
     "data": {
      "text/html": [
       "\n",
       "            <div>\n",
       "                <p><b>SparkSession - in-memory</b></p>\n",
       "                \n",
       "        <div>\n",
       "            <p><b>SparkContext</b></p>\n",
       "\n",
       "            <p><a href=\"http://g02.itversity.com:4040\">Spark UI</a></p>\n",
       "\n",
       "            <dl>\n",
       "              <dt>Version</dt>\n",
       "                <dd><code>v3.0.1</code></dd>\n",
       "              <dt>Master</dt>\n",
       "                <dd><code>yarn</code></dd>\n",
       "              <dt>AppName</dt>\n",
       "                <dd><code>itv005077-dataframe-spark-sql-example</code></dd>\n",
       "            </dl>\n",
       "        </div>\n",
       "        \n",
       "            </div>\n",
       "        "
      ],
      "text/plain": [
       "<pyspark.sql.session.SparkSession at 0x7fa0935649e8>"
      ]
     },
     "execution_count": 3,
     "metadata": {},
     "output_type": "execute_result"
    }
   ],
   "source": [
    "spark"
   ]
  },
  {
   "cell_type": "code",
   "execution_count": 4,
   "id": "04fee36d",
   "metadata": {},
   "outputs": [
    {
     "name": "stdout",
     "output_type": "stream",
     "text": [
      "Found 3 items\n",
      "-rw-r--r--   3 itv005857 supergroup          0 2023-05-04 07:58 /public/trendytech/datasets/ordersparquet/_SUCCESS\n",
      "-rw-r--r--   3 itv005857 supergroup    389.0 K 2023-05-04 07:58 /public/trendytech/datasets/ordersparquet/part-00000-95703d6e-20f5-43be-94eb-1fade70892f8-c000.snappy.parquet\n",
      "-rw-r--r--   3 itv005857 supergroup    124.4 K 2023-05-04 07:58 /public/trendytech/datasets/ordersparquet/part-00001-95703d6e-20f5-43be-94eb-1fade70892f8-c000.snappy.parquet\n"
     ]
    }
   ],
   "source": [
    "!hadoop fs -ls -h /public/trendytech/datasets/ordersparquet"
   ]
  },
  {
   "cell_type": "code",
   "execution_count": 5,
   "id": "5a6a9f4d",
   "metadata": {},
   "outputs": [],
   "source": [
    "df_orders = spark.read.parquet('/public/trendytech/datasets/ordersparquet')"
   ]
  },
  {
   "cell_type": "code",
   "execution_count": 6,
   "id": "e3ea7559",
   "metadata": {},
   "outputs": [
    {
     "name": "stdout",
     "output_type": "stream",
     "text": [
      "root\n",
      " |-- customer_id: long (nullable = true)\n",
      " |-- order_date: string (nullable = true)\n",
      " |-- order_id: long (nullable = true)\n",
      " |-- order_status: string (nullable = true)\n",
      "\n"
     ]
    }
   ],
   "source": [
    "df_orders.printSchema()"
   ]
  },
  {
   "cell_type": "code",
   "execution_count": 7,
   "id": "0fec4945",
   "metadata": {},
   "outputs": [
    {
     "name": "stdout",
     "output_type": "stream",
     "text": [
      "+-----------+---------------------+--------+---------------+\n",
      "|customer_id|order_date           |order_id|order_status   |\n",
      "+-----------+---------------------+--------+---------------+\n",
      "|11599      |2013-07-25 00:00:00.0|1       |CLOSED         |\n",
      "|256        |2013-07-25 00:00:00.0|2       |PENDING_PAYMENT|\n",
      "|12111      |2013-07-25 00:00:00.0|3       |COMPLETE       |\n",
      "|8827       |2013-07-25 00:00:00.0|4       |CLOSED         |\n",
      "|11318      |2013-07-25 00:00:00.0|5       |COMPLETE       |\n",
      "+-----------+---------------------+--------+---------------+\n",
      "only showing top 5 rows\n",
      "\n"
     ]
    }
   ],
   "source": [
    "df_orders.show(5, truncate= False)"
   ]
  },
  {
   "cell_type": "code",
   "execution_count": 8,
   "id": "d0c45926",
   "metadata": {},
   "outputs": [
    {
     "data": {
      "text/html": [
       "<table border='1'>\n",
       "<tr><th>namespace</th></tr>\n",
       "<tr><td>default</td></tr>\n",
       "</table>\n"
      ],
      "text/plain": [
       "+---------+\n",
       "|namespace|\n",
       "+---------+\n",
       "|  default|\n",
       "+---------+"
      ]
     },
     "execution_count": 8,
     "metadata": {},
     "output_type": "execute_result"
    }
   ],
   "source": [
    "spark.sql(\"show databases\")"
   ]
  },
  {
   "cell_type": "code",
   "execution_count": 9,
   "id": "24524a9d",
   "metadata": {},
   "outputs": [
    {
     "name": "stdout",
     "output_type": "stream",
     "text": [
      "+-----------+--------------------+--------+---------------+\n",
      "|customer_id|          order_date|order_id|   order_status|\n",
      "+-----------+--------------------+--------+---------------+\n",
      "|      11599|2013-07-25 00:00:...|       1|         CLOSED|\n",
      "|        256|2013-07-25 00:00:...|       2|PENDING_PAYMENT|\n",
      "|      12111|2013-07-25 00:00:...|       3|       COMPLETE|\n",
      "|       8827|2013-07-25 00:00:...|       4|         CLOSED|\n",
      "|      11318|2013-07-25 00:00:...|       5|       COMPLETE|\n",
      "+-----------+--------------------+--------+---------------+\n",
      "only showing top 5 rows\n",
      "\n"
     ]
    }
   ],
   "source": [
    "df_orders.select('*').show(5)"
   ]
  },
  {
   "cell_type": "code",
   "execution_count": 10,
   "id": "82234697",
   "metadata": {},
   "outputs": [],
   "source": [
    "df_orders = df_orders.withColumn('order_date', F.to_timestamp('order_date'))"
   ]
  },
  {
   "cell_type": "code",
   "execution_count": 11,
   "id": "ea51921f",
   "metadata": {},
   "outputs": [
    {
     "name": "stdout",
     "output_type": "stream",
     "text": [
      "root\n",
      " |-- customer_id: long (nullable = true)\n",
      " |-- order_date: timestamp (nullable = true)\n",
      " |-- order_id: long (nullable = true)\n",
      " |-- order_status: string (nullable = true)\n",
      "\n"
     ]
    }
   ],
   "source": [
    "df_orders.printSchema()"
   ]
  },
  {
   "cell_type": "code",
   "execution_count": 12,
   "id": "e028c947",
   "metadata": {},
   "outputs": [
    {
     "name": "stdout",
     "output_type": "stream",
     "text": [
      "+-----------+-------------------+--------+---------------+\n",
      "|customer_id|         order_date|order_id|   order_status|\n",
      "+-----------+-------------------+--------+---------------+\n",
      "|      11599|2013-07-25 00:00:00|       1|         CLOSED|\n",
      "|        256|2013-07-25 00:00:00|       2|PENDING_PAYMENT|\n",
      "|      12111|2013-07-25 00:00:00|       3|       COMPLETE|\n",
      "|       8827|2013-07-25 00:00:00|       4|         CLOSED|\n",
      "|      11318|2013-07-25 00:00:00|       5|       COMPLETE|\n",
      "+-----------+-------------------+--------+---------------+\n",
      "only showing top 5 rows\n",
      "\n"
     ]
    }
   ],
   "source": [
    "df_orders.show(5)"
   ]
  },
  {
   "cell_type": "code",
   "execution_count": 13,
   "id": "869d876a",
   "metadata": {},
   "outputs": [],
   "source": [
    "df_orders = df_orders.withColumnRenamed('order_status', 'status')"
   ]
  },
  {
   "cell_type": "code",
   "execution_count": 14,
   "id": "6755543c",
   "metadata": {},
   "outputs": [
    {
     "name": "stdout",
     "output_type": "stream",
     "text": [
      "root\n",
      " |-- customer_id: long (nullable = true)\n",
      " |-- order_date: timestamp (nullable = true)\n",
      " |-- order_id: long (nullable = true)\n",
      " |-- status: string (nullable = true)\n",
      "\n"
     ]
    }
   ],
   "source": [
    "df_orders.printSchema()"
   ]
  },
  {
   "cell_type": "code",
   "execution_count": 15,
   "id": "29e105cf",
   "metadata": {},
   "outputs": [
    {
     "name": "stdout",
     "output_type": "stream",
     "text": [
      "+-----------+-------------------+--------+---------------+\n",
      "|customer_id|         order_date|order_id|         status|\n",
      "+-----------+-------------------+--------+---------------+\n",
      "|      11599|2013-07-25 00:00:00|       1|         CLOSED|\n",
      "|        256|2013-07-25 00:00:00|       2|PENDING_PAYMENT|\n",
      "|      12111|2013-07-25 00:00:00|       3|       COMPLETE|\n",
      "|       8827|2013-07-25 00:00:00|       4|         CLOSED|\n",
      "|      11318|2013-07-25 00:00:00|       5|       COMPLETE|\n",
      "+-----------+-------------------+--------+---------------+\n",
      "only showing top 5 rows\n",
      "\n"
     ]
    }
   ],
   "source": [
    "df_orders.show(5)"
   ]
  },
  {
   "cell_type": "code",
   "execution_count": 16,
   "id": "ec4df28a",
   "metadata": {},
   "outputs": [
    {
     "name": "stdout",
     "output_type": "stream",
     "text": [
      "+-----------+---------------+\n",
      "|customer_id|         status|\n",
      "+-----------+---------------+\n",
      "|      11599|         CLOSED|\n",
      "|        256|PENDING_PAYMENT|\n",
      "|      12111|       COMPLETE|\n",
      "|       8827|         CLOSED|\n",
      "|      11318|       COMPLETE|\n",
      "+-----------+---------------+\n",
      "only showing top 5 rows\n",
      "\n"
     ]
    }
   ],
   "source": [
    "df_orders.select(\"customer_id\", \"status\").show(5)"
   ]
  },
  {
   "cell_type": "code",
   "execution_count": 17,
   "id": "4affe7ab",
   "metadata": {},
   "outputs": [],
   "source": [
    "# end of file\n",
    "spark.stop()"
   ]
  }
 ],
 "metadata": {
  "kernelspec": {
   "display_name": "Pyspark 3",
   "language": "python",
   "name": "pyspark3"
  },
  "language_info": {
   "codemirror_mode": {
    "name": "ipython",
    "version": 3
   },
   "file_extension": ".py",
   "mimetype": "text/x-python",
   "name": "python",
   "nbconvert_exporter": "python",
   "pygments_lexer": "ipython3",
   "version": "3.6.12"
  }
 },
 "nbformat": 4,
 "nbformat_minor": 5
}
