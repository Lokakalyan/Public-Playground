{
 "cells": [
  {
   "cell_type": "code",
   "execution_count": 1,
   "id": "93e7036c",
   "metadata": {},
   "outputs": [],
   "source": [
    "import getpass as gp\n",
    "from pyspark.sql import SparkSession"
   ]
  },
  {
   "cell_type": "code",
   "execution_count": 2,
   "id": "e4970721",
   "metadata": {},
   "outputs": [],
   "source": [
    "user = gp.getuser()\n",
    "spark = SparkSession \\\n",
    "            .builder \\\n",
    "            .appName(f'{user}-accumulator-program') \\\n",
    "            .master('yarn') \\\n",
    "            .getOrCreate()"
   ]
  },
  {
   "cell_type": "code",
   "execution_count": 3,
   "id": "ea311a73",
   "metadata": {},
   "outputs": [
    {
     "data": {
      "text/html": [
       "\n",
       "            <div>\n",
       "                <p><b>SparkSession - in-memory</b></p>\n",
       "                \n",
       "        <div>\n",
       "            <p><b>SparkContext</b></p>\n",
       "\n",
       "            <p><a href=\"http://g02.itversity.com:4040\">Spark UI</a></p>\n",
       "\n",
       "            <dl>\n",
       "              <dt>Version</dt>\n",
       "                <dd><code>v3.0.1</code></dd>\n",
       "              <dt>Master</dt>\n",
       "                <dd><code>yarn</code></dd>\n",
       "              <dt>AppName</dt>\n",
       "                <dd><code>itv005077-accumulator-program</code></dd>\n",
       "            </dl>\n",
       "        </div>\n",
       "        \n",
       "            </div>\n",
       "        "
      ],
      "text/plain": [
       "<pyspark.sql.session.SparkSession at 0x7fbd84cd9c50>"
      ]
     },
     "execution_count": 3,
     "metadata": {},
     "output_type": "execute_result"
    }
   ],
   "source": [
    "spark"
   ]
  },
  {
   "cell_type": "code",
   "execution_count": 4,
   "id": "a183cf92",
   "metadata": {},
   "outputs": [],
   "source": [
    "!hadoop fs -copyFromLocal /data/trendytech/samplefile.txt "
   ]
  },
  {
   "cell_type": "code",
   "execution_count": 5,
   "id": "b4ec361e",
   "metadata": {},
   "outputs": [
    {
     "name": "stdout",
     "output_type": "stream",
     "text": [
      "Found 3 items\n",
      "drwx------   - itv005077 supergroup          0 2023-04-15 10:10 .Trash\n",
      "drwxr-xr-x   - itv005077 supergroup          0 2023-05-03 15:53 .sparkStaging\n",
      "-rw-r--r--   3 itv005077 supergroup        159 2023-05-03 15:53 samplefile.txt\n"
     ]
    }
   ],
   "source": [
    "!hadoop fs -ls"
   ]
  },
  {
   "cell_type": "code",
   "execution_count": 6,
   "id": "f6996d0b",
   "metadata": {},
   "outputs": [],
   "source": [
    "rdd_file_input = spark.sparkContext.textFile(f'/user/{user}/samplefile.txt')"
   ]
  },
  {
   "cell_type": "code",
   "execution_count": 7,
   "id": "930ec351",
   "metadata": {},
   "outputs": [
    {
     "data": {
      "text/plain": [
       "['big data is quite interesting',\n",
       " '',\n",
       " 'there are lot of insights',\n",
       " '',\n",
       " '',\n",
       " 'hello there',\n",
       " '',\n",
       " '',\n",
       " 'are you learning big data?',\n",
       " '',\n",
       " '',\n",
       " 'I am learning it',\n",
       " 'you can also learn it.',\n",
       " '',\n",
       " 'are you there?',\n",
       " '']"
      ]
     },
     "execution_count": 7,
     "metadata": {},
     "output_type": "execute_result"
    }
   ],
   "source": [
    "rdd_file_input.collect()"
   ]
  },
  {
   "cell_type": "code",
   "execution_count": 8,
   "id": "e70a3ec0",
   "metadata": {},
   "outputs": [],
   "source": [
    "accum = spark.sparkContext.accumulator(0)"
   ]
  },
  {
   "cell_type": "code",
   "execution_count": 9,
   "id": "f59c81ea",
   "metadata": {},
   "outputs": [
    {
     "data": {
      "text/plain": [
       "pyspark.accumulators.Accumulator"
      ]
     },
     "execution_count": 9,
     "metadata": {},
     "output_type": "execute_result"
    }
   ],
   "source": [
    "type(accum)"
   ]
  },
  {
   "cell_type": "code",
   "execution_count": 10,
   "id": "a2c901ec",
   "metadata": {},
   "outputs": [
    {
     "data": {
      "text/plain": [
       "0"
      ]
     },
     "execution_count": 10,
     "metadata": {},
     "output_type": "execute_result"
    }
   ],
   "source": [
    "accum.value"
   ]
  },
  {
   "cell_type": "code",
   "execution_count": 11,
   "id": "aeaee2a2",
   "metadata": {},
   "outputs": [],
   "source": [
    "rdd_file_input.foreach(lambda line : accum.add(1 if len(line) == 0 else 0))"
   ]
  },
  {
   "cell_type": "code",
   "execution_count": 12,
   "id": "681e2632",
   "metadata": {},
   "outputs": [
    {
     "data": {
      "text/plain": [
       "9"
      ]
     },
     "execution_count": 12,
     "metadata": {},
     "output_type": "execute_result"
    }
   ],
   "source": [
    "accum.value"
   ]
  },
  {
   "cell_type": "code",
   "execution_count": 13,
   "id": "6d54aa94",
   "metadata": {},
   "outputs": [
    {
     "name": "stdout",
     "output_type": "stream",
     "text": [
      "2023-05-03 15:53:20,374 INFO fs.TrashPolicyDefault: Moved: 'hdfs://m01.itversity.com:9000/user/itv005077/samplefile.txt' to trash at: hdfs://m01.itversity.com:9000/user/itv005077/.Trash/Current/user/itv005077/samplefile.txt1683143600350\n"
     ]
    }
   ],
   "source": [
    "!hadoop fs -rm samplefile.txt"
   ]
  },
  {
   "cell_type": "code",
   "execution_count": 14,
   "id": "f6b858f9",
   "metadata": {},
   "outputs": [
    {
     "name": "stdout",
     "output_type": "stream",
     "text": [
      "Found 2 items\n",
      "drwx------   - itv005077 supergroup          0 2023-04-15 10:10 .Trash\n",
      "drwxr-xr-x   - itv005077 supergroup          0 2023-05-03 15:53 .sparkStaging\n"
     ]
    }
   ],
   "source": [
    "!hadoop fs -ls"
   ]
  },
  {
   "cell_type": "code",
   "execution_count": 15,
   "id": "e34aa914",
   "metadata": {},
   "outputs": [],
   "source": [
    "# end of file\n",
    "spark.stop()"
   ]
  }
 ],
 "metadata": {
  "kernelspec": {
   "display_name": "Pyspark 3",
   "language": "python",
   "name": "pyspark3"
  },
  "language_info": {
   "codemirror_mode": {
    "name": "ipython",
    "version": 3
   },
   "file_extension": ".py",
   "mimetype": "text/x-python",
   "name": "python",
   "nbconvert_exporter": "python",
   "pygments_lexer": "ipython3",
   "version": "3.6.12"
  }
 },
 "nbformat": 4,
 "nbformat_minor": 5
}
